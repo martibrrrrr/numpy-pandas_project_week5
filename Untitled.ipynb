{
 "cells": [
  {
   "cell_type": "markdown",
   "id": "5512336f-792d-4a7e-af72-84bd5686db24",
   "metadata": {},
   "source": [
    "Break 1:\n",
    "Exercise: Create a dataframe that contains the information about an hypothetical list of christmas presents you made\n",
    "\n",
    "Exercise: Create a dataframe with 1000 rows, columns \"Gender\" and \"Height\", exactly 500 males and 500 females, such that female's height average is roughly 168, and male's roughly 174"
   ]
  },
  {
   "cell_type": "code",
   "execution_count": null,
   "id": "b3c67d6d-11d7-46c3-a4ea-90d29fb93abb",
   "metadata": {},
   "outputs": [],
   "source": []
  },
  {
   "cell_type": "code",
   "execution_count": 1,
   "id": "b7c0e313-bb30-4530-8e80-b91e587d5bb2",
   "metadata": {},
   "outputs": [
    {
     "ename": "NameError",
     "evalue": "name 'pd' is not defined",
     "output_type": "error",
     "traceback": [
      "\u001b[1;31m---------------------------------------------------------------------------\u001b[0m",
      "\u001b[1;31mNameError\u001b[0m                                 Traceback (most recent call last)",
      "Cell \u001b[1;32mIn[1], line 2\u001b[0m\n\u001b[0;32m      1\u001b[0m df1_dict \u001b[38;5;241m=\u001b[39m {\u001b[38;5;124m\"\u001b[39m\u001b[38;5;124mPerson\u001b[39m\u001b[38;5;124m\"\u001b[39m:[\u001b[38;5;124m\"\u001b[39m\u001b[38;5;124mMartina\u001b[39m\u001b[38;5;124m\"\u001b[39m, \u001b[38;5;124m\"\u001b[39m\u001b[38;5;124mValentina\u001b[39m\u001b[38;5;124m\"\u001b[39m,\u001b[38;5;124m\"\u001b[39m\u001b[38;5;124mKatia\u001b[39m\u001b[38;5;124m\"\u001b[39m], \u001b[38;5;124m\"\u001b[39m\u001b[38;5;124mGift\u001b[39m\u001b[38;5;124m\"\u001b[39m:[\u001b[38;5;124m\"\u001b[39m\u001b[38;5;124mflower\u001b[39m\u001b[38;5;124m\"\u001b[39m,\u001b[38;5;124m\"\u001b[39m\u001b[38;5;124mbook\u001b[39m\u001b[38;5;124m\"\u001b[39m,\u001b[38;5;124m\"\u001b[39m\u001b[38;5;124mbackpack\u001b[39m\u001b[38;5;124m\"\u001b[39m]}\n\u001b[1;32m----> 2\u001b[0m \u001b[43mpd\u001b[49m\u001b[38;5;241m.\u001b[39mDataFrame(df1_dict)\n",
      "\u001b[1;31mNameError\u001b[0m: name 'pd' is not defined"
     ]
    }
   ],
   "source": [
    "df1_dict = {\"Person\":[\"Martina\", \"Valentina\",\"Katia\"], \"Gift\":[\"flower\",\"book\",\"backpack\"]}\n",
    "pd.DataFrame(df1_dict)"
   ]
  },
  {
   "cell_type": "code",
   "execution_count": null,
   "id": "e94a80fe-fbd1-41b6-b7a7-abfdb0b7207d",
   "metadata": {},
   "outputs": [],
   "source": []
  }
 ],
 "metadata": {
  "kernelspec": {
   "display_name": "Python 3 (ipykernel)",
   "language": "python",
   "name": "python3"
  },
  "language_info": {
   "codemirror_mode": {
    "name": "ipython",
    "version": 3
   },
   "file_extension": ".py",
   "mimetype": "text/x-python",
   "name": "python",
   "nbconvert_exporter": "python",
   "pygments_lexer": "ipython3",
   "version": "3.13.1"
  }
 },
 "nbformat": 4,
 "nbformat_minor": 5
}
