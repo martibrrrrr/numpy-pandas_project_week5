{
 "cells": [
  {
   "cell_type": "markdown",
   "id": "5512336f-792d-4a7e-af72-84bd5686db24",
   "metadata": {},
   "source": [
    "## Homework\n",
    "# Exercise 1: \n",
    "Create a dataframe of at least 1000 rows about an hypothetical list of employees of your company, extract all employees in the IT department and a Salary greater than 55000.\n",
    "\n"
   ]
  },
  {
   "cell_type": "code",
   "execution_count": 3,
   "id": "b3c67d6d-11d7-46c3-a4ea-90d29fb93abb",
   "metadata": {},
   "outputs": [],
   "source": [
    "#!pip install pandas==1.5.3\n",
    "import pandas as pd\n",
    "import numpy as np"
   ]
  },
  {
   "cell_type": "code",
   "execution_count": 4,
   "id": "b7c0e313-bb30-4530-8e80-b91e587d5bb2",
   "metadata": {},
   "outputs": [],
   "source": [
    "np.random.seed(20)"
   ]
  },
  {
   "cell_type": "code",
   "execution_count": 5,
   "id": "d53839af-689c-44e4-9cc7-352b8af783fb",
   "metadata": {},
   "outputs": [],
   "source": [
    "employees = 1020"
   ]
  },
  {
   "cell_type": "code",
   "execution_count": 6,
   "id": "97f23179-072e-4cbf-8212-e291a42e6367",
   "metadata": {},
   "outputs": [],
   "source": [
    "departments = [\"IT\", \"Administration\",\"HR\"]"
   ]
  },
  {
   "cell_type": "code",
   "execution_count": 24,
   "id": "2ddb5b4b-e06f-4e7f-a130-021403293866",
   "metadata": {},
   "outputs": [],
   "source": [
    "departments_data = np.random.choice(departments, size= employees)"
   ]
  },
  {
   "cell_type": "code",
   "execution_count": 10,
   "id": "f4a598b5-b7a5-42a2-841a-8f1b14e08de7",
   "metadata": {},
   "outputs": [
    {
     "data": {
      "text/plain": [
       "['Employee2', 'Employee3', 'Employee4']"
      ]
     },
     "execution_count": 10,
     "metadata": {},
     "output_type": "execute_result"
    }
   ],
   "source": [
    "names = [f\"Employee{num}\" for num in range(1,employees+1)]\n",
    "names[1:4]"
   ]
  },
  {
   "cell_type": "code",
   "execution_count": 11,
   "id": "cabb734f-295a-49e0-988e-bc7eacbf3937",
   "metadata": {},
   "outputs": [
    {
     "data": {
      "text/plain": [
       "array([44, 33, 49], dtype=int32)"
      ]
     },
     "execution_count": 11,
     "metadata": {},
     "output_type": "execute_result"
    }
   ],
   "source": [
    "age = np.random.randint(18,68, size= employees)\n",
    "age[1:4]"
   ]
  },
  {
   "cell_type": "code",
   "execution_count": 15,
   "id": "d3056273-4ea3-4f7d-9a6c-bcbfcdd3da3f",
   "metadata": {},
   "outputs": [
    {
     "data": {
      "text/plain": [
       "array([85024, 56705, 42628], dtype=int32)"
      ]
     },
     "execution_count": 15,
     "metadata": {},
     "output_type": "execute_result"
    }
   ],
   "source": [
    "salary = np.random.randint(32000, 90000, size=employees)\n",
    "salary[-4:-1]"
   ]
  },
  {
   "cell_type": "markdown",
   "id": "930122eb-8bf0-400b-b681-32b4976f4131",
   "metadata": {},
   "source": [
    "creo dataframe"
   ]
  },
  {
   "cell_type": "code",
   "execution_count": 29,
   "id": "b118d359-f4f3-4392-ba67-a2250b3fa3ed",
   "metadata": {},
   "outputs": [],
   "source": [
    "data = {\n",
    "    \"Employee_ID\": range(1,employees+1),\n",
    "    \"Name\":names,\n",
    "    \"Age\": age,\n",
    "    \"Department\" : departments_data, \n",
    "    \"Salary\":salary \n",
    "}\n",
    "df = pd.DataFrame(data)"
   ]
  },
  {
   "cell_type": "code",
   "execution_count": 30,
   "id": "7e9f1f9f-410b-47ae-8df3-0d0c316f38af",
   "metadata": {},
   "outputs": [
    {
     "name": "stdout",
     "output_type": "stream",
     "text": [
      "<class 'pandas.core.frame.DataFrame'>\n",
      "RangeIndex: 1020 entries, 0 to 1019\n",
      "Data columns (total 5 columns):\n",
      " #   Column       Non-Null Count  Dtype \n",
      "---  ------       --------------  ----- \n",
      " 0   Employee_ID  1020 non-null   int64 \n",
      " 1   Name         1020 non-null   object\n",
      " 2   Age          1020 non-null   int32 \n",
      " 3   Department   1020 non-null   object\n",
      " 4   Salary       1020 non-null   int32 \n",
      "dtypes: int32(2), int64(1), object(2)\n",
      "memory usage: 32.0+ KB\n"
     ]
    }
   ],
   "source": [
    "df.info()"
   ]
  },
  {
   "cell_type": "code",
   "execution_count": 33,
   "id": "3158be28-f891-4da7-ac01-5f9cc1c6717a",
   "metadata": {},
   "outputs": [
    {
     "data": {
      "text/html": [
       "<div>\n",
       "<style scoped>\n",
       "    .dataframe tbody tr th:only-of-type {\n",
       "        vertical-align: middle;\n",
       "    }\n",
       "\n",
       "    .dataframe tbody tr th {\n",
       "        vertical-align: top;\n",
       "    }\n",
       "\n",
       "    .dataframe thead th {\n",
       "        text-align: right;\n",
       "    }\n",
       "</style>\n",
       "<table border=\"1\" class=\"dataframe\">\n",
       "  <thead>\n",
       "    <tr style=\"text-align: right;\">\n",
       "      <th></th>\n",
       "      <th>index</th>\n",
       "      <th>Employee_ID</th>\n",
       "      <th>Name</th>\n",
       "      <th>Age</th>\n",
       "      <th>Department</th>\n",
       "      <th>Salary</th>\n",
       "    </tr>\n",
       "  </thead>\n",
       "  <tbody>\n",
       "    <tr>\n",
       "      <th>205</th>\n",
       "      <td>1003</td>\n",
       "      <td>1004</td>\n",
       "      <td>Employee1004</td>\n",
       "      <td>40</td>\n",
       "      <td>IT</td>\n",
       "      <td>66272</td>\n",
       "    </tr>\n",
       "    <tr>\n",
       "      <th>206</th>\n",
       "      <td>1004</td>\n",
       "      <td>1005</td>\n",
       "      <td>Employee1005</td>\n",
       "      <td>29</td>\n",
       "      <td>IT</td>\n",
       "      <td>80020</td>\n",
       "    </tr>\n",
       "    <tr>\n",
       "      <th>207</th>\n",
       "      <td>1009</td>\n",
       "      <td>1010</td>\n",
       "      <td>Employee1010</td>\n",
       "      <td>19</td>\n",
       "      <td>IT</td>\n",
       "      <td>85320</td>\n",
       "    </tr>\n",
       "    <tr>\n",
       "      <th>208</th>\n",
       "      <td>1010</td>\n",
       "      <td>1011</td>\n",
       "      <td>Employee1011</td>\n",
       "      <td>36</td>\n",
       "      <td>IT</td>\n",
       "      <td>58961</td>\n",
       "    </tr>\n",
       "    <tr>\n",
       "      <th>209</th>\n",
       "      <td>1016</td>\n",
       "      <td>1017</td>\n",
       "      <td>Employee1017</td>\n",
       "      <td>43</td>\n",
       "      <td>IT</td>\n",
       "      <td>85024</td>\n",
       "    </tr>\n",
       "  </tbody>\n",
       "</table>\n",
       "</div>"
      ],
      "text/plain": [
       "     index  Employee_ID          Name  Age Department  Salary\n",
       "205   1003         1004  Employee1004   40         IT   66272\n",
       "206   1004         1005  Employee1005   29         IT   80020\n",
       "207   1009         1010  Employee1010   19         IT   85320\n",
       "208   1010         1011  Employee1011   36         IT   58961\n",
       "209   1016         1017  Employee1017   43         IT   85024"
      ]
     },
     "execution_count": 33,
     "metadata": {},
     "output_type": "execute_result"
    }
   ],
   "source": [
    "df_salary= df[(df[\"Department\"]==\"IT\")&(df[\"Salary\"]> 55000)].reset_index()\n",
    "df_salary.tail()"
   ]
  },
  {
   "cell_type": "markdown",
   "id": "f7839a68-07ab-49c2-a2e2-f98499af2063",
   "metadata": {},
   "source": [
    "# Exercise 2: \n",
    "Create a column to split the data in Low, Medium, High fare prices and calculate the average Age per each section. Fill the Age set to nan and calculate the average age again, how did it change? How can you fill the age so that the average does not change?"
   ]
  },
  {
   "cell_type": "code",
   "execution_count": 76,
   "id": "44e7ab8a-a469-4c06-aeae-c09fd2d6a003",
   "metadata": {},
   "outputs": [
    {
     "name": "stdout",
     "output_type": "stream",
     "text": [
      "<class 'pandas.core.frame.DataFrame'>\n",
      "RangeIndex: 891 entries, 0 to 890\n",
      "Data columns (total 12 columns):\n",
      " #   Column       Non-Null Count  Dtype  \n",
      "---  ------       --------------  -----  \n",
      " 0   PassengerId  891 non-null    int64  \n",
      " 1   Survived     891 non-null    int64  \n",
      " 2   Pclass       891 non-null    int64  \n",
      " 3   Name         891 non-null    object \n",
      " 4   Sex          891 non-null    object \n",
      " 5   Age          714 non-null    float64\n",
      " 6   SibSp        891 non-null    int64  \n",
      " 7   Parch        891 non-null    int64  \n",
      " 8   Ticket       891 non-null    object \n",
      " 9   Fare         891 non-null    float64\n",
      " 10  Cabin        204 non-null    object \n",
      " 11  Embarked     889 non-null    object \n",
      "dtypes: float64(2), int64(5), object(5)\n",
      "memory usage: 83.7+ KB\n"
     ]
    }
   ],
   "source": [
    "# Read the Titanic data\n",
    "df_titanic = pd.read_csv('https://raw.githubusercontent.com/datasciencedojo/datasets/master/titanic.csv')\n",
    "df_titanic.info()"
   ]
  },
  {
   "cell_type": "code",
   "execution_count": 77,
   "id": "1213b85f-655f-4c95-9cd8-ae4618b2286a",
   "metadata": {},
   "outputs": [
    {
     "data": {
      "text/html": [
       "<div>\n",
       "<style scoped>\n",
       "    .dataframe tbody tr th:only-of-type {\n",
       "        vertical-align: middle;\n",
       "    }\n",
       "\n",
       "    .dataframe tbody tr th {\n",
       "        vertical-align: top;\n",
       "    }\n",
       "\n",
       "    .dataframe thead th {\n",
       "        text-align: right;\n",
       "    }\n",
       "</style>\n",
       "<table border=\"1\" class=\"dataframe\">\n",
       "  <thead>\n",
       "    <tr style=\"text-align: right;\">\n",
       "      <th></th>\n",
       "      <th>PassengerId</th>\n",
       "      <th>Survived</th>\n",
       "      <th>Pclass</th>\n",
       "      <th>Age</th>\n",
       "      <th>SibSp</th>\n",
       "      <th>Parch</th>\n",
       "      <th>Fare</th>\n",
       "    </tr>\n",
       "  </thead>\n",
       "  <tbody>\n",
       "    <tr>\n",
       "      <th>count</th>\n",
       "      <td>891.000000</td>\n",
       "      <td>891.000000</td>\n",
       "      <td>891.000000</td>\n",
       "      <td>714.000000</td>\n",
       "      <td>891.000000</td>\n",
       "      <td>891.000000</td>\n",
       "      <td>891.000000</td>\n",
       "    </tr>\n",
       "    <tr>\n",
       "      <th>mean</th>\n",
       "      <td>446.000000</td>\n",
       "      <td>0.383838</td>\n",
       "      <td>2.308642</td>\n",
       "      <td>29.699118</td>\n",
       "      <td>0.523008</td>\n",
       "      <td>0.381594</td>\n",
       "      <td>32.204208</td>\n",
       "    </tr>\n",
       "    <tr>\n",
       "      <th>std</th>\n",
       "      <td>257.353842</td>\n",
       "      <td>0.486592</td>\n",
       "      <td>0.836071</td>\n",
       "      <td>14.526497</td>\n",
       "      <td>1.102743</td>\n",
       "      <td>0.806057</td>\n",
       "      <td>49.693429</td>\n",
       "    </tr>\n",
       "    <tr>\n",
       "      <th>min</th>\n",
       "      <td>1.000000</td>\n",
       "      <td>0.000000</td>\n",
       "      <td>1.000000</td>\n",
       "      <td>0.420000</td>\n",
       "      <td>0.000000</td>\n",
       "      <td>0.000000</td>\n",
       "      <td>0.000000</td>\n",
       "    </tr>\n",
       "    <tr>\n",
       "      <th>25%</th>\n",
       "      <td>223.500000</td>\n",
       "      <td>0.000000</td>\n",
       "      <td>2.000000</td>\n",
       "      <td>20.125000</td>\n",
       "      <td>0.000000</td>\n",
       "      <td>0.000000</td>\n",
       "      <td>7.910400</td>\n",
       "    </tr>\n",
       "    <tr>\n",
       "      <th>50%</th>\n",
       "      <td>446.000000</td>\n",
       "      <td>0.000000</td>\n",
       "      <td>3.000000</td>\n",
       "      <td>28.000000</td>\n",
       "      <td>0.000000</td>\n",
       "      <td>0.000000</td>\n",
       "      <td>14.454200</td>\n",
       "    </tr>\n",
       "    <tr>\n",
       "      <th>75%</th>\n",
       "      <td>668.500000</td>\n",
       "      <td>1.000000</td>\n",
       "      <td>3.000000</td>\n",
       "      <td>38.000000</td>\n",
       "      <td>1.000000</td>\n",
       "      <td>0.000000</td>\n",
       "      <td>31.000000</td>\n",
       "    </tr>\n",
       "    <tr>\n",
       "      <th>max</th>\n",
       "      <td>891.000000</td>\n",
       "      <td>1.000000</td>\n",
       "      <td>3.000000</td>\n",
       "      <td>80.000000</td>\n",
       "      <td>8.000000</td>\n",
       "      <td>6.000000</td>\n",
       "      <td>512.329200</td>\n",
       "    </tr>\n",
       "  </tbody>\n",
       "</table>\n",
       "</div>"
      ],
      "text/plain": [
       "       PassengerId    Survived      Pclass         Age       SibSp  \\\n",
       "count   891.000000  891.000000  891.000000  714.000000  891.000000   \n",
       "mean    446.000000    0.383838    2.308642   29.699118    0.523008   \n",
       "std     257.353842    0.486592    0.836071   14.526497    1.102743   \n",
       "min       1.000000    0.000000    1.000000    0.420000    0.000000   \n",
       "25%     223.500000    0.000000    2.000000   20.125000    0.000000   \n",
       "50%     446.000000    0.000000    3.000000   28.000000    0.000000   \n",
       "75%     668.500000    1.000000    3.000000   38.000000    1.000000   \n",
       "max     891.000000    1.000000    3.000000   80.000000    8.000000   \n",
       "\n",
       "            Parch        Fare  \n",
       "count  891.000000  891.000000  \n",
       "mean     0.381594   32.204208  \n",
       "std      0.806057   49.693429  \n",
       "min      0.000000    0.000000  \n",
       "25%      0.000000    7.910400  \n",
       "50%      0.000000   14.454200  \n",
       "75%      0.000000   31.000000  \n",
       "max      6.000000  512.329200  "
      ]
     },
     "execution_count": 77,
     "metadata": {},
     "output_type": "execute_result"
    }
   ],
   "source": [
    "df_titanic.describe()"
   ]
  },
  {
   "cell_type": "code",
   "execution_count": 78,
   "id": "07be2904-d006-4899-86c0-8809febd96cc",
   "metadata": {},
   "outputs": [
    {
     "data": {
      "text/html": [
       "<div>\n",
       "<style scoped>\n",
       "    .dataframe tbody tr th:only-of-type {\n",
       "        vertical-align: middle;\n",
       "    }\n",
       "\n",
       "    .dataframe tbody tr th {\n",
       "        vertical-align: top;\n",
       "    }\n",
       "\n",
       "    .dataframe thead th {\n",
       "        text-align: right;\n",
       "    }\n",
       "</style>\n",
       "<table border=\"1\" class=\"dataframe\">\n",
       "  <thead>\n",
       "    <tr style=\"text-align: right;\">\n",
       "      <th></th>\n",
       "      <th>PassengerId</th>\n",
       "      <th>Survived</th>\n",
       "      <th>Pclass</th>\n",
       "      <th>Name</th>\n",
       "      <th>Sex</th>\n",
       "      <th>Age</th>\n",
       "      <th>SibSp</th>\n",
       "      <th>Parch</th>\n",
       "      <th>Ticket</th>\n",
       "      <th>Fare</th>\n",
       "      <th>Cabin</th>\n",
       "      <th>Embarked</th>\n",
       "      <th>Fare_Category</th>\n",
       "    </tr>\n",
       "  </thead>\n",
       "  <tbody>\n",
       "    <tr>\n",
       "      <th>886</th>\n",
       "      <td>887</td>\n",
       "      <td>0</td>\n",
       "      <td>2</td>\n",
       "      <td>Montvila, Rev. Juozas</td>\n",
       "      <td>male</td>\n",
       "      <td>27.0</td>\n",
       "      <td>0</td>\n",
       "      <td>0</td>\n",
       "      <td>211536</td>\n",
       "      <td>13.00</td>\n",
       "      <td>NaN</td>\n",
       "      <td>S</td>\n",
       "      <td>Low</td>\n",
       "    </tr>\n",
       "    <tr>\n",
       "      <th>887</th>\n",
       "      <td>888</td>\n",
       "      <td>1</td>\n",
       "      <td>1</td>\n",
       "      <td>Graham, Miss. Margaret Edith</td>\n",
       "      <td>female</td>\n",
       "      <td>19.0</td>\n",
       "      <td>0</td>\n",
       "      <td>0</td>\n",
       "      <td>112053</td>\n",
       "      <td>30.00</td>\n",
       "      <td>B42</td>\n",
       "      <td>S</td>\n",
       "      <td>Low</td>\n",
       "    </tr>\n",
       "    <tr>\n",
       "      <th>888</th>\n",
       "      <td>889</td>\n",
       "      <td>0</td>\n",
       "      <td>3</td>\n",
       "      <td>Johnston, Miss. Catherine Helen \"Carrie\"</td>\n",
       "      <td>female</td>\n",
       "      <td>NaN</td>\n",
       "      <td>1</td>\n",
       "      <td>2</td>\n",
       "      <td>W./C. 6607</td>\n",
       "      <td>23.45</td>\n",
       "      <td>NaN</td>\n",
       "      <td>S</td>\n",
       "      <td>Low</td>\n",
       "    </tr>\n",
       "    <tr>\n",
       "      <th>889</th>\n",
       "      <td>890</td>\n",
       "      <td>1</td>\n",
       "      <td>1</td>\n",
       "      <td>Behr, Mr. Karl Howell</td>\n",
       "      <td>male</td>\n",
       "      <td>26.0</td>\n",
       "      <td>0</td>\n",
       "      <td>0</td>\n",
       "      <td>111369</td>\n",
       "      <td>30.00</td>\n",
       "      <td>C148</td>\n",
       "      <td>C</td>\n",
       "      <td>Low</td>\n",
       "    </tr>\n",
       "    <tr>\n",
       "      <th>890</th>\n",
       "      <td>891</td>\n",
       "      <td>0</td>\n",
       "      <td>3</td>\n",
       "      <td>Dooley, Mr. Patrick</td>\n",
       "      <td>male</td>\n",
       "      <td>32.0</td>\n",
       "      <td>0</td>\n",
       "      <td>0</td>\n",
       "      <td>370376</td>\n",
       "      <td>7.75</td>\n",
       "      <td>NaN</td>\n",
       "      <td>Q</td>\n",
       "      <td>Low</td>\n",
       "    </tr>\n",
       "  </tbody>\n",
       "</table>\n",
       "</div>"
      ],
      "text/plain": [
       "     PassengerId  Survived  Pclass                                      Name  \\\n",
       "886          887         0       2                     Montvila, Rev. Juozas   \n",
       "887          888         1       1              Graham, Miss. Margaret Edith   \n",
       "888          889         0       3  Johnston, Miss. Catherine Helen \"Carrie\"   \n",
       "889          890         1       1                     Behr, Mr. Karl Howell   \n",
       "890          891         0       3                       Dooley, Mr. Patrick   \n",
       "\n",
       "        Sex   Age  SibSp  Parch      Ticket   Fare Cabin Embarked  \\\n",
       "886    male  27.0      0      0      211536  13.00   NaN        S   \n",
       "887  female  19.0      0      0      112053  30.00   B42        S   \n",
       "888  female   NaN      1      2  W./C. 6607  23.45   NaN        S   \n",
       "889    male  26.0      0      0      111369  30.00  C148        C   \n",
       "890    male  32.0      0      0      370376   7.75   NaN        Q   \n",
       "\n",
       "    Fare_Category  \n",
       "886           Low  \n",
       "887           Low  \n",
       "888           Low  \n",
       "889           Low  \n",
       "890           Low  "
      ]
     },
     "execution_count": 78,
     "metadata": {},
     "output_type": "execute_result"
    }
   ],
   "source": [
    "df_titanic[\"Fare_Category\"] = pd.cut(df_titanic[\"Fare\"], bins=[0, int(df_titanic[\"Fare\"].max()*0.333), int( df_titanic[\"Fare\"].max()*0.666) , df_titanic[\"Fare\"].max()], labels=[\"Low\", \"Medium\", \"High\"])\n",
    "df_titanic.tail()"
   ]
  },
  {
   "cell_type": "markdown",
   "id": "99a358b0-cd71-43fb-b35c-c5897ebbf442",
   "metadata": {},
   "source": [
    "Calculate the everage age for each class"
   ]
  },
  {
   "cell_type": "code",
   "execution_count": 79,
   "id": "42c38856-6080-4827-8f96-e6d6f52755f1",
   "metadata": {},
   "outputs": [
    {
     "name": "stderr",
     "output_type": "stream",
     "text": [
      "C:\\Users\\marti\\AppData\\Local\\Temp\\ipykernel_14644\\3976406835.py:1: FutureWarning: The default of observed=False is deprecated and will be changed to True in a future version of pandas. Pass observed=False to retain current behavior or observed=True to adopt the future default and silence this warning.\n",
      "  df_average_age = df_titanic.groupby(\"Fare_Category\")[\"Age\"].mean()\n"
     ]
    },
    {
     "data": {
      "text/plain": [
       "Fare_Category\n",
       "Low       29.605472\n",
       "Medium    30.333333\n",
       "High      35.333333\n",
       "Name: Age, dtype: float64"
      ]
     },
     "execution_count": 79,
     "metadata": {},
     "output_type": "execute_result"
    }
   ],
   "source": [
    "df_average_age = df_titanic.groupby(\"Fare_Category\")[\"Age\"].mean()\n",
    "df_average_age"
   ]
  },
  {
   "cell_type": "code",
   "execution_count": 82,
   "id": "7e4ac7e4-dc3e-439a-a8b0-597015737845",
   "metadata": {},
   "outputs": [
    {
     "name": "stdout",
     "output_type": "stream",
     "text": [
      "<class 'pandas.core.frame.DataFrame'>\n",
      "RangeIndex: 891 entries, 0 to 890\n",
      "Data columns (total 13 columns):\n",
      " #   Column         Non-Null Count  Dtype   \n",
      "---  ------         --------------  -----   \n",
      " 0   PassengerId    891 non-null    int64   \n",
      " 1   Survived       891 non-null    int64   \n",
      " 2   Pclass         891 non-null    int64   \n",
      " 3   Name           891 non-null    object  \n",
      " 4   Sex            891 non-null    object  \n",
      " 5   Age            876 non-null    float64 \n",
      " 6   SibSp          891 non-null    int64   \n",
      " 7   Parch          891 non-null    int64   \n",
      " 8   Ticket         891 non-null    object  \n",
      " 9   Fare           891 non-null    float64 \n",
      " 10  Cabin          204 non-null    object  \n",
      " 11  Embarked       889 non-null    object  \n",
      " 12  Fare_Category  876 non-null    category\n",
      "dtypes: category(1), float64(2), int64(5), object(5)\n",
      "memory usage: 84.7+ KB\n"
     ]
    },
    {
     "name": "stderr",
     "output_type": "stream",
     "text": [
      "C:\\Users\\marti\\AppData\\Local\\Temp\\ipykernel_14644\\1090628191.py:2: FutureWarning: The default of observed=False is deprecated and will be changed to True in a future version of pandas. Pass observed=False to retain current behavior or observed=True to adopt the future default and silence this warning.\n",
      "  df_fill_age[\"Age\"]= df_fill_age.groupby(\"Fare_Category\")[\"Age\"].transform(lambda x: x.fillna(x.mean()))\n"
     ]
    }
   ],
   "source": [
    "df_fill_age = df_titanic.copy()\n",
    "df_fill_age[\"Age\"]= df_fill_age.groupby(\"Fare_Category\")[\"Age\"].transform(lambda x: x.fillna(x.mean()))\n",
    "df_fill_age.info()"
   ]
  },
  {
   "cell_type": "code",
   "execution_count": 86,
   "id": "62a7f373-1fc6-4c0a-9d75-4d6aebb959a1",
   "metadata": {},
   "outputs": [
    {
     "name": "stderr",
     "output_type": "stream",
     "text": [
      "C:\\Users\\marti\\AppData\\Local\\Temp\\ipykernel_14644\\2613433801.py:1: FutureWarning: The default of observed=False is deprecated and will be changed to True in a future version of pandas. Pass observed=False to retain current behavior or observed=True to adopt the future default and silence this warning.\n",
      "  df_average_fill_age = df_fill_age.groupby(\"Fare_Category\")[\"Age\"].mean()\n"
     ]
    },
    {
     "data": {
      "text/plain": [
       "Fare_Category\n",
       "Low       29.605472\n",
       "Medium    30.333333\n",
       "High      35.333333\n",
       "Name: Age, dtype: float64"
      ]
     },
     "execution_count": 86,
     "metadata": {},
     "output_type": "execute_result"
    }
   ],
   "source": [
    "df_average_fill_age = df_fill_age.groupby(\"Fare_Category\")[\"Age\"].mean()\n",
    "df_average_fill_age"
   ]
  },
  {
   "cell_type": "code",
   "execution_count": null,
   "id": "b0398264-5044-4c98-a246-7fa156d3647b",
   "metadata": {},
   "outputs": [],
   "source": []
  }
 ],
 "metadata": {
  "kernelspec": {
   "display_name": "Python 3 (ipykernel)",
   "language": "python",
   "name": "python3"
  },
  "language_info": {
   "codemirror_mode": {
    "name": "ipython",
    "version": 3
   },
   "file_extension": ".py",
   "mimetype": "text/x-python",
   "name": "python",
   "nbconvert_exporter": "python",
   "pygments_lexer": "ipython3",
   "version": "3.13.1"
  }
 },
 "nbformat": 4,
 "nbformat_minor": 5
}
