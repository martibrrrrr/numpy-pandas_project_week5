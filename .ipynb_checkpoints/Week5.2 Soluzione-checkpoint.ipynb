{
 "cells": [
  {
   "cell_type": "code",
   "execution_count": null,
   "id": "d58c079c-45e5-4822-9dec-5d8132354a97",
   "metadata": {},
   "outputs": [],
   "source": [
    "x = [\"A\"]*10000 + [\"B\"]*5000 + [\"C\"]*15000\n",
    "df = pd.DataFrame({\"x\":x})\n",
    "\n",
    "def predict(x):\n",
    "    if x==\"A\":\n",
    "        loc=100\n",
    "        scale=10\n",
    "    elif x==\"B\":\n",
    "        loc=0\n",
    "        scale=2\n",
    "    else:\n",
    "        loc=50\n",
    "        scale=25\n",
    "    return np.random.normal(loc=loc, scale=scale, size=1)\n",
    "\n",
    "\n",
    "df[\"y\"] = df[\"x\"].apply(lambda x: predict(x)[0])"
   ]
  },
  {
   "cell_type": "code",
   "execution_count": null,
   "id": "d1184957-11e5-448e-8462-c476a8dbfad7",
   "metadata": {},
   "outputs": [],
   "source": [
    "#Ex1\n",
    "x = np.random.normal(loc=0, scale=1, size=10000)\n",
    "y = np.random.normal(loc=10, scale=100, size=10000)\n",
    "a = 20*x\n",
    "b = x+y\n",
    "\n",
    "d = [0,1]*5000\n",
    "z = [0]*10000\n",
    "h = [0]*5000 + [1]*5000\n",
    "g = np.random.normal(loc=50, scale=1, size=10000)\n",
    "c = g+x\n",
    "f = x+g+np.array(h)+np.random.normal(loc=0, scale=1, size=10000)"
   ]
  },
  {
   "cell_type": "code",
   "execution_count": null,
   "id": "4306f163-b073-4ef2-b2ef-ec740a2b6d26",
   "metadata": {},
   "outputs": [],
   "source": [
    "#ex2\n",
    "x = np.random.normal(loc=0, scale=1, size=10000)\n",
    "y = np.random.normal(loc=10, scale=100, size=10000)\n",
    "a = np.random.normal(loc=20, scale=1, size=10000)\n",
    "b = x+y\n",
    "d = [0,1]*5000\n",
    "z = [0]*10000\n",
    "h = [0]*5000 + [1]*5000\n",
    "g = np.random.normal(loc=50, scale=1, size=10000)\n",
    "c = g+x\n",
    "f = -y+10*g*np.array(d)+np.random.normal(loc=0, scale=1, size=10000)"
   ]
  }
 ],
 "metadata": {
  "kernelspec": {
   "display_name": "Python 3 (ipykernel)",
   "language": "python",
   "name": "python3"
  },
  "language_info": {
   "codemirror_mode": {
    "name": "ipython",
    "version": 3
   },
   "file_extension": ".py",
   "mimetype": "text/x-python",
   "name": "python",
   "nbconvert_exporter": "python",
   "pygments_lexer": "ipython3",
   "version": "3.11.5"
  }
 },
 "nbformat": 4,
 "nbformat_minor": 5
}
