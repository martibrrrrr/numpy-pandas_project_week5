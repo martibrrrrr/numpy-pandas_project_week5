{
 "cells": [
  {
   "cell_type": "code",
   "execution_count": null,
   "id": "59cc3e89-8664-4cc1-8580-776c33a067a3",
   "metadata": {},
   "outputs": [],
   "source": [
    "!pip install pandas==1.5.3\n",
    "!pip install plotly==6.0.0\n",
    "!pip install matplotlib==3.10.0\n",
    "!pip install seaborn==0.13.2\n",
    "!pip install statsmodels"
   ]
  },
  {
   "cell_type": "code",
   "execution_count": null,
   "id": "46dc3163-3590-4cfc-8c4b-e25a8fa45cf8",
   "metadata": {},
   "outputs": [],
   "source": [
    "import numpy as np\n",
    "import pandas as pd\n",
    "import matplotlib.pyplot as plt\n",
    "import seaborn as sns\n",
    "import plotly.express as px\n",
    "from statsmodels.tsa.seasonal import seasonal_decompose"
   ]
  },
  {
   "cell_type": "code",
   "execution_count": null,
   "id": "59a2ccc7-4cbc-4900-96d0-4fe64a9af16e",
   "metadata": {},
   "outputs": [],
   "source": [
    "%matplotlib inline"
   ]
  },
  {
   "cell_type": "code",
   "execution_count": null,
   "id": "653eb2e8-d88b-46ae-8de2-12de0068fc8a",
   "metadata": {},
   "outputs": [],
   "source": [
    "# Set a Seaborn style for better aesthetics\n",
    "sns.set(style=\"whitegrid\")"
   ]
  },
  {
   "cell_type": "code",
   "execution_count": null,
   "id": "d84dc538-6ef6-4c08-aa3d-9416a72e05b5",
   "metadata": {},
   "outputs": [],
   "source": [
    "url='eeg-headset.csv'\n",
    "df = pd.read_csv(url)\n"
   ]
  },
  {
   "cell_type": "code",
   "execution_count": null,
   "id": "cb3414b5-a9c9-44b4-9969-d1489b82e4a0",
   "metadata": {},
   "outputs": [],
   "source": []
  }
 ],
 "metadata": {
  "kernelspec": {
   "display_name": "Python 3 (ipykernel)",
   "language": "python",
   "name": "python3"
  },
  "language_info": {
   "codemirror_mode": {
    "name": "ipython",
    "version": 3
   },
   "file_extension": ".py",
   "mimetype": "text/x-python",
   "name": "python",
   "nbconvert_exporter": "python",
   "pygments_lexer": "ipython3",
   "version": "3.13.1"
  }
 },
 "nbformat": 4,
 "nbformat_minor": 5
}
