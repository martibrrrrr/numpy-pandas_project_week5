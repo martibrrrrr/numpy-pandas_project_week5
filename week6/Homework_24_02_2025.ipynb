{
 "cells": [
  {
   "cell_type": "code",
   "execution_count": 1,
   "id": "690e10fa-ada9-4609-9b34-502d123447ef",
   "metadata": {},
   "outputs": [
    {
     "name": "stdout",
     "output_type": "stream",
     "text": [
      "Defaulting to user installation because normal site-packages is not writeable\n",
      "Requirement already satisfied: ipython-sql==0.5.0 in c:\\users\\marti\\appdata\\local\\packages\\pythonsoftwarefoundation.python.3.13_qbz5n2kfra8p0\\localcache\\local-packages\\python313\\site-packages (0.5.0)\n",
      "Requirement already satisfied: prettytable in c:\\users\\marti\\appdata\\local\\packages\\pythonsoftwarefoundation.python.3.13_qbz5n2kfra8p0\\localcache\\local-packages\\python313\\site-packages (from ipython-sql==0.5.0) (3.14.0)\n",
      "Requirement already satisfied: ipython in c:\\users\\marti\\appdata\\local\\packages\\pythonsoftwarefoundation.python.3.13_qbz5n2kfra8p0\\localcache\\local-packages\\python313\\site-packages (from ipython-sql==0.5.0) (8.32.0)\n",
      "Requirement already satisfied: sqlalchemy>=2.0 in c:\\users\\marti\\appdata\\local\\packages\\pythonsoftwarefoundation.python.3.13_qbz5n2kfra8p0\\localcache\\local-packages\\python313\\site-packages (from ipython-sql==0.5.0) (2.0.38)\n",
      "Requirement already satisfied: sqlparse in c:\\users\\marti\\appdata\\local\\packages\\pythonsoftwarefoundation.python.3.13_qbz5n2kfra8p0\\localcache\\local-packages\\python313\\site-packages (from ipython-sql==0.5.0) (0.5.3)\n",
      "Requirement already satisfied: six in c:\\users\\marti\\appdata\\local\\packages\\pythonsoftwarefoundation.python.3.13_qbz5n2kfra8p0\\localcache\\local-packages\\python313\\site-packages (from ipython-sql==0.5.0) (1.17.0)\n",
      "Requirement already satisfied: ipython-genutils in c:\\users\\marti\\appdata\\local\\packages\\pythonsoftwarefoundation.python.3.13_qbz5n2kfra8p0\\localcache\\local-packages\\python313\\site-packages (from ipython-sql==0.5.0) (0.2.0)\n",
      "Requirement already satisfied: greenlet!=0.4.17 in c:\\users\\marti\\appdata\\local\\packages\\pythonsoftwarefoundation.python.3.13_qbz5n2kfra8p0\\localcache\\local-packages\\python313\\site-packages (from sqlalchemy>=2.0->ipython-sql==0.5.0) (3.1.1)\n",
      "Requirement already satisfied: typing-extensions>=4.6.0 in c:\\users\\marti\\appdata\\local\\packages\\pythonsoftwarefoundation.python.3.13_qbz5n2kfra8p0\\localcache\\local-packages\\python313\\site-packages (from sqlalchemy>=2.0->ipython-sql==0.5.0) (4.12.2)\n",
      "Requirement already satisfied: colorama in c:\\users\\marti\\appdata\\local\\packages\\pythonsoftwarefoundation.python.3.13_qbz5n2kfra8p0\\localcache\\local-packages\\python313\\site-packages (from ipython->ipython-sql==0.5.0) (0.4.6)\n",
      "Requirement already satisfied: decorator in c:\\users\\marti\\appdata\\local\\packages\\pythonsoftwarefoundation.python.3.13_qbz5n2kfra8p0\\localcache\\local-packages\\python313\\site-packages (from ipython->ipython-sql==0.5.0) (5.2.1)\n",
      "Requirement already satisfied: jedi>=0.16 in c:\\users\\marti\\appdata\\local\\packages\\pythonsoftwarefoundation.python.3.13_qbz5n2kfra8p0\\localcache\\local-packages\\python313\\site-packages (from ipython->ipython-sql==0.5.0) (0.19.2)\n",
      "Requirement already satisfied: matplotlib-inline in c:\\users\\marti\\appdata\\local\\packages\\pythonsoftwarefoundation.python.3.13_qbz5n2kfra8p0\\localcache\\local-packages\\python313\\site-packages (from ipython->ipython-sql==0.5.0) (0.1.7)\n",
      "Requirement already satisfied: prompt_toolkit<3.1.0,>=3.0.41 in c:\\users\\marti\\appdata\\local\\packages\\pythonsoftwarefoundation.python.3.13_qbz5n2kfra8p0\\localcache\\local-packages\\python313\\site-packages (from ipython->ipython-sql==0.5.0) (3.0.50)\n",
      "Requirement already satisfied: pygments>=2.4.0 in c:\\users\\marti\\appdata\\local\\packages\\pythonsoftwarefoundation.python.3.13_qbz5n2kfra8p0\\localcache\\local-packages\\python313\\site-packages (from ipython->ipython-sql==0.5.0) (2.19.1)\n",
      "Requirement already satisfied: stack_data in c:\\users\\marti\\appdata\\local\\packages\\pythonsoftwarefoundation.python.3.13_qbz5n2kfra8p0\\localcache\\local-packages\\python313\\site-packages (from ipython->ipython-sql==0.5.0) (0.6.3)\n",
      "Requirement already satisfied: traitlets>=5.13.0 in c:\\users\\marti\\appdata\\local\\packages\\pythonsoftwarefoundation.python.3.13_qbz5n2kfra8p0\\localcache\\local-packages\\python313\\site-packages (from ipython->ipython-sql==0.5.0) (5.14.3)\n",
      "Requirement already satisfied: wcwidth in c:\\users\\marti\\appdata\\local\\packages\\pythonsoftwarefoundation.python.3.13_qbz5n2kfra8p0\\localcache\\local-packages\\python313\\site-packages (from prettytable->ipython-sql==0.5.0) (0.2.13)\n",
      "Requirement already satisfied: parso<0.9.0,>=0.8.4 in c:\\users\\marti\\appdata\\local\\packages\\pythonsoftwarefoundation.python.3.13_qbz5n2kfra8p0\\localcache\\local-packages\\python313\\site-packages (from jedi>=0.16->ipython->ipython-sql==0.5.0) (0.8.4)\n",
      "Requirement already satisfied: executing>=1.2.0 in c:\\users\\marti\\appdata\\local\\packages\\pythonsoftwarefoundation.python.3.13_qbz5n2kfra8p0\\localcache\\local-packages\\python313\\site-packages (from stack_data->ipython->ipython-sql==0.5.0) (2.2.0)\n",
      "Requirement already satisfied: asttokens>=2.1.0 in c:\\users\\marti\\appdata\\local\\packages\\pythonsoftwarefoundation.python.3.13_qbz5n2kfra8p0\\localcache\\local-packages\\python313\\site-packages (from stack_data->ipython->ipython-sql==0.5.0) (3.0.0)\n",
      "Requirement already satisfied: pure-eval in c:\\users\\marti\\appdata\\local\\packages\\pythonsoftwarefoundation.python.3.13_qbz5n2kfra8p0\\localcache\\local-packages\\python313\\site-packages (from stack_data->ipython->ipython-sql==0.5.0) (0.2.3)\n",
      "Note: you may need to restart the kernel to use updated packages.\n"
     ]
    }
   ],
   "source": [
    "%pip install ipython-sql==0.5.0"
   ]
  },
  {
   "cell_type": "code",
   "execution_count": 2,
   "id": "be79a1a6-9104-4c8e-84c7-2955a4bc2131",
   "metadata": {},
   "outputs": [],
   "source": [
    "%load_ext sql\n",
    "%config SqlMagic.style = '_DEPRECATED_DEFAULT'"
   ]
  },
  {
   "cell_type": "code",
   "execution_count": 3,
   "id": "835b701e-4d0a-43ca-9b58-5f35c53eaa50",
   "metadata": {},
   "outputs": [],
   "source": [
    "%sql sqlite:///my_database.db"
   ]
  },
  {
   "cell_type": "code",
   "execution_count": 4,
   "id": "f3345cd5-a8d6-4353-a6f6-59461049d683",
   "metadata": {},
   "outputs": [
    {
     "name": "stdout",
     "output_type": "stream",
     "text": [
      " * sqlite:///my_database.db\n",
      "Done.\n",
      "Done.\n",
      "5 rows affected.\n",
      "13 rows affected.\n"
     ]
    },
    {
     "data": {
      "text/plain": [
       "[]"
      ]
     },
     "execution_count": 4,
     "metadata": {},
     "output_type": "execute_result"
    }
   ],
   "source": [
    "%%sql\n",
    "\n",
    "CREATE TABLE departments (\n",
    "    id INTEGER PRIMARY KEY,\n",
    "    name TEXT NOT NULL,\n",
    "    location TEXT\n",
    ");\n",
    "\n",
    "CREATE TABLE employees (\n",
    "    id INTEGER PRIMARY KEY,\n",
    "    first_name TEXT NOT NULL,\n",
    "    last_name TEXT NOT NULL,\n",
    "    department_id INTEGER,\n",
    "    hire_date TEXT,  -- SQLite does not have type DATE\n",
    "    salary REAL,\n",
    "    bonus REAL,\n",
    "    job_title TEXT,\n",
    "    manager_id INTEGER,\n",
    "    performance_rating INTEGER,\n",
    "    email TEXT,\n",
    "    phone_number TEXT,\n",
    "    FOREIGN KEY (department_id) REFERENCES departments(id),\n",
    "    FOREIGN KEY (manager_id) REFERENCES employees(id) -- self-referencing foreign key: every manager is also an employees, therefore manager_id is the manager's employee id.\n",
    ");\n",
    "\n",
    "\n",
    "INSERT INTO departments (id, name, location) VALUES\n",
    "(1, 'Engineering', 'New York'),\n",
    "(2, 'Sales', 'Los Angeles'),\n",
    "(3, 'HR', 'Chicago'),\n",
    "(4, 'Marketing', 'San Francisco'),\n",
    "(5, 'Finance', 'Boston');\n",
    "\n",
    "INSERT INTO employees (id, first_name, last_name, department_id, hire_date, salary, bonus, job_title, manager_id, performance_rating, email, phone_number) VALUES\n",
    "(1, 'Alice', 'Smith',       1, '2010-06-01', 120000, 10000, 'CTO',                   NULL, 5, 'alice.smith@example.com', '555-0100'),\n",
    "(2, 'Bob', 'Johnson',       1, '2012-09-15',  90000,  5000, 'Senior Engineer',       1, 4, 'bob.johnson@example.com', '555-0101'),\n",
    "(3, 'Carol', 'Williams',    1, '2015-03-20',  80000,   NULL, 'Engineer',              2, 3, 'carol.williams@example.com', '555-0102'),\n",
    "(4, 'David', 'Jones',       2, '2011-11-11',  95000,  7000, 'Sales Manager',         NULL, 4, 'david.jones@example.com', '555-0103'),\n",
    "(5, 'Eva', 'Brown',         2, '2016-05-22',  70000,  3000, 'Sales Representative',  4, 3, 'eva.brown@example.com', '555-0104'),\n",
    "(6, 'Frank', 'Davis',       2, '2018-07-01',  68000,   NULL, 'Sales Representative',  4, 2, 'frank.davis@example.com', '555-0105'),\n",
    "(7, 'Grace', 'Miller',      3, '2013-02-28',  75000,  4000, 'HR Specialist',         NULL, 4, 'grace.miller@example.com', '555-0106'),\n",
    "(8, 'Henry', 'Wilson',      3, '2019-10-10',  60000,  2000, 'HR Assistant',           7, 3, 'henry.wilson@example.com', '555-0107'),\n",
    "(9, 'Ivy', 'Moore',         4, '2014-08-19',  85000,  5000, 'Marketing Manager',     NULL, 4, 'ivy.moore@example.com', '555-0108'),\n",
    "(10, 'Sam', 'White',        NULL, '2023-01-01', 50000, NULL, 'Intern',                3, NULL, NULL, NULL),\n",
    "(11, 'Jack', 'Taylor',      4, '2020-01-15',  65000,   NULL, 'Marketing Specialist',   9, 3, 'jack.taylor@example.com', '555-0109'),\n",
    "(12, 'Kathy', 'Anderson',   5, '2017-04-03',  78000,  4500, 'Finance Analyst',       NULL, 4, 'kathy.anderson@example.com', '555-0110'),\n",
    "(13, 'Leo', 'Thomas',       5, '2021-12-05',  55000,   NULL, 'Junior Finance Analyst',11, 3, 'leo.thomas@example.com', '555-0111');"
   ]
  },
  {
   "cell_type": "code",
   "execution_count": 5,
   "id": "009c7351-3b22-4d97-9316-b8a70ad18fc8",
   "metadata": {},
   "outputs": [
    {
     "name": "stdout",
     "output_type": "stream",
     "text": [
      " * sqlite:///my_database.db\n",
      "Done.\n"
     ]
    },
    {
     "data": {
      "text/html": [
       "<table>\n",
       "    <thead>\n",
       "        <tr>\n",
       "            <th>id</th>\n",
       "            <th>first_name</th>\n",
       "            <th>last_name</th>\n",
       "            <th>department_id</th>\n",
       "            <th>hire_date</th>\n",
       "            <th>salary</th>\n",
       "            <th>bonus</th>\n",
       "            <th>job_title</th>\n",
       "            <th>manager_id</th>\n",
       "            <th>performance_rating</th>\n",
       "            <th>email</th>\n",
       "            <th>phone_number</th>\n",
       "        </tr>\n",
       "    </thead>\n",
       "    <tbody>\n",
       "        <tr>\n",
       "            <td>1</td>\n",
       "            <td>Alice</td>\n",
       "            <td>Smith</td>\n",
       "            <td>1</td>\n",
       "            <td>2010-06-01</td>\n",
       "            <td>120000.0</td>\n",
       "            <td>10000.0</td>\n",
       "            <td>CTO</td>\n",
       "            <td>None</td>\n",
       "            <td>5</td>\n",
       "            <td>alice.smith@example.com</td>\n",
       "            <td>555-0100</td>\n",
       "        </tr>\n",
       "        <tr>\n",
       "            <td>2</td>\n",
       "            <td>Bob</td>\n",
       "            <td>Johnson</td>\n",
       "            <td>1</td>\n",
       "            <td>2012-09-15</td>\n",
       "            <td>90000.0</td>\n",
       "            <td>5000.0</td>\n",
       "            <td>Senior Engineer</td>\n",
       "            <td>1</td>\n",
       "            <td>4</td>\n",
       "            <td>bob.johnson@example.com</td>\n",
       "            <td>555-0101</td>\n",
       "        </tr>\n",
       "        <tr>\n",
       "            <td>3</td>\n",
       "            <td>Carol</td>\n",
       "            <td>Williams</td>\n",
       "            <td>1</td>\n",
       "            <td>2015-03-20</td>\n",
       "            <td>80000.0</td>\n",
       "            <td>None</td>\n",
       "            <td>Engineer</td>\n",
       "            <td>2</td>\n",
       "            <td>3</td>\n",
       "            <td>carol.williams@example.com</td>\n",
       "            <td>555-0102</td>\n",
       "        </tr>\n",
       "        <tr>\n",
       "            <td>4</td>\n",
       "            <td>David</td>\n",
       "            <td>Jones</td>\n",
       "            <td>2</td>\n",
       "            <td>2011-11-11</td>\n",
       "            <td>95000.0</td>\n",
       "            <td>5000.0</td>\n",
       "            <td>Sales Manager</td>\n",
       "            <td>None</td>\n",
       "            <td>4</td>\n",
       "            <td>david.jones@example.com</td>\n",
       "            <td>555-0103</td>\n",
       "        </tr>\n",
       "        <tr>\n",
       "            <td>5</td>\n",
       "            <td>Eva</td>\n",
       "            <td>Brown</td>\n",
       "            <td>2</td>\n",
       "            <td>2016-05-22</td>\n",
       "            <td>70000.0</td>\n",
       "            <td>3000.0</td>\n",
       "            <td>Sales Representative</td>\n",
       "            <td>4</td>\n",
       "            <td>3</td>\n",
       "            <td>eva.brown@example.com</td>\n",
       "            <td>555-0104</td>\n",
       "        </tr>\n",
       "        <tr>\n",
       "            <td>6</td>\n",
       "            <td>Frank</td>\n",
       "            <td>Davis</td>\n",
       "            <td>2</td>\n",
       "            <td>2018-07-01</td>\n",
       "            <td>68000.0</td>\n",
       "            <td>None</td>\n",
       "            <td>Sales Representative</td>\n",
       "            <td>4</td>\n",
       "            <td>2</td>\n",
       "            <td>frank.davis@example.com</td>\n",
       "            <td>555-0105</td>\n",
       "        </tr>\n",
       "        <tr>\n",
       "            <td>7</td>\n",
       "            <td>Grace</td>\n",
       "            <td>Miller</td>\n",
       "            <td>3</td>\n",
       "            <td>2013-02-28</td>\n",
       "            <td>75000.0</td>\n",
       "            <td>4000.0</td>\n",
       "            <td>HR Specialist</td>\n",
       "            <td>None</td>\n",
       "            <td>4</td>\n",
       "            <td>grace.miller@example.com</td>\n",
       "            <td>555-0106</td>\n",
       "        </tr>\n",
       "        <tr>\n",
       "            <td>8</td>\n",
       "            <td>Henry</td>\n",
       "            <td>Wilson</td>\n",
       "            <td>3</td>\n",
       "            <td>2019-10-10</td>\n",
       "            <td>60000.0</td>\n",
       "            <td>2000.0</td>\n",
       "            <td>HR Assistant</td>\n",
       "            <td>7</td>\n",
       "            <td>3</td>\n",
       "            <td>henry.wilson@example.com</td>\n",
       "            <td>555-0107</td>\n",
       "        </tr>\n",
       "        <tr>\n",
       "            <td>9</td>\n",
       "            <td>Ivy</td>\n",
       "            <td>Moore</td>\n",
       "            <td>4</td>\n",
       "            <td>2014-08-19</td>\n",
       "            <td>85000.0</td>\n",
       "            <td>5000.0</td>\n",
       "            <td>Marketing Manager</td>\n",
       "            <td>None</td>\n",
       "            <td>4</td>\n",
       "            <td>ivy.moore@example.com</td>\n",
       "            <td>555-0108</td>\n",
       "        </tr>\n",
       "        <tr>\n",
       "            <td>10</td>\n",
       "            <td>Sam</td>\n",
       "            <td>White</td>\n",
       "            <td>None</td>\n",
       "            <td>2023-01-01</td>\n",
       "            <td>50000.0</td>\n",
       "            <td>None</td>\n",
       "            <td>Intern</td>\n",
       "            <td>3</td>\n",
       "            <td>None</td>\n",
       "            <td>None</td>\n",
       "            <td>None</td>\n",
       "        </tr>\n",
       "        <tr>\n",
       "            <td>11</td>\n",
       "            <td>Jack</td>\n",
       "            <td>Taylor</td>\n",
       "            <td>4</td>\n",
       "            <td>2020-01-15</td>\n",
       "            <td>65000.0</td>\n",
       "            <td>None</td>\n",
       "            <td>Marketing Specialist</td>\n",
       "            <td>9</td>\n",
       "            <td>3</td>\n",
       "            <td>jack.taylor@example.com</td>\n",
       "            <td>555-0109</td>\n",
       "        </tr>\n",
       "        <tr>\n",
       "            <td>12</td>\n",
       "            <td>Kathy</td>\n",
       "            <td>Anderson</td>\n",
       "            <td>5</td>\n",
       "            <td>2017-04-03</td>\n",
       "            <td>78000.0</td>\n",
       "            <td>4500.0</td>\n",
       "            <td>Finance Analyst</td>\n",
       "            <td>None</td>\n",
       "            <td>4</td>\n",
       "            <td>kathy.anderson@example.com</td>\n",
       "            <td>555-0110</td>\n",
       "        </tr>\n",
       "        <tr>\n",
       "            <td>13</td>\n",
       "            <td>Leo</td>\n",
       "            <td>Thomas</td>\n",
       "            <td>5</td>\n",
       "            <td>2021-12-05</td>\n",
       "            <td>55000.0</td>\n",
       "            <td>None</td>\n",
       "            <td>Junior Finance Analyst</td>\n",
       "            <td>11</td>\n",
       "            <td>3</td>\n",
       "            <td>leo.thomas@example.com</td>\n",
       "            <td>555-0111</td>\n",
       "        </tr>\n",
       "    </tbody>\n",
       "</table>"
      ],
      "text/plain": [
       "[(1, 'Alice', 'Smith', 1, '2010-06-01', 120000.0, 10000.0, 'CTO', None, 5, 'alice.smith@example.com', '555-0100'),\n",
       " (2, 'Bob', 'Johnson', 1, '2012-09-15', 90000.0, 5000.0, 'Senior Engineer', 1, 4, 'bob.johnson@example.com', '555-0101'),\n",
       " (3, 'Carol', 'Williams', 1, '2015-03-20', 80000.0, None, 'Engineer', 2, 3, 'carol.williams@example.com', '555-0102'),\n",
       " (4, 'David', 'Jones', 2, '2011-11-11', 95000.0, 5000.0, 'Sales Manager', None, 4, 'david.jones@example.com', '555-0103'),\n",
       " (5, 'Eva', 'Brown', 2, '2016-05-22', 70000.0, 3000.0, 'Sales Representative', 4, 3, 'eva.brown@example.com', '555-0104'),\n",
       " (6, 'Frank', 'Davis', 2, '2018-07-01', 68000.0, None, 'Sales Representative', 4, 2, 'frank.davis@example.com', '555-0105'),\n",
       " (7, 'Grace', 'Miller', 3, '2013-02-28', 75000.0, 4000.0, 'HR Specialist', None, 4, 'grace.miller@example.com', '555-0106'),\n",
       " (8, 'Henry', 'Wilson', 3, '2019-10-10', 60000.0, 2000.0, 'HR Assistant', 7, 3, 'henry.wilson@example.com', '555-0107'),\n",
       " (9, 'Ivy', 'Moore', 4, '2014-08-19', 85000.0, 5000.0, 'Marketing Manager', None, 4, 'ivy.moore@example.com', '555-0108'),\n",
       " (10, 'Sam', 'White', None, '2023-01-01', 50000.0, None, 'Intern', 3, None, None, None),\n",
       " (11, 'Jack', 'Taylor', 4, '2020-01-15', 65000.0, None, 'Marketing Specialist', 9, 3, 'jack.taylor@example.com', '555-0109'),\n",
       " (12, 'Kathy', 'Anderson', 5, '2017-04-03', 78000.0, 4500.0, 'Finance Analyst', None, 4, 'kathy.anderson@example.com', '555-0110'),\n",
       " (13, 'Leo', 'Thomas', 5, '2021-12-05', 55000.0, None, 'Junior Finance Analyst', 11, 3, 'leo.thomas@example.com', '555-0111')]"
      ]
     },
     "execution_count": 5,
     "metadata": {},
     "output_type": "execute_result"
    }
   ],
   "source": [
    "%%sql\n",
    "SELECT * FROM employees"
   ]
  },
  {
   "cell_type": "markdown",
   "id": "93436f73-016f-43cc-91fe-6aacf28f3e17",
   "metadata": {},
   "source": [
    "## 1) Write a query to find first name and last name of employees whose first name:\n",
    "- has 3 letters\n",
    "- ends in 'a'"
   ]
  },
  {
   "cell_type": "code",
   "execution_count": 6,
   "id": "7364483d-8f7d-478e-a001-48075f737b6a",
   "metadata": {},
   "outputs": [
    {
     "name": "stdout",
     "output_type": "stream",
     "text": [
      " * sqlite:///my_database.db\n",
      "Done.\n"
     ]
    },
    {
     "data": {
      "text/html": [
       "<table>\n",
       "    <thead>\n",
       "        <tr>\n",
       "            <th>first_name</th>\n",
       "            <th>last_name</th>\n",
       "        </tr>\n",
       "    </thead>\n",
       "    <tbody>\n",
       "        <tr>\n",
       "            <td>Bob</td>\n",
       "            <td>Johnson</td>\n",
       "        </tr>\n",
       "        <tr>\n",
       "            <td>Eva</td>\n",
       "            <td>Brown</td>\n",
       "        </tr>\n",
       "        <tr>\n",
       "            <td>Ivy</td>\n",
       "            <td>Moore</td>\n",
       "        </tr>\n",
       "        <tr>\n",
       "            <td>Sam</td>\n",
       "            <td>White</td>\n",
       "        </tr>\n",
       "        <tr>\n",
       "            <td>Leo</td>\n",
       "            <td>Thomas</td>\n",
       "        </tr>\n",
       "    </tbody>\n",
       "</table>"
      ],
      "text/plain": [
       "[('Bob', 'Johnson'),\n",
       " ('Eva', 'Brown'),\n",
       " ('Ivy', 'Moore'),\n",
       " ('Sam', 'White'),\n",
       " ('Leo', 'Thomas')]"
      ]
     },
     "execution_count": 6,
     "metadata": {},
     "output_type": "execute_result"
    }
   ],
   "source": [
    "%%sql\n",
    "SELECT first_name, last_name\n",
    "FROM employees\n",
    "WHERE LENGTH(first_name) = 3"
   ]
  },
  {
   "cell_type": "code",
   "execution_count": 7,
   "id": "6c47dfdd-f912-4772-a7b8-2955f52fd898",
   "metadata": {},
   "outputs": [
    {
     "name": "stdout",
     "output_type": "stream",
     "text": [
      " * sqlite:///my_database.db\n",
      "Done.\n"
     ]
    },
    {
     "data": {
      "text/html": [
       "<table>\n",
       "    <thead>\n",
       "        <tr>\n",
       "            <th>first_name</th>\n",
       "            <th>last_name</th>\n",
       "        </tr>\n",
       "    </thead>\n",
       "    <tbody>\n",
       "        <tr>\n",
       "            <td>Eva</td>\n",
       "            <td>Brown</td>\n",
       "        </tr>\n",
       "    </tbody>\n",
       "</table>"
      ],
      "text/plain": [
       "[('Eva', 'Brown')]"
      ]
     },
     "execution_count": 7,
     "metadata": {},
     "output_type": "execute_result"
    }
   ],
   "source": [
    "%%sql\n",
    "SELECT first_name, last_name\n",
    "FROM employees\n",
    "WHERE first_name LIKE '%a'"
   ]
  },
  {
   "cell_type": "markdown",
   "id": "28e7776a-cd98-45ae-b207-81d60448388a",
   "metadata": {},
   "source": [
    "## 2) Write a query to find, for each department:\n",
    "- the name of the department\n",
    "- the number of employees\n",
    "- the number of employees who received a bonus\n",
    "- the total amount of bonuses disbursed"
   ]
  },
  {
   "cell_type": "code",
   "execution_count": 8,
   "id": "5dc2d314-fcec-43d5-b3c8-e9b2f29a6f63",
   "metadata": {},
   "outputs": [
    {
     "name": "stdout",
     "output_type": "stream",
     "text": [
      " * sqlite:///my_database.db\n",
      "Done.\n"
     ]
    },
    {
     "data": {
      "text/html": [
       "<table>\n",
       "    <thead>\n",
       "        <tr>\n",
       "            <th>id</th>\n",
       "            <th>first_name</th>\n",
       "            <th>last_name</th>\n",
       "            <th>department_id</th>\n",
       "            <th>hire_date</th>\n",
       "            <th>salary</th>\n",
       "            <th>bonus</th>\n",
       "            <th>job_title</th>\n",
       "            <th>manager_id</th>\n",
       "            <th>performance_rating</th>\n",
       "            <th>email</th>\n",
       "            <th>phone_number</th>\n",
       "        </tr>\n",
       "    </thead>\n",
       "    <tbody>\n",
       "        <tr>\n",
       "            <td>1</td>\n",
       "            <td>Alice</td>\n",
       "            <td>Smith</td>\n",
       "            <td>1</td>\n",
       "            <td>2010-06-01</td>\n",
       "            <td>120000.0</td>\n",
       "            <td>10000.0</td>\n",
       "            <td>CTO</td>\n",
       "            <td>None</td>\n",
       "            <td>5</td>\n",
       "            <td>alice.smith@example.com</td>\n",
       "            <td>555-0100</td>\n",
       "        </tr>\n",
       "        <tr>\n",
       "            <td>2</td>\n",
       "            <td>Bob</td>\n",
       "            <td>Johnson</td>\n",
       "            <td>1</td>\n",
       "            <td>2012-09-15</td>\n",
       "            <td>90000.0</td>\n",
       "            <td>5000.0</td>\n",
       "            <td>Senior Engineer</td>\n",
       "            <td>1</td>\n",
       "            <td>4</td>\n",
       "            <td>bob.johnson@example.com</td>\n",
       "            <td>555-0101</td>\n",
       "        </tr>\n",
       "        <tr>\n",
       "            <td>3</td>\n",
       "            <td>Carol</td>\n",
       "            <td>Williams</td>\n",
       "            <td>1</td>\n",
       "            <td>2015-03-20</td>\n",
       "            <td>80000.0</td>\n",
       "            <td>None</td>\n",
       "            <td>Engineer</td>\n",
       "            <td>2</td>\n",
       "            <td>3</td>\n",
       "            <td>carol.williams@example.com</td>\n",
       "            <td>555-0102</td>\n",
       "        </tr>\n",
       "        <tr>\n",
       "            <td>4</td>\n",
       "            <td>David</td>\n",
       "            <td>Jones</td>\n",
       "            <td>2</td>\n",
       "            <td>2011-11-11</td>\n",
       "            <td>95000.0</td>\n",
       "            <td>5000.0</td>\n",
       "            <td>Sales Manager</td>\n",
       "            <td>None</td>\n",
       "            <td>4</td>\n",
       "            <td>david.jones@example.com</td>\n",
       "            <td>555-0103</td>\n",
       "        </tr>\n",
       "        <tr>\n",
       "            <td>5</td>\n",
       "            <td>Eva</td>\n",
       "            <td>Brown</td>\n",
       "            <td>2</td>\n",
       "            <td>2016-05-22</td>\n",
       "            <td>70000.0</td>\n",
       "            <td>3000.0</td>\n",
       "            <td>Sales Representative</td>\n",
       "            <td>4</td>\n",
       "            <td>3</td>\n",
       "            <td>eva.brown@example.com</td>\n",
       "            <td>555-0104</td>\n",
       "        </tr>\n",
       "        <tr>\n",
       "            <td>6</td>\n",
       "            <td>Frank</td>\n",
       "            <td>Davis</td>\n",
       "            <td>2</td>\n",
       "            <td>2018-07-01</td>\n",
       "            <td>68000.0</td>\n",
       "            <td>None</td>\n",
       "            <td>Sales Representative</td>\n",
       "            <td>4</td>\n",
       "            <td>2</td>\n",
       "            <td>frank.davis@example.com</td>\n",
       "            <td>555-0105</td>\n",
       "        </tr>\n",
       "        <tr>\n",
       "            <td>7</td>\n",
       "            <td>Grace</td>\n",
       "            <td>Miller</td>\n",
       "            <td>3</td>\n",
       "            <td>2013-02-28</td>\n",
       "            <td>75000.0</td>\n",
       "            <td>4000.0</td>\n",
       "            <td>HR Specialist</td>\n",
       "            <td>None</td>\n",
       "            <td>4</td>\n",
       "            <td>grace.miller@example.com</td>\n",
       "            <td>555-0106</td>\n",
       "        </tr>\n",
       "        <tr>\n",
       "            <td>8</td>\n",
       "            <td>Henry</td>\n",
       "            <td>Wilson</td>\n",
       "            <td>3</td>\n",
       "            <td>2019-10-10</td>\n",
       "            <td>60000.0</td>\n",
       "            <td>2000.0</td>\n",
       "            <td>HR Assistant</td>\n",
       "            <td>7</td>\n",
       "            <td>3</td>\n",
       "            <td>henry.wilson@example.com</td>\n",
       "            <td>555-0107</td>\n",
       "        </tr>\n",
       "        <tr>\n",
       "            <td>9</td>\n",
       "            <td>Ivy</td>\n",
       "            <td>Moore</td>\n",
       "            <td>4</td>\n",
       "            <td>2014-08-19</td>\n",
       "            <td>85000.0</td>\n",
       "            <td>5000.0</td>\n",
       "            <td>Marketing Manager</td>\n",
       "            <td>None</td>\n",
       "            <td>4</td>\n",
       "            <td>ivy.moore@example.com</td>\n",
       "            <td>555-0108</td>\n",
       "        </tr>\n",
       "        <tr>\n",
       "            <td>10</td>\n",
       "            <td>Sam</td>\n",
       "            <td>White</td>\n",
       "            <td>None</td>\n",
       "            <td>2023-01-01</td>\n",
       "            <td>50000.0</td>\n",
       "            <td>None</td>\n",
       "            <td>Intern</td>\n",
       "            <td>3</td>\n",
       "            <td>None</td>\n",
       "            <td>None</td>\n",
       "            <td>None</td>\n",
       "        </tr>\n",
       "        <tr>\n",
       "            <td>11</td>\n",
       "            <td>Jack</td>\n",
       "            <td>Taylor</td>\n",
       "            <td>4</td>\n",
       "            <td>2020-01-15</td>\n",
       "            <td>65000.0</td>\n",
       "            <td>None</td>\n",
       "            <td>Marketing Specialist</td>\n",
       "            <td>9</td>\n",
       "            <td>3</td>\n",
       "            <td>jack.taylor@example.com</td>\n",
       "            <td>555-0109</td>\n",
       "        </tr>\n",
       "        <tr>\n",
       "            <td>12</td>\n",
       "            <td>Kathy</td>\n",
       "            <td>Anderson</td>\n",
       "            <td>5</td>\n",
       "            <td>2017-04-03</td>\n",
       "            <td>78000.0</td>\n",
       "            <td>4500.0</td>\n",
       "            <td>Finance Analyst</td>\n",
       "            <td>None</td>\n",
       "            <td>4</td>\n",
       "            <td>kathy.anderson@example.com</td>\n",
       "            <td>555-0110</td>\n",
       "        </tr>\n",
       "        <tr>\n",
       "            <td>13</td>\n",
       "            <td>Leo</td>\n",
       "            <td>Thomas</td>\n",
       "            <td>5</td>\n",
       "            <td>2021-12-05</td>\n",
       "            <td>55000.0</td>\n",
       "            <td>None</td>\n",
       "            <td>Junior Finance Analyst</td>\n",
       "            <td>11</td>\n",
       "            <td>3</td>\n",
       "            <td>leo.thomas@example.com</td>\n",
       "            <td>555-0111</td>\n",
       "        </tr>\n",
       "    </tbody>\n",
       "</table>"
      ],
      "text/plain": [
       "[(1, 'Alice', 'Smith', 1, '2010-06-01', 120000.0, 10000.0, 'CTO', None, 5, 'alice.smith@example.com', '555-0100'),\n",
       " (2, 'Bob', 'Johnson', 1, '2012-09-15', 90000.0, 5000.0, 'Senior Engineer', 1, 4, 'bob.johnson@example.com', '555-0101'),\n",
       " (3, 'Carol', 'Williams', 1, '2015-03-20', 80000.0, None, 'Engineer', 2, 3, 'carol.williams@example.com', '555-0102'),\n",
       " (4, 'David', 'Jones', 2, '2011-11-11', 95000.0, 5000.0, 'Sales Manager', None, 4, 'david.jones@example.com', '555-0103'),\n",
       " (5, 'Eva', 'Brown', 2, '2016-05-22', 70000.0, 3000.0, 'Sales Representative', 4, 3, 'eva.brown@example.com', '555-0104'),\n",
       " (6, 'Frank', 'Davis', 2, '2018-07-01', 68000.0, None, 'Sales Representative', 4, 2, 'frank.davis@example.com', '555-0105'),\n",
       " (7, 'Grace', 'Miller', 3, '2013-02-28', 75000.0, 4000.0, 'HR Specialist', None, 4, 'grace.miller@example.com', '555-0106'),\n",
       " (8, 'Henry', 'Wilson', 3, '2019-10-10', 60000.0, 2000.0, 'HR Assistant', 7, 3, 'henry.wilson@example.com', '555-0107'),\n",
       " (9, 'Ivy', 'Moore', 4, '2014-08-19', 85000.0, 5000.0, 'Marketing Manager', None, 4, 'ivy.moore@example.com', '555-0108'),\n",
       " (10, 'Sam', 'White', None, '2023-01-01', 50000.0, None, 'Intern', 3, None, None, None),\n",
       " (11, 'Jack', 'Taylor', 4, '2020-01-15', 65000.0, None, 'Marketing Specialist', 9, 3, 'jack.taylor@example.com', '555-0109'),\n",
       " (12, 'Kathy', 'Anderson', 5, '2017-04-03', 78000.0, 4500.0, 'Finance Analyst', None, 4, 'kathy.anderson@example.com', '555-0110'),\n",
       " (13, 'Leo', 'Thomas', 5, '2021-12-05', 55000.0, None, 'Junior Finance Analyst', 11, 3, 'leo.thomas@example.com', '555-0111')]"
      ]
     },
     "execution_count": 8,
     "metadata": {},
     "output_type": "execute_result"
    }
   ],
   "source": [
    "%%sql\n",
    "SELECT * FROM employees"
   ]
  },
  {
   "cell_type": "code",
   "execution_count": 9,
   "id": "7e7bfc9a-6f81-468f-9ec2-ac887c353caf",
   "metadata": {},
   "outputs": [
    {
     "name": "stdout",
     "output_type": "stream",
     "text": [
      " * sqlite:///my_database.db\n",
      "Done.\n"
     ]
    },
    {
     "data": {
      "text/html": [
       "<table>\n",
       "    <thead>\n",
       "        <tr>\n",
       "            <th>id</th>\n",
       "            <th>name</th>\n",
       "            <th>location</th>\n",
       "        </tr>\n",
       "    </thead>\n",
       "    <tbody>\n",
       "        <tr>\n",
       "            <td>1</td>\n",
       "            <td>Engineering</td>\n",
       "            <td>New York</td>\n",
       "        </tr>\n",
       "        <tr>\n",
       "            <td>2</td>\n",
       "            <td>Sales</td>\n",
       "            <td>Los Angeles</td>\n",
       "        </tr>\n",
       "        <tr>\n",
       "            <td>3</td>\n",
       "            <td>HR</td>\n",
       "            <td>Chicago</td>\n",
       "        </tr>\n",
       "        <tr>\n",
       "            <td>4</td>\n",
       "            <td>Marketing</td>\n",
       "            <td>San Francisco</td>\n",
       "        </tr>\n",
       "        <tr>\n",
       "            <td>5</td>\n",
       "            <td>Finance</td>\n",
       "            <td>Boston</td>\n",
       "        </tr>\n",
       "    </tbody>\n",
       "</table>"
      ],
      "text/plain": [
       "[(1, 'Engineering', 'New York'),\n",
       " (2, 'Sales', 'Los Angeles'),\n",
       " (3, 'HR', 'Chicago'),\n",
       " (4, 'Marketing', 'San Francisco'),\n",
       " (5, 'Finance', 'Boston')]"
      ]
     },
     "execution_count": 9,
     "metadata": {},
     "output_type": "execute_result"
    }
   ],
   "source": [
    "%%sql\n",
    "SELECT * FROM departments"
   ]
  },
  {
   "cell_type": "markdown",
   "id": "cddbfb25-4d8d-4063-b8f5-0d10fb511907",
   "metadata": {},
   "source": [
    "**1. for each department --> find the name of the department**"
   ]
  },
  {
   "cell_type": "code",
   "execution_count": 10,
   "id": "cf8796ac-df15-4ad1-bc19-9eb0fe7bbe07",
   "metadata": {},
   "outputs": [
    {
     "name": "stdout",
     "output_type": "stream",
     "text": [
      " * sqlite:///my_database.db\n",
      "Done.\n"
     ]
    },
    {
     "data": {
      "text/html": [
       "<table>\n",
       "    <thead>\n",
       "        <tr>\n",
       "            <th>department_id</th>\n",
       "            <th>name</th>\n",
       "        </tr>\n",
       "    </thead>\n",
       "    <tbody>\n",
       "        <tr>\n",
       "            <td>1</td>\n",
       "            <td>Engineering</td>\n",
       "        </tr>\n",
       "        <tr>\n",
       "            <td>2</td>\n",
       "            <td>Sales</td>\n",
       "        </tr>\n",
       "        <tr>\n",
       "            <td>3</td>\n",
       "            <td>HR</td>\n",
       "        </tr>\n",
       "        <tr>\n",
       "            <td>4</td>\n",
       "            <td>Marketing</td>\n",
       "        </tr>\n",
       "        <tr>\n",
       "            <td>5</td>\n",
       "            <td>Finance</td>\n",
       "        </tr>\n",
       "    </tbody>\n",
       "</table>"
      ],
      "text/plain": [
       "[(1, 'Engineering'), (2, 'Sales'), (3, 'HR'), (4, 'Marketing'), (5, 'Finance')]"
      ]
     },
     "execution_count": 10,
     "metadata": {},
     "output_type": "execute_result"
    }
   ],
   "source": [
    "%%sql\n",
    "SELECT e.department_id, d.name\n",
    "FROM employees e\n",
    "INNER JOIN departments d ON e.department_id = d.id\n",
    "GROUP BY department_id"
   ]
  },
  {
   "cell_type": "markdown",
   "id": "abe00b4e-29f0-4f14-b002-5c6da84d0805",
   "metadata": {},
   "source": [
    "**2. for each department --> find the number of employees**"
   ]
  },
  {
   "cell_type": "code",
   "execution_count": 11,
   "id": "8f64e7d0-ba61-46cf-88d2-fba94b3ec2b2",
   "metadata": {},
   "outputs": [
    {
     "name": "stdout",
     "output_type": "stream",
     "text": [
      " * sqlite:///my_database.db\n",
      "Done.\n"
     ]
    },
    {
     "data": {
      "text/html": [
       "<table>\n",
       "    <thead>\n",
       "        <tr>\n",
       "            <th>COUNT(department_id)</th>\n",
       "        </tr>\n",
       "    </thead>\n",
       "    <tbody>\n",
       "        <tr>\n",
       "            <td>3</td>\n",
       "        </tr>\n",
       "        <tr>\n",
       "            <td>3</td>\n",
       "        </tr>\n",
       "        <tr>\n",
       "            <td>2</td>\n",
       "        </tr>\n",
       "        <tr>\n",
       "            <td>2</td>\n",
       "        </tr>\n",
       "        <tr>\n",
       "            <td>2</td>\n",
       "        </tr>\n",
       "    </tbody>\n",
       "</table>"
      ],
      "text/plain": [
       "[(3,), (3,), (2,), (2,), (2,)]"
      ]
     },
     "execution_count": 11,
     "metadata": {},
     "output_type": "execute_result"
    }
   ],
   "source": [
    "%%sql\n",
    "SELECT COUNT(department_id)\n",
    "FROM employees\n",
    "WHERE department_id IS NOT NULL\n",
    "GROUP BY department_id"
   ]
  },
  {
   "cell_type": "markdown",
   "id": "57f2348e-b0ba-4956-b594-0483766aff97",
   "metadata": {},
   "source": [
    "**3. for each department --> find the name of employeed who received a bonus**"
   ]
  },
  {
   "cell_type": "code",
   "execution_count": 12,
   "id": "51956d60-bb62-4a40-a58e-00fbbbad7b5f",
   "metadata": {},
   "outputs": [
    {
     "name": "stdout",
     "output_type": "stream",
     "text": [
      " * sqlite:///my_database.db\n",
      "Done.\n"
     ]
    },
    {
     "data": {
      "text/html": [
       "<table>\n",
       "    <thead>\n",
       "        <tr>\n",
       "            <th>COUNT(bonus)</th>\n",
       "        </tr>\n",
       "    </thead>\n",
       "    <tbody>\n",
       "        <tr>\n",
       "            <td>8</td>\n",
       "        </tr>\n",
       "    </tbody>\n",
       "</table>"
      ],
      "text/plain": [
       "[(8,)]"
      ]
     },
     "execution_count": 12,
     "metadata": {},
     "output_type": "execute_result"
    }
   ],
   "source": [
    "%%sql\n",
    "SELECT COUNT(bonus)\n",
    "FROM employees\n",
    "WHERE bonus IS NOT NULL"
   ]
  },
  {
   "cell_type": "markdown",
   "id": "13fdd2ab-cba7-4a5f-9ff1-296b08415ac9",
   "metadata": {},
   "source": [
    "**4. for each department --> find the total ammount of bonuses disbursed**"
   ]
  },
  {
   "cell_type": "code",
   "execution_count": 13,
   "id": "0b505b0c-a818-4320-b637-1511acc3cabf",
   "metadata": {},
   "outputs": [
    {
     "name": "stdout",
     "output_type": "stream",
     "text": [
      " * sqlite:///my_database.db\n",
      "Done.\n"
     ]
    },
    {
     "data": {
      "text/html": [
       "<table>\n",
       "    <thead>\n",
       "        <tr>\n",
       "            <th>SUM(bonus)</th>\n",
       "        </tr>\n",
       "    </thead>\n",
       "    <tbody>\n",
       "        <tr>\n",
       "            <td>38500.0</td>\n",
       "        </tr>\n",
       "    </tbody>\n",
       "</table>"
      ],
      "text/plain": [
       "[(38500.0,)]"
      ]
     },
     "execution_count": 13,
     "metadata": {},
     "output_type": "execute_result"
    }
   ],
   "source": [
    "%%sql\n",
    "SELECT SUM(bonus)\n",
    "FROM employees\n",
    "WHERE bonus IS NOT NULL"
   ]
  },
  {
   "cell_type": "markdown",
   "id": "cca81a8a-e4f2-401c-a265-7c4bbd83546d",
   "metadata": {},
   "source": [
    "## Bonus exercise\n",
    "**<br>3) Write a query to find employees who received the same bonus as at least one other employee.**"
   ]
  },
  {
   "cell_type": "markdown",
   "id": "bc77e13d-731e-4bcb-a822-8a47c943b809",
   "metadata": {},
   "source": [
    "Selezionando e1.id != e2.id ritorna n-volte il valore ripetuto \n",
    "\n",
    "dove n = impiegati con stesso valore di bonus. \n",
    "\n",
    "ciclo sugli indici di id id1<id2"
   ]
  },
  {
   "cell_type": "code",
   "execution_count": 16,
   "id": "3e7cb8b8-6c69-4557-b27f-7a4f86b51283",
   "metadata": {},
   "outputs": [
    {
     "name": "stdout",
     "output_type": "stream",
     "text": [
      " * sqlite:///my_database.db\n",
      "Done.\n"
     ]
    },
    {
     "data": {
      "text/html": [
       "<table>\n",
       "    <thead>\n",
       "        <tr>\n",
       "            <th>bonus</th>\n",
       "            <th>employee</th>\n",
       "            <th>match_employee_bonus</th>\n",
       "        </tr>\n",
       "    </thead>\n",
       "    <tbody>\n",
       "        <tr>\n",
       "            <td>5000.0</td>\n",
       "            <td>Bob Johnson</td>\n",
       "            <td>David Jones</td>\n",
       "        </tr>\n",
       "        <tr>\n",
       "            <td>5000.0</td>\n",
       "            <td>Bob Johnson</td>\n",
       "            <td>Ivy Moore</td>\n",
       "        </tr>\n",
       "        <tr>\n",
       "            <td>5000.0</td>\n",
       "            <td>David Jones</td>\n",
       "            <td>Ivy Moore</td>\n",
       "        </tr>\n",
       "    </tbody>\n",
       "</table>"
      ],
      "text/plain": [
       "[(5000.0, 'Bob Johnson', 'David Jones'),\n",
       " (5000.0, 'Bob Johnson', 'Ivy Moore'),\n",
       " (5000.0, 'David Jones', 'Ivy Moore')]"
      ]
     },
     "execution_count": 16,
     "metadata": {},
     "output_type": "execute_result"
    }
   ],
   "source": [
    "%%sql\n",
    "SELECT DISTINCT e1.bonus,\n",
    "    e1.first_name || ' ' || e1.last_name AS employee,\n",
    "    e2.first_name || ' ' || e2.last_name AS match_employee_bonus\n",
    "FROM employees e1\n",
    "JOIN employees e2 \n",
    "    ON e1.bonus = e2.bonus AND e1.id < e2.id"
   ]
  },
  {
   "cell_type": "code",
   "execution_count": null,
   "id": "e8950d0a-1b09-49ea-8e3c-91d4c2d60852",
   "metadata": {},
   "outputs": [],
   "source": []
  }
 ],
 "metadata": {
  "kernelspec": {
   "display_name": "Python 3 (ipykernel)",
   "language": "python",
   "name": "python3"
  },
  "language_info": {
   "codemirror_mode": {
    "name": "ipython",
    "version": 3
   },
   "file_extension": ".py",
   "mimetype": "text/x-python",
   "name": "python",
   "nbconvert_exporter": "python",
   "pygments_lexer": "ipython3",
   "version": "3.13.2"
  }
 },
 "nbformat": 4,
 "nbformat_minor": 5
}
