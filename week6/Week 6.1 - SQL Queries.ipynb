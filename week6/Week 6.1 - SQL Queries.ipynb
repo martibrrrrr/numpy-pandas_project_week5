{
 "cells": [
  {
   "cell_type": "markdown",
   "metadata": {
    "id": "f8noefuAZ52J"
   },
   "source": [
    "Daniele Parimbelli<br>Data Scientist at Vedrai<br>e-mail: daniele.parimbelli@vedrai.com"
   ]
  },
  {
   "cell_type": "code",
   "execution_count": null,
   "metadata": {
    "id": "lOq5s1rkRBCN"
   },
   "outputs": [],
   "source": [
    "%pip install ipython-sql==0.5.0"
   ]
  },
  {
   "cell_type": "markdown",
   "metadata": {
    "id": "9pcmr605QsnV"
   },
   "source": [
    "Load the SQL extension"
   ]
  },
  {
   "cell_type": "code",
   "execution_count": 2,
   "metadata": {
    "id": "OXnsbKgLcIXK"
   },
   "outputs": [],
   "source": [
    "%load_ext sql\n",
    "%config SqlMagic.style = '_DEPRECATED_DEFAULT'"
   ]
  },
  {
   "cell_type": "markdown",
   "metadata": {
    "id": "fpzywdjMbddG"
   },
   "source": [
    "## Why SQLite?"
   ]
  },
  {
   "cell_type": "markdown",
   "metadata": {
    "id": "zesxa4-bbgq9"
   },
   "source": [
    "Unlike other databases that require a server setup, SQLite is a self-contained database integrated with the application that accesses it and doesn’t need installation or configuration. You can interact with the SQLite database simply by reading and writing directly from the database files stored on disk.\n"
   ]
  },
  {
   "cell_type": "markdown",
   "metadata": {
    "id": "uFh9B7T4xTuj"
   },
   "source": [
    "https://www.sqlitetutorial.net/what-is-sqlite/"
   ]
  },
  {
   "cell_type": "markdown",
   "metadata": {
    "id": "D0LTOMJLxqdy"
   },
   "source": [
    "By default SQLite stores the entire database in a single disk file"
   ]
  },
  {
   "cell_type": "code",
   "execution_count": 3,
   "metadata": {
    "id": "ogHSmdoKcqRz"
   },
   "outputs": [],
   "source": [
    "%sql sqlite:///my_database.db"
   ]
  },
  {
   "cell_type": "markdown",
   "metadata": {
    "id": "Qnl7u4gJdtft"
   },
   "source": [
    "## Creating the tables"
   ]
  },
  {
   "cell_type": "code",
   "execution_count": 4,
   "metadata": {
    "colab": {
     "base_uri": "https://localhost:8080/"
    },
    "id": "xGrfL5VEcS7m",
    "outputId": "7d7525fe-5774-40d1-c92f-8ad83cdc830d"
   },
   "outputs": [
    {
     "name": "stdout",
     "output_type": "stream",
     "text": [
      " * sqlite:///my_database.db\n",
      "Done.\n",
      "Done.\n",
      "5 rows affected.\n",
      "13 rows affected.\n"
     ]
    },
    {
     "data": {
      "text/plain": [
       "[]"
      ]
     },
     "execution_count": 4,
     "metadata": {},
     "output_type": "execute_result"
    }
   ],
   "source": [
    "%%sql\n",
    "\n",
    "CREATE TABLE departments (\n",
    "    id INTEGER PRIMARY KEY,\n",
    "    name TEXT NOT NULL,\n",
    "    location TEXT\n",
    ");\n",
    "\n",
    "CREATE TABLE employees (\n",
    "    id INTEGER PRIMARY KEY,\n",
    "    first_name TEXT NOT NULL,\n",
    "    last_name TEXT NOT NULL,\n",
    "    department_id INTEGER,\n",
    "    hire_date TEXT,  -- SQLite does not have type DATE\n",
    "    salary REAL,\n",
    "    bonus REAL,\n",
    "    job_title TEXT,\n",
    "    manager_id INTEGER,\n",
    "    performance_rating INTEGER,\n",
    "    email TEXT,\n",
    "    phone_number TEXT,\n",
    "    FOREIGN KEY (department_id) REFERENCES departments(id),\n",
    "    FOREIGN KEY (manager_id) REFERENCES employees(id) -- self-referencing foreign key: every manager is also an employees, therefore manager_id is the manager's employee id.\n",
    ");\n",
    "\n",
    "INSERT INTO departments (id, name, location) VALUES\n",
    "(1, 'Engineering', 'New York'),\n",
    "(2, 'Sales', 'Los Angeles'),\n",
    "(3, 'HR', 'Chicago'),\n",
    "(4, 'Marketing', 'San Francisco'),\n",
    "(5, 'Finance', 'Boston');\n",
    "\n",
    "INSERT INTO employees (id, first_name, last_name, department_id, hire_date, salary, bonus, job_title, manager_id, performance_rating, email, phone_number) VALUES\n",
    "(1, 'Alice', 'Smith',       1, '2010-06-01', 120000, 10000, 'CTO',                   NULL, 5, 'alice.smith@example.com', '555-0100'),\n",
    "(2, 'Bob', 'Johnson',       1, '2012-09-15',  90000,  5000, 'Senior Engineer',       1, 4, 'bob.johnson@example.com', '555-0101'),\n",
    "(3, 'Carol', 'Williams',    1, '2015-03-20',  80000,   NULL, 'Engineer',              2, 3, 'carol.williams@example.com', '555-0102'),\n",
    "(4, 'David', 'Jones',       2, '2011-11-11',  95000,  7000, 'Sales Manager',         NULL, 4, 'david.jones@example.com', '555-0103'),\n",
    "(5, 'Eva', 'Brown',         2, '2016-05-22',  70000,  3000, 'Sales Representative',  4, 3, 'eva.brown@example.com', '555-0104'),\n",
    "(6, 'Frank', 'Davis',       2, '2018-07-01',  68000,   NULL, 'Sales Representative',  4, 2, 'frank.davis@example.com', '555-0105'),\n",
    "(7, 'Grace', 'Miller',      3, '2013-02-28',  75000,  4000, 'HR Specialist',         NULL, 4, 'grace.miller@example.com', '555-0106'),\n",
    "(8, 'Henry', 'Wilson',      3, '2019-10-10',  60000,  2000, 'HR Assistant',           7, 3, 'henry.wilson@example.com', '555-0107'),\n",
    "(9, 'Ivy', 'Moore',         4, '2014-08-19',  85000,  5000, 'Marketing Manager',     NULL, 4, 'ivy.moore@example.com', '555-0108'),\n",
    "(10, 'Sam', 'White',        NULL, '2023-01-01', 50000, NULL, 'Intern',                3, NULL, NULL, NULL),\n",
    "(11, 'Jack', 'Taylor',      4, '2020-01-15',  65000,   NULL, 'Marketing Specialist',   9, 3, 'jack.taylor@example.com', '555-0109'),\n",
    "(12, 'Kathy', 'Anderson',   5, '2017-04-03',  78000,  4500, 'Finance Analyst',       NULL, 4, 'kathy.anderson@example.com', '555-0110'),\n",
    "(13, 'Leo', 'Thomas',       5, '2021-12-05',  55000,   NULL, 'Junior Finance Analyst',11, 3, 'leo.thomas@example.com', '555-0111');"
   ]
  },
  {
   "cell_type": "markdown",
   "metadata": {
    "id": "Vr-tLqreRfjQ"
   },
   "source": [
    "## Selecting columns"
   ]
  },
  {
   "cell_type": "markdown",
   "metadata": {
    "id": "5S-qUiaU2AOi"
   },
   "source": [
    "Selecting every column from a table"
   ]
  },
  {
   "cell_type": "code",
   "execution_count": 5,
   "metadata": {
    "id": "oIcayPY8cZNO"
   },
   "outputs": [
    {
     "name": "stdout",
     "output_type": "stream",
     "text": [
      " * sqlite:///my_database.db\n",
      "Done.\n"
     ]
    },
    {
     "data": {
      "text/html": [
       "<table>\n",
       "    <thead>\n",
       "        <tr>\n",
       "            <th>id</th>\n",
       "            <th>first_name</th>\n",
       "            <th>last_name</th>\n",
       "            <th>department_id</th>\n",
       "            <th>hire_date</th>\n",
       "            <th>salary</th>\n",
       "            <th>bonus</th>\n",
       "            <th>job_title</th>\n",
       "            <th>manager_id</th>\n",
       "            <th>performance_rating</th>\n",
       "            <th>email</th>\n",
       "            <th>phone_number</th>\n",
       "        </tr>\n",
       "    </thead>\n",
       "    <tbody>\n",
       "        <tr>\n",
       "            <td>1</td>\n",
       "            <td>Alice</td>\n",
       "            <td>Smith</td>\n",
       "            <td>1</td>\n",
       "            <td>2010-06-01</td>\n",
       "            <td>120000.0</td>\n",
       "            <td>10000.0</td>\n",
       "            <td>CTO</td>\n",
       "            <td>None</td>\n",
       "            <td>5</td>\n",
       "            <td>alice.smith@example.com</td>\n",
       "            <td>555-0100</td>\n",
       "        </tr>\n",
       "        <tr>\n",
       "            <td>2</td>\n",
       "            <td>Bob</td>\n",
       "            <td>Johnson</td>\n",
       "            <td>1</td>\n",
       "            <td>2012-09-15</td>\n",
       "            <td>90000.0</td>\n",
       "            <td>5000.0</td>\n",
       "            <td>Senior Engineer</td>\n",
       "            <td>1</td>\n",
       "            <td>4</td>\n",
       "            <td>bob.johnson@example.com</td>\n",
       "            <td>555-0101</td>\n",
       "        </tr>\n",
       "        <tr>\n",
       "            <td>3</td>\n",
       "            <td>Carol</td>\n",
       "            <td>Williams</td>\n",
       "            <td>1</td>\n",
       "            <td>2015-03-20</td>\n",
       "            <td>80000.0</td>\n",
       "            <td>None</td>\n",
       "            <td>Engineer</td>\n",
       "            <td>2</td>\n",
       "            <td>3</td>\n",
       "            <td>carol.williams@example.com</td>\n",
       "            <td>555-0102</td>\n",
       "        </tr>\n",
       "        <tr>\n",
       "            <td>4</td>\n",
       "            <td>David</td>\n",
       "            <td>Jones</td>\n",
       "            <td>2</td>\n",
       "            <td>2011-11-11</td>\n",
       "            <td>95000.0</td>\n",
       "            <td>7000.0</td>\n",
       "            <td>Sales Manager</td>\n",
       "            <td>None</td>\n",
       "            <td>4</td>\n",
       "            <td>david.jones@example.com</td>\n",
       "            <td>555-0103</td>\n",
       "        </tr>\n",
       "        <tr>\n",
       "            <td>5</td>\n",
       "            <td>Eva</td>\n",
       "            <td>Brown</td>\n",
       "            <td>2</td>\n",
       "            <td>2016-05-22</td>\n",
       "            <td>70000.0</td>\n",
       "            <td>3000.0</td>\n",
       "            <td>Sales Representative</td>\n",
       "            <td>4</td>\n",
       "            <td>3</td>\n",
       "            <td>eva.brown@example.com</td>\n",
       "            <td>555-0104</td>\n",
       "        </tr>\n",
       "        <tr>\n",
       "            <td>6</td>\n",
       "            <td>Frank</td>\n",
       "            <td>Davis</td>\n",
       "            <td>2</td>\n",
       "            <td>2018-07-01</td>\n",
       "            <td>68000.0</td>\n",
       "            <td>None</td>\n",
       "            <td>Sales Representative</td>\n",
       "            <td>4</td>\n",
       "            <td>2</td>\n",
       "            <td>frank.davis@example.com</td>\n",
       "            <td>555-0105</td>\n",
       "        </tr>\n",
       "        <tr>\n",
       "            <td>7</td>\n",
       "            <td>Grace</td>\n",
       "            <td>Miller</td>\n",
       "            <td>3</td>\n",
       "            <td>2013-02-28</td>\n",
       "            <td>75000.0</td>\n",
       "            <td>4000.0</td>\n",
       "            <td>HR Specialist</td>\n",
       "            <td>None</td>\n",
       "            <td>4</td>\n",
       "            <td>grace.miller@example.com</td>\n",
       "            <td>555-0106</td>\n",
       "        </tr>\n",
       "        <tr>\n",
       "            <td>8</td>\n",
       "            <td>Henry</td>\n",
       "            <td>Wilson</td>\n",
       "            <td>3</td>\n",
       "            <td>2019-10-10</td>\n",
       "            <td>60000.0</td>\n",
       "            <td>2000.0</td>\n",
       "            <td>HR Assistant</td>\n",
       "            <td>7</td>\n",
       "            <td>3</td>\n",
       "            <td>henry.wilson@example.com</td>\n",
       "            <td>555-0107</td>\n",
       "        </tr>\n",
       "        <tr>\n",
       "            <td>9</td>\n",
       "            <td>Ivy</td>\n",
       "            <td>Moore</td>\n",
       "            <td>4</td>\n",
       "            <td>2014-08-19</td>\n",
       "            <td>85000.0</td>\n",
       "            <td>5000.0</td>\n",
       "            <td>Marketing Manager</td>\n",
       "            <td>None</td>\n",
       "            <td>4</td>\n",
       "            <td>ivy.moore@example.com</td>\n",
       "            <td>555-0108</td>\n",
       "        </tr>\n",
       "        <tr>\n",
       "            <td>10</td>\n",
       "            <td>Sam</td>\n",
       "            <td>White</td>\n",
       "            <td>None</td>\n",
       "            <td>2023-01-01</td>\n",
       "            <td>50000.0</td>\n",
       "            <td>None</td>\n",
       "            <td>Intern</td>\n",
       "            <td>3</td>\n",
       "            <td>None</td>\n",
       "            <td>None</td>\n",
       "            <td>None</td>\n",
       "        </tr>\n",
       "        <tr>\n",
       "            <td>11</td>\n",
       "            <td>Jack</td>\n",
       "            <td>Taylor</td>\n",
       "            <td>4</td>\n",
       "            <td>2020-01-15</td>\n",
       "            <td>65000.0</td>\n",
       "            <td>None</td>\n",
       "            <td>Marketing Specialist</td>\n",
       "            <td>9</td>\n",
       "            <td>3</td>\n",
       "            <td>jack.taylor@example.com</td>\n",
       "            <td>555-0109</td>\n",
       "        </tr>\n",
       "        <tr>\n",
       "            <td>12</td>\n",
       "            <td>Kathy</td>\n",
       "            <td>Anderson</td>\n",
       "            <td>5</td>\n",
       "            <td>2017-04-03</td>\n",
       "            <td>78000.0</td>\n",
       "            <td>4500.0</td>\n",
       "            <td>Finance Analyst</td>\n",
       "            <td>None</td>\n",
       "            <td>4</td>\n",
       "            <td>kathy.anderson@example.com</td>\n",
       "            <td>555-0110</td>\n",
       "        </tr>\n",
       "        <tr>\n",
       "            <td>13</td>\n",
       "            <td>Leo</td>\n",
       "            <td>Thomas</td>\n",
       "            <td>5</td>\n",
       "            <td>2021-12-05</td>\n",
       "            <td>55000.0</td>\n",
       "            <td>None</td>\n",
       "            <td>Junior Finance Analyst</td>\n",
       "            <td>11</td>\n",
       "            <td>3</td>\n",
       "            <td>leo.thomas@example.com</td>\n",
       "            <td>555-0111</td>\n",
       "        </tr>\n",
       "    </tbody>\n",
       "</table>"
      ],
      "text/plain": [
       "[(1, 'Alice', 'Smith', 1, '2010-06-01', 120000.0, 10000.0, 'CTO', None, 5, 'alice.smith@example.com', '555-0100'),\n",
       " (2, 'Bob', 'Johnson', 1, '2012-09-15', 90000.0, 5000.0, 'Senior Engineer', 1, 4, 'bob.johnson@example.com', '555-0101'),\n",
       " (3, 'Carol', 'Williams', 1, '2015-03-20', 80000.0, None, 'Engineer', 2, 3, 'carol.williams@example.com', '555-0102'),\n",
       " (4, 'David', 'Jones', 2, '2011-11-11', 95000.0, 7000.0, 'Sales Manager', None, 4, 'david.jones@example.com', '555-0103'),\n",
       " (5, 'Eva', 'Brown', 2, '2016-05-22', 70000.0, 3000.0, 'Sales Representative', 4, 3, 'eva.brown@example.com', '555-0104'),\n",
       " (6, 'Frank', 'Davis', 2, '2018-07-01', 68000.0, None, 'Sales Representative', 4, 2, 'frank.davis@example.com', '555-0105'),\n",
       " (7, 'Grace', 'Miller', 3, '2013-02-28', 75000.0, 4000.0, 'HR Specialist', None, 4, 'grace.miller@example.com', '555-0106'),\n",
       " (8, 'Henry', 'Wilson', 3, '2019-10-10', 60000.0, 2000.0, 'HR Assistant', 7, 3, 'henry.wilson@example.com', '555-0107'),\n",
       " (9, 'Ivy', 'Moore', 4, '2014-08-19', 85000.0, 5000.0, 'Marketing Manager', None, 4, 'ivy.moore@example.com', '555-0108'),\n",
       " (10, 'Sam', 'White', None, '2023-01-01', 50000.0, None, 'Intern', 3, None, None, None),\n",
       " (11, 'Jack', 'Taylor', 4, '2020-01-15', 65000.0, None, 'Marketing Specialist', 9, 3, 'jack.taylor@example.com', '555-0109'),\n",
       " (12, 'Kathy', 'Anderson', 5, '2017-04-03', 78000.0, 4500.0, 'Finance Analyst', None, 4, 'kathy.anderson@example.com', '555-0110'),\n",
       " (13, 'Leo', 'Thomas', 5, '2021-12-05', 55000.0, None, 'Junior Finance Analyst', 11, 3, 'leo.thomas@example.com', '555-0111')]"
      ]
     },
     "execution_count": 5,
     "metadata": {},
     "output_type": "execute_result"
    }
   ],
   "source": [
    "%%sql\n",
    "SELECT * FROM employees"
   ]
  },
  {
   "cell_type": "markdown",
   "metadata": {
    "id": "_zD3IxSs2FiF"
   },
   "source": [
    "Using aliases and selecting multiple columns"
   ]
  },
  {
   "cell_type": "code",
   "execution_count": 8,
   "metadata": {
    "id": "ZOGqJDlESnxe"
   },
   "outputs": [
    {
     "name": "stdout",
     "output_type": "stream",
     "text": [
      " * sqlite:///my_database.db\n",
      "Done.\n"
     ]
    },
    {
     "data": {
      "text/html": [
       "<table>\n",
       "    <thead>\n",
       "        <tr>\n",
       "            <th>first_name</th>\n",
       "            <th>surname</th>\n",
       "        </tr>\n",
       "    </thead>\n",
       "    <tbody>\n",
       "        <tr>\n",
       "            <td>Alice</td>\n",
       "            <td>Smith</td>\n",
       "        </tr>\n",
       "        <tr>\n",
       "            <td>Bob</td>\n",
       "            <td>Johnson</td>\n",
       "        </tr>\n",
       "        <tr>\n",
       "            <td>Carol</td>\n",
       "            <td>Williams</td>\n",
       "        </tr>\n",
       "        <tr>\n",
       "            <td>David</td>\n",
       "            <td>Jones</td>\n",
       "        </tr>\n",
       "        <tr>\n",
       "            <td>Eva</td>\n",
       "            <td>Brown</td>\n",
       "        </tr>\n",
       "        <tr>\n",
       "            <td>Frank</td>\n",
       "            <td>Davis</td>\n",
       "        </tr>\n",
       "        <tr>\n",
       "            <td>Grace</td>\n",
       "            <td>Miller</td>\n",
       "        </tr>\n",
       "        <tr>\n",
       "            <td>Henry</td>\n",
       "            <td>Wilson</td>\n",
       "        </tr>\n",
       "        <tr>\n",
       "            <td>Ivy</td>\n",
       "            <td>Moore</td>\n",
       "        </tr>\n",
       "        <tr>\n",
       "            <td>Sam</td>\n",
       "            <td>White</td>\n",
       "        </tr>\n",
       "        <tr>\n",
       "            <td>Jack</td>\n",
       "            <td>Taylor</td>\n",
       "        </tr>\n",
       "        <tr>\n",
       "            <td>Kathy</td>\n",
       "            <td>Anderson</td>\n",
       "        </tr>\n",
       "        <tr>\n",
       "            <td>Leo</td>\n",
       "            <td>Thomas</td>\n",
       "        </tr>\n",
       "    </tbody>\n",
       "</table>"
      ],
      "text/plain": [
       "[('Alice', 'Smith'),\n",
       " ('Bob', 'Johnson'),\n",
       " ('Carol', 'Williams'),\n",
       " ('David', 'Jones'),\n",
       " ('Eva', 'Brown'),\n",
       " ('Frank', 'Davis'),\n",
       " ('Grace', 'Miller'),\n",
       " ('Henry', 'Wilson'),\n",
       " ('Ivy', 'Moore'),\n",
       " ('Sam', 'White'),\n",
       " ('Jack', 'Taylor'),\n",
       " ('Kathy', 'Anderson'),\n",
       " ('Leo', 'Thomas')]"
      ]
     },
     "execution_count": 8,
     "metadata": {},
     "output_type": "execute_result"
    }
   ],
   "source": [
    "%%sql\n",
    "SELECT first_name, last_name AS surname FROM employees"
   ]
  },
  {
   "cell_type": "markdown",
   "metadata": {
    "id": "JaYR-Yb52O18"
   },
   "source": [
    "Selecting unique values"
   ]
  },
  {
   "cell_type": "code",
   "execution_count": 10,
   "metadata": {
    "id": "HjQzmn6-i6cU"
   },
   "outputs": [
    {
     "name": "stdout",
     "output_type": "stream",
     "text": [
      " * sqlite:///my_database.db\n",
      "Done.\n"
     ]
    },
    {
     "data": {
      "text/html": [
       "<table>\n",
       "    <thead>\n",
       "        <tr>\n",
       "            <th>job_title</th>\n",
       "        </tr>\n",
       "    </thead>\n",
       "    <tbody>\n",
       "        <tr>\n",
       "            <td>CTO</td>\n",
       "        </tr>\n",
       "        <tr>\n",
       "            <td>Senior Engineer</td>\n",
       "        </tr>\n",
       "        <tr>\n",
       "            <td>Engineer</td>\n",
       "        </tr>\n",
       "        <tr>\n",
       "            <td>Sales Manager</td>\n",
       "        </tr>\n",
       "        <tr>\n",
       "            <td>Sales Representative</td>\n",
       "        </tr>\n",
       "        <tr>\n",
       "            <td>HR Specialist</td>\n",
       "        </tr>\n",
       "        <tr>\n",
       "            <td>HR Assistant</td>\n",
       "        </tr>\n",
       "        <tr>\n",
       "            <td>Marketing Manager</td>\n",
       "        </tr>\n",
       "        <tr>\n",
       "            <td>Intern</td>\n",
       "        </tr>\n",
       "        <tr>\n",
       "            <td>Marketing Specialist</td>\n",
       "        </tr>\n",
       "        <tr>\n",
       "            <td>Finance Analyst</td>\n",
       "        </tr>\n",
       "        <tr>\n",
       "            <td>Junior Finance Analyst</td>\n",
       "        </tr>\n",
       "    </tbody>\n",
       "</table>"
      ],
      "text/plain": [
       "[('CTO',),\n",
       " ('Senior Engineer',),\n",
       " ('Engineer',),\n",
       " ('Sales Manager',),\n",
       " ('Sales Representative',),\n",
       " ('HR Specialist',),\n",
       " ('HR Assistant',),\n",
       " ('Marketing Manager',),\n",
       " ('Intern',),\n",
       " ('Marketing Specialist',),\n",
       " ('Finance Analyst',),\n",
       " ('Junior Finance Analyst',)]"
      ]
     },
     "execution_count": 10,
     "metadata": {},
     "output_type": "execute_result"
    }
   ],
   "source": [
    "%%sql\n",
    "SELECT DISTINCT job_title FROM employees"
   ]
  },
  {
   "cell_type": "markdown",
   "metadata": {
    "id": "tqZA-oae2SGJ"
   },
   "source": [
    "Selecting unique combinations"
   ]
  },
  {
   "cell_type": "code",
   "execution_count": 12,
   "metadata": {
    "id": "qs7nPxu4wB0K"
   },
   "outputs": [
    {
     "name": "stdout",
     "output_type": "stream",
     "text": [
      " * sqlite:///my_database.db\n",
      "Done.\n"
     ]
    },
    {
     "data": {
      "text/html": [
       "<table>\n",
       "    <thead>\n",
       "        <tr>\n",
       "            <th>department_id</th>\n",
       "            <th>job_title</th>\n",
       "        </tr>\n",
       "    </thead>\n",
       "    <tbody>\n",
       "        <tr>\n",
       "            <td>1</td>\n",
       "            <td>CTO</td>\n",
       "        </tr>\n",
       "        <tr>\n",
       "            <td>1</td>\n",
       "            <td>Senior Engineer</td>\n",
       "        </tr>\n",
       "        <tr>\n",
       "            <td>1</td>\n",
       "            <td>Engineer</td>\n",
       "        </tr>\n",
       "        <tr>\n",
       "            <td>2</td>\n",
       "            <td>Sales Manager</td>\n",
       "        </tr>\n",
       "        <tr>\n",
       "            <td>2</td>\n",
       "            <td>Sales Representative</td>\n",
       "        </tr>\n",
       "        <tr>\n",
       "            <td>3</td>\n",
       "            <td>HR Specialist</td>\n",
       "        </tr>\n",
       "        <tr>\n",
       "            <td>3</td>\n",
       "            <td>HR Assistant</td>\n",
       "        </tr>\n",
       "        <tr>\n",
       "            <td>4</td>\n",
       "            <td>Marketing Manager</td>\n",
       "        </tr>\n",
       "        <tr>\n",
       "            <td>None</td>\n",
       "            <td>Intern</td>\n",
       "        </tr>\n",
       "        <tr>\n",
       "            <td>4</td>\n",
       "            <td>Marketing Specialist</td>\n",
       "        </tr>\n",
       "        <tr>\n",
       "            <td>5</td>\n",
       "            <td>Finance Analyst</td>\n",
       "        </tr>\n",
       "        <tr>\n",
       "            <td>5</td>\n",
       "            <td>Junior Finance Analyst</td>\n",
       "        </tr>\n",
       "    </tbody>\n",
       "</table>"
      ],
      "text/plain": [
       "[(1, 'CTO'),\n",
       " (1, 'Senior Engineer'),\n",
       " (1, 'Engineer'),\n",
       " (2, 'Sales Manager'),\n",
       " (2, 'Sales Representative'),\n",
       " (3, 'HR Specialist'),\n",
       " (3, 'HR Assistant'),\n",
       " (4, 'Marketing Manager'),\n",
       " (None, 'Intern'),\n",
       " (4, 'Marketing Specialist'),\n",
       " (5, 'Finance Analyst'),\n",
       " (5, 'Junior Finance Analyst')]"
      ]
     },
     "execution_count": 12,
     "metadata": {},
     "output_type": "execute_result"
    }
   ],
   "source": [
    "%%sql\n",
    "SELECT DISTINCT department_id, job_title\n",
    "FROM employees"
   ]
  },
  {
   "cell_type": "markdown",
   "metadata": {
    "id": "p3LDlQg0T7gT"
   },
   "source": [
    "## Filtering rows\n"
   ]
  },
  {
   "cell_type": "markdown",
   "metadata": {
    "id": "cKIhQOfY3x8m"
   },
   "source": [
    "### Filtering based on numeric values"
   ]
  },
  {
   "cell_type": "code",
   "execution_count": 6,
   "metadata": {
    "colab": {
     "base_uri": "https://localhost:8080/",
     "height": 353
    },
    "id": "SFZHLtE-Bzjr",
    "outputId": "6c792d26-597b-4e59-ab57-1068e394f5db"
   },
   "outputs": [
    {
     "name": "stdout",
     "output_type": "stream",
     "text": [
      " * sqlite:///my_database.db\n",
      "Done.\n"
     ]
    },
    {
     "data": {
      "text/html": [
       "<table>\n",
       "    <thead>\n",
       "        <tr>\n",
       "            <th>id</th>\n",
       "            <th>first_name</th>\n",
       "            <th>last_name</th>\n",
       "            <th>department_id</th>\n",
       "            <th>hire_date</th>\n",
       "            <th>salary</th>\n",
       "            <th>bonus</th>\n",
       "            <th>job_title</th>\n",
       "            <th>manager_id</th>\n",
       "            <th>performance_rating</th>\n",
       "            <th>email</th>\n",
       "            <th>phone_number</th>\n",
       "        </tr>\n",
       "    </thead>\n",
       "    <tbody>\n",
       "        <tr>\n",
       "            <td>1</td>\n",
       "            <td>Alice</td>\n",
       "            <td>Smith</td>\n",
       "            <td>1</td>\n",
       "            <td>2010-06-01</td>\n",
       "            <td>120000.0</td>\n",
       "            <td>10000.0</td>\n",
       "            <td>CTO</td>\n",
       "            <td>None</td>\n",
       "            <td>5</td>\n",
       "            <td>alice.smith@example.com</td>\n",
       "            <td>555-0100</td>\n",
       "        </tr>\n",
       "        <tr>\n",
       "            <td>2</td>\n",
       "            <td>Bob</td>\n",
       "            <td>Johnson</td>\n",
       "            <td>1</td>\n",
       "            <td>2012-09-15</td>\n",
       "            <td>90000.0</td>\n",
       "            <td>5000.0</td>\n",
       "            <td>Senior Engineer</td>\n",
       "            <td>1</td>\n",
       "            <td>4</td>\n",
       "            <td>bob.johnson@example.com</td>\n",
       "            <td>555-0101</td>\n",
       "        </tr>\n",
       "        <tr>\n",
       "            <td>3</td>\n",
       "            <td>Carol</td>\n",
       "            <td>Williams</td>\n",
       "            <td>1</td>\n",
       "            <td>2015-03-20</td>\n",
       "            <td>80000.0</td>\n",
       "            <td>None</td>\n",
       "            <td>Engineer</td>\n",
       "            <td>2</td>\n",
       "            <td>3</td>\n",
       "            <td>carol.williams@example.com</td>\n",
       "            <td>555-0102</td>\n",
       "        </tr>\n",
       "        <tr>\n",
       "            <td>4</td>\n",
       "            <td>David</td>\n",
       "            <td>Jones</td>\n",
       "            <td>2</td>\n",
       "            <td>2011-11-11</td>\n",
       "            <td>95000.0</td>\n",
       "            <td>7000.0</td>\n",
       "            <td>Sales Manager</td>\n",
       "            <td>None</td>\n",
       "            <td>4</td>\n",
       "            <td>david.jones@example.com</td>\n",
       "            <td>555-0103</td>\n",
       "        </tr>\n",
       "        <tr>\n",
       "            <td>5</td>\n",
       "            <td>Eva</td>\n",
       "            <td>Brown</td>\n",
       "            <td>2</td>\n",
       "            <td>2016-05-22</td>\n",
       "            <td>70000.0</td>\n",
       "            <td>3000.0</td>\n",
       "            <td>Sales Representative</td>\n",
       "            <td>4</td>\n",
       "            <td>3</td>\n",
       "            <td>eva.brown@example.com</td>\n",
       "            <td>555-0104</td>\n",
       "        </tr>\n",
       "        <tr>\n",
       "            <td>6</td>\n",
       "            <td>Frank</td>\n",
       "            <td>Davis</td>\n",
       "            <td>2</td>\n",
       "            <td>2018-07-01</td>\n",
       "            <td>68000.0</td>\n",
       "            <td>None</td>\n",
       "            <td>Sales Representative</td>\n",
       "            <td>4</td>\n",
       "            <td>2</td>\n",
       "            <td>frank.davis@example.com</td>\n",
       "            <td>555-0105</td>\n",
       "        </tr>\n",
       "        <tr>\n",
       "            <td>7</td>\n",
       "            <td>Grace</td>\n",
       "            <td>Miller</td>\n",
       "            <td>3</td>\n",
       "            <td>2013-02-28</td>\n",
       "            <td>75000.0</td>\n",
       "            <td>4000.0</td>\n",
       "            <td>HR Specialist</td>\n",
       "            <td>None</td>\n",
       "            <td>4</td>\n",
       "            <td>grace.miller@example.com</td>\n",
       "            <td>555-0106</td>\n",
       "        </tr>\n",
       "        <tr>\n",
       "            <td>8</td>\n",
       "            <td>Henry</td>\n",
       "            <td>Wilson</td>\n",
       "            <td>3</td>\n",
       "            <td>2019-10-10</td>\n",
       "            <td>60000.0</td>\n",
       "            <td>2000.0</td>\n",
       "            <td>HR Assistant</td>\n",
       "            <td>7</td>\n",
       "            <td>3</td>\n",
       "            <td>henry.wilson@example.com</td>\n",
       "            <td>555-0107</td>\n",
       "        </tr>\n",
       "        <tr>\n",
       "            <td>9</td>\n",
       "            <td>Ivy</td>\n",
       "            <td>Moore</td>\n",
       "            <td>4</td>\n",
       "            <td>2014-08-19</td>\n",
       "            <td>85000.0</td>\n",
       "            <td>5000.0</td>\n",
       "            <td>Marketing Manager</td>\n",
       "            <td>None</td>\n",
       "            <td>4</td>\n",
       "            <td>ivy.moore@example.com</td>\n",
       "            <td>555-0108</td>\n",
       "        </tr>\n",
       "        <tr>\n",
       "            <td>10</td>\n",
       "            <td>Sam</td>\n",
       "            <td>White</td>\n",
       "            <td>None</td>\n",
       "            <td>2023-01-01</td>\n",
       "            <td>50000.0</td>\n",
       "            <td>None</td>\n",
       "            <td>Intern</td>\n",
       "            <td>3</td>\n",
       "            <td>None</td>\n",
       "            <td>None</td>\n",
       "            <td>None</td>\n",
       "        </tr>\n",
       "        <tr>\n",
       "            <td>11</td>\n",
       "            <td>Jack</td>\n",
       "            <td>Taylor</td>\n",
       "            <td>4</td>\n",
       "            <td>2020-01-15</td>\n",
       "            <td>65000.0</td>\n",
       "            <td>None</td>\n",
       "            <td>Marketing Specialist</td>\n",
       "            <td>9</td>\n",
       "            <td>3</td>\n",
       "            <td>jack.taylor@example.com</td>\n",
       "            <td>555-0109</td>\n",
       "        </tr>\n",
       "        <tr>\n",
       "            <td>12</td>\n",
       "            <td>Kathy</td>\n",
       "            <td>Anderson</td>\n",
       "            <td>5</td>\n",
       "            <td>2017-04-03</td>\n",
       "            <td>78000.0</td>\n",
       "            <td>4500.0</td>\n",
       "            <td>Finance Analyst</td>\n",
       "            <td>None</td>\n",
       "            <td>4</td>\n",
       "            <td>kathy.anderson@example.com</td>\n",
       "            <td>555-0110</td>\n",
       "        </tr>\n",
       "        <tr>\n",
       "            <td>13</td>\n",
       "            <td>Leo</td>\n",
       "            <td>Thomas</td>\n",
       "            <td>5</td>\n",
       "            <td>2021-12-05</td>\n",
       "            <td>55000.0</td>\n",
       "            <td>None</td>\n",
       "            <td>Junior Finance Analyst</td>\n",
       "            <td>11</td>\n",
       "            <td>3</td>\n",
       "            <td>leo.thomas@example.com</td>\n",
       "            <td>555-0111</td>\n",
       "        </tr>\n",
       "    </tbody>\n",
       "</table>"
      ],
      "text/plain": [
       "[(1, 'Alice', 'Smith', 1, '2010-06-01', 120000.0, 10000.0, 'CTO', None, 5, 'alice.smith@example.com', '555-0100'),\n",
       " (2, 'Bob', 'Johnson', 1, '2012-09-15', 90000.0, 5000.0, 'Senior Engineer', 1, 4, 'bob.johnson@example.com', '555-0101'),\n",
       " (3, 'Carol', 'Williams', 1, '2015-03-20', 80000.0, None, 'Engineer', 2, 3, 'carol.williams@example.com', '555-0102'),\n",
       " (4, 'David', 'Jones', 2, '2011-11-11', 95000.0, 7000.0, 'Sales Manager', None, 4, 'david.jones@example.com', '555-0103'),\n",
       " (5, 'Eva', 'Brown', 2, '2016-05-22', 70000.0, 3000.0, 'Sales Representative', 4, 3, 'eva.brown@example.com', '555-0104'),\n",
       " (6, 'Frank', 'Davis', 2, '2018-07-01', 68000.0, None, 'Sales Representative', 4, 2, 'frank.davis@example.com', '555-0105'),\n",
       " (7, 'Grace', 'Miller', 3, '2013-02-28', 75000.0, 4000.0, 'HR Specialist', None, 4, 'grace.miller@example.com', '555-0106'),\n",
       " (8, 'Henry', 'Wilson', 3, '2019-10-10', 60000.0, 2000.0, 'HR Assistant', 7, 3, 'henry.wilson@example.com', '555-0107'),\n",
       " (9, 'Ivy', 'Moore', 4, '2014-08-19', 85000.0, 5000.0, 'Marketing Manager', None, 4, 'ivy.moore@example.com', '555-0108'),\n",
       " (10, 'Sam', 'White', None, '2023-01-01', 50000.0, None, 'Intern', 3, None, None, None),\n",
       " (11, 'Jack', 'Taylor', 4, '2020-01-15', 65000.0, None, 'Marketing Specialist', 9, 3, 'jack.taylor@example.com', '555-0109'),\n",
       " (12, 'Kathy', 'Anderson', 5, '2017-04-03', 78000.0, 4500.0, 'Finance Analyst', None, 4, 'kathy.anderson@example.com', '555-0110'),\n",
       " (13, 'Leo', 'Thomas', 5, '2021-12-05', 55000.0, None, 'Junior Finance Analyst', 11, 3, 'leo.thomas@example.com', '555-0111')]"
      ]
     },
     "execution_count": 6,
     "metadata": {},
     "output_type": "execute_result"
    }
   ],
   "source": [
    "%%sql\n",
    "SELECT * FROM employees"
   ]
  },
  {
   "cell_type": "code",
   "execution_count": 14,
   "metadata": {
    "id": "lMjQTl6zT_RD"
   },
   "outputs": [
    {
     "name": "stdout",
     "output_type": "stream",
     "text": [
      " * sqlite:///my_database.db\n",
      "Done.\n"
     ]
    },
    {
     "data": {
      "text/html": [
       "<table>\n",
       "    <thead>\n",
       "        <tr>\n",
       "            <th>first_name</th>\n",
       "            <th>last_name</th>\n",
       "        </tr>\n",
       "    </thead>\n",
       "    <tbody>\n",
       "        <tr>\n",
       "            <td>Alice</td>\n",
       "            <td>Smith</td>\n",
       "        </tr>\n",
       "    </tbody>\n",
       "</table>"
      ],
      "text/plain": [
       "[('Alice', 'Smith')]"
      ]
     },
     "execution_count": 14,
     "metadata": {},
     "output_type": "execute_result"
    }
   ],
   "source": [
    "%%sql\n",
    "SELECT first_name, last_name\n",
    "FROM employees\n",
    "WHERE performance_rating = 5"
   ]
  },
  {
   "cell_type": "code",
   "execution_count": 15,
   "metadata": {
    "id": "gjmksyCQXzTj"
   },
   "outputs": [
    {
     "name": "stdout",
     "output_type": "stream",
     "text": [
      " * sqlite:///my_database.db\n",
      "Done.\n"
     ]
    },
    {
     "data": {
      "text/html": [
       "<table>\n",
       "    <thead>\n",
       "        <tr>\n",
       "            <th>first_name</th>\n",
       "            <th>last_name</th>\n",
       "            <th>department_id</th>\n",
       "        </tr>\n",
       "    </thead>\n",
       "    <tbody>\n",
       "        <tr>\n",
       "            <td>Alice</td>\n",
       "            <td>Smith</td>\n",
       "            <td>1</td>\n",
       "        </tr>\n",
       "        <tr>\n",
       "            <td>Bob</td>\n",
       "            <td>Johnson</td>\n",
       "            <td>1</td>\n",
       "        </tr>\n",
       "        <tr>\n",
       "            <td>Carol</td>\n",
       "            <td>Williams</td>\n",
       "            <td>1</td>\n",
       "        </tr>\n",
       "        <tr>\n",
       "            <td>David</td>\n",
       "            <td>Jones</td>\n",
       "            <td>2</td>\n",
       "        </tr>\n",
       "        <tr>\n",
       "            <td>Eva</td>\n",
       "            <td>Brown</td>\n",
       "            <td>2</td>\n",
       "        </tr>\n",
       "        <tr>\n",
       "            <td>Frank</td>\n",
       "            <td>Davis</td>\n",
       "            <td>2</td>\n",
       "        </tr>\n",
       "        <tr>\n",
       "            <td>Ivy</td>\n",
       "            <td>Moore</td>\n",
       "            <td>4</td>\n",
       "        </tr>\n",
       "        <tr>\n",
       "            <td>Jack</td>\n",
       "            <td>Taylor</td>\n",
       "            <td>4</td>\n",
       "        </tr>\n",
       "        <tr>\n",
       "            <td>Kathy</td>\n",
       "            <td>Anderson</td>\n",
       "            <td>5</td>\n",
       "        </tr>\n",
       "        <tr>\n",
       "            <td>Leo</td>\n",
       "            <td>Thomas</td>\n",
       "            <td>5</td>\n",
       "        </tr>\n",
       "    </tbody>\n",
       "</table>"
      ],
      "text/plain": [
       "[('Alice', 'Smith', 1),\n",
       " ('Bob', 'Johnson', 1),\n",
       " ('Carol', 'Williams', 1),\n",
       " ('David', 'Jones', 2),\n",
       " ('Eva', 'Brown', 2),\n",
       " ('Frank', 'Davis', 2),\n",
       " ('Ivy', 'Moore', 4),\n",
       " ('Jack', 'Taylor', 4),\n",
       " ('Kathy', 'Anderson', 5),\n",
       " ('Leo', 'Thomas', 5)]"
      ]
     },
     "execution_count": 15,
     "metadata": {},
     "output_type": "execute_result"
    }
   ],
   "source": [
    "%%sql\n",
    "SELECT first_name, last_name, department_id\n",
    "FROM employees\n",
    "WHERE department_id != 3"
   ]
  },
  {
   "cell_type": "code",
   "execution_count": 16,
   "metadata": {
    "id": "ksmKFoi8VMta"
   },
   "outputs": [
    {
     "name": "stdout",
     "output_type": "stream",
     "text": [
      " * sqlite:///my_database.db\n",
      "Done.\n"
     ]
    },
    {
     "data": {
      "text/html": [
       "<table>\n",
       "    <thead>\n",
       "        <tr>\n",
       "            <th>first_name</th>\n",
       "            <th>last_name</th>\n",
       "        </tr>\n",
       "    </thead>\n",
       "    <tbody>\n",
       "        <tr>\n",
       "            <td>Alice</td>\n",
       "            <td>Smith</td>\n",
       "        </tr>\n",
       "    </tbody>\n",
       "</table>"
      ],
      "text/plain": [
       "[('Alice', 'Smith')]"
      ]
     },
     "execution_count": 16,
     "metadata": {},
     "output_type": "execute_result"
    }
   ],
   "source": [
    "%%sql\n",
    "SELECT first_name, last_name\n",
    "FROM employees\n",
    "WHERE salary > 100000"
   ]
  },
  {
   "cell_type": "code",
   "execution_count": 17,
   "metadata": {
    "id": "FOUHgsVgVZls"
   },
   "outputs": [
    {
     "name": "stdout",
     "output_type": "stream",
     "text": [
      " * sqlite:///my_database.db\n",
      "Done.\n"
     ]
    },
    {
     "data": {
      "text/html": [
       "<table>\n",
       "    <thead>\n",
       "        <tr>\n",
       "            <th>first_name</th>\n",
       "            <th>last_name</th>\n",
       "            <th>salary</th>\n",
       "        </tr>\n",
       "    </thead>\n",
       "    <tbody>\n",
       "        <tr>\n",
       "            <td>Bob</td>\n",
       "            <td>Johnson</td>\n",
       "            <td>90000.0</td>\n",
       "        </tr>\n",
       "        <tr>\n",
       "            <td>David</td>\n",
       "            <td>Jones</td>\n",
       "            <td>95000.0</td>\n",
       "        </tr>\n",
       "    </tbody>\n",
       "</table>"
      ],
      "text/plain": [
       "[('Bob', 'Johnson', 90000.0), ('David', 'Jones', 95000.0)]"
      ]
     },
     "execution_count": 17,
     "metadata": {},
     "output_type": "execute_result"
    }
   ],
   "source": [
    "%%sql\n",
    "SELECT first_name, last_name, salary\n",
    "FROM employees\n",
    "WHERE salary BETWEEN 90000 AND 100000"
   ]
  },
  {
   "cell_type": "code",
   "execution_count": 18,
   "metadata": {
    "id": "Nok4MRSRWE2R"
   },
   "outputs": [
    {
     "name": "stdout",
     "output_type": "stream",
     "text": [
      " * sqlite:///my_database.db\n",
      "Done.\n"
     ]
    },
    {
     "data": {
      "text/html": [
       "<table>\n",
       "    <thead>\n",
       "        <tr>\n",
       "            <th>first_name</th>\n",
       "            <th>last_name</th>\n",
       "            <th>salary</th>\n",
       "        </tr>\n",
       "    </thead>\n",
       "    <tbody>\n",
       "        <tr>\n",
       "            <td>Alice</td>\n",
       "            <td>Smith</td>\n",
       "            <td>120000.0</td>\n",
       "        </tr>\n",
       "        <tr>\n",
       "            <td>Carol</td>\n",
       "            <td>Williams</td>\n",
       "            <td>80000.0</td>\n",
       "        </tr>\n",
       "        <tr>\n",
       "            <td>Eva</td>\n",
       "            <td>Brown</td>\n",
       "            <td>70000.0</td>\n",
       "        </tr>\n",
       "        <tr>\n",
       "            <td>Frank</td>\n",
       "            <td>Davis</td>\n",
       "            <td>68000.0</td>\n",
       "        </tr>\n",
       "        <tr>\n",
       "            <td>Grace</td>\n",
       "            <td>Miller</td>\n",
       "            <td>75000.0</td>\n",
       "        </tr>\n",
       "        <tr>\n",
       "            <td>Henry</td>\n",
       "            <td>Wilson</td>\n",
       "            <td>60000.0</td>\n",
       "        </tr>\n",
       "        <tr>\n",
       "            <td>Ivy</td>\n",
       "            <td>Moore</td>\n",
       "            <td>85000.0</td>\n",
       "        </tr>\n",
       "        <tr>\n",
       "            <td>Sam</td>\n",
       "            <td>White</td>\n",
       "            <td>50000.0</td>\n",
       "        </tr>\n",
       "        <tr>\n",
       "            <td>Jack</td>\n",
       "            <td>Taylor</td>\n",
       "            <td>65000.0</td>\n",
       "        </tr>\n",
       "        <tr>\n",
       "            <td>Kathy</td>\n",
       "            <td>Anderson</td>\n",
       "            <td>78000.0</td>\n",
       "        </tr>\n",
       "        <tr>\n",
       "            <td>Leo</td>\n",
       "            <td>Thomas</td>\n",
       "            <td>55000.0</td>\n",
       "        </tr>\n",
       "    </tbody>\n",
       "</table>"
      ],
      "text/plain": [
       "[('Alice', 'Smith', 120000.0),\n",
       " ('Carol', 'Williams', 80000.0),\n",
       " ('Eva', 'Brown', 70000.0),\n",
       " ('Frank', 'Davis', 68000.0),\n",
       " ('Grace', 'Miller', 75000.0),\n",
       " ('Henry', 'Wilson', 60000.0),\n",
       " ('Ivy', 'Moore', 85000.0),\n",
       " ('Sam', 'White', 50000.0),\n",
       " ('Jack', 'Taylor', 65000.0),\n",
       " ('Kathy', 'Anderson', 78000.0),\n",
       " ('Leo', 'Thomas', 55000.0)]"
      ]
     },
     "execution_count": 18,
     "metadata": {},
     "output_type": "execute_result"
    }
   ],
   "source": [
    "%%sql\n",
    "SELECT first_name, last_name, salary\n",
    "FROM employees\n",
    "WHERE salary NOT BETWEEN 90000 AND 100000"
   ]
  },
  {
   "cell_type": "markdown",
   "metadata": {
    "id": "DV6EjH6B4pHa"
   },
   "source": [
    "### Filtering based on string values"
   ]
  },
  {
   "cell_type": "code",
   "execution_count": 7,
   "metadata": {
    "colab": {
     "base_uri": "https://localhost:8080/",
     "height": 353
    },
    "id": "7CfrfYqeYRRe",
    "outputId": "6782e675-d782-418c-b1ab-d45718b74e85"
   },
   "outputs": [
    {
     "name": "stdout",
     "output_type": "stream",
     "text": [
      " * sqlite:///my_database.db\n",
      "Done.\n"
     ]
    },
    {
     "data": {
      "text/html": [
       "<table>\n",
       "    <thead>\n",
       "        <tr>\n",
       "            <th>id</th>\n",
       "            <th>first_name</th>\n",
       "            <th>last_name</th>\n",
       "            <th>department_id</th>\n",
       "            <th>hire_date</th>\n",
       "            <th>salary</th>\n",
       "            <th>bonus</th>\n",
       "            <th>job_title</th>\n",
       "            <th>manager_id</th>\n",
       "            <th>performance_rating</th>\n",
       "            <th>email</th>\n",
       "            <th>phone_number</th>\n",
       "        </tr>\n",
       "    </thead>\n",
       "    <tbody>\n",
       "        <tr>\n",
       "            <td>1</td>\n",
       "            <td>Alice</td>\n",
       "            <td>Smith</td>\n",
       "            <td>1</td>\n",
       "            <td>2010-06-01</td>\n",
       "            <td>120000.0</td>\n",
       "            <td>10000.0</td>\n",
       "            <td>CTO</td>\n",
       "            <td>None</td>\n",
       "            <td>5</td>\n",
       "            <td>alice.smith@example.com</td>\n",
       "            <td>555-0100</td>\n",
       "        </tr>\n",
       "        <tr>\n",
       "            <td>2</td>\n",
       "            <td>Bob</td>\n",
       "            <td>Johnson</td>\n",
       "            <td>1</td>\n",
       "            <td>2012-09-15</td>\n",
       "            <td>90000.0</td>\n",
       "            <td>5000.0</td>\n",
       "            <td>Senior Engineer</td>\n",
       "            <td>1</td>\n",
       "            <td>4</td>\n",
       "            <td>bob.johnson@example.com</td>\n",
       "            <td>555-0101</td>\n",
       "        </tr>\n",
       "        <tr>\n",
       "            <td>3</td>\n",
       "            <td>Carol</td>\n",
       "            <td>Williams</td>\n",
       "            <td>1</td>\n",
       "            <td>2015-03-20</td>\n",
       "            <td>80000.0</td>\n",
       "            <td>None</td>\n",
       "            <td>Engineer</td>\n",
       "            <td>2</td>\n",
       "            <td>3</td>\n",
       "            <td>carol.williams@example.com</td>\n",
       "            <td>555-0102</td>\n",
       "        </tr>\n",
       "        <tr>\n",
       "            <td>4</td>\n",
       "            <td>David</td>\n",
       "            <td>Jones</td>\n",
       "            <td>2</td>\n",
       "            <td>2011-11-11</td>\n",
       "            <td>95000.0</td>\n",
       "            <td>7000.0</td>\n",
       "            <td>Sales Manager</td>\n",
       "            <td>None</td>\n",
       "            <td>4</td>\n",
       "            <td>david.jones@example.com</td>\n",
       "            <td>555-0103</td>\n",
       "        </tr>\n",
       "        <tr>\n",
       "            <td>5</td>\n",
       "            <td>Eva</td>\n",
       "            <td>Brown</td>\n",
       "            <td>2</td>\n",
       "            <td>2016-05-22</td>\n",
       "            <td>70000.0</td>\n",
       "            <td>3000.0</td>\n",
       "            <td>Sales Representative</td>\n",
       "            <td>4</td>\n",
       "            <td>3</td>\n",
       "            <td>eva.brown@example.com</td>\n",
       "            <td>555-0104</td>\n",
       "        </tr>\n",
       "        <tr>\n",
       "            <td>6</td>\n",
       "            <td>Frank</td>\n",
       "            <td>Davis</td>\n",
       "            <td>2</td>\n",
       "            <td>2018-07-01</td>\n",
       "            <td>68000.0</td>\n",
       "            <td>None</td>\n",
       "            <td>Sales Representative</td>\n",
       "            <td>4</td>\n",
       "            <td>2</td>\n",
       "            <td>frank.davis@example.com</td>\n",
       "            <td>555-0105</td>\n",
       "        </tr>\n",
       "        <tr>\n",
       "            <td>7</td>\n",
       "            <td>Grace</td>\n",
       "            <td>Miller</td>\n",
       "            <td>3</td>\n",
       "            <td>2013-02-28</td>\n",
       "            <td>75000.0</td>\n",
       "            <td>4000.0</td>\n",
       "            <td>HR Specialist</td>\n",
       "            <td>None</td>\n",
       "            <td>4</td>\n",
       "            <td>grace.miller@example.com</td>\n",
       "            <td>555-0106</td>\n",
       "        </tr>\n",
       "        <tr>\n",
       "            <td>8</td>\n",
       "            <td>Henry</td>\n",
       "            <td>Wilson</td>\n",
       "            <td>3</td>\n",
       "            <td>2019-10-10</td>\n",
       "            <td>60000.0</td>\n",
       "            <td>2000.0</td>\n",
       "            <td>HR Assistant</td>\n",
       "            <td>7</td>\n",
       "            <td>3</td>\n",
       "            <td>henry.wilson@example.com</td>\n",
       "            <td>555-0107</td>\n",
       "        </tr>\n",
       "        <tr>\n",
       "            <td>9</td>\n",
       "            <td>Ivy</td>\n",
       "            <td>Moore</td>\n",
       "            <td>4</td>\n",
       "            <td>2014-08-19</td>\n",
       "            <td>85000.0</td>\n",
       "            <td>5000.0</td>\n",
       "            <td>Marketing Manager</td>\n",
       "            <td>None</td>\n",
       "            <td>4</td>\n",
       "            <td>ivy.moore@example.com</td>\n",
       "            <td>555-0108</td>\n",
       "        </tr>\n",
       "        <tr>\n",
       "            <td>10</td>\n",
       "            <td>Sam</td>\n",
       "            <td>White</td>\n",
       "            <td>None</td>\n",
       "            <td>2023-01-01</td>\n",
       "            <td>50000.0</td>\n",
       "            <td>None</td>\n",
       "            <td>Intern</td>\n",
       "            <td>3</td>\n",
       "            <td>None</td>\n",
       "            <td>None</td>\n",
       "            <td>None</td>\n",
       "        </tr>\n",
       "        <tr>\n",
       "            <td>11</td>\n",
       "            <td>Jack</td>\n",
       "            <td>Taylor</td>\n",
       "            <td>4</td>\n",
       "            <td>2020-01-15</td>\n",
       "            <td>65000.0</td>\n",
       "            <td>None</td>\n",
       "            <td>Marketing Specialist</td>\n",
       "            <td>9</td>\n",
       "            <td>3</td>\n",
       "            <td>jack.taylor@example.com</td>\n",
       "            <td>555-0109</td>\n",
       "        </tr>\n",
       "        <tr>\n",
       "            <td>12</td>\n",
       "            <td>Kathy</td>\n",
       "            <td>Anderson</td>\n",
       "            <td>5</td>\n",
       "            <td>2017-04-03</td>\n",
       "            <td>78000.0</td>\n",
       "            <td>4500.0</td>\n",
       "            <td>Finance Analyst</td>\n",
       "            <td>None</td>\n",
       "            <td>4</td>\n",
       "            <td>kathy.anderson@example.com</td>\n",
       "            <td>555-0110</td>\n",
       "        </tr>\n",
       "        <tr>\n",
       "            <td>13</td>\n",
       "            <td>Leo</td>\n",
       "            <td>Thomas</td>\n",
       "            <td>5</td>\n",
       "            <td>2021-12-05</td>\n",
       "            <td>55000.0</td>\n",
       "            <td>None</td>\n",
       "            <td>Junior Finance Analyst</td>\n",
       "            <td>11</td>\n",
       "            <td>3</td>\n",
       "            <td>leo.thomas@example.com</td>\n",
       "            <td>555-0111</td>\n",
       "        </tr>\n",
       "    </tbody>\n",
       "</table>"
      ],
      "text/plain": [
       "[(1, 'Alice', 'Smith', 1, '2010-06-01', 120000.0, 10000.0, 'CTO', None, 5, 'alice.smith@example.com', '555-0100'),\n",
       " (2, 'Bob', 'Johnson', 1, '2012-09-15', 90000.0, 5000.0, 'Senior Engineer', 1, 4, 'bob.johnson@example.com', '555-0101'),\n",
       " (3, 'Carol', 'Williams', 1, '2015-03-20', 80000.0, None, 'Engineer', 2, 3, 'carol.williams@example.com', '555-0102'),\n",
       " (4, 'David', 'Jones', 2, '2011-11-11', 95000.0, 7000.0, 'Sales Manager', None, 4, 'david.jones@example.com', '555-0103'),\n",
       " (5, 'Eva', 'Brown', 2, '2016-05-22', 70000.0, 3000.0, 'Sales Representative', 4, 3, 'eva.brown@example.com', '555-0104'),\n",
       " (6, 'Frank', 'Davis', 2, '2018-07-01', 68000.0, None, 'Sales Representative', 4, 2, 'frank.davis@example.com', '555-0105'),\n",
       " (7, 'Grace', 'Miller', 3, '2013-02-28', 75000.0, 4000.0, 'HR Specialist', None, 4, 'grace.miller@example.com', '555-0106'),\n",
       " (8, 'Henry', 'Wilson', 3, '2019-10-10', 60000.0, 2000.0, 'HR Assistant', 7, 3, 'henry.wilson@example.com', '555-0107'),\n",
       " (9, 'Ivy', 'Moore', 4, '2014-08-19', 85000.0, 5000.0, 'Marketing Manager', None, 4, 'ivy.moore@example.com', '555-0108'),\n",
       " (10, 'Sam', 'White', None, '2023-01-01', 50000.0, None, 'Intern', 3, None, None, None),\n",
       " (11, 'Jack', 'Taylor', 4, '2020-01-15', 65000.0, None, 'Marketing Specialist', 9, 3, 'jack.taylor@example.com', '555-0109'),\n",
       " (12, 'Kathy', 'Anderson', 5, '2017-04-03', 78000.0, 4500.0, 'Finance Analyst', None, 4, 'kathy.anderson@example.com', '555-0110'),\n",
       " (13, 'Leo', 'Thomas', 5, '2021-12-05', 55000.0, None, 'Junior Finance Analyst', 11, 3, 'leo.thomas@example.com', '555-0111')]"
      ]
     },
     "execution_count": 7,
     "metadata": {},
     "output_type": "execute_result"
    }
   ],
   "source": [
    "%%sql\n",
    "SELECT * FROM employees"
   ]
  },
  {
   "cell_type": "markdown",
   "metadata": {
    "id": "l4Vf5wEXI1eT"
   },
   "source": [
    "LIKE is used to search for a specified pattern in a column. It is commonly used with wildcard characters to match partial strings."
   ]
  },
  {
   "cell_type": "markdown",
   "metadata": {
    "id": "GDXwiGEjI63w"
   },
   "source": [
    "*%* is a wildcard that matches zero or more characters"
   ]
  },
  {
   "cell_type": "code",
   "execution_count": 20,
   "metadata": {
    "id": "Nyl8KMbBYZUV"
   },
   "outputs": [
    {
     "name": "stdout",
     "output_type": "stream",
     "text": [
      " * sqlite:///my_database.db\n",
      "Done.\n"
     ]
    },
    {
     "data": {
      "text/html": [
       "<table>\n",
       "    <thead>\n",
       "        <tr>\n",
       "            <th>first_name</th>\n",
       "            <th>last_name</th>\n",
       "        </tr>\n",
       "    </thead>\n",
       "    <tbody>\n",
       "        <tr>\n",
       "            <td>Carol</td>\n",
       "            <td>Williams</td>\n",
       "        </tr>\n",
       "        <tr>\n",
       "            <td>Henry</td>\n",
       "            <td>Wilson</td>\n",
       "        </tr>\n",
       "        <tr>\n",
       "            <td>Sam</td>\n",
       "            <td>White</td>\n",
       "        </tr>\n",
       "    </tbody>\n",
       "</table>"
      ],
      "text/plain": [
       "[('Carol', 'Williams'), ('Henry', 'Wilson'), ('Sam', 'White')]"
      ]
     },
     "execution_count": 20,
     "metadata": {},
     "output_type": "execute_result"
    }
   ],
   "source": [
    "%%sql\n",
    "SELECT first_name, last_name\n",
    "FROM employees\n",
    "WHERE last_name LIKE 'W%'"
   ]
  },
  {
   "cell_type": "code",
   "execution_count": 21,
   "metadata": {
    "id": "GyFf6JjMxqC0"
   },
   "outputs": [
    {
     "name": "stdout",
     "output_type": "stream",
     "text": [
      " * sqlite:///my_database.db\n",
      "Done.\n"
     ]
    },
    {
     "data": {
      "text/html": [
       "<table>\n",
       "    <thead>\n",
       "        <tr>\n",
       "            <th>first_name</th>\n",
       "            <th>last_name</th>\n",
       "        </tr>\n",
       "    </thead>\n",
       "    <tbody>\n",
       "        <tr>\n",
       "            <td>Kathy</td>\n",
       "            <td>Anderson</td>\n",
       "        </tr>\n",
       "    </tbody>\n",
       "</table>"
      ],
      "text/plain": [
       "[('Kathy', 'Anderson')]"
      ]
     },
     "execution_count": 21,
     "metadata": {},
     "output_type": "execute_result"
    }
   ],
   "source": [
    "%%sql\n",
    "SELECT first_name, last_name\n",
    "FROM employees\n",
    "WHERE first_name LIKE '%y'"
   ]
  },
  {
   "cell_type": "markdown",
   "metadata": {
    "id": "L0jnb9u6xqdI"
   },
   "source": [
    "In SQLite LIKE is case insensitive by default, in other dialects there is the ILIKE clause"
   ]
  },
  {
   "cell_type": "code",
   "execution_count": 22,
   "metadata": {
    "id": "TD8Dd3FJxq5B"
   },
   "outputs": [
    {
     "name": "stdout",
     "output_type": "stream",
     "text": [
      " * sqlite:///my_database.db\n",
      "Done.\n"
     ]
    },
    {
     "data": {
      "text/html": [
       "<table>\n",
       "    <thead>\n",
       "        <tr>\n",
       "            <th>first_name</th>\n",
       "            <th>last_name</th>\n",
       "        </tr>\n",
       "    </thead>\n",
       "    <tbody>\n",
       "        <tr>\n",
       "            <td>Eva</td>\n",
       "            <td>Brown</td>\n",
       "        </tr>\n",
       "    </tbody>\n",
       "</table>"
      ],
      "text/plain": [
       "[('Eva', 'Brown')]"
      ]
     },
     "execution_count": 22,
     "metadata": {},
     "output_type": "execute_result"
    }
   ],
   "source": [
    "%%sql\n",
    "SELECT first_name, last_name\n",
    "FROM employees\n",
    "WHERE last_name LIKE '%b%'"
   ]
  },
  {
   "cell_type": "markdown",
   "metadata": {
    "id": "74kFHaNKJGtq"
   },
   "source": [
    "*_* is a wildcard that matches exactly one character\n",
    "\n"
   ]
  },
  {
   "cell_type": "code",
   "execution_count": 23,
   "metadata": {
    "id": "XD6u3SCkaiBY"
   },
   "outputs": [
    {
     "name": "stdout",
     "output_type": "stream",
     "text": [
      " * sqlite:///my_database.db\n",
      "Done.\n"
     ]
    },
    {
     "data": {
      "text/html": [
       "<table>\n",
       "    <thead>\n",
       "        <tr>\n",
       "            <th>first_name</th>\n",
       "            <th>last_name</th>\n",
       "        </tr>\n",
       "    </thead>\n",
       "    <tbody>\n",
       "        <tr>\n",
       "            <td>Leo</td>\n",
       "            <td>Thomas</td>\n",
       "        </tr>\n",
       "    </tbody>\n",
       "</table>"
      ],
      "text/plain": [
       "[('Leo', 'Thomas')]"
      ]
     },
     "execution_count": 23,
     "metadata": {},
     "output_type": "execute_result"
    }
   ],
   "source": [
    "%%sql\n",
    "SELECT first_name, last_name\n",
    "FROM employees\n",
    "WHERE last_name LIKE '%a_'"
   ]
  },
  {
   "cell_type": "markdown",
   "metadata": {
    "id": "jcqlskqx4xTi"
   },
   "source": [
    "### Filtering based on NULL values"
   ]
  },
  {
   "cell_type": "code",
   "execution_count": 25,
   "metadata": {
    "id": "KaG_RfJpDbGq"
   },
   "outputs": [
    {
     "name": "stdout",
     "output_type": "stream",
     "text": [
      " * sqlite:///my_database.db\n",
      "Done.\n"
     ]
    },
    {
     "data": {
      "text/html": [
       "<table>\n",
       "    <thead>\n",
       "        <tr>\n",
       "            <th>first_name</th>\n",
       "            <th>last_name</th>\n",
       "        </tr>\n",
       "    </thead>\n",
       "    <tbody>\n",
       "        <tr>\n",
       "            <td>Alice</td>\n",
       "            <td>Smith</td>\n",
       "        </tr>\n",
       "        <tr>\n",
       "            <td>David</td>\n",
       "            <td>Jones</td>\n",
       "        </tr>\n",
       "        <tr>\n",
       "            <td>Grace</td>\n",
       "            <td>Miller</td>\n",
       "        </tr>\n",
       "        <tr>\n",
       "            <td>Ivy</td>\n",
       "            <td>Moore</td>\n",
       "        </tr>\n",
       "        <tr>\n",
       "            <td>Kathy</td>\n",
       "            <td>Anderson</td>\n",
       "        </tr>\n",
       "    </tbody>\n",
       "</table>"
      ],
      "text/plain": [
       "[('Alice', 'Smith'),\n",
       " ('David', 'Jones'),\n",
       " ('Grace', 'Miller'),\n",
       " ('Ivy', 'Moore'),\n",
       " ('Kathy', 'Anderson')]"
      ]
     },
     "execution_count": 25,
     "metadata": {},
     "output_type": "execute_result"
    }
   ],
   "source": [
    "%%sql\n",
    "SELECT first_name, last_name\n",
    "FROM employees\n",
    "WHERE manager_id IS NULL"
   ]
  },
  {
   "cell_type": "code",
   "execution_count": 26,
   "metadata": {
    "id": "hQM3ysVPDyrU"
   },
   "outputs": [
    {
     "name": "stdout",
     "output_type": "stream",
     "text": [
      " * sqlite:///my_database.db\n",
      "Done.\n"
     ]
    },
    {
     "data": {
      "text/html": [
       "<table>\n",
       "    <thead>\n",
       "        <tr>\n",
       "            <th>first_name</th>\n",
       "            <th>last_name</th>\n",
       "        </tr>\n",
       "    </thead>\n",
       "    <tbody>\n",
       "        <tr>\n",
       "            <td>Bob</td>\n",
       "            <td>Johnson</td>\n",
       "        </tr>\n",
       "        <tr>\n",
       "            <td>Carol</td>\n",
       "            <td>Williams</td>\n",
       "        </tr>\n",
       "        <tr>\n",
       "            <td>Eva</td>\n",
       "            <td>Brown</td>\n",
       "        </tr>\n",
       "        <tr>\n",
       "            <td>Frank</td>\n",
       "            <td>Davis</td>\n",
       "        </tr>\n",
       "        <tr>\n",
       "            <td>Henry</td>\n",
       "            <td>Wilson</td>\n",
       "        </tr>\n",
       "        <tr>\n",
       "            <td>Sam</td>\n",
       "            <td>White</td>\n",
       "        </tr>\n",
       "        <tr>\n",
       "            <td>Jack</td>\n",
       "            <td>Taylor</td>\n",
       "        </tr>\n",
       "        <tr>\n",
       "            <td>Leo</td>\n",
       "            <td>Thomas</td>\n",
       "        </tr>\n",
       "    </tbody>\n",
       "</table>"
      ],
      "text/plain": [
       "[('Bob', 'Johnson'),\n",
       " ('Carol', 'Williams'),\n",
       " ('Eva', 'Brown'),\n",
       " ('Frank', 'Davis'),\n",
       " ('Henry', 'Wilson'),\n",
       " ('Sam', 'White'),\n",
       " ('Jack', 'Taylor'),\n",
       " ('Leo', 'Thomas')]"
      ]
     },
     "execution_count": 26,
     "metadata": {},
     "output_type": "execute_result"
    }
   ],
   "source": [
    "%%sql\n",
    "SELECT first_name, last_name\n",
    "FROM employees\n",
    "WHERE manager_id IS NOT NULL"
   ]
  },
  {
   "cell_type": "markdown",
   "metadata": {
    "id": "-L-efBpI5Fn7"
   },
   "source": [
    "### Filtering based on multiple conditions"
   ]
  },
  {
   "cell_type": "code",
   "execution_count": 30,
   "metadata": {
    "id": "KkKYhSiteEb3"
   },
   "outputs": [
    {
     "name": "stdout",
     "output_type": "stream",
     "text": [
      " * sqlite:///my_database.db\n",
      "Done.\n"
     ]
    },
    {
     "data": {
      "text/html": [
       "<table>\n",
       "    <thead>\n",
       "        <tr>\n",
       "            <th>first_name</th>\n",
       "            <th>last_name</th>\n",
       "            <th>salary</th>\n",
       "            <th>performance_rating</th>\n",
       "        </tr>\n",
       "    </thead>\n",
       "    <tbody>\n",
       "        <tr>\n",
       "            <td>Carol</td>\n",
       "            <td>Williams</td>\n",
       "            <td>80000.0</td>\n",
       "            <td>3</td>\n",
       "        </tr>\n",
       "    </tbody>\n",
       "</table>"
      ],
      "text/plain": [
       "[('Carol', 'Williams', 80000.0, 3)]"
      ]
     },
     "execution_count": 30,
     "metadata": {},
     "output_type": "execute_result"
    }
   ],
   "source": [
    "%%sql\n",
    "SELECT first_name, last_name, salary, performance_rating\n",
    "FROM employees\n",
    "WHERE performance_rating < 4 AND salary > 70000"
   ]
  },
  {
   "cell_type": "code",
   "execution_count": 31,
   "metadata": {
    "id": "5H9Ad6vrghru"
   },
   "outputs": [
    {
     "name": "stdout",
     "output_type": "stream",
     "text": [
      " * sqlite:///my_database.db\n",
      "Done.\n"
     ]
    },
    {
     "data": {
      "text/html": [
       "<table>\n",
       "    <thead>\n",
       "        <tr>\n",
       "            <th>first_name</th>\n",
       "            <th>last_name</th>\n",
       "            <th>salary</th>\n",
       "            <th>performance_rating</th>\n",
       "        </tr>\n",
       "    </thead>\n",
       "    <tbody>\n",
       "        <tr>\n",
       "            <td>Alice</td>\n",
       "            <td>Smith</td>\n",
       "            <td>120000.0</td>\n",
       "            <td>5</td>\n",
       "        </tr>\n",
       "        <tr>\n",
       "            <td>Bob</td>\n",
       "            <td>Johnson</td>\n",
       "            <td>90000.0</td>\n",
       "            <td>4</td>\n",
       "        </tr>\n",
       "        <tr>\n",
       "            <td>Carol</td>\n",
       "            <td>Williams</td>\n",
       "            <td>80000.0</td>\n",
       "            <td>3</td>\n",
       "        </tr>\n",
       "        <tr>\n",
       "            <td>David</td>\n",
       "            <td>Jones</td>\n",
       "            <td>95000.0</td>\n",
       "            <td>4</td>\n",
       "        </tr>\n",
       "        <tr>\n",
       "            <td>Eva</td>\n",
       "            <td>Brown</td>\n",
       "            <td>70000.0</td>\n",
       "            <td>3</td>\n",
       "        </tr>\n",
       "        <tr>\n",
       "            <td>Frank</td>\n",
       "            <td>Davis</td>\n",
       "            <td>68000.0</td>\n",
       "            <td>2</td>\n",
       "        </tr>\n",
       "        <tr>\n",
       "            <td>Grace</td>\n",
       "            <td>Miller</td>\n",
       "            <td>75000.0</td>\n",
       "            <td>4</td>\n",
       "        </tr>\n",
       "        <tr>\n",
       "            <td>Henry</td>\n",
       "            <td>Wilson</td>\n",
       "            <td>60000.0</td>\n",
       "            <td>3</td>\n",
       "        </tr>\n",
       "        <tr>\n",
       "            <td>Ivy</td>\n",
       "            <td>Moore</td>\n",
       "            <td>85000.0</td>\n",
       "            <td>4</td>\n",
       "        </tr>\n",
       "        <tr>\n",
       "            <td>Jack</td>\n",
       "            <td>Taylor</td>\n",
       "            <td>65000.0</td>\n",
       "            <td>3</td>\n",
       "        </tr>\n",
       "        <tr>\n",
       "            <td>Kathy</td>\n",
       "            <td>Anderson</td>\n",
       "            <td>78000.0</td>\n",
       "            <td>4</td>\n",
       "        </tr>\n",
       "        <tr>\n",
       "            <td>Leo</td>\n",
       "            <td>Thomas</td>\n",
       "            <td>55000.0</td>\n",
       "            <td>3</td>\n",
       "        </tr>\n",
       "    </tbody>\n",
       "</table>"
      ],
      "text/plain": [
       "[('Alice', 'Smith', 120000.0, 5),\n",
       " ('Bob', 'Johnson', 90000.0, 4),\n",
       " ('Carol', 'Williams', 80000.0, 3),\n",
       " ('David', 'Jones', 95000.0, 4),\n",
       " ('Eva', 'Brown', 70000.0, 3),\n",
       " ('Frank', 'Davis', 68000.0, 2),\n",
       " ('Grace', 'Miller', 75000.0, 4),\n",
       " ('Henry', 'Wilson', 60000.0, 3),\n",
       " ('Ivy', 'Moore', 85000.0, 4),\n",
       " ('Jack', 'Taylor', 65000.0, 3),\n",
       " ('Kathy', 'Anderson', 78000.0, 4),\n",
       " ('Leo', 'Thomas', 55000.0, 3)]"
      ]
     },
     "execution_count": 31,
     "metadata": {},
     "output_type": "execute_result"
    }
   ],
   "source": [
    "%%sql\n",
    "SELECT first_name, last_name, salary, performance_rating\n",
    "FROM employees\n",
    "WHERE performance_rating < 4 OR salary > 70000"
   ]
  },
  {
   "cell_type": "code",
   "execution_count": 36,
   "metadata": {
    "id": "GeFX4sFQgrRT"
   },
   "outputs": [
    {
     "name": "stdout",
     "output_type": "stream",
     "text": [
      " * sqlite:///my_database.db\n",
      "Done.\n"
     ]
    },
    {
     "data": {
      "text/html": [
       "<table>\n",
       "    <thead>\n",
       "        <tr>\n",
       "            <th>first_name</th>\n",
       "            <th>last_name</th>\n",
       "        </tr>\n",
       "    </thead>\n",
       "    <tbody>\n",
       "        <tr>\n",
       "            <td>Carol</td>\n",
       "            <td>Williams</td>\n",
       "        </tr>\n",
       "        <tr>\n",
       "            <td>David</td>\n",
       "            <td>Jones</td>\n",
       "        </tr>\n",
       "        <tr>\n",
       "            <td>Eva</td>\n",
       "            <td>Brown</td>\n",
       "        </tr>\n",
       "        <tr>\n",
       "            <td>Frank</td>\n",
       "            <td>Davis</td>\n",
       "        </tr>\n",
       "        <tr>\n",
       "            <td>Henry</td>\n",
       "            <td>Wilson</td>\n",
       "        </tr>\n",
       "        <tr>\n",
       "            <td>Jack</td>\n",
       "            <td>Taylor</td>\n",
       "        </tr>\n",
       "        <tr>\n",
       "            <td>Leo</td>\n",
       "            <td>Thomas</td>\n",
       "        </tr>\n",
       "    </tbody>\n",
       "</table>"
      ],
      "text/plain": [
       "[('Carol', 'Williams'),\n",
       " ('David', 'Jones'),\n",
       " ('Eva', 'Brown'),\n",
       " ('Frank', 'Davis'),\n",
       " ('Henry', 'Wilson'),\n",
       " ('Jack', 'Taylor'),\n",
       " ('Leo', 'Thomas')]"
      ]
     },
     "execution_count": 36,
     "metadata": {},
     "output_type": "execute_result"
    }
   ],
   "source": [
    "%%sql\n",
    "SELECT first_name, last_name\n",
    "FROM employees\n",
    "WHERE (performance_rating < 4 OR salary > 70000) AND department_id = 2"
   ]
  },
  {
   "cell_type": "code",
   "execution_count": 37,
   "metadata": {
    "id": "4Pmskg_HehCP"
   },
   "outputs": [
    {
     "name": "stdout",
     "output_type": "stream",
     "text": [
      " * sqlite:///my_database.db\n",
      "Done.\n"
     ]
    },
    {
     "data": {
      "text/html": [
       "<table>\n",
       "    <thead>\n",
       "        <tr>\n",
       "            <th>first_name</th>\n",
       "            <th>last_name</th>\n",
       "            <th>department_id</th>\n",
       "        </tr>\n",
       "    </thead>\n",
       "    <tbody>\n",
       "        <tr>\n",
       "            <td>Alice</td>\n",
       "            <td>Smith</td>\n",
       "            <td>1</td>\n",
       "        </tr>\n",
       "        <tr>\n",
       "            <td>Bob</td>\n",
       "            <td>Johnson</td>\n",
       "            <td>1</td>\n",
       "        </tr>\n",
       "        <tr>\n",
       "            <td>Carol</td>\n",
       "            <td>Williams</td>\n",
       "            <td>1</td>\n",
       "        </tr>\n",
       "        <tr>\n",
       "            <td>Ivy</td>\n",
       "            <td>Moore</td>\n",
       "            <td>4</td>\n",
       "        </tr>\n",
       "        <tr>\n",
       "            <td>Jack</td>\n",
       "            <td>Taylor</td>\n",
       "            <td>4</td>\n",
       "        </tr>\n",
       "    </tbody>\n",
       "</table>"
      ],
      "text/plain": [
       "[('Alice', 'Smith', 1),\n",
       " ('Bob', 'Johnson', 1),\n",
       " ('Carol', 'Williams', 1),\n",
       " ('Ivy', 'Moore', 4),\n",
       " ('Jack', 'Taylor', 4)]"
      ]
     },
     "execution_count": 37,
     "metadata": {},
     "output_type": "execute_result"
    }
   ],
   "source": [
    "%%sql\n",
    "SELECT first_name, last_name, department_id\n",
    "FROM employees\n",
    "WHERE department_id = 1 OR department_id = 4"
   ]
  },
  {
   "cell_type": "markdown",
   "metadata": {
    "id": "bYaaqf7r5VuR"
   },
   "source": [
    "When dealing with multiple conditions on the same column, using multiple OR conditions is not ideal.\n",
    "Solution: using the IN keyword."
   ]
  },
  {
   "cell_type": "code",
   "execution_count": 38,
   "metadata": {
    "id": "giWLm4bbWShk"
   },
   "outputs": [
    {
     "name": "stdout",
     "output_type": "stream",
     "text": [
      " * sqlite:///my_database.db\n",
      "Done.\n"
     ]
    },
    {
     "data": {
      "text/html": [
       "<table>\n",
       "    <thead>\n",
       "        <tr>\n",
       "            <th>first_name</th>\n",
       "            <th>last_name</th>\n",
       "            <th>department_id</th>\n",
       "        </tr>\n",
       "    </thead>\n",
       "    <tbody>\n",
       "        <tr>\n",
       "            <td>Alice</td>\n",
       "            <td>Smith</td>\n",
       "            <td>1</td>\n",
       "        </tr>\n",
       "        <tr>\n",
       "            <td>Bob</td>\n",
       "            <td>Johnson</td>\n",
       "            <td>1</td>\n",
       "        </tr>\n",
       "        <tr>\n",
       "            <td>Carol</td>\n",
       "            <td>Williams</td>\n",
       "            <td>1</td>\n",
       "        </tr>\n",
       "        <tr>\n",
       "            <td>Ivy</td>\n",
       "            <td>Moore</td>\n",
       "            <td>4</td>\n",
       "        </tr>\n",
       "        <tr>\n",
       "            <td>Jack</td>\n",
       "            <td>Taylor</td>\n",
       "            <td>4</td>\n",
       "        </tr>\n",
       "    </tbody>\n",
       "</table>"
      ],
      "text/plain": [
       "[('Alice', 'Smith', 1),\n",
       " ('Bob', 'Johnson', 1),\n",
       " ('Carol', 'Williams', 1),\n",
       " ('Ivy', 'Moore', 4),\n",
       " ('Jack', 'Taylor', 4)]"
      ]
     },
     "execution_count": 38,
     "metadata": {},
     "output_type": "execute_result"
    }
   ],
   "source": [
    "%%sql\n",
    "SELECT first_name, last_name, department_id\n",
    "FROM employees\n",
    "WHERE department_id IN (1, 4)"
   ]
  },
  {
   "cell_type": "code",
   "execution_count": 40,
   "metadata": {
    "id": "Q87EUYf_f_Vq"
   },
   "outputs": [
    {
     "name": "stdout",
     "output_type": "stream",
     "text": [
      " * sqlite:///my_database.db\n",
      "Done.\n"
     ]
    },
    {
     "data": {
      "text/html": [
       "<table>\n",
       "    <thead>\n",
       "        <tr>\n",
       "            <th>first_name</th>\n",
       "            <th>last_name</th>\n",
       "        </tr>\n",
       "    </thead>\n",
       "    <tbody>\n",
       "        <tr>\n",
       "            <td>Carol</td>\n",
       "            <td>Williams</td>\n",
       "        </tr>\n",
       "        <tr>\n",
       "            <td>David</td>\n",
       "            <td>Jones</td>\n",
       "        </tr>\n",
       "        <tr>\n",
       "            <td>Eva</td>\n",
       "            <td>Brown</td>\n",
       "        </tr>\n",
       "        <tr>\n",
       "            <td>Frank</td>\n",
       "            <td>Davis</td>\n",
       "        </tr>\n",
       "        <tr>\n",
       "            <td>Grace</td>\n",
       "            <td>Miller</td>\n",
       "        </tr>\n",
       "        <tr>\n",
       "            <td>Henry</td>\n",
       "            <td>Wilson</td>\n",
       "        </tr>\n",
       "        <tr>\n",
       "            <td>Ivy</td>\n",
       "            <td>Moore</td>\n",
       "        </tr>\n",
       "        <tr>\n",
       "            <td>Sam</td>\n",
       "            <td>White</td>\n",
       "        </tr>\n",
       "        <tr>\n",
       "            <td>Jack</td>\n",
       "            <td>Taylor</td>\n",
       "        </tr>\n",
       "        <tr>\n",
       "            <td>Kathy</td>\n",
       "            <td>Anderson</td>\n",
       "        </tr>\n",
       "        <tr>\n",
       "            <td>Leo</td>\n",
       "            <td>Thomas</td>\n",
       "        </tr>\n",
       "    </tbody>\n",
       "</table>"
      ],
      "text/plain": [
       "[('Carol', 'Williams'),\n",
       " ('David', 'Jones'),\n",
       " ('Eva', 'Brown'),\n",
       " ('Frank', 'Davis'),\n",
       " ('Grace', 'Miller'),\n",
       " ('Henry', 'Wilson'),\n",
       " ('Ivy', 'Moore'),\n",
       " ('Sam', 'White'),\n",
       " ('Jack', 'Taylor'),\n",
       " ('Kathy', 'Anderson'),\n",
       " ('Leo', 'Thomas')]"
      ]
     },
     "execution_count": 40,
     "metadata": {},
     "output_type": "execute_result"
    }
   ],
   "source": [
    "%%sql\n",
    "SELECT first_name, last_name\n",
    "FROM employees\n",
    "WHERE last_name NOT IN (\"Johnson\", \"Smith\")"
   ]
  },
  {
   "cell_type": "markdown",
   "metadata": {
    "id": "zBd5IUWTibtr"
   },
   "source": [
    "## Ordering the results"
   ]
  },
  {
   "cell_type": "code",
   "execution_count": 10,
   "metadata": {
    "colab": {
     "base_uri": "https://localhost:8080/",
     "height": 353
    },
    "id": "Y7G3-dLxiutU",
    "outputId": "ec890b6e-737d-476d-f692-ba49d23fbb3b"
   },
   "outputs": [
    {
     "name": "stdout",
     "output_type": "stream",
     "text": [
      " * sqlite:///my_database.db\n",
      "Done.\n"
     ]
    },
    {
     "data": {
      "text/html": [
       "<table>\n",
       "    <thead>\n",
       "        <tr>\n",
       "            <th>id</th>\n",
       "            <th>first_name</th>\n",
       "            <th>last_name</th>\n",
       "            <th>department_id</th>\n",
       "            <th>hire_date</th>\n",
       "            <th>salary</th>\n",
       "            <th>bonus</th>\n",
       "            <th>job_title</th>\n",
       "            <th>manager_id</th>\n",
       "            <th>performance_rating</th>\n",
       "            <th>email</th>\n",
       "            <th>phone_number</th>\n",
       "        </tr>\n",
       "    </thead>\n",
       "    <tbody>\n",
       "        <tr>\n",
       "            <td>1</td>\n",
       "            <td>Alice</td>\n",
       "            <td>Smith</td>\n",
       "            <td>1</td>\n",
       "            <td>2010-06-01</td>\n",
       "            <td>120000.0</td>\n",
       "            <td>10000.0</td>\n",
       "            <td>CTO</td>\n",
       "            <td>None</td>\n",
       "            <td>5</td>\n",
       "            <td>alice.smith@example.com</td>\n",
       "            <td>555-0100</td>\n",
       "        </tr>\n",
       "        <tr>\n",
       "            <td>2</td>\n",
       "            <td>Bob</td>\n",
       "            <td>Johnson</td>\n",
       "            <td>1</td>\n",
       "            <td>2012-09-15</td>\n",
       "            <td>90000.0</td>\n",
       "            <td>5000.0</td>\n",
       "            <td>Senior Engineer</td>\n",
       "            <td>1</td>\n",
       "            <td>4</td>\n",
       "            <td>bob.johnson@example.com</td>\n",
       "            <td>555-0101</td>\n",
       "        </tr>\n",
       "        <tr>\n",
       "            <td>3</td>\n",
       "            <td>Carol</td>\n",
       "            <td>Williams</td>\n",
       "            <td>1</td>\n",
       "            <td>2015-03-20</td>\n",
       "            <td>80000.0</td>\n",
       "            <td>None</td>\n",
       "            <td>Engineer</td>\n",
       "            <td>2</td>\n",
       "            <td>3</td>\n",
       "            <td>carol.williams@example.com</td>\n",
       "            <td>555-0102</td>\n",
       "        </tr>\n",
       "        <tr>\n",
       "            <td>4</td>\n",
       "            <td>David</td>\n",
       "            <td>Jones</td>\n",
       "            <td>2</td>\n",
       "            <td>2011-11-11</td>\n",
       "            <td>95000.0</td>\n",
       "            <td>7000.0</td>\n",
       "            <td>Sales Manager</td>\n",
       "            <td>None</td>\n",
       "            <td>4</td>\n",
       "            <td>david.jones@example.com</td>\n",
       "            <td>555-0103</td>\n",
       "        </tr>\n",
       "        <tr>\n",
       "            <td>5</td>\n",
       "            <td>Eva</td>\n",
       "            <td>Brown</td>\n",
       "            <td>2</td>\n",
       "            <td>2016-05-22</td>\n",
       "            <td>70000.0</td>\n",
       "            <td>3000.0</td>\n",
       "            <td>Sales Representative</td>\n",
       "            <td>4</td>\n",
       "            <td>3</td>\n",
       "            <td>eva.brown@example.com</td>\n",
       "            <td>555-0104</td>\n",
       "        </tr>\n",
       "        <tr>\n",
       "            <td>6</td>\n",
       "            <td>Frank</td>\n",
       "            <td>Davis</td>\n",
       "            <td>2</td>\n",
       "            <td>2018-07-01</td>\n",
       "            <td>68000.0</td>\n",
       "            <td>None</td>\n",
       "            <td>Sales Representative</td>\n",
       "            <td>4</td>\n",
       "            <td>2</td>\n",
       "            <td>frank.davis@example.com</td>\n",
       "            <td>555-0105</td>\n",
       "        </tr>\n",
       "        <tr>\n",
       "            <td>7</td>\n",
       "            <td>Grace</td>\n",
       "            <td>Miller</td>\n",
       "            <td>3</td>\n",
       "            <td>2013-02-28</td>\n",
       "            <td>75000.0</td>\n",
       "            <td>4000.0</td>\n",
       "            <td>HR Specialist</td>\n",
       "            <td>None</td>\n",
       "            <td>4</td>\n",
       "            <td>grace.miller@example.com</td>\n",
       "            <td>555-0106</td>\n",
       "        </tr>\n",
       "        <tr>\n",
       "            <td>8</td>\n",
       "            <td>Henry</td>\n",
       "            <td>Wilson</td>\n",
       "            <td>3</td>\n",
       "            <td>2019-10-10</td>\n",
       "            <td>60000.0</td>\n",
       "            <td>2000.0</td>\n",
       "            <td>HR Assistant</td>\n",
       "            <td>7</td>\n",
       "            <td>3</td>\n",
       "            <td>henry.wilson@example.com</td>\n",
       "            <td>555-0107</td>\n",
       "        </tr>\n",
       "        <tr>\n",
       "            <td>9</td>\n",
       "            <td>Ivy</td>\n",
       "            <td>Moore</td>\n",
       "            <td>4</td>\n",
       "            <td>2014-08-19</td>\n",
       "            <td>85000.0</td>\n",
       "            <td>5000.0</td>\n",
       "            <td>Marketing Manager</td>\n",
       "            <td>None</td>\n",
       "            <td>4</td>\n",
       "            <td>ivy.moore@example.com</td>\n",
       "            <td>555-0108</td>\n",
       "        </tr>\n",
       "        <tr>\n",
       "            <td>10</td>\n",
       "            <td>Sam</td>\n",
       "            <td>White</td>\n",
       "            <td>None</td>\n",
       "            <td>2023-01-01</td>\n",
       "            <td>50000.0</td>\n",
       "            <td>None</td>\n",
       "            <td>Intern</td>\n",
       "            <td>3</td>\n",
       "            <td>None</td>\n",
       "            <td>None</td>\n",
       "            <td>None</td>\n",
       "        </tr>\n",
       "        <tr>\n",
       "            <td>11</td>\n",
       "            <td>Jack</td>\n",
       "            <td>Taylor</td>\n",
       "            <td>4</td>\n",
       "            <td>2020-01-15</td>\n",
       "            <td>65000.0</td>\n",
       "            <td>None</td>\n",
       "            <td>Marketing Specialist</td>\n",
       "            <td>9</td>\n",
       "            <td>3</td>\n",
       "            <td>jack.taylor@example.com</td>\n",
       "            <td>555-0109</td>\n",
       "        </tr>\n",
       "        <tr>\n",
       "            <td>12</td>\n",
       "            <td>Kathy</td>\n",
       "            <td>Anderson</td>\n",
       "            <td>5</td>\n",
       "            <td>2017-04-03</td>\n",
       "            <td>78000.0</td>\n",
       "            <td>4500.0</td>\n",
       "            <td>Finance Analyst</td>\n",
       "            <td>None</td>\n",
       "            <td>4</td>\n",
       "            <td>kathy.anderson@example.com</td>\n",
       "            <td>555-0110</td>\n",
       "        </tr>\n",
       "        <tr>\n",
       "            <td>13</td>\n",
       "            <td>Leo</td>\n",
       "            <td>Thomas</td>\n",
       "            <td>5</td>\n",
       "            <td>2021-12-05</td>\n",
       "            <td>55000.0</td>\n",
       "            <td>None</td>\n",
       "            <td>Junior Finance Analyst</td>\n",
       "            <td>11</td>\n",
       "            <td>3</td>\n",
       "            <td>leo.thomas@example.com</td>\n",
       "            <td>555-0111</td>\n",
       "        </tr>\n",
       "    </tbody>\n",
       "</table>"
      ],
      "text/plain": [
       "[(1, 'Alice', 'Smith', 1, '2010-06-01', 120000.0, 10000.0, 'CTO', None, 5, 'alice.smith@example.com', '555-0100'),\n",
       " (2, 'Bob', 'Johnson', 1, '2012-09-15', 90000.0, 5000.0, 'Senior Engineer', 1, 4, 'bob.johnson@example.com', '555-0101'),\n",
       " (3, 'Carol', 'Williams', 1, '2015-03-20', 80000.0, None, 'Engineer', 2, 3, 'carol.williams@example.com', '555-0102'),\n",
       " (4, 'David', 'Jones', 2, '2011-11-11', 95000.0, 7000.0, 'Sales Manager', None, 4, 'david.jones@example.com', '555-0103'),\n",
       " (5, 'Eva', 'Brown', 2, '2016-05-22', 70000.0, 3000.0, 'Sales Representative', 4, 3, 'eva.brown@example.com', '555-0104'),\n",
       " (6, 'Frank', 'Davis', 2, '2018-07-01', 68000.0, None, 'Sales Representative', 4, 2, 'frank.davis@example.com', '555-0105'),\n",
       " (7, 'Grace', 'Miller', 3, '2013-02-28', 75000.0, 4000.0, 'HR Specialist', None, 4, 'grace.miller@example.com', '555-0106'),\n",
       " (8, 'Henry', 'Wilson', 3, '2019-10-10', 60000.0, 2000.0, 'HR Assistant', 7, 3, 'henry.wilson@example.com', '555-0107'),\n",
       " (9, 'Ivy', 'Moore', 4, '2014-08-19', 85000.0, 5000.0, 'Marketing Manager', None, 4, 'ivy.moore@example.com', '555-0108'),\n",
       " (10, 'Sam', 'White', None, '2023-01-01', 50000.0, None, 'Intern', 3, None, None, None),\n",
       " (11, 'Jack', 'Taylor', 4, '2020-01-15', 65000.0, None, 'Marketing Specialist', 9, 3, 'jack.taylor@example.com', '555-0109'),\n",
       " (12, 'Kathy', 'Anderson', 5, '2017-04-03', 78000.0, 4500.0, 'Finance Analyst', None, 4, 'kathy.anderson@example.com', '555-0110'),\n",
       " (13, 'Leo', 'Thomas', 5, '2021-12-05', 55000.0, None, 'Junior Finance Analyst', 11, 3, 'leo.thomas@example.com', '555-0111')]"
      ]
     },
     "execution_count": 10,
     "metadata": {},
     "output_type": "execute_result"
    }
   ],
   "source": [
    "%%sql\n",
    "SELECT *\n",
    "FROM employees"
   ]
  },
  {
   "cell_type": "markdown",
   "metadata": {
    "id": "QmSPmzrH70g1"
   },
   "source": [
    "The default ordering is ascending"
   ]
  },
  {
   "cell_type": "code",
   "execution_count": 41,
   "metadata": {
    "id": "kI7CmU61jxo4"
   },
   "outputs": [
    {
     "name": "stdout",
     "output_type": "stream",
     "text": [
      " * sqlite:///my_database.db\n",
      "Done.\n"
     ]
    },
    {
     "data": {
      "text/html": [
       "<table>\n",
       "    <thead>\n",
       "        <tr>\n",
       "            <th>last_name</th>\n",
       "            <th>first_name</th>\n",
       "        </tr>\n",
       "    </thead>\n",
       "    <tbody>\n",
       "        <tr>\n",
       "            <td>Anderson</td>\n",
       "            <td>Kathy</td>\n",
       "        </tr>\n",
       "        <tr>\n",
       "            <td>Brown</td>\n",
       "            <td>Eva</td>\n",
       "        </tr>\n",
       "        <tr>\n",
       "            <td>Davis</td>\n",
       "            <td>Frank</td>\n",
       "        </tr>\n",
       "        <tr>\n",
       "            <td>Johnson</td>\n",
       "            <td>Bob</td>\n",
       "        </tr>\n",
       "        <tr>\n",
       "            <td>Jones</td>\n",
       "            <td>David</td>\n",
       "        </tr>\n",
       "        <tr>\n",
       "            <td>Miller</td>\n",
       "            <td>Grace</td>\n",
       "        </tr>\n",
       "        <tr>\n",
       "            <td>Moore</td>\n",
       "            <td>Ivy</td>\n",
       "        </tr>\n",
       "        <tr>\n",
       "            <td>Smith</td>\n",
       "            <td>Alice</td>\n",
       "        </tr>\n",
       "        <tr>\n",
       "            <td>Taylor</td>\n",
       "            <td>Jack</td>\n",
       "        </tr>\n",
       "        <tr>\n",
       "            <td>Thomas</td>\n",
       "            <td>Leo</td>\n",
       "        </tr>\n",
       "        <tr>\n",
       "            <td>White</td>\n",
       "            <td>Sam</td>\n",
       "        </tr>\n",
       "        <tr>\n",
       "            <td>Williams</td>\n",
       "            <td>Carol</td>\n",
       "        </tr>\n",
       "        <tr>\n",
       "            <td>Wilson</td>\n",
       "            <td>Henry</td>\n",
       "        </tr>\n",
       "    </tbody>\n",
       "</table>"
      ],
      "text/plain": [
       "[('Anderson', 'Kathy'),\n",
       " ('Brown', 'Eva'),\n",
       " ('Davis', 'Frank'),\n",
       " ('Johnson', 'Bob'),\n",
       " ('Jones', 'David'),\n",
       " ('Miller', 'Grace'),\n",
       " ('Moore', 'Ivy'),\n",
       " ('Smith', 'Alice'),\n",
       " ('Taylor', 'Jack'),\n",
       " ('Thomas', 'Leo'),\n",
       " ('White', 'Sam'),\n",
       " ('Williams', 'Carol'),\n",
       " ('Wilson', 'Henry')]"
      ]
     },
     "execution_count": 41,
     "metadata": {},
     "output_type": "execute_result"
    }
   ],
   "source": [
    "%%sql\n",
    "SELECT last_name, first_name\n",
    "FROM employees\n",
    "ORDER BY last_name"
   ]
  },
  {
   "cell_type": "code",
   "execution_count": 45,
   "metadata": {
    "id": "fnmmd4uUiwpz"
   },
   "outputs": [
    {
     "name": "stdout",
     "output_type": "stream",
     "text": [
      " * sqlite:///my_database.db\n",
      "Done.\n"
     ]
    },
    {
     "data": {
      "text/html": [
       "<table>\n",
       "    <thead>\n",
       "        <tr>\n",
       "            <th>last_name</th>\n",
       "            <th>first_name</th>\n",
       "        </tr>\n",
       "    </thead>\n",
       "    <tbody>\n",
       "        <tr>\n",
       "            <td>Wilson</td>\n",
       "            <td>Henry</td>\n",
       "        </tr>\n",
       "        <tr>\n",
       "            <td>Williams</td>\n",
       "            <td>Carol</td>\n",
       "        </tr>\n",
       "        <tr>\n",
       "            <td>White</td>\n",
       "            <td>Sam</td>\n",
       "        </tr>\n",
       "        <tr>\n",
       "            <td>Thomas</td>\n",
       "            <td>Leo</td>\n",
       "        </tr>\n",
       "        <tr>\n",
       "            <td>Taylor</td>\n",
       "            <td>Jack</td>\n",
       "        </tr>\n",
       "        <tr>\n",
       "            <td>Smith</td>\n",
       "            <td>Alice</td>\n",
       "        </tr>\n",
       "        <tr>\n",
       "            <td>Moore</td>\n",
       "            <td>Ivy</td>\n",
       "        </tr>\n",
       "        <tr>\n",
       "            <td>Miller</td>\n",
       "            <td>Grace</td>\n",
       "        </tr>\n",
       "        <tr>\n",
       "            <td>Jones</td>\n",
       "            <td>David</td>\n",
       "        </tr>\n",
       "        <tr>\n",
       "            <td>Johnson</td>\n",
       "            <td>Bob</td>\n",
       "        </tr>\n",
       "        <tr>\n",
       "            <td>Davis</td>\n",
       "            <td>Frank</td>\n",
       "        </tr>\n",
       "        <tr>\n",
       "            <td>Brown</td>\n",
       "            <td>Eva</td>\n",
       "        </tr>\n",
       "        <tr>\n",
       "            <td>Anderson</td>\n",
       "            <td>Kathy</td>\n",
       "        </tr>\n",
       "    </tbody>\n",
       "</table>"
      ],
      "text/plain": [
       "[('Wilson', 'Henry'),\n",
       " ('Williams', 'Carol'),\n",
       " ('White', 'Sam'),\n",
       " ('Thomas', 'Leo'),\n",
       " ('Taylor', 'Jack'),\n",
       " ('Smith', 'Alice'),\n",
       " ('Moore', 'Ivy'),\n",
       " ('Miller', 'Grace'),\n",
       " ('Jones', 'David'),\n",
       " ('Johnson', 'Bob'),\n",
       " ('Davis', 'Frank'),\n",
       " ('Brown', 'Eva'),\n",
       " ('Anderson', 'Kathy')]"
      ]
     },
     "execution_count": 45,
     "metadata": {},
     "output_type": "execute_result"
    }
   ],
   "source": [
    "%%sql\n",
    "SELECT last_name, first_name\n",
    "FROM employees\n",
    "ORDER BY last_name DESC"
   ]
  },
  {
   "cell_type": "markdown",
   "metadata": {
    "id": "jpd3Hgap7Owu"
   },
   "source": [
    "When ordering the results, NULL is considered the smallest value"
   ]
  },
  {
   "cell_type": "code",
   "execution_count": 47,
   "metadata": {
    "id": "WnUycg4Ej86P"
   },
   "outputs": [
    {
     "name": "stdout",
     "output_type": "stream",
     "text": [
      " * sqlite:///my_database.db\n",
      "Done.\n"
     ]
    },
    {
     "data": {
      "text/html": [
       "<table>\n",
       "    <thead>\n",
       "        <tr>\n",
       "            <th>last_name</th>\n",
       "            <th>first_name</th>\n",
       "            <th>performance_rating</th>\n",
       "        </tr>\n",
       "    </thead>\n",
       "    <tbody>\n",
       "        <tr>\n",
       "            <td>Smith</td>\n",
       "            <td>Alice</td>\n",
       "            <td>5</td>\n",
       "        </tr>\n",
       "        <tr>\n",
       "            <td>Anderson</td>\n",
       "            <td>Kathy</td>\n",
       "            <td>4</td>\n",
       "        </tr>\n",
       "        <tr>\n",
       "            <td>Johnson</td>\n",
       "            <td>Bob</td>\n",
       "            <td>4</td>\n",
       "        </tr>\n",
       "        <tr>\n",
       "            <td>Jones</td>\n",
       "            <td>David</td>\n",
       "            <td>4</td>\n",
       "        </tr>\n",
       "        <tr>\n",
       "            <td>Miller</td>\n",
       "            <td>Grace</td>\n",
       "            <td>4</td>\n",
       "        </tr>\n",
       "        <tr>\n",
       "            <td>Moore</td>\n",
       "            <td>Ivy</td>\n",
       "            <td>4</td>\n",
       "        </tr>\n",
       "        <tr>\n",
       "            <td>Brown</td>\n",
       "            <td>Eva</td>\n",
       "            <td>3</td>\n",
       "        </tr>\n",
       "        <tr>\n",
       "            <td>Taylor</td>\n",
       "            <td>Jack</td>\n",
       "            <td>3</td>\n",
       "        </tr>\n",
       "        <tr>\n",
       "            <td>Thomas</td>\n",
       "            <td>Leo</td>\n",
       "            <td>3</td>\n",
       "        </tr>\n",
       "        <tr>\n",
       "            <td>Williams</td>\n",
       "            <td>Carol</td>\n",
       "            <td>3</td>\n",
       "        </tr>\n",
       "        <tr>\n",
       "            <td>Wilson</td>\n",
       "            <td>Henry</td>\n",
       "            <td>3</td>\n",
       "        </tr>\n",
       "        <tr>\n",
       "            <td>Davis</td>\n",
       "            <td>Frank</td>\n",
       "            <td>2</td>\n",
       "        </tr>\n",
       "        <tr>\n",
       "            <td>White</td>\n",
       "            <td>Sam</td>\n",
       "            <td>None</td>\n",
       "        </tr>\n",
       "    </tbody>\n",
       "</table>"
      ],
      "text/plain": [
       "[('Smith', 'Alice', 5),\n",
       " ('Anderson', 'Kathy', 4),\n",
       " ('Johnson', 'Bob', 4),\n",
       " ('Jones', 'David', 4),\n",
       " ('Miller', 'Grace', 4),\n",
       " ('Moore', 'Ivy', 4),\n",
       " ('Brown', 'Eva', 3),\n",
       " ('Taylor', 'Jack', 3),\n",
       " ('Thomas', 'Leo', 3),\n",
       " ('Williams', 'Carol', 3),\n",
       " ('Wilson', 'Henry', 3),\n",
       " ('Davis', 'Frank', 2),\n",
       " ('White', 'Sam', None)]"
      ]
     },
     "execution_count": 47,
     "metadata": {},
     "output_type": "execute_result"
    }
   ],
   "source": [
    "%%sql\n",
    "SELECT last_name, first_name, performance_rating\n",
    "FROM employees\n",
    "ORDER BY performance_rating DESC, last_name ASC"
   ]
  },
  {
   "cell_type": "markdown",
   "metadata": {
    "id": "vNGmtgUtpHGM"
   },
   "source": [
    "## Limiting the results"
   ]
  },
  {
   "cell_type": "code",
   "execution_count": 49,
   "metadata": {
    "id": "WxU15BvelUzN"
   },
   "outputs": [
    {
     "name": "stdout",
     "output_type": "stream",
     "text": [
      " * sqlite:///my_database.db\n",
      "Done.\n"
     ]
    },
    {
     "data": {
      "text/html": [
       "<table>\n",
       "    <thead>\n",
       "        <tr>\n",
       "            <th>first_name</th>\n",
       "            <th>last_name</th>\n",
       "            <th>salary</th>\n",
       "        </tr>\n",
       "    </thead>\n",
       "    <tbody>\n",
       "        <tr>\n",
       "            <td>Alice</td>\n",
       "            <td>Smith</td>\n",
       "            <td>120000.0</td>\n",
       "        </tr>\n",
       "        <tr>\n",
       "            <td>David</td>\n",
       "            <td>Jones</td>\n",
       "            <td>95000.0</td>\n",
       "        </tr>\n",
       "        <tr>\n",
       "            <td>Bob</td>\n",
       "            <td>Johnson</td>\n",
       "            <td>90000.0</td>\n",
       "        </tr>\n",
       "    </tbody>\n",
       "</table>"
      ],
      "text/plain": [
       "[('Alice', 'Smith', 120000.0),\n",
       " ('David', 'Jones', 95000.0),\n",
       " ('Bob', 'Johnson', 90000.0)]"
      ]
     },
     "execution_count": 49,
     "metadata": {},
     "output_type": "execute_result"
    }
   ],
   "source": [
    "%%sql\n",
    "SELECT first_name, last_name, salary\n",
    "FROM employees\n",
    "ORDER BY salary DESC\n",
    "LIMIT 3"
   ]
  },
  {
   "cell_type": "markdown",
   "metadata": {
    "id": "04Up_UO788P-"
   },
   "source": [
    "OFFSET can be used to specify where to begin counting the rows from."
   ]
  },
  {
   "cell_type": "code",
   "execution_count": 52,
   "metadata": {
    "id": "CSMew4fjlfbB"
   },
   "outputs": [
    {
     "name": "stdout",
     "output_type": "stream",
     "text": [
      " * sqlite:///my_database.db\n",
      "Done.\n"
     ]
    },
    {
     "data": {
      "text/html": [
       "<table>\n",
       "    <thead>\n",
       "        <tr>\n",
       "            <th>first_name</th>\n",
       "            <th>last_name</th>\n",
       "            <th>salary</th>\n",
       "        </tr>\n",
       "    </thead>\n",
       "    <tbody>\n",
       "        <tr>\n",
       "            <td>David</td>\n",
       "            <td>Jones</td>\n",
       "            <td>95000.0</td>\n",
       "        </tr>\n",
       "    </tbody>\n",
       "</table>"
      ],
      "text/plain": [
       "[('David', 'Jones', 95000.0)]"
      ]
     },
     "execution_count": 52,
     "metadata": {},
     "output_type": "execute_result"
    }
   ],
   "source": [
    "%%sql\n",
    "SELECT first_name, last_name, salary\n",
    "FROM employees\n",
    "ORDER BY salary DESC\n",
    "LIMIT 1 OFFSET 1"
   ]
  },
  {
   "cell_type": "markdown",
   "metadata": {
    "id": "KZc0QiKYEFos"
   },
   "source": [
    "## Using mathematical expressions"
   ]
  },
  {
   "cell_type": "markdown",
   "metadata": {
    "id": "xi1jrjUd-c3X"
   },
   "source": [
    "* Addition: +\n",
    "* Subtraction: -\n",
    "* Multiplication: *\n",
    "* Division: /\n",
    "* Exponentiation: ^\n",
    "* Modulus: %\n",
    "\n"
   ]
  },
  {
   "cell_type": "code",
   "execution_count": 9,
   "metadata": {
    "colab": {
     "base_uri": "https://localhost:8080/",
     "height": 353
    },
    "id": "TLP6iS9hHF_W",
    "outputId": "63202ba4-6d27-4b1c-afbd-0d6eef9fde58"
   },
   "outputs": [
    {
     "name": "stdout",
     "output_type": "stream",
     "text": [
      " * sqlite:///my_database.db\n",
      "Done.\n"
     ]
    },
    {
     "data": {
      "text/html": [
       "<table>\n",
       "    <thead>\n",
       "        <tr>\n",
       "            <th>id</th>\n",
       "            <th>first_name</th>\n",
       "            <th>last_name</th>\n",
       "            <th>department_id</th>\n",
       "            <th>hire_date</th>\n",
       "            <th>salary</th>\n",
       "            <th>bonus</th>\n",
       "            <th>job_title</th>\n",
       "            <th>manager_id</th>\n",
       "            <th>performance_rating</th>\n",
       "            <th>email</th>\n",
       "            <th>phone_number</th>\n",
       "        </tr>\n",
       "    </thead>\n",
       "    <tbody>\n",
       "        <tr>\n",
       "            <td>1</td>\n",
       "            <td>Alice</td>\n",
       "            <td>Smith</td>\n",
       "            <td>1</td>\n",
       "            <td>2010-06-01</td>\n",
       "            <td>120000.0</td>\n",
       "            <td>10000.0</td>\n",
       "            <td>CTO</td>\n",
       "            <td>None</td>\n",
       "            <td>5</td>\n",
       "            <td>alice.smith@example.com</td>\n",
       "            <td>555-0100</td>\n",
       "        </tr>\n",
       "        <tr>\n",
       "            <td>2</td>\n",
       "            <td>Bob</td>\n",
       "            <td>Johnson</td>\n",
       "            <td>1</td>\n",
       "            <td>2012-09-15</td>\n",
       "            <td>90000.0</td>\n",
       "            <td>5000.0</td>\n",
       "            <td>Senior Engineer</td>\n",
       "            <td>1</td>\n",
       "            <td>4</td>\n",
       "            <td>bob.johnson@example.com</td>\n",
       "            <td>555-0101</td>\n",
       "        </tr>\n",
       "        <tr>\n",
       "            <td>3</td>\n",
       "            <td>Carol</td>\n",
       "            <td>Williams</td>\n",
       "            <td>1</td>\n",
       "            <td>2015-03-20</td>\n",
       "            <td>80000.0</td>\n",
       "            <td>None</td>\n",
       "            <td>Engineer</td>\n",
       "            <td>2</td>\n",
       "            <td>3</td>\n",
       "            <td>carol.williams@example.com</td>\n",
       "            <td>555-0102</td>\n",
       "        </tr>\n",
       "        <tr>\n",
       "            <td>4</td>\n",
       "            <td>David</td>\n",
       "            <td>Jones</td>\n",
       "            <td>2</td>\n",
       "            <td>2011-11-11</td>\n",
       "            <td>95000.0</td>\n",
       "            <td>7000.0</td>\n",
       "            <td>Sales Manager</td>\n",
       "            <td>None</td>\n",
       "            <td>4</td>\n",
       "            <td>david.jones@example.com</td>\n",
       "            <td>555-0103</td>\n",
       "        </tr>\n",
       "        <tr>\n",
       "            <td>5</td>\n",
       "            <td>Eva</td>\n",
       "            <td>Brown</td>\n",
       "            <td>2</td>\n",
       "            <td>2016-05-22</td>\n",
       "            <td>70000.0</td>\n",
       "            <td>3000.0</td>\n",
       "            <td>Sales Representative</td>\n",
       "            <td>4</td>\n",
       "            <td>3</td>\n",
       "            <td>eva.brown@example.com</td>\n",
       "            <td>555-0104</td>\n",
       "        </tr>\n",
       "        <tr>\n",
       "            <td>6</td>\n",
       "            <td>Frank</td>\n",
       "            <td>Davis</td>\n",
       "            <td>2</td>\n",
       "            <td>2018-07-01</td>\n",
       "            <td>68000.0</td>\n",
       "            <td>None</td>\n",
       "            <td>Sales Representative</td>\n",
       "            <td>4</td>\n",
       "            <td>2</td>\n",
       "            <td>frank.davis@example.com</td>\n",
       "            <td>555-0105</td>\n",
       "        </tr>\n",
       "        <tr>\n",
       "            <td>7</td>\n",
       "            <td>Grace</td>\n",
       "            <td>Miller</td>\n",
       "            <td>3</td>\n",
       "            <td>2013-02-28</td>\n",
       "            <td>75000.0</td>\n",
       "            <td>4000.0</td>\n",
       "            <td>HR Specialist</td>\n",
       "            <td>None</td>\n",
       "            <td>4</td>\n",
       "            <td>grace.miller@example.com</td>\n",
       "            <td>555-0106</td>\n",
       "        </tr>\n",
       "        <tr>\n",
       "            <td>8</td>\n",
       "            <td>Henry</td>\n",
       "            <td>Wilson</td>\n",
       "            <td>3</td>\n",
       "            <td>2019-10-10</td>\n",
       "            <td>60000.0</td>\n",
       "            <td>2000.0</td>\n",
       "            <td>HR Assistant</td>\n",
       "            <td>7</td>\n",
       "            <td>3</td>\n",
       "            <td>henry.wilson@example.com</td>\n",
       "            <td>555-0107</td>\n",
       "        </tr>\n",
       "        <tr>\n",
       "            <td>9</td>\n",
       "            <td>Ivy</td>\n",
       "            <td>Moore</td>\n",
       "            <td>4</td>\n",
       "            <td>2014-08-19</td>\n",
       "            <td>85000.0</td>\n",
       "            <td>5000.0</td>\n",
       "            <td>Marketing Manager</td>\n",
       "            <td>None</td>\n",
       "            <td>4</td>\n",
       "            <td>ivy.moore@example.com</td>\n",
       "            <td>555-0108</td>\n",
       "        </tr>\n",
       "        <tr>\n",
       "            <td>10</td>\n",
       "            <td>Sam</td>\n",
       "            <td>White</td>\n",
       "            <td>None</td>\n",
       "            <td>2023-01-01</td>\n",
       "            <td>50000.0</td>\n",
       "            <td>None</td>\n",
       "            <td>Intern</td>\n",
       "            <td>3</td>\n",
       "            <td>None</td>\n",
       "            <td>None</td>\n",
       "            <td>None</td>\n",
       "        </tr>\n",
       "        <tr>\n",
       "            <td>11</td>\n",
       "            <td>Jack</td>\n",
       "            <td>Taylor</td>\n",
       "            <td>4</td>\n",
       "            <td>2020-01-15</td>\n",
       "            <td>65000.0</td>\n",
       "            <td>None</td>\n",
       "            <td>Marketing Specialist</td>\n",
       "            <td>9</td>\n",
       "            <td>3</td>\n",
       "            <td>jack.taylor@example.com</td>\n",
       "            <td>555-0109</td>\n",
       "        </tr>\n",
       "        <tr>\n",
       "            <td>12</td>\n",
       "            <td>Kathy</td>\n",
       "            <td>Anderson</td>\n",
       "            <td>5</td>\n",
       "            <td>2017-04-03</td>\n",
       "            <td>78000.0</td>\n",
       "            <td>4500.0</td>\n",
       "            <td>Finance Analyst</td>\n",
       "            <td>None</td>\n",
       "            <td>4</td>\n",
       "            <td>kathy.anderson@example.com</td>\n",
       "            <td>555-0110</td>\n",
       "        </tr>\n",
       "        <tr>\n",
       "            <td>13</td>\n",
       "            <td>Leo</td>\n",
       "            <td>Thomas</td>\n",
       "            <td>5</td>\n",
       "            <td>2021-12-05</td>\n",
       "            <td>55000.0</td>\n",
       "            <td>None</td>\n",
       "            <td>Junior Finance Analyst</td>\n",
       "            <td>11</td>\n",
       "            <td>3</td>\n",
       "            <td>leo.thomas@example.com</td>\n",
       "            <td>555-0111</td>\n",
       "        </tr>\n",
       "    </tbody>\n",
       "</table>"
      ],
      "text/plain": [
       "[(1, 'Alice', 'Smith', 1, '2010-06-01', 120000.0, 10000.0, 'CTO', None, 5, 'alice.smith@example.com', '555-0100'),\n",
       " (2, 'Bob', 'Johnson', 1, '2012-09-15', 90000.0, 5000.0, 'Senior Engineer', 1, 4, 'bob.johnson@example.com', '555-0101'),\n",
       " (3, 'Carol', 'Williams', 1, '2015-03-20', 80000.0, None, 'Engineer', 2, 3, 'carol.williams@example.com', '555-0102'),\n",
       " (4, 'David', 'Jones', 2, '2011-11-11', 95000.0, 7000.0, 'Sales Manager', None, 4, 'david.jones@example.com', '555-0103'),\n",
       " (5, 'Eva', 'Brown', 2, '2016-05-22', 70000.0, 3000.0, 'Sales Representative', 4, 3, 'eva.brown@example.com', '555-0104'),\n",
       " (6, 'Frank', 'Davis', 2, '2018-07-01', 68000.0, None, 'Sales Representative', 4, 2, 'frank.davis@example.com', '555-0105'),\n",
       " (7, 'Grace', 'Miller', 3, '2013-02-28', 75000.0, 4000.0, 'HR Specialist', None, 4, 'grace.miller@example.com', '555-0106'),\n",
       " (8, 'Henry', 'Wilson', 3, '2019-10-10', 60000.0, 2000.0, 'HR Assistant', 7, 3, 'henry.wilson@example.com', '555-0107'),\n",
       " (9, 'Ivy', 'Moore', 4, '2014-08-19', 85000.0, 5000.0, 'Marketing Manager', None, 4, 'ivy.moore@example.com', '555-0108'),\n",
       " (10, 'Sam', 'White', None, '2023-01-01', 50000.0, None, 'Intern', 3, None, None, None),\n",
       " (11, 'Jack', 'Taylor', 4, '2020-01-15', 65000.0, None, 'Marketing Specialist', 9, 3, 'jack.taylor@example.com', '555-0109'),\n",
       " (12, 'Kathy', 'Anderson', 5, '2017-04-03', 78000.0, 4500.0, 'Finance Analyst', None, 4, 'kathy.anderson@example.com', '555-0110'),\n",
       " (13, 'Leo', 'Thomas', 5, '2021-12-05', 55000.0, None, 'Junior Finance Analyst', 11, 3, 'leo.thomas@example.com', '555-0111')]"
      ]
     },
     "execution_count": 9,
     "metadata": {},
     "output_type": "execute_result"
    }
   ],
   "source": [
    "%%sql\n",
    "SELECT *\n",
    "FROM employees"
   ]
  },
  {
   "cell_type": "code",
   "execution_count": 55,
   "metadata": {
    "id": "ZFvglWV1EFot"
   },
   "outputs": [
    {
     "name": "stdout",
     "output_type": "stream",
     "text": [
      " * sqlite:///my_database.db\n",
      "Done.\n"
     ]
    },
    {
     "data": {
      "text/html": [
       "<table>\n",
       "    <thead>\n",
       "        <tr>\n",
       "            <th>first_name</th>\n",
       "            <th>last_name</th>\n",
       "            <th>total_salary</th>\n",
       "        </tr>\n",
       "    </thead>\n",
       "    <tbody>\n",
       "        <tr>\n",
       "            <td>Alice</td>\n",
       "            <td>Smith</td>\n",
       "            <td>130000.0</td>\n",
       "        </tr>\n",
       "        <tr>\n",
       "            <td>Bob</td>\n",
       "            <td>Johnson</td>\n",
       "            <td>95000.0</td>\n",
       "        </tr>\n",
       "        <tr>\n",
       "            <td>David</td>\n",
       "            <td>Jones</td>\n",
       "            <td>102000.0</td>\n",
       "        </tr>\n",
       "        <tr>\n",
       "            <td>Eva</td>\n",
       "            <td>Brown</td>\n",
       "            <td>73000.0</td>\n",
       "        </tr>\n",
       "        <tr>\n",
       "            <td>Grace</td>\n",
       "            <td>Miller</td>\n",
       "            <td>79000.0</td>\n",
       "        </tr>\n",
       "        <tr>\n",
       "            <td>Henry</td>\n",
       "            <td>Wilson</td>\n",
       "            <td>62000.0</td>\n",
       "        </tr>\n",
       "        <tr>\n",
       "            <td>Ivy</td>\n",
       "            <td>Moore</td>\n",
       "            <td>90000.0</td>\n",
       "        </tr>\n",
       "        <tr>\n",
       "            <td>Kathy</td>\n",
       "            <td>Anderson</td>\n",
       "            <td>82500.0</td>\n",
       "        </tr>\n",
       "    </tbody>\n",
       "</table>"
      ],
      "text/plain": [
       "[('Alice', 'Smith', 130000.0),\n",
       " ('Bob', 'Johnson', 95000.0),\n",
       " ('David', 'Jones', 102000.0),\n",
       " ('Eva', 'Brown', 73000.0),\n",
       " ('Grace', 'Miller', 79000.0),\n",
       " ('Henry', 'Wilson', 62000.0),\n",
       " ('Ivy', 'Moore', 90000.0),\n",
       " ('Kathy', 'Anderson', 82500.0)]"
      ]
     },
     "execution_count": 55,
     "metadata": {},
     "output_type": "execute_result"
    }
   ],
   "source": [
    "%%sql\n",
    "SELECT first_name, last_name, salary + bonus AS total_salary\n",
    "FROM employees\n",
    "WHERE bonus IS NOT NULL"
   ]
  },
  {
   "cell_type": "code",
   "execution_count": 60,
   "metadata": {
    "id": "bZ5MO3tGTAf_"
   },
   "outputs": [
    {
     "name": "stdout",
     "output_type": "stream",
     "text": [
      " * sqlite:///my_database.db\n",
      "Done.\n"
     ]
    },
    {
     "data": {
      "text/html": [
       "<table>\n",
       "    <thead>\n",
       "        <tr>\n",
       "            <th>first_name</th>\n",
       "            <th>last_name</th>\n",
       "            <th>performance_rating</th>\n",
       "        </tr>\n",
       "    </thead>\n",
       "    <tbody>\n",
       "        <tr>\n",
       "            <td>Bob</td>\n",
       "            <td>Johnson</td>\n",
       "            <td>4</td>\n",
       "        </tr>\n",
       "        <tr>\n",
       "            <td>David</td>\n",
       "            <td>Jones</td>\n",
       "            <td>4</td>\n",
       "        </tr>\n",
       "        <tr>\n",
       "            <td>Frank</td>\n",
       "            <td>Davis</td>\n",
       "            <td>2</td>\n",
       "        </tr>\n",
       "        <tr>\n",
       "            <td>Grace</td>\n",
       "            <td>Miller</td>\n",
       "            <td>4</td>\n",
       "        </tr>\n",
       "        <tr>\n",
       "            <td>Ivy</td>\n",
       "            <td>Moore</td>\n",
       "            <td>4</td>\n",
       "        </tr>\n",
       "        <tr>\n",
       "            <td>Kathy</td>\n",
       "            <td>Anderson</td>\n",
       "            <td>4</td>\n",
       "        </tr>\n",
       "    </tbody>\n",
       "</table>"
      ],
      "text/plain": [
       "[('Bob', 'Johnson', 4),\n",
       " ('David', 'Jones', 4),\n",
       " ('Frank', 'Davis', 2),\n",
       " ('Grace', 'Miller', 4),\n",
       " ('Ivy', 'Moore', 4),\n",
       " ('Kathy', 'Anderson', 4)]"
      ]
     },
     "execution_count": 60,
     "metadata": {},
     "output_type": "execute_result"
    }
   ],
   "source": [
    "%%sql\n",
    "SELECT first_name, last_name, performance_rating\n",
    "FROM employees\n",
    "WHERE performance_rating % 2 = 0"
   ]
  },
  {
   "cell_type": "markdown",
   "metadata": {
    "id": "RJMYHHYK9-Oq"
   },
   "source": [
    "## Using mathematical functions"
   ]
  },
  {
   "cell_type": "markdown",
   "metadata": {
    "id": "mFBS4F9a-Dfi"
   },
   "source": [
    "* ROUND: rounding\n",
    "* ABS: absolute value\n",
    "* POWER: power\n",
    "* CEIL: ceiling\n",
    "* FLOOR: floor"
   ]
  },
  {
   "cell_type": "code",
   "execution_count": 66,
   "metadata": {
    "id": "sX6mY1MQEFot"
   },
   "outputs": [
    {
     "name": "stdout",
     "output_type": "stream",
     "text": [
      " * sqlite:///my_database.db\n",
      "Done.\n"
     ]
    },
    {
     "data": {
      "text/html": [
       "<table>\n",
       "    <thead>\n",
       "        <tr>\n",
       "            <th>first_name</th>\n",
       "            <th>last_name</th>\n",
       "            <th>salary_perf_ratio</th>\n",
       "        </tr>\n",
       "    </thead>\n",
       "    <tbody>\n",
       "        <tr>\n",
       "            <td>Carol</td>\n",
       "            <td>Williams</td>\n",
       "            <td>26667.0</td>\n",
       "        </tr>\n",
       "        <tr>\n",
       "            <td>Frank</td>\n",
       "            <td>Davis</td>\n",
       "            <td>34000.0</td>\n",
       "        </tr>\n",
       "    </tbody>\n",
       "</table>"
      ],
      "text/plain": [
       "[('Carol', 'Williams', 26667.0), ('Frank', 'Davis', 34000.0)]"
      ]
     },
     "execution_count": 66,
     "metadata": {},
     "output_type": "execute_result"
    }
   ],
   "source": [
    "%%sql\n",
    "SELECT first_name, last_name, ROUND(salary/performance_rating, 0) AS salary_perf_ratio\n",
    "FROM employees\n",
    "WHERE salary/performance_rating > 25000"
   ]
  },
  {
   "cell_type": "markdown",
   "metadata": {
    "id": "vUFbY0mgEFot"
   },
   "source": [
    "Even after rounding to no decimals, the salary still contains decimals because its type is REAL. To eliminate decimals altogether we can temporally convert its type to INTEGER using CAST"
   ]
  },
  {
   "cell_type": "code",
   "execution_count": 68,
   "metadata": {
    "id": "QR-ra-FMEFot"
   },
   "outputs": [
    {
     "name": "stdout",
     "output_type": "stream",
     "text": [
      " * sqlite:///my_database.db\n",
      "Done.\n"
     ]
    },
    {
     "data": {
      "text/html": [
       "<table>\n",
       "    <thead>\n",
       "        <tr>\n",
       "            <th>salary</th>\n",
       "        </tr>\n",
       "    </thead>\n",
       "    <tbody>\n",
       "        <tr>\n",
       "            <td>120000</td>\n",
       "        </tr>\n",
       "        <tr>\n",
       "            <td>90000</td>\n",
       "        </tr>\n",
       "        <tr>\n",
       "            <td>80000</td>\n",
       "        </tr>\n",
       "        <tr>\n",
       "            <td>95000</td>\n",
       "        </tr>\n",
       "        <tr>\n",
       "            <td>70000</td>\n",
       "        </tr>\n",
       "        <tr>\n",
       "            <td>68000</td>\n",
       "        </tr>\n",
       "        <tr>\n",
       "            <td>75000</td>\n",
       "        </tr>\n",
       "        <tr>\n",
       "            <td>60000</td>\n",
       "        </tr>\n",
       "        <tr>\n",
       "            <td>85000</td>\n",
       "        </tr>\n",
       "        <tr>\n",
       "            <td>50000</td>\n",
       "        </tr>\n",
       "        <tr>\n",
       "            <td>65000</td>\n",
       "        </tr>\n",
       "        <tr>\n",
       "            <td>78000</td>\n",
       "        </tr>\n",
       "        <tr>\n",
       "            <td>55000</td>\n",
       "        </tr>\n",
       "    </tbody>\n",
       "</table>"
      ],
      "text/plain": [
       "[(120000,),\n",
       " (90000,),\n",
       " (80000,),\n",
       " (95000,),\n",
       " (70000,),\n",
       " (68000,),\n",
       " (75000,),\n",
       " (60000,),\n",
       " (85000,),\n",
       " (50000,),\n",
       " (65000,),\n",
       " (78000,),\n",
       " (55000,)]"
      ]
     },
     "execution_count": 68,
     "metadata": {},
     "output_type": "execute_result"
    }
   ],
   "source": [
    "%%sql\n",
    "SELECT CAST(salary AS INTEGER) AS salary\n",
    "FROM employees"
   ]
  },
  {
   "cell_type": "markdown",
   "metadata": {
    "id": "WQg674wel401"
   },
   "source": [
    "## Aggregation functions"
   ]
  },
  {
   "cell_type": "markdown",
   "metadata": {
    "id": "2ywBVHny_cNW"
   },
   "source": [
    "* COUNT\n",
    "* MIN\n",
    "* MAX\n",
    "* AVG\n",
    "* SUM"
   ]
  },
  {
   "cell_type": "code",
   "execution_count": 11,
   "metadata": {
    "colab": {
     "base_uri": "https://localhost:8080/",
     "height": 353
    },
    "id": "YJFj4z8Xj0DS",
    "outputId": "38ad089e-d6d7-4c19-95d1-e55991615bec"
   },
   "outputs": [
    {
     "name": "stdout",
     "output_type": "stream",
     "text": [
      " * sqlite:///my_database.db\n",
      "Done.\n"
     ]
    },
    {
     "data": {
      "text/html": [
       "<table>\n",
       "    <thead>\n",
       "        <tr>\n",
       "            <th>id</th>\n",
       "            <th>first_name</th>\n",
       "            <th>last_name</th>\n",
       "            <th>department_id</th>\n",
       "            <th>hire_date</th>\n",
       "            <th>salary</th>\n",
       "            <th>bonus</th>\n",
       "            <th>job_title</th>\n",
       "            <th>manager_id</th>\n",
       "            <th>performance_rating</th>\n",
       "            <th>email</th>\n",
       "            <th>phone_number</th>\n",
       "        </tr>\n",
       "    </thead>\n",
       "    <tbody>\n",
       "        <tr>\n",
       "            <td>1</td>\n",
       "            <td>Alice</td>\n",
       "            <td>Smith</td>\n",
       "            <td>1</td>\n",
       "            <td>2010-06-01</td>\n",
       "            <td>120000.0</td>\n",
       "            <td>10000.0</td>\n",
       "            <td>CTO</td>\n",
       "            <td>None</td>\n",
       "            <td>5</td>\n",
       "            <td>alice.smith@example.com</td>\n",
       "            <td>555-0100</td>\n",
       "        </tr>\n",
       "        <tr>\n",
       "            <td>2</td>\n",
       "            <td>Bob</td>\n",
       "            <td>Johnson</td>\n",
       "            <td>1</td>\n",
       "            <td>2012-09-15</td>\n",
       "            <td>90000.0</td>\n",
       "            <td>5000.0</td>\n",
       "            <td>Senior Engineer</td>\n",
       "            <td>1</td>\n",
       "            <td>4</td>\n",
       "            <td>bob.johnson@example.com</td>\n",
       "            <td>555-0101</td>\n",
       "        </tr>\n",
       "        <tr>\n",
       "            <td>3</td>\n",
       "            <td>Carol</td>\n",
       "            <td>Williams</td>\n",
       "            <td>1</td>\n",
       "            <td>2015-03-20</td>\n",
       "            <td>80000.0</td>\n",
       "            <td>None</td>\n",
       "            <td>Engineer</td>\n",
       "            <td>2</td>\n",
       "            <td>3</td>\n",
       "            <td>carol.williams@example.com</td>\n",
       "            <td>555-0102</td>\n",
       "        </tr>\n",
       "        <tr>\n",
       "            <td>4</td>\n",
       "            <td>David</td>\n",
       "            <td>Jones</td>\n",
       "            <td>2</td>\n",
       "            <td>2011-11-11</td>\n",
       "            <td>95000.0</td>\n",
       "            <td>7000.0</td>\n",
       "            <td>Sales Manager</td>\n",
       "            <td>None</td>\n",
       "            <td>4</td>\n",
       "            <td>david.jones@example.com</td>\n",
       "            <td>555-0103</td>\n",
       "        </tr>\n",
       "        <tr>\n",
       "            <td>5</td>\n",
       "            <td>Eva</td>\n",
       "            <td>Brown</td>\n",
       "            <td>2</td>\n",
       "            <td>2016-05-22</td>\n",
       "            <td>70000.0</td>\n",
       "            <td>3000.0</td>\n",
       "            <td>Sales Representative</td>\n",
       "            <td>4</td>\n",
       "            <td>3</td>\n",
       "            <td>eva.brown@example.com</td>\n",
       "            <td>555-0104</td>\n",
       "        </tr>\n",
       "        <tr>\n",
       "            <td>6</td>\n",
       "            <td>Frank</td>\n",
       "            <td>Davis</td>\n",
       "            <td>2</td>\n",
       "            <td>2018-07-01</td>\n",
       "            <td>68000.0</td>\n",
       "            <td>None</td>\n",
       "            <td>Sales Representative</td>\n",
       "            <td>4</td>\n",
       "            <td>2</td>\n",
       "            <td>frank.davis@example.com</td>\n",
       "            <td>555-0105</td>\n",
       "        </tr>\n",
       "        <tr>\n",
       "            <td>7</td>\n",
       "            <td>Grace</td>\n",
       "            <td>Miller</td>\n",
       "            <td>3</td>\n",
       "            <td>2013-02-28</td>\n",
       "            <td>75000.0</td>\n",
       "            <td>4000.0</td>\n",
       "            <td>HR Specialist</td>\n",
       "            <td>None</td>\n",
       "            <td>4</td>\n",
       "            <td>grace.miller@example.com</td>\n",
       "            <td>555-0106</td>\n",
       "        </tr>\n",
       "        <tr>\n",
       "            <td>8</td>\n",
       "            <td>Henry</td>\n",
       "            <td>Wilson</td>\n",
       "            <td>3</td>\n",
       "            <td>2019-10-10</td>\n",
       "            <td>60000.0</td>\n",
       "            <td>2000.0</td>\n",
       "            <td>HR Assistant</td>\n",
       "            <td>7</td>\n",
       "            <td>3</td>\n",
       "            <td>henry.wilson@example.com</td>\n",
       "            <td>555-0107</td>\n",
       "        </tr>\n",
       "        <tr>\n",
       "            <td>9</td>\n",
       "            <td>Ivy</td>\n",
       "            <td>Moore</td>\n",
       "            <td>4</td>\n",
       "            <td>2014-08-19</td>\n",
       "            <td>85000.0</td>\n",
       "            <td>5000.0</td>\n",
       "            <td>Marketing Manager</td>\n",
       "            <td>None</td>\n",
       "            <td>4</td>\n",
       "            <td>ivy.moore@example.com</td>\n",
       "            <td>555-0108</td>\n",
       "        </tr>\n",
       "        <tr>\n",
       "            <td>10</td>\n",
       "            <td>Sam</td>\n",
       "            <td>White</td>\n",
       "            <td>None</td>\n",
       "            <td>2023-01-01</td>\n",
       "            <td>50000.0</td>\n",
       "            <td>None</td>\n",
       "            <td>Intern</td>\n",
       "            <td>3</td>\n",
       "            <td>None</td>\n",
       "            <td>None</td>\n",
       "            <td>None</td>\n",
       "        </tr>\n",
       "        <tr>\n",
       "            <td>11</td>\n",
       "            <td>Jack</td>\n",
       "            <td>Taylor</td>\n",
       "            <td>4</td>\n",
       "            <td>2020-01-15</td>\n",
       "            <td>65000.0</td>\n",
       "            <td>None</td>\n",
       "            <td>Marketing Specialist</td>\n",
       "            <td>9</td>\n",
       "            <td>3</td>\n",
       "            <td>jack.taylor@example.com</td>\n",
       "            <td>555-0109</td>\n",
       "        </tr>\n",
       "        <tr>\n",
       "            <td>12</td>\n",
       "            <td>Kathy</td>\n",
       "            <td>Anderson</td>\n",
       "            <td>5</td>\n",
       "            <td>2017-04-03</td>\n",
       "            <td>78000.0</td>\n",
       "            <td>4500.0</td>\n",
       "            <td>Finance Analyst</td>\n",
       "            <td>None</td>\n",
       "            <td>4</td>\n",
       "            <td>kathy.anderson@example.com</td>\n",
       "            <td>555-0110</td>\n",
       "        </tr>\n",
       "        <tr>\n",
       "            <td>13</td>\n",
       "            <td>Leo</td>\n",
       "            <td>Thomas</td>\n",
       "            <td>5</td>\n",
       "            <td>2021-12-05</td>\n",
       "            <td>55000.0</td>\n",
       "            <td>None</td>\n",
       "            <td>Junior Finance Analyst</td>\n",
       "            <td>11</td>\n",
       "            <td>3</td>\n",
       "            <td>leo.thomas@example.com</td>\n",
       "            <td>555-0111</td>\n",
       "        </tr>\n",
       "    </tbody>\n",
       "</table>"
      ],
      "text/plain": [
       "[(1, 'Alice', 'Smith', 1, '2010-06-01', 120000.0, 10000.0, 'CTO', None, 5, 'alice.smith@example.com', '555-0100'),\n",
       " (2, 'Bob', 'Johnson', 1, '2012-09-15', 90000.0, 5000.0, 'Senior Engineer', 1, 4, 'bob.johnson@example.com', '555-0101'),\n",
       " (3, 'Carol', 'Williams', 1, '2015-03-20', 80000.0, None, 'Engineer', 2, 3, 'carol.williams@example.com', '555-0102'),\n",
       " (4, 'David', 'Jones', 2, '2011-11-11', 95000.0, 7000.0, 'Sales Manager', None, 4, 'david.jones@example.com', '555-0103'),\n",
       " (5, 'Eva', 'Brown', 2, '2016-05-22', 70000.0, 3000.0, 'Sales Representative', 4, 3, 'eva.brown@example.com', '555-0104'),\n",
       " (6, 'Frank', 'Davis', 2, '2018-07-01', 68000.0, None, 'Sales Representative', 4, 2, 'frank.davis@example.com', '555-0105'),\n",
       " (7, 'Grace', 'Miller', 3, '2013-02-28', 75000.0, 4000.0, 'HR Specialist', None, 4, 'grace.miller@example.com', '555-0106'),\n",
       " (8, 'Henry', 'Wilson', 3, '2019-10-10', 60000.0, 2000.0, 'HR Assistant', 7, 3, 'henry.wilson@example.com', '555-0107'),\n",
       " (9, 'Ivy', 'Moore', 4, '2014-08-19', 85000.0, 5000.0, 'Marketing Manager', None, 4, 'ivy.moore@example.com', '555-0108'),\n",
       " (10, 'Sam', 'White', None, '2023-01-01', 50000.0, None, 'Intern', 3, None, None, None),\n",
       " (11, 'Jack', 'Taylor', 4, '2020-01-15', 65000.0, None, 'Marketing Specialist', 9, 3, 'jack.taylor@example.com', '555-0109'),\n",
       " (12, 'Kathy', 'Anderson', 5, '2017-04-03', 78000.0, 4500.0, 'Finance Analyst', None, 4, 'kathy.anderson@example.com', '555-0110'),\n",
       " (13, 'Leo', 'Thomas', 5, '2021-12-05', 55000.0, None, 'Junior Finance Analyst', 11, 3, 'leo.thomas@example.com', '555-0111')]"
      ]
     },
     "execution_count": 11,
     "metadata": {},
     "output_type": "execute_result"
    }
   ],
   "source": [
    "%%sql\n",
    "SELECT *\n",
    "FROM employees"
   ]
  },
  {
   "cell_type": "code",
   "execution_count": 70,
   "metadata": {
    "id": "QQnKUHCNpcCs"
   },
   "outputs": [
    {
     "name": "stdout",
     "output_type": "stream",
     "text": [
      " * sqlite:///my_database.db\n",
      "Done.\n"
     ]
    },
    {
     "data": {
      "text/html": [
       "<table>\n",
       "    <thead>\n",
       "        <tr>\n",
       "            <th>min_perf_rating</th>\n",
       "        </tr>\n",
       "    </thead>\n",
       "    <tbody>\n",
       "        <tr>\n",
       "            <td>2</td>\n",
       "        </tr>\n",
       "    </tbody>\n",
       "</table>"
      ],
      "text/plain": [
       "[(2,)]"
      ]
     },
     "execution_count": 70,
     "metadata": {},
     "output_type": "execute_result"
    }
   ],
   "source": [
    "%%sql\n",
    "SELECT MIN(performance_rating) AS min_perf_rating\n",
    "FROM employees"
   ]
  },
  {
   "cell_type": "code",
   "execution_count": 73,
   "metadata": {
    "id": "AVZ2kgSXqR1P"
   },
   "outputs": [
    {
     "name": "stdout",
     "output_type": "stream",
     "text": [
      " * sqlite:///my_database.db\n",
      "Done.\n"
     ]
    },
    {
     "data": {
      "text/html": [
       "<table>\n",
       "    <thead>\n",
       "        <tr>\n",
       "            <th>avg_salary</th>\n",
       "        </tr>\n",
       "    </thead>\n",
       "    <tbody>\n",
       "        <tr>\n",
       "            <td>66333.33</td>\n",
       "        </tr>\n",
       "    </tbody>\n",
       "</table>"
      ],
      "text/plain": [
       "[(66333.33,)]"
      ]
     },
     "execution_count": 73,
     "metadata": {},
     "output_type": "execute_result"
    }
   ],
   "source": [
    "%%sql\n",
    "SELECT ROUND(AVG(salary), 2) AS avg_salary\n",
    "FROM employees\n",
    "WHERE performance_rating < 4"
   ]
  },
  {
   "cell_type": "code",
   "execution_count": 75,
   "metadata": {
    "id": "emhdj1ubp_XH"
   },
   "outputs": [
    {
     "name": "stdout",
     "output_type": "stream",
     "text": [
      " * sqlite:///my_database.db\n",
      "Done.\n"
     ]
    },
    {
     "data": {
      "text/html": [
       "<table>\n",
       "    <thead>\n",
       "        <tr>\n",
       "            <th>bonuses_given</th>\n",
       "        </tr>\n",
       "    </thead>\n",
       "    <tbody>\n",
       "        <tr>\n",
       "            <td>8</td>\n",
       "        </tr>\n",
       "    </tbody>\n",
       "</table>"
      ],
      "text/plain": [
       "[(8,)]"
      ]
     },
     "execution_count": 75,
     "metadata": {},
     "output_type": "execute_result"
    }
   ],
   "source": [
    "%%sql\n",
    "SELECT COUNT(bonus) AS bonuses_given\n",
    "FROM employees"
   ]
  },
  {
   "cell_type": "markdown",
   "metadata": {
    "id": "aaVmg_wTQ5HA"
   },
   "source": [
    "COUNT(*) counts all the rows, even those with all NULL values"
   ]
  },
  {
   "cell_type": "code",
   "execution_count": 76,
   "metadata": {
    "id": "-j7xNubOqFi7"
   },
   "outputs": [
    {
     "name": "stdout",
     "output_type": "stream",
     "text": [
      " * sqlite:///my_database.db\n",
      "Done.\n"
     ]
    },
    {
     "data": {
      "text/html": [
       "<table>\n",
       "    <thead>\n",
       "        <tr>\n",
       "            <th>COUNT(*)</th>\n",
       "        </tr>\n",
       "    </thead>\n",
       "    <tbody>\n",
       "        <tr>\n",
       "            <td>13</td>\n",
       "        </tr>\n",
       "    </tbody>\n",
       "</table>"
      ],
      "text/plain": [
       "[(13,)]"
      ]
     },
     "execution_count": 76,
     "metadata": {},
     "output_type": "execute_result"
    }
   ],
   "source": [
    "%%sql\n",
    "SELECT COUNT(*)\n",
    "FROM employees"
   ]
  },
  {
   "cell_type": "code",
   "execution_count": 77,
   "metadata": {
    "id": "0qbBvC45waOr"
   },
   "outputs": [
    {
     "name": "stdout",
     "output_type": "stream",
     "text": [
      " * sqlite:///my_database.db\n",
      "Done.\n"
     ]
    },
    {
     "data": {
      "text/html": [
       "<table>\n",
       "    <thead>\n",
       "        <tr>\n",
       "            <th>n_departments</th>\n",
       "        </tr>\n",
       "    </thead>\n",
       "    <tbody>\n",
       "        <tr>\n",
       "            <td>5</td>\n",
       "        </tr>\n",
       "    </tbody>\n",
       "</table>"
      ],
      "text/plain": [
       "[(5,)]"
      ]
     },
     "execution_count": 77,
     "metadata": {},
     "output_type": "execute_result"
    }
   ],
   "source": [
    "%%sql\n",
    "SELECT COUNT(DISTINCT department_id) AS n_departments\n",
    "FROM employees"
   ]
  },
  {
   "cell_type": "code",
   "execution_count": 78,
   "metadata": {
    "id": "372OyXuTednN"
   },
   "outputs": [
    {
     "name": "stdout",
     "output_type": "stream",
     "text": [
      " * sqlite:///my_database.db\n",
      "Done.\n"
     ]
    },
    {
     "data": {
      "text/html": [
       "<table>\n",
       "    <thead>\n",
       "        <tr>\n",
       "            <th>perc_bonuses_given</th>\n",
       "        </tr>\n",
       "    </thead>\n",
       "    <tbody>\n",
       "        <tr>\n",
       "            <td>0</td>\n",
       "        </tr>\n",
       "    </tbody>\n",
       "</table>"
      ],
      "text/plain": [
       "[(0,)]"
      ]
     },
     "execution_count": 78,
     "metadata": {},
     "output_type": "execute_result"
    }
   ],
   "source": [
    "%%sql\n",
    "SELECT COUNT(bonus) / COUNT(*) AS perc_bonuses_given\n",
    "FROM employees"
   ]
  },
  {
   "cell_type": "code",
   "execution_count": 80,
   "metadata": {
    "id": "Zptd49tRmScv"
   },
   "outputs": [
    {
     "name": "stdout",
     "output_type": "stream",
     "text": [
      " * sqlite:///my_database.db\n",
      "Done.\n"
     ]
    },
    {
     "data": {
      "text/html": [
       "<table>\n",
       "    <thead>\n",
       "        <tr>\n",
       "            <th>perc_bonuses_given</th>\n",
       "        </tr>\n",
       "    </thead>\n",
       "    <tbody>\n",
       "        <tr>\n",
       "            <td>0.62</td>\n",
       "        </tr>\n",
       "    </tbody>\n",
       "</table>"
      ],
      "text/plain": [
       "[(0.62,)]"
      ]
     },
     "execution_count": 80,
     "metadata": {},
     "output_type": "execute_result"
    }
   ],
   "source": [
    "%%sql\n",
    "SELECT ROUND(CAST(COUNT(bonus) AS REAL) / COUNT(*), 2) AS perc_bonuses_given\n",
    "FROM employees"
   ]
  },
  {
   "cell_type": "code",
   "execution_count": 83,
   "metadata": {
    "id": "jwbqOdBAe-Dk"
   },
   "outputs": [
    {
     "name": "stdout",
     "output_type": "stream",
     "text": [
      " * sqlite:///my_database.db\n",
      "Done.\n"
     ]
    },
    {
     "data": {
      "text/html": [
       "<table>\n",
       "    <thead>\n",
       "        <tr>\n",
       "            <th>perc_bonuses_given</th>\n",
       "        </tr>\n",
       "    </thead>\n",
       "    <tbody>\n",
       "        <tr>\n",
       "            <td>0.62</td>\n",
       "        </tr>\n",
       "    </tbody>\n",
       "</table>"
      ],
      "text/plain": [
       "[(0.62,)]"
      ]
     },
     "execution_count": 83,
     "metadata": {},
     "output_type": "execute_result"
    }
   ],
   "source": [
    "%%sql\n",
    "SELECT ROUND((1.0 * COUNT(bonus)) / COUNT(*), 2) AS perc_bonuses_given\n",
    "FROM employees"
   ]
  },
  {
   "cell_type": "code",
   "execution_count": 86,
   "metadata": {
    "id": "x24nWSG1fow6"
   },
   "outputs": [
    {
     "name": "stdout",
     "output_type": "stream",
     "text": [
      " * sqlite:///my_database.db\n",
      "Done.\n"
     ]
    },
    {
     "data": {
      "text/html": [
       "<table>\n",
       "    <thead>\n",
       "        <tr>\n",
       "            <th>perc_bonuses_given</th>\n",
       "        </tr>\n",
       "    </thead>\n",
       "    <tbody>\n",
       "        <tr>\n",
       "            <td>61.54</td>\n",
       "        </tr>\n",
       "    </tbody>\n",
       "</table>"
      ],
      "text/plain": [
       "[(61.54,)]"
      ]
     },
     "execution_count": 86,
     "metadata": {},
     "output_type": "execute_result"
    }
   ],
   "source": [
    "%%sql\n",
    "SELECT ROUND((1.0 * COUNT(bonus)) / COUNT(*) *100, 2) AS perc_bonuses_given\n",
    "FROM employees"
   ]
  },
  {
   "cell_type": "markdown",
   "metadata": {
    "id": "hEz4VnMvqv6E"
   },
   "source": [
    "## Grouped aggregation functions"
   ]
  },
  {
   "cell_type": "markdown",
   "metadata": {
    "id": "qlatFhk2BGMb"
   },
   "source": [
    "Aggregation functions can be used in conjunction with the GROUP BY clause to perform aggregations on groups of data in a column, rather than on all rows of a column."
   ]
  },
  {
   "cell_type": "code",
   "execution_count": 13,
   "metadata": {
    "colab": {
     "base_uri": "https://localhost:8080/",
     "height": 353
    },
    "id": "jHdsUuaIqvih",
    "outputId": "8c66a495-d2b0-41b0-f286-c80d10e9d008"
   },
   "outputs": [
    {
     "name": "stdout",
     "output_type": "stream",
     "text": [
      " * sqlite:///my_database.db\n",
      "Done.\n"
     ]
    },
    {
     "data": {
      "text/html": [
       "<table>\n",
       "    <thead>\n",
       "        <tr>\n",
       "            <th>id</th>\n",
       "            <th>first_name</th>\n",
       "            <th>last_name</th>\n",
       "            <th>department_id</th>\n",
       "            <th>hire_date</th>\n",
       "            <th>salary</th>\n",
       "            <th>bonus</th>\n",
       "            <th>job_title</th>\n",
       "            <th>manager_id</th>\n",
       "            <th>performance_rating</th>\n",
       "            <th>email</th>\n",
       "            <th>phone_number</th>\n",
       "        </tr>\n",
       "    </thead>\n",
       "    <tbody>\n",
       "        <tr>\n",
       "            <td>1</td>\n",
       "            <td>Alice</td>\n",
       "            <td>Smith</td>\n",
       "            <td>1</td>\n",
       "            <td>2010-06-01</td>\n",
       "            <td>120000.0</td>\n",
       "            <td>10000.0</td>\n",
       "            <td>CTO</td>\n",
       "            <td>None</td>\n",
       "            <td>5</td>\n",
       "            <td>alice.smith@example.com</td>\n",
       "            <td>555-0100</td>\n",
       "        </tr>\n",
       "        <tr>\n",
       "            <td>2</td>\n",
       "            <td>Bob</td>\n",
       "            <td>Johnson</td>\n",
       "            <td>1</td>\n",
       "            <td>2012-09-15</td>\n",
       "            <td>90000.0</td>\n",
       "            <td>5000.0</td>\n",
       "            <td>Senior Engineer</td>\n",
       "            <td>1</td>\n",
       "            <td>4</td>\n",
       "            <td>bob.johnson@example.com</td>\n",
       "            <td>555-0101</td>\n",
       "        </tr>\n",
       "        <tr>\n",
       "            <td>3</td>\n",
       "            <td>Carol</td>\n",
       "            <td>Williams</td>\n",
       "            <td>1</td>\n",
       "            <td>2015-03-20</td>\n",
       "            <td>80000.0</td>\n",
       "            <td>None</td>\n",
       "            <td>Engineer</td>\n",
       "            <td>2</td>\n",
       "            <td>3</td>\n",
       "            <td>carol.williams@example.com</td>\n",
       "            <td>555-0102</td>\n",
       "        </tr>\n",
       "        <tr>\n",
       "            <td>4</td>\n",
       "            <td>David</td>\n",
       "            <td>Jones</td>\n",
       "            <td>2</td>\n",
       "            <td>2011-11-11</td>\n",
       "            <td>95000.0</td>\n",
       "            <td>7000.0</td>\n",
       "            <td>Sales Manager</td>\n",
       "            <td>None</td>\n",
       "            <td>4</td>\n",
       "            <td>david.jones@example.com</td>\n",
       "            <td>555-0103</td>\n",
       "        </tr>\n",
       "        <tr>\n",
       "            <td>5</td>\n",
       "            <td>Eva</td>\n",
       "            <td>Brown</td>\n",
       "            <td>2</td>\n",
       "            <td>2016-05-22</td>\n",
       "            <td>70000.0</td>\n",
       "            <td>3000.0</td>\n",
       "            <td>Sales Representative</td>\n",
       "            <td>4</td>\n",
       "            <td>3</td>\n",
       "            <td>eva.brown@example.com</td>\n",
       "            <td>555-0104</td>\n",
       "        </tr>\n",
       "        <tr>\n",
       "            <td>6</td>\n",
       "            <td>Frank</td>\n",
       "            <td>Davis</td>\n",
       "            <td>2</td>\n",
       "            <td>2018-07-01</td>\n",
       "            <td>68000.0</td>\n",
       "            <td>None</td>\n",
       "            <td>Sales Representative</td>\n",
       "            <td>4</td>\n",
       "            <td>2</td>\n",
       "            <td>frank.davis@example.com</td>\n",
       "            <td>555-0105</td>\n",
       "        </tr>\n",
       "        <tr>\n",
       "            <td>7</td>\n",
       "            <td>Grace</td>\n",
       "            <td>Miller</td>\n",
       "            <td>3</td>\n",
       "            <td>2013-02-28</td>\n",
       "            <td>75000.0</td>\n",
       "            <td>4000.0</td>\n",
       "            <td>HR Specialist</td>\n",
       "            <td>None</td>\n",
       "            <td>4</td>\n",
       "            <td>grace.miller@example.com</td>\n",
       "            <td>555-0106</td>\n",
       "        </tr>\n",
       "        <tr>\n",
       "            <td>8</td>\n",
       "            <td>Henry</td>\n",
       "            <td>Wilson</td>\n",
       "            <td>3</td>\n",
       "            <td>2019-10-10</td>\n",
       "            <td>60000.0</td>\n",
       "            <td>2000.0</td>\n",
       "            <td>HR Assistant</td>\n",
       "            <td>7</td>\n",
       "            <td>3</td>\n",
       "            <td>henry.wilson@example.com</td>\n",
       "            <td>555-0107</td>\n",
       "        </tr>\n",
       "        <tr>\n",
       "            <td>9</td>\n",
       "            <td>Ivy</td>\n",
       "            <td>Moore</td>\n",
       "            <td>4</td>\n",
       "            <td>2014-08-19</td>\n",
       "            <td>85000.0</td>\n",
       "            <td>5000.0</td>\n",
       "            <td>Marketing Manager</td>\n",
       "            <td>None</td>\n",
       "            <td>4</td>\n",
       "            <td>ivy.moore@example.com</td>\n",
       "            <td>555-0108</td>\n",
       "        </tr>\n",
       "        <tr>\n",
       "            <td>10</td>\n",
       "            <td>Sam</td>\n",
       "            <td>White</td>\n",
       "            <td>None</td>\n",
       "            <td>2023-01-01</td>\n",
       "            <td>50000.0</td>\n",
       "            <td>None</td>\n",
       "            <td>Intern</td>\n",
       "            <td>3</td>\n",
       "            <td>None</td>\n",
       "            <td>None</td>\n",
       "            <td>None</td>\n",
       "        </tr>\n",
       "        <tr>\n",
       "            <td>11</td>\n",
       "            <td>Jack</td>\n",
       "            <td>Taylor</td>\n",
       "            <td>4</td>\n",
       "            <td>2020-01-15</td>\n",
       "            <td>65000.0</td>\n",
       "            <td>None</td>\n",
       "            <td>Marketing Specialist</td>\n",
       "            <td>9</td>\n",
       "            <td>3</td>\n",
       "            <td>jack.taylor@example.com</td>\n",
       "            <td>555-0109</td>\n",
       "        </tr>\n",
       "        <tr>\n",
       "            <td>12</td>\n",
       "            <td>Kathy</td>\n",
       "            <td>Anderson</td>\n",
       "            <td>5</td>\n",
       "            <td>2017-04-03</td>\n",
       "            <td>78000.0</td>\n",
       "            <td>4500.0</td>\n",
       "            <td>Finance Analyst</td>\n",
       "            <td>None</td>\n",
       "            <td>4</td>\n",
       "            <td>kathy.anderson@example.com</td>\n",
       "            <td>555-0110</td>\n",
       "        </tr>\n",
       "        <tr>\n",
       "            <td>13</td>\n",
       "            <td>Leo</td>\n",
       "            <td>Thomas</td>\n",
       "            <td>5</td>\n",
       "            <td>2021-12-05</td>\n",
       "            <td>55000.0</td>\n",
       "            <td>None</td>\n",
       "            <td>Junior Finance Analyst</td>\n",
       "            <td>11</td>\n",
       "            <td>3</td>\n",
       "            <td>leo.thomas@example.com</td>\n",
       "            <td>555-0111</td>\n",
       "        </tr>\n",
       "    </tbody>\n",
       "</table>"
      ],
      "text/plain": [
       "[(1, 'Alice', 'Smith', 1, '2010-06-01', 120000.0, 10000.0, 'CTO', None, 5, 'alice.smith@example.com', '555-0100'),\n",
       " (2, 'Bob', 'Johnson', 1, '2012-09-15', 90000.0, 5000.0, 'Senior Engineer', 1, 4, 'bob.johnson@example.com', '555-0101'),\n",
       " (3, 'Carol', 'Williams', 1, '2015-03-20', 80000.0, None, 'Engineer', 2, 3, 'carol.williams@example.com', '555-0102'),\n",
       " (4, 'David', 'Jones', 2, '2011-11-11', 95000.0, 7000.0, 'Sales Manager', None, 4, 'david.jones@example.com', '555-0103'),\n",
       " (5, 'Eva', 'Brown', 2, '2016-05-22', 70000.0, 3000.0, 'Sales Representative', 4, 3, 'eva.brown@example.com', '555-0104'),\n",
       " (6, 'Frank', 'Davis', 2, '2018-07-01', 68000.0, None, 'Sales Representative', 4, 2, 'frank.davis@example.com', '555-0105'),\n",
       " (7, 'Grace', 'Miller', 3, '2013-02-28', 75000.0, 4000.0, 'HR Specialist', None, 4, 'grace.miller@example.com', '555-0106'),\n",
       " (8, 'Henry', 'Wilson', 3, '2019-10-10', 60000.0, 2000.0, 'HR Assistant', 7, 3, 'henry.wilson@example.com', '555-0107'),\n",
       " (9, 'Ivy', 'Moore', 4, '2014-08-19', 85000.0, 5000.0, 'Marketing Manager', None, 4, 'ivy.moore@example.com', '555-0108'),\n",
       " (10, 'Sam', 'White', None, '2023-01-01', 50000.0, None, 'Intern', 3, None, None, None),\n",
       " (11, 'Jack', 'Taylor', 4, '2020-01-15', 65000.0, None, 'Marketing Specialist', 9, 3, 'jack.taylor@example.com', '555-0109'),\n",
       " (12, 'Kathy', 'Anderson', 5, '2017-04-03', 78000.0, 4500.0, 'Finance Analyst', None, 4, 'kathy.anderson@example.com', '555-0110'),\n",
       " (13, 'Leo', 'Thomas', 5, '2021-12-05', 55000.0, None, 'Junior Finance Analyst', 11, 3, 'leo.thomas@example.com', '555-0111')]"
      ]
     },
     "execution_count": 13,
     "metadata": {},
     "output_type": "execute_result"
    }
   ],
   "source": [
    "%%sql\n",
    "SELECT *\n",
    "FROM employees"
   ]
  },
  {
   "cell_type": "code",
   "execution_count": 90,
   "metadata": {
    "id": "9whKvSbrq5hK"
   },
   "outputs": [
    {
     "name": "stdout",
     "output_type": "stream",
     "text": [
      " * sqlite:///my_database.db\n",
      "Done.\n"
     ]
    },
    {
     "data": {
      "text/html": [
       "<table>\n",
       "    <thead>\n",
       "        <tr>\n",
       "            <th>department_id</th>\n",
       "            <th>avg_salary</th>\n",
       "        </tr>\n",
       "    </thead>\n",
       "    <tbody>\n",
       "        <tr>\n",
       "            <td>1</td>\n",
       "            <td>96666.66666666667</td>\n",
       "        </tr>\n",
       "        <tr>\n",
       "            <td>2</td>\n",
       "            <td>77666.66666666667</td>\n",
       "        </tr>\n",
       "        <tr>\n",
       "            <td>4</td>\n",
       "            <td>75000.0</td>\n",
       "        </tr>\n",
       "        <tr>\n",
       "            <td>3</td>\n",
       "            <td>67500.0</td>\n",
       "        </tr>\n",
       "        <tr>\n",
       "            <td>5</td>\n",
       "            <td>66500.0</td>\n",
       "        </tr>\n",
       "    </tbody>\n",
       "</table>"
      ],
      "text/plain": [
       "[(1, 96666.66666666667),\n",
       " (2, 77666.66666666667),\n",
       " (4, 75000.0),\n",
       " (3, 67500.0),\n",
       " (5, 66500.0)]"
      ]
     },
     "execution_count": 90,
     "metadata": {},
     "output_type": "execute_result"
    }
   ],
   "source": [
    "%%sql\n",
    "SELECT department_id, AVG(salary) AS avg_salary\n",
    "FROM employees\n",
    "WHERE department_id IS NOT NULL\n",
    "GROUP BY department_id\n",
    "ORDER BY avg_salary DESC"
   ]
  },
  {
   "cell_type": "code",
   "execution_count": 91,
   "metadata": {},
   "outputs": [
    {
     "name": "stdout",
     "output_type": "stream",
     "text": [
      " * sqlite:///my_database.db\n",
      "Done.\n"
     ]
    },
    {
     "data": {
      "text/html": [
       "<table>\n",
       "    <thead>\n",
       "        <tr>\n",
       "            <th>department_id</th>\n",
       "            <th>performance_rating</th>\n",
       "            <th>avg_salary</th>\n",
       "        </tr>\n",
       "    </thead>\n",
       "    <tbody>\n",
       "        <tr>\n",
       "            <td>1</td>\n",
       "            <td>5</td>\n",
       "            <td>120000.0</td>\n",
       "        </tr>\n",
       "        <tr>\n",
       "            <td>2</td>\n",
       "            <td>4</td>\n",
       "            <td>95000.0</td>\n",
       "        </tr>\n",
       "        <tr>\n",
       "            <td>1</td>\n",
       "            <td>4</td>\n",
       "            <td>90000.0</td>\n",
       "        </tr>\n",
       "        <tr>\n",
       "            <td>4</td>\n",
       "            <td>4</td>\n",
       "            <td>85000.0</td>\n",
       "        </tr>\n",
       "        <tr>\n",
       "            <td>1</td>\n",
       "            <td>3</td>\n",
       "            <td>80000.0</td>\n",
       "        </tr>\n",
       "        <tr>\n",
       "            <td>5</td>\n",
       "            <td>4</td>\n",
       "            <td>78000.0</td>\n",
       "        </tr>\n",
       "        <tr>\n",
       "            <td>3</td>\n",
       "            <td>4</td>\n",
       "            <td>75000.0</td>\n",
       "        </tr>\n",
       "        <tr>\n",
       "            <td>2</td>\n",
       "            <td>3</td>\n",
       "            <td>70000.0</td>\n",
       "        </tr>\n",
       "        <tr>\n",
       "            <td>2</td>\n",
       "            <td>2</td>\n",
       "            <td>68000.0</td>\n",
       "        </tr>\n",
       "        <tr>\n",
       "            <td>4</td>\n",
       "            <td>3</td>\n",
       "            <td>65000.0</td>\n",
       "        </tr>\n",
       "        <tr>\n",
       "            <td>3</td>\n",
       "            <td>3</td>\n",
       "            <td>60000.0</td>\n",
       "        </tr>\n",
       "        <tr>\n",
       "            <td>5</td>\n",
       "            <td>3</td>\n",
       "            <td>55000.0</td>\n",
       "        </tr>\n",
       "    </tbody>\n",
       "</table>"
      ],
      "text/plain": [
       "[(1, 5, 120000.0),\n",
       " (2, 4, 95000.0),\n",
       " (1, 4, 90000.0),\n",
       " (4, 4, 85000.0),\n",
       " (1, 3, 80000.0),\n",
       " (5, 4, 78000.0),\n",
       " (3, 4, 75000.0),\n",
       " (2, 3, 70000.0),\n",
       " (2, 2, 68000.0),\n",
       " (4, 3, 65000.0),\n",
       " (3, 3, 60000.0),\n",
       " (5, 3, 55000.0)]"
      ]
     },
     "execution_count": 91,
     "metadata": {},
     "output_type": "execute_result"
    }
   ],
   "source": [
    "%%sql\n",
    "SELECT department_id, performance_rating, AVG(salary) AS avg_salary\n",
    "FROM employees\n",
    "WHERE department_id IS NOT NULL\n",
    "GROUP BY department_id, performance_rating\n",
    "ORDER BY avg_salary DESC"
   ]
  },
  {
   "cell_type": "markdown",
   "metadata": {
    "id": "i1l0vSjrDzps"
   },
   "source": [
    "HAVING can be used to filter rows after a grouped aggregation"
   ]
  },
  {
   "cell_type": "code",
   "execution_count": 93,
   "metadata": {
    "id": "1xGRPjUxsfQI"
   },
   "outputs": [
    {
     "name": "stdout",
     "output_type": "stream",
     "text": [
      " * sqlite:///my_database.db\n",
      "Done.\n"
     ]
    },
    {
     "data": {
      "text/html": [
       "<table>\n",
       "    <thead>\n",
       "        <tr>\n",
       "            <th>department_id</th>\n",
       "            <th>avg_perf_rating</th>\n",
       "        </tr>\n",
       "    </thead>\n",
       "    <tbody>\n",
       "        <tr>\n",
       "            <td>1</td>\n",
       "            <td>4.0</td>\n",
       "        </tr>\n",
       "        <tr>\n",
       "            <td>3</td>\n",
       "            <td>3.5</td>\n",
       "        </tr>\n",
       "        <tr>\n",
       "            <td>4</td>\n",
       "            <td>3.5</td>\n",
       "        </tr>\n",
       "        <tr>\n",
       "            <td>5</td>\n",
       "            <td>3.5</td>\n",
       "        </tr>\n",
       "    </tbody>\n",
       "</table>"
      ],
      "text/plain": [
       "[(1, 4.0), (3, 3.5), (4, 3.5), (5, 3.5)]"
      ]
     },
     "execution_count": 93,
     "metadata": {},
     "output_type": "execute_result"
    }
   ],
   "source": [
    "%%sql\n",
    "SELECT department_id AS dept_id, AVG(performance_rating) AS avg_perf_rating\n",
    "FROM employees\n",
    "GROUP BY department_id\n",
    "HAVING avg_perf_rating > 3"
   ]
  },
  {
   "cell_type": "markdown",
   "metadata": {
    "id": "nsM_GVl-xrq1"
   },
   "source": [
    "## Query order of execution"
   ]
  },
  {
   "cell_type": "markdown",
   "metadata": {
    "id": "4321_j-DxwZT"
   },
   "source": [
    "1. FROM\n",
    "2. WHERE\n",
    "3. GROUP BY\n",
    "4. HAVING\n",
    "5. SELECT\n",
    "6. ORDER BY\n",
    "7. LIMIT\n",
    "\n"
   ]
  },
  {
   "cell_type": "markdown",
   "metadata": {
    "id": "GqGPeF8Aw_7h"
   },
   "source": [
    "## String functions"
   ]
  },
  {
   "cell_type": "code",
   "execution_count": 12,
   "metadata": {
    "colab": {
     "base_uri": "https://localhost:8080/",
     "height": 353
    },
    "id": "xxjswScHwU3C",
    "outputId": "246c856a-9cde-473e-c390-55c2bcb698d5"
   },
   "outputs": [
    {
     "name": "stdout",
     "output_type": "stream",
     "text": [
      " * sqlite:///my_database.db\n",
      "Done.\n"
     ]
    },
    {
     "data": {
      "text/html": [
       "<table>\n",
       "    <thead>\n",
       "        <tr>\n",
       "            <th>id</th>\n",
       "            <th>first_name</th>\n",
       "            <th>last_name</th>\n",
       "            <th>department_id</th>\n",
       "            <th>hire_date</th>\n",
       "            <th>salary</th>\n",
       "            <th>bonus</th>\n",
       "            <th>job_title</th>\n",
       "            <th>manager_id</th>\n",
       "            <th>performance_rating</th>\n",
       "            <th>email</th>\n",
       "            <th>phone_number</th>\n",
       "        </tr>\n",
       "    </thead>\n",
       "    <tbody>\n",
       "        <tr>\n",
       "            <td>1</td>\n",
       "            <td>Alice</td>\n",
       "            <td>Smith</td>\n",
       "            <td>1</td>\n",
       "            <td>2010-06-01</td>\n",
       "            <td>120000.0</td>\n",
       "            <td>10000.0</td>\n",
       "            <td>CTO</td>\n",
       "            <td>None</td>\n",
       "            <td>5</td>\n",
       "            <td>alice.smith@example.com</td>\n",
       "            <td>555-0100</td>\n",
       "        </tr>\n",
       "        <tr>\n",
       "            <td>2</td>\n",
       "            <td>Bob</td>\n",
       "            <td>Johnson</td>\n",
       "            <td>1</td>\n",
       "            <td>2012-09-15</td>\n",
       "            <td>90000.0</td>\n",
       "            <td>5000.0</td>\n",
       "            <td>Senior Engineer</td>\n",
       "            <td>1</td>\n",
       "            <td>4</td>\n",
       "            <td>bob.johnson@example.com</td>\n",
       "            <td>555-0101</td>\n",
       "        </tr>\n",
       "        <tr>\n",
       "            <td>3</td>\n",
       "            <td>Carol</td>\n",
       "            <td>Williams</td>\n",
       "            <td>1</td>\n",
       "            <td>2015-03-20</td>\n",
       "            <td>80000.0</td>\n",
       "            <td>None</td>\n",
       "            <td>Engineer</td>\n",
       "            <td>2</td>\n",
       "            <td>3</td>\n",
       "            <td>carol.williams@example.com</td>\n",
       "            <td>555-0102</td>\n",
       "        </tr>\n",
       "        <tr>\n",
       "            <td>4</td>\n",
       "            <td>David</td>\n",
       "            <td>Jones</td>\n",
       "            <td>2</td>\n",
       "            <td>2011-11-11</td>\n",
       "            <td>95000.0</td>\n",
       "            <td>7000.0</td>\n",
       "            <td>Sales Manager</td>\n",
       "            <td>None</td>\n",
       "            <td>4</td>\n",
       "            <td>david.jones@example.com</td>\n",
       "            <td>555-0103</td>\n",
       "        </tr>\n",
       "        <tr>\n",
       "            <td>5</td>\n",
       "            <td>Eva</td>\n",
       "            <td>Brown</td>\n",
       "            <td>2</td>\n",
       "            <td>2016-05-22</td>\n",
       "            <td>70000.0</td>\n",
       "            <td>3000.0</td>\n",
       "            <td>Sales Representative</td>\n",
       "            <td>4</td>\n",
       "            <td>3</td>\n",
       "            <td>eva.brown@example.com</td>\n",
       "            <td>555-0104</td>\n",
       "        </tr>\n",
       "        <tr>\n",
       "            <td>6</td>\n",
       "            <td>Frank</td>\n",
       "            <td>Davis</td>\n",
       "            <td>2</td>\n",
       "            <td>2018-07-01</td>\n",
       "            <td>68000.0</td>\n",
       "            <td>None</td>\n",
       "            <td>Sales Representative</td>\n",
       "            <td>4</td>\n",
       "            <td>2</td>\n",
       "            <td>frank.davis@example.com</td>\n",
       "            <td>555-0105</td>\n",
       "        </tr>\n",
       "        <tr>\n",
       "            <td>7</td>\n",
       "            <td>Grace</td>\n",
       "            <td>Miller</td>\n",
       "            <td>3</td>\n",
       "            <td>2013-02-28</td>\n",
       "            <td>75000.0</td>\n",
       "            <td>4000.0</td>\n",
       "            <td>HR Specialist</td>\n",
       "            <td>None</td>\n",
       "            <td>4</td>\n",
       "            <td>grace.miller@example.com</td>\n",
       "            <td>555-0106</td>\n",
       "        </tr>\n",
       "        <tr>\n",
       "            <td>8</td>\n",
       "            <td>Henry</td>\n",
       "            <td>Wilson</td>\n",
       "            <td>3</td>\n",
       "            <td>2019-10-10</td>\n",
       "            <td>60000.0</td>\n",
       "            <td>2000.0</td>\n",
       "            <td>HR Assistant</td>\n",
       "            <td>7</td>\n",
       "            <td>3</td>\n",
       "            <td>henry.wilson@example.com</td>\n",
       "            <td>555-0107</td>\n",
       "        </tr>\n",
       "        <tr>\n",
       "            <td>9</td>\n",
       "            <td>Ivy</td>\n",
       "            <td>Moore</td>\n",
       "            <td>4</td>\n",
       "            <td>2014-08-19</td>\n",
       "            <td>85000.0</td>\n",
       "            <td>5000.0</td>\n",
       "            <td>Marketing Manager</td>\n",
       "            <td>None</td>\n",
       "            <td>4</td>\n",
       "            <td>ivy.moore@example.com</td>\n",
       "            <td>555-0108</td>\n",
       "        </tr>\n",
       "        <tr>\n",
       "            <td>10</td>\n",
       "            <td>Sam</td>\n",
       "            <td>White</td>\n",
       "            <td>None</td>\n",
       "            <td>2023-01-01</td>\n",
       "            <td>50000.0</td>\n",
       "            <td>None</td>\n",
       "            <td>Intern</td>\n",
       "            <td>3</td>\n",
       "            <td>None</td>\n",
       "            <td>None</td>\n",
       "            <td>None</td>\n",
       "        </tr>\n",
       "        <tr>\n",
       "            <td>11</td>\n",
       "            <td>Jack</td>\n",
       "            <td>Taylor</td>\n",
       "            <td>4</td>\n",
       "            <td>2020-01-15</td>\n",
       "            <td>65000.0</td>\n",
       "            <td>None</td>\n",
       "            <td>Marketing Specialist</td>\n",
       "            <td>9</td>\n",
       "            <td>3</td>\n",
       "            <td>jack.taylor@example.com</td>\n",
       "            <td>555-0109</td>\n",
       "        </tr>\n",
       "        <tr>\n",
       "            <td>12</td>\n",
       "            <td>Kathy</td>\n",
       "            <td>Anderson</td>\n",
       "            <td>5</td>\n",
       "            <td>2017-04-03</td>\n",
       "            <td>78000.0</td>\n",
       "            <td>4500.0</td>\n",
       "            <td>Finance Analyst</td>\n",
       "            <td>None</td>\n",
       "            <td>4</td>\n",
       "            <td>kathy.anderson@example.com</td>\n",
       "            <td>555-0110</td>\n",
       "        </tr>\n",
       "        <tr>\n",
       "            <td>13</td>\n",
       "            <td>Leo</td>\n",
       "            <td>Thomas</td>\n",
       "            <td>5</td>\n",
       "            <td>2021-12-05</td>\n",
       "            <td>55000.0</td>\n",
       "            <td>None</td>\n",
       "            <td>Junior Finance Analyst</td>\n",
       "            <td>11</td>\n",
       "            <td>3</td>\n",
       "            <td>leo.thomas@example.com</td>\n",
       "            <td>555-0111</td>\n",
       "        </tr>\n",
       "    </tbody>\n",
       "</table>"
      ],
      "text/plain": [
       "[(1, 'Alice', 'Smith', 1, '2010-06-01', 120000.0, 10000.0, 'CTO', None, 5, 'alice.smith@example.com', '555-0100'),\n",
       " (2, 'Bob', 'Johnson', 1, '2012-09-15', 90000.0, 5000.0, 'Senior Engineer', 1, 4, 'bob.johnson@example.com', '555-0101'),\n",
       " (3, 'Carol', 'Williams', 1, '2015-03-20', 80000.0, None, 'Engineer', 2, 3, 'carol.williams@example.com', '555-0102'),\n",
       " (4, 'David', 'Jones', 2, '2011-11-11', 95000.0, 7000.0, 'Sales Manager', None, 4, 'david.jones@example.com', '555-0103'),\n",
       " (5, 'Eva', 'Brown', 2, '2016-05-22', 70000.0, 3000.0, 'Sales Representative', 4, 3, 'eva.brown@example.com', '555-0104'),\n",
       " (6, 'Frank', 'Davis', 2, '2018-07-01', 68000.0, None, 'Sales Representative', 4, 2, 'frank.davis@example.com', '555-0105'),\n",
       " (7, 'Grace', 'Miller', 3, '2013-02-28', 75000.0, 4000.0, 'HR Specialist', None, 4, 'grace.miller@example.com', '555-0106'),\n",
       " (8, 'Henry', 'Wilson', 3, '2019-10-10', 60000.0, 2000.0, 'HR Assistant', 7, 3, 'henry.wilson@example.com', '555-0107'),\n",
       " (9, 'Ivy', 'Moore', 4, '2014-08-19', 85000.0, 5000.0, 'Marketing Manager', None, 4, 'ivy.moore@example.com', '555-0108'),\n",
       " (10, 'Sam', 'White', None, '2023-01-01', 50000.0, None, 'Intern', 3, None, None, None),\n",
       " (11, 'Jack', 'Taylor', 4, '2020-01-15', 65000.0, None, 'Marketing Specialist', 9, 3, 'jack.taylor@example.com', '555-0109'),\n",
       " (12, 'Kathy', 'Anderson', 5, '2017-04-03', 78000.0, 4500.0, 'Finance Analyst', None, 4, 'kathy.anderson@example.com', '555-0110'),\n",
       " (13, 'Leo', 'Thomas', 5, '2021-12-05', 55000.0, None, 'Junior Finance Analyst', 11, 3, 'leo.thomas@example.com', '555-0111')]"
      ]
     },
     "execution_count": 12,
     "metadata": {},
     "output_type": "execute_result"
    }
   ],
   "source": [
    "%%sql\n",
    "SELECT *\n",
    "FROM employees"
   ]
  },
  {
   "cell_type": "markdown",
   "metadata": {
    "id": "289DtXX7EwYv"
   },
   "source": [
    "String functions, like date functions, are different between SQL dialects"
   ]
  },
  {
   "cell_type": "code",
   "execution_count": 94,
   "metadata": {
    "id": "Ma792WhwP5tY"
   },
   "outputs": [
    {
     "name": "stdout",
     "output_type": "stream",
     "text": [
      " * sqlite:///my_database.db\n",
      "Done.\n"
     ]
    },
    {
     "data": {
      "text/html": [
       "<table>\n",
       "    <thead>\n",
       "        <tr>\n",
       "            <th>first_name</th>\n",
       "            <th>last_name</th>\n",
       "        </tr>\n",
       "    </thead>\n",
       "    <tbody>\n",
       "        <tr>\n",
       "            <td>Alice</td>\n",
       "            <td>Smith</td>\n",
       "        </tr>\n",
       "        <tr>\n",
       "            <td>Carol</td>\n",
       "            <td>Williams</td>\n",
       "        </tr>\n",
       "        <tr>\n",
       "            <td>David</td>\n",
       "            <td>Jones</td>\n",
       "        </tr>\n",
       "        <tr>\n",
       "            <td>Frank</td>\n",
       "            <td>Davis</td>\n",
       "        </tr>\n",
       "        <tr>\n",
       "            <td>Grace</td>\n",
       "            <td>Miller</td>\n",
       "        </tr>\n",
       "        <tr>\n",
       "            <td>Henry</td>\n",
       "            <td>Wilson</td>\n",
       "        </tr>\n",
       "        <tr>\n",
       "            <td>Kathy</td>\n",
       "            <td>Anderson</td>\n",
       "        </tr>\n",
       "    </tbody>\n",
       "</table>"
      ],
      "text/plain": [
       "[('Alice', 'Smith'),\n",
       " ('Carol', 'Williams'),\n",
       " ('David', 'Jones'),\n",
       " ('Frank', 'Davis'),\n",
       " ('Grace', 'Miller'),\n",
       " ('Henry', 'Wilson'),\n",
       " ('Kathy', 'Anderson')]"
      ]
     },
     "execution_count": 94,
     "metadata": {},
     "output_type": "execute_result"
    }
   ],
   "source": [
    "%%sql\n",
    "SELECT first_name, last_name\n",
    "FROM employees\n",
    "WHERE LENGTH(first_name) = 5"
   ]
  },
  {
   "cell_type": "code",
   "execution_count": 98,
   "metadata": {
    "id": "u61Z-JL8QlRx"
   },
   "outputs": [
    {
     "name": "stdout",
     "output_type": "stream",
     "text": [
      " * sqlite:///my_database.db\n",
      "Done.\n"
     ]
    },
    {
     "data": {
      "text/html": [
       "<table>\n",
       "    <thead>\n",
       "        <tr>\n",
       "            <th>SUBSTR(phone_number, -1, -3)</th>\n",
       "        </tr>\n",
       "    </thead>\n",
       "    <tbody>\n",
       "        <tr>\n",
       "            <td>010</td>\n",
       "        </tr>\n",
       "        <tr>\n",
       "            <td>010</td>\n",
       "        </tr>\n",
       "        <tr>\n",
       "            <td>010</td>\n",
       "        </tr>\n",
       "        <tr>\n",
       "            <td>010</td>\n",
       "        </tr>\n",
       "        <tr>\n",
       "            <td>010</td>\n",
       "        </tr>\n",
       "        <tr>\n",
       "            <td>010</td>\n",
       "        </tr>\n",
       "        <tr>\n",
       "            <td>010</td>\n",
       "        </tr>\n",
       "        <tr>\n",
       "            <td>010</td>\n",
       "        </tr>\n",
       "        <tr>\n",
       "            <td>010</td>\n",
       "        </tr>\n",
       "        <tr>\n",
       "            <td>None</td>\n",
       "        </tr>\n",
       "        <tr>\n",
       "            <td>010</td>\n",
       "        </tr>\n",
       "        <tr>\n",
       "            <td>011</td>\n",
       "        </tr>\n",
       "        <tr>\n",
       "            <td>011</td>\n",
       "        </tr>\n",
       "    </tbody>\n",
       "</table>"
      ],
      "text/plain": [
       "[('010',),\n",
       " ('010',),\n",
       " ('010',),\n",
       " ('010',),\n",
       " ('010',),\n",
       " ('010',),\n",
       " ('010',),\n",
       " ('010',),\n",
       " ('010',),\n",
       " (None,),\n",
       " ('010',),\n",
       " ('011',),\n",
       " ('011',)]"
      ]
     },
     "execution_count": 98,
     "metadata": {},
     "output_type": "execute_result"
    }
   ],
   "source": [
    "%%sql\n",
    "SELECT SUBSTR(phone_number, -1, -3)\n",
    "FROM employees"
   ]
  },
  {
   "cell_type": "code",
   "execution_count": 99,
   "metadata": {
    "id": "Wsj7p0uOOdx_"
   },
   "outputs": [
    {
     "name": "stdout",
     "output_type": "stream",
     "text": [
      " * sqlite:///my_database.db\n",
      "Done.\n"
     ]
    },
    {
     "data": {
      "text/html": [
       "<table>\n",
       "    <thead>\n",
       "        <tr>\n",
       "            <th>full_name</th>\n",
       "        </tr>\n",
       "    </thead>\n",
       "    <tbody>\n",
       "        <tr>\n",
       "            <td>Alice Smith</td>\n",
       "        </tr>\n",
       "        <tr>\n",
       "            <td>Bob Johnson</td>\n",
       "        </tr>\n",
       "        <tr>\n",
       "            <td>Carol Williams</td>\n",
       "        </tr>\n",
       "        <tr>\n",
       "            <td>David Jones</td>\n",
       "        </tr>\n",
       "        <tr>\n",
       "            <td>Eva Brown</td>\n",
       "        </tr>\n",
       "        <tr>\n",
       "            <td>Frank Davis</td>\n",
       "        </tr>\n",
       "        <tr>\n",
       "            <td>Grace Miller</td>\n",
       "        </tr>\n",
       "        <tr>\n",
       "            <td>Henry Wilson</td>\n",
       "        </tr>\n",
       "        <tr>\n",
       "            <td>Ivy Moore</td>\n",
       "        </tr>\n",
       "        <tr>\n",
       "            <td>Sam White</td>\n",
       "        </tr>\n",
       "        <tr>\n",
       "            <td>Jack Taylor</td>\n",
       "        </tr>\n",
       "        <tr>\n",
       "            <td>Kathy Anderson</td>\n",
       "        </tr>\n",
       "        <tr>\n",
       "            <td>Leo Thomas</td>\n",
       "        </tr>\n",
       "    </tbody>\n",
       "</table>"
      ],
      "text/plain": [
       "[('Alice Smith',),\n",
       " ('Bob Johnson',),\n",
       " ('Carol Williams',),\n",
       " ('David Jones',),\n",
       " ('Eva Brown',),\n",
       " ('Frank Davis',),\n",
       " ('Grace Miller',),\n",
       " ('Henry Wilson',),\n",
       " ('Ivy Moore',),\n",
       " ('Sam White',),\n",
       " ('Jack Taylor',),\n",
       " ('Kathy Anderson',),\n",
       " ('Leo Thomas',)]"
      ]
     },
     "execution_count": 99,
     "metadata": {},
     "output_type": "execute_result"
    }
   ],
   "source": [
    "%%sql\n",
    "SELECT first_name || ' ' || last_name AS full_name\n",
    "FROM employees"
   ]
  },
  {
   "cell_type": "code",
   "execution_count": 100,
   "metadata": {
    "id": "mcQpPRKcOQWh"
   },
   "outputs": [
    {
     "name": "stdout",
     "output_type": "stream",
     "text": [
      " * sqlite:///my_database.db\n",
      "Done.\n"
     ]
    },
    {
     "data": {
      "text/html": [
       "<table>\n",
       "    <thead>\n",
       "        <tr>\n",
       "            <th>initials</th>\n",
       "        </tr>\n",
       "    </thead>\n",
       "    <tbody>\n",
       "        <tr>\n",
       "            <td>AS</td>\n",
       "        </tr>\n",
       "        <tr>\n",
       "            <td>BJ</td>\n",
       "        </tr>\n",
       "        <tr>\n",
       "            <td>CW</td>\n",
       "        </tr>\n",
       "        <tr>\n",
       "            <td>DJ</td>\n",
       "        </tr>\n",
       "        <tr>\n",
       "            <td>EB</td>\n",
       "        </tr>\n",
       "        <tr>\n",
       "            <td>FD</td>\n",
       "        </tr>\n",
       "        <tr>\n",
       "            <td>GM</td>\n",
       "        </tr>\n",
       "        <tr>\n",
       "            <td>HW</td>\n",
       "        </tr>\n",
       "        <tr>\n",
       "            <td>IM</td>\n",
       "        </tr>\n",
       "        <tr>\n",
       "            <td>SW</td>\n",
       "        </tr>\n",
       "        <tr>\n",
       "            <td>JT</td>\n",
       "        </tr>\n",
       "        <tr>\n",
       "            <td>KA</td>\n",
       "        </tr>\n",
       "        <tr>\n",
       "            <td>LT</td>\n",
       "        </tr>\n",
       "    </tbody>\n",
       "</table>"
      ],
      "text/plain": [
       "[('AS',),\n",
       " ('BJ',),\n",
       " ('CW',),\n",
       " ('DJ',),\n",
       " ('EB',),\n",
       " ('FD',),\n",
       " ('GM',),\n",
       " ('HW',),\n",
       " ('IM',),\n",
       " ('SW',),\n",
       " ('JT',),\n",
       " ('KA',),\n",
       " ('LT',)]"
      ]
     },
     "execution_count": 100,
     "metadata": {},
     "output_type": "execute_result"
    }
   ],
   "source": [
    "%%sql\n",
    "SELECT SUBSTR(first_name, 1, 1) || SUBSTR(last_name, 1, 1) AS initials\n",
    "FROM employees"
   ]
  },
  {
   "cell_type": "code",
   "execution_count": 101,
   "metadata": {
    "id": "imJl-dkUN-Bw"
   },
   "outputs": [
    {
     "name": "stdout",
     "output_type": "stream",
     "text": [
      " * sqlite:///my_database.db\n",
      "Done.\n"
     ]
    },
    {
     "data": {
      "text/html": [
       "<table>\n",
       "    <thead>\n",
       "        <tr>\n",
       "            <th>first_name</th>\n",
       "            <th>UPPER(last_name)</th>\n",
       "        </tr>\n",
       "    </thead>\n",
       "    <tbody>\n",
       "        <tr>\n",
       "            <td>Alice</td>\n",
       "            <td>SMITH</td>\n",
       "        </tr>\n",
       "        <tr>\n",
       "            <td>Bob</td>\n",
       "            <td>JOHNSON</td>\n",
       "        </tr>\n",
       "        <tr>\n",
       "            <td>Carol</td>\n",
       "            <td>WILLIAMS</td>\n",
       "        </tr>\n",
       "        <tr>\n",
       "            <td>David</td>\n",
       "            <td>JONES</td>\n",
       "        </tr>\n",
       "        <tr>\n",
       "            <td>Eva</td>\n",
       "            <td>BROWN</td>\n",
       "        </tr>\n",
       "        <tr>\n",
       "            <td>Frank</td>\n",
       "            <td>DAVIS</td>\n",
       "        </tr>\n",
       "        <tr>\n",
       "            <td>Grace</td>\n",
       "            <td>MILLER</td>\n",
       "        </tr>\n",
       "        <tr>\n",
       "            <td>Henry</td>\n",
       "            <td>WILSON</td>\n",
       "        </tr>\n",
       "        <tr>\n",
       "            <td>Ivy</td>\n",
       "            <td>MOORE</td>\n",
       "        </tr>\n",
       "        <tr>\n",
       "            <td>Sam</td>\n",
       "            <td>WHITE</td>\n",
       "        </tr>\n",
       "        <tr>\n",
       "            <td>Jack</td>\n",
       "            <td>TAYLOR</td>\n",
       "        </tr>\n",
       "        <tr>\n",
       "            <td>Kathy</td>\n",
       "            <td>ANDERSON</td>\n",
       "        </tr>\n",
       "        <tr>\n",
       "            <td>Leo</td>\n",
       "            <td>THOMAS</td>\n",
       "        </tr>\n",
       "    </tbody>\n",
       "</table>"
      ],
      "text/plain": [
       "[('Alice', 'SMITH'),\n",
       " ('Bob', 'JOHNSON'),\n",
       " ('Carol', 'WILLIAMS'),\n",
       " ('David', 'JONES'),\n",
       " ('Eva', 'BROWN'),\n",
       " ('Frank', 'DAVIS'),\n",
       " ('Grace', 'MILLER'),\n",
       " ('Henry', 'WILSON'),\n",
       " ('Ivy', 'MOORE'),\n",
       " ('Sam', 'WHITE'),\n",
       " ('Jack', 'TAYLOR'),\n",
       " ('Kathy', 'ANDERSON'),\n",
       " ('Leo', 'THOMAS')]"
      ]
     },
     "execution_count": 101,
     "metadata": {},
     "output_type": "execute_result"
    }
   ],
   "source": [
    "%%sql\n",
    "SELECT first_name, UPPER(last_name)\n",
    "FROM employees"
   ]
  },
  {
   "cell_type": "code",
   "execution_count": 103,
   "metadata": {},
   "outputs": [
    {
     "name": "stdout",
     "output_type": "stream",
     "text": [
      " * sqlite:///my_database.db\n",
      "Done.\n"
     ]
    },
    {
     "data": {
      "text/html": [
       "<table>\n",
       "    <thead>\n",
       "        <tr>\n",
       "            <th>first_name</th>\n",
       "            <th>last_name</th>\n",
       "            <th>new_email</th>\n",
       "        </tr>\n",
       "    </thead>\n",
       "    <tbody>\n",
       "        <tr>\n",
       "            <td>Alice</td>\n",
       "            <td>Smith</td>\n",
       "            <td>alice.smith@company.com</td>\n",
       "        </tr>\n",
       "        <tr>\n",
       "            <td>Bob</td>\n",
       "            <td>Johnson</td>\n",
       "            <td>bob.johnson@company.com</td>\n",
       "        </tr>\n",
       "        <tr>\n",
       "            <td>Carol</td>\n",
       "            <td>Williams</td>\n",
       "            <td>carol.williams@company.com</td>\n",
       "        </tr>\n",
       "        <tr>\n",
       "            <td>David</td>\n",
       "            <td>Jones</td>\n",
       "            <td>david.jones@company.com</td>\n",
       "        </tr>\n",
       "        <tr>\n",
       "            <td>Eva</td>\n",
       "            <td>Brown</td>\n",
       "            <td>eva.brown@company.com</td>\n",
       "        </tr>\n",
       "        <tr>\n",
       "            <td>Frank</td>\n",
       "            <td>Davis</td>\n",
       "            <td>frank.davis@company.com</td>\n",
       "        </tr>\n",
       "        <tr>\n",
       "            <td>Grace</td>\n",
       "            <td>Miller</td>\n",
       "            <td>grace.miller@company.com</td>\n",
       "        </tr>\n",
       "        <tr>\n",
       "            <td>Henry</td>\n",
       "            <td>Wilson</td>\n",
       "            <td>henry.wilson@company.com</td>\n",
       "        </tr>\n",
       "        <tr>\n",
       "            <td>Ivy</td>\n",
       "            <td>Moore</td>\n",
       "            <td>ivy.moore@company.com</td>\n",
       "        </tr>\n",
       "        <tr>\n",
       "            <td>Sam</td>\n",
       "            <td>White</td>\n",
       "            <td>None</td>\n",
       "        </tr>\n",
       "        <tr>\n",
       "            <td>Jack</td>\n",
       "            <td>Taylor</td>\n",
       "            <td>jack.taylor@company.com</td>\n",
       "        </tr>\n",
       "        <tr>\n",
       "            <td>Kathy</td>\n",
       "            <td>Anderson</td>\n",
       "            <td>kathy.anderson@company.com</td>\n",
       "        </tr>\n",
       "        <tr>\n",
       "            <td>Leo</td>\n",
       "            <td>Thomas</td>\n",
       "            <td>leo.thomas@company.com</td>\n",
       "        </tr>\n",
       "    </tbody>\n",
       "</table>"
      ],
      "text/plain": [
       "[('Alice', 'Smith', 'alice.smith@company.com'),\n",
       " ('Bob', 'Johnson', 'bob.johnson@company.com'),\n",
       " ('Carol', 'Williams', 'carol.williams@company.com'),\n",
       " ('David', 'Jones', 'david.jones@company.com'),\n",
       " ('Eva', 'Brown', 'eva.brown@company.com'),\n",
       " ('Frank', 'Davis', 'frank.davis@company.com'),\n",
       " ('Grace', 'Miller', 'grace.miller@company.com'),\n",
       " ('Henry', 'Wilson', 'henry.wilson@company.com'),\n",
       " ('Ivy', 'Moore', 'ivy.moore@company.com'),\n",
       " ('Sam', 'White', None),\n",
       " ('Jack', 'Taylor', 'jack.taylor@company.com'),\n",
       " ('Kathy', 'Anderson', 'kathy.anderson@company.com'),\n",
       " ('Leo', 'Thomas', 'leo.thomas@company.com')]"
      ]
     },
     "execution_count": 103,
     "metadata": {},
     "output_type": "execute_result"
    }
   ],
   "source": [
    "%%sql\n",
    "SELECT first_name, last_name, REPLACE(email, 'example', 'company') AS new_email\n",
    "FROM employees"
   ]
  },
  {
   "cell_type": "markdown",
   "metadata": {
    "id": "T5SD1XzOUPwX"
   },
   "source": [
    "## Combining multiple tables"
   ]
  },
  {
   "cell_type": "markdown",
   "metadata": {
    "id": "BUh8KHKggP_t"
   },
   "source": [
    "### Combining multiple table horizontally"
   ]
  },
  {
   "cell_type": "markdown",
   "metadata": {
    "id": "rxpiaGZUyfd1"
   },
   "source": [
    "Rows across separate tables can be combined using the JOIN clause, which links records based on a common column. This is typically done using a foreign key, which references a primary key in another table. This relationship is expressed using the ON keyword.\n"
   ]
  },
  {
   "cell_type": "code",
   "execution_count": 14,
   "metadata": {
    "colab": {
     "base_uri": "https://localhost:8080/",
     "height": 353
    },
    "id": "cJKfJfxCUPiS",
    "outputId": "88978ffb-aac2-49d0-8eb9-c630db2f2e20"
   },
   "outputs": [
    {
     "name": "stdout",
     "output_type": "stream",
     "text": [
      " * sqlite:///my_database.db\n",
      "Done.\n"
     ]
    },
    {
     "data": {
      "text/html": [
       "<table>\n",
       "    <thead>\n",
       "        <tr>\n",
       "            <th>id</th>\n",
       "            <th>first_name</th>\n",
       "            <th>last_name</th>\n",
       "            <th>department_id</th>\n",
       "            <th>hire_date</th>\n",
       "            <th>salary</th>\n",
       "            <th>bonus</th>\n",
       "            <th>job_title</th>\n",
       "            <th>manager_id</th>\n",
       "            <th>performance_rating</th>\n",
       "            <th>email</th>\n",
       "            <th>phone_number</th>\n",
       "        </tr>\n",
       "    </thead>\n",
       "    <tbody>\n",
       "        <tr>\n",
       "            <td>1</td>\n",
       "            <td>Alice</td>\n",
       "            <td>Smith</td>\n",
       "            <td>1</td>\n",
       "            <td>2010-06-01</td>\n",
       "            <td>120000.0</td>\n",
       "            <td>10000.0</td>\n",
       "            <td>CTO</td>\n",
       "            <td>None</td>\n",
       "            <td>5</td>\n",
       "            <td>alice.smith@example.com</td>\n",
       "            <td>555-0100</td>\n",
       "        </tr>\n",
       "        <tr>\n",
       "            <td>2</td>\n",
       "            <td>Bob</td>\n",
       "            <td>Johnson</td>\n",
       "            <td>1</td>\n",
       "            <td>2012-09-15</td>\n",
       "            <td>90000.0</td>\n",
       "            <td>5000.0</td>\n",
       "            <td>Senior Engineer</td>\n",
       "            <td>1</td>\n",
       "            <td>4</td>\n",
       "            <td>bob.johnson@example.com</td>\n",
       "            <td>555-0101</td>\n",
       "        </tr>\n",
       "        <tr>\n",
       "            <td>3</td>\n",
       "            <td>Carol</td>\n",
       "            <td>Williams</td>\n",
       "            <td>1</td>\n",
       "            <td>2015-03-20</td>\n",
       "            <td>80000.0</td>\n",
       "            <td>None</td>\n",
       "            <td>Engineer</td>\n",
       "            <td>2</td>\n",
       "            <td>3</td>\n",
       "            <td>carol.williams@example.com</td>\n",
       "            <td>555-0102</td>\n",
       "        </tr>\n",
       "        <tr>\n",
       "            <td>4</td>\n",
       "            <td>David</td>\n",
       "            <td>Jones</td>\n",
       "            <td>2</td>\n",
       "            <td>2011-11-11</td>\n",
       "            <td>95000.0</td>\n",
       "            <td>7000.0</td>\n",
       "            <td>Sales Manager</td>\n",
       "            <td>None</td>\n",
       "            <td>4</td>\n",
       "            <td>david.jones@example.com</td>\n",
       "            <td>555-0103</td>\n",
       "        </tr>\n",
       "        <tr>\n",
       "            <td>5</td>\n",
       "            <td>Eva</td>\n",
       "            <td>Brown</td>\n",
       "            <td>2</td>\n",
       "            <td>2016-05-22</td>\n",
       "            <td>70000.0</td>\n",
       "            <td>3000.0</td>\n",
       "            <td>Sales Representative</td>\n",
       "            <td>4</td>\n",
       "            <td>3</td>\n",
       "            <td>eva.brown@example.com</td>\n",
       "            <td>555-0104</td>\n",
       "        </tr>\n",
       "        <tr>\n",
       "            <td>6</td>\n",
       "            <td>Frank</td>\n",
       "            <td>Davis</td>\n",
       "            <td>2</td>\n",
       "            <td>2018-07-01</td>\n",
       "            <td>68000.0</td>\n",
       "            <td>None</td>\n",
       "            <td>Sales Representative</td>\n",
       "            <td>4</td>\n",
       "            <td>2</td>\n",
       "            <td>frank.davis@example.com</td>\n",
       "            <td>555-0105</td>\n",
       "        </tr>\n",
       "        <tr>\n",
       "            <td>7</td>\n",
       "            <td>Grace</td>\n",
       "            <td>Miller</td>\n",
       "            <td>3</td>\n",
       "            <td>2013-02-28</td>\n",
       "            <td>75000.0</td>\n",
       "            <td>4000.0</td>\n",
       "            <td>HR Specialist</td>\n",
       "            <td>None</td>\n",
       "            <td>4</td>\n",
       "            <td>grace.miller@example.com</td>\n",
       "            <td>555-0106</td>\n",
       "        </tr>\n",
       "        <tr>\n",
       "            <td>8</td>\n",
       "            <td>Henry</td>\n",
       "            <td>Wilson</td>\n",
       "            <td>3</td>\n",
       "            <td>2019-10-10</td>\n",
       "            <td>60000.0</td>\n",
       "            <td>2000.0</td>\n",
       "            <td>HR Assistant</td>\n",
       "            <td>7</td>\n",
       "            <td>3</td>\n",
       "            <td>henry.wilson@example.com</td>\n",
       "            <td>555-0107</td>\n",
       "        </tr>\n",
       "        <tr>\n",
       "            <td>9</td>\n",
       "            <td>Ivy</td>\n",
       "            <td>Moore</td>\n",
       "            <td>4</td>\n",
       "            <td>2014-08-19</td>\n",
       "            <td>85000.0</td>\n",
       "            <td>5000.0</td>\n",
       "            <td>Marketing Manager</td>\n",
       "            <td>None</td>\n",
       "            <td>4</td>\n",
       "            <td>ivy.moore@example.com</td>\n",
       "            <td>555-0108</td>\n",
       "        </tr>\n",
       "        <tr>\n",
       "            <td>10</td>\n",
       "            <td>Sam</td>\n",
       "            <td>White</td>\n",
       "            <td>None</td>\n",
       "            <td>2023-01-01</td>\n",
       "            <td>50000.0</td>\n",
       "            <td>None</td>\n",
       "            <td>Intern</td>\n",
       "            <td>3</td>\n",
       "            <td>None</td>\n",
       "            <td>None</td>\n",
       "            <td>None</td>\n",
       "        </tr>\n",
       "        <tr>\n",
       "            <td>11</td>\n",
       "            <td>Jack</td>\n",
       "            <td>Taylor</td>\n",
       "            <td>4</td>\n",
       "            <td>2020-01-15</td>\n",
       "            <td>65000.0</td>\n",
       "            <td>None</td>\n",
       "            <td>Marketing Specialist</td>\n",
       "            <td>9</td>\n",
       "            <td>3</td>\n",
       "            <td>jack.taylor@example.com</td>\n",
       "            <td>555-0109</td>\n",
       "        </tr>\n",
       "        <tr>\n",
       "            <td>12</td>\n",
       "            <td>Kathy</td>\n",
       "            <td>Anderson</td>\n",
       "            <td>5</td>\n",
       "            <td>2017-04-03</td>\n",
       "            <td>78000.0</td>\n",
       "            <td>4500.0</td>\n",
       "            <td>Finance Analyst</td>\n",
       "            <td>None</td>\n",
       "            <td>4</td>\n",
       "            <td>kathy.anderson@example.com</td>\n",
       "            <td>555-0110</td>\n",
       "        </tr>\n",
       "        <tr>\n",
       "            <td>13</td>\n",
       "            <td>Leo</td>\n",
       "            <td>Thomas</td>\n",
       "            <td>5</td>\n",
       "            <td>2021-12-05</td>\n",
       "            <td>55000.0</td>\n",
       "            <td>None</td>\n",
       "            <td>Junior Finance Analyst</td>\n",
       "            <td>11</td>\n",
       "            <td>3</td>\n",
       "            <td>leo.thomas@example.com</td>\n",
       "            <td>555-0111</td>\n",
       "        </tr>\n",
       "    </tbody>\n",
       "</table>"
      ],
      "text/plain": [
       "[(1, 'Alice', 'Smith', 1, '2010-06-01', 120000.0, 10000.0, 'CTO', None, 5, 'alice.smith@example.com', '555-0100'),\n",
       " (2, 'Bob', 'Johnson', 1, '2012-09-15', 90000.0, 5000.0, 'Senior Engineer', 1, 4, 'bob.johnson@example.com', '555-0101'),\n",
       " (3, 'Carol', 'Williams', 1, '2015-03-20', 80000.0, None, 'Engineer', 2, 3, 'carol.williams@example.com', '555-0102'),\n",
       " (4, 'David', 'Jones', 2, '2011-11-11', 95000.0, 7000.0, 'Sales Manager', None, 4, 'david.jones@example.com', '555-0103'),\n",
       " (5, 'Eva', 'Brown', 2, '2016-05-22', 70000.0, 3000.0, 'Sales Representative', 4, 3, 'eva.brown@example.com', '555-0104'),\n",
       " (6, 'Frank', 'Davis', 2, '2018-07-01', 68000.0, None, 'Sales Representative', 4, 2, 'frank.davis@example.com', '555-0105'),\n",
       " (7, 'Grace', 'Miller', 3, '2013-02-28', 75000.0, 4000.0, 'HR Specialist', None, 4, 'grace.miller@example.com', '555-0106'),\n",
       " (8, 'Henry', 'Wilson', 3, '2019-10-10', 60000.0, 2000.0, 'HR Assistant', 7, 3, 'henry.wilson@example.com', '555-0107'),\n",
       " (9, 'Ivy', 'Moore', 4, '2014-08-19', 85000.0, 5000.0, 'Marketing Manager', None, 4, 'ivy.moore@example.com', '555-0108'),\n",
       " (10, 'Sam', 'White', None, '2023-01-01', 50000.0, None, 'Intern', 3, None, None, None),\n",
       " (11, 'Jack', 'Taylor', 4, '2020-01-15', 65000.0, None, 'Marketing Specialist', 9, 3, 'jack.taylor@example.com', '555-0109'),\n",
       " (12, 'Kathy', 'Anderson', 5, '2017-04-03', 78000.0, 4500.0, 'Finance Analyst', None, 4, 'kathy.anderson@example.com', '555-0110'),\n",
       " (13, 'Leo', 'Thomas', 5, '2021-12-05', 55000.0, None, 'Junior Finance Analyst', 11, 3, 'leo.thomas@example.com', '555-0111')]"
      ]
     },
     "execution_count": 14,
     "metadata": {},
     "output_type": "execute_result"
    }
   ],
   "source": [
    "%%sql\n",
    "SELECT *\n",
    "FROM employees;"
   ]
  },
  {
   "cell_type": "code",
   "execution_count": 15,
   "metadata": {
    "colab": {
     "base_uri": "https://localhost:8080/",
     "height": 182
    },
    "id": "T3F8vyLPUQ4N",
    "outputId": "cd9a2a17-809a-4461-c38a-d12ec4b40b96"
   },
   "outputs": [
    {
     "name": "stdout",
     "output_type": "stream",
     "text": [
      " * sqlite:///my_database.db\n",
      "Done.\n"
     ]
    },
    {
     "data": {
      "text/html": [
       "<table>\n",
       "    <thead>\n",
       "        <tr>\n",
       "            <th>id</th>\n",
       "            <th>name</th>\n",
       "            <th>location</th>\n",
       "        </tr>\n",
       "    </thead>\n",
       "    <tbody>\n",
       "        <tr>\n",
       "            <td>1</td>\n",
       "            <td>Engineering</td>\n",
       "            <td>New York</td>\n",
       "        </tr>\n",
       "        <tr>\n",
       "            <td>2</td>\n",
       "            <td>Sales</td>\n",
       "            <td>Los Angeles</td>\n",
       "        </tr>\n",
       "        <tr>\n",
       "            <td>3</td>\n",
       "            <td>HR</td>\n",
       "            <td>Chicago</td>\n",
       "        </tr>\n",
       "        <tr>\n",
       "            <td>4</td>\n",
       "            <td>Marketing</td>\n",
       "            <td>San Francisco</td>\n",
       "        </tr>\n",
       "        <tr>\n",
       "            <td>5</td>\n",
       "            <td>Finance</td>\n",
       "            <td>Boston</td>\n",
       "        </tr>\n",
       "    </tbody>\n",
       "</table>"
      ],
      "text/plain": [
       "[(1, 'Engineering', 'New York'),\n",
       " (2, 'Sales', 'Los Angeles'),\n",
       " (3, 'HR', 'Chicago'),\n",
       " (4, 'Marketing', 'San Francisco'),\n",
       " (5, 'Finance', 'Boston')]"
      ]
     },
     "execution_count": 15,
     "metadata": {},
     "output_type": "execute_result"
    }
   ],
   "source": [
    "%%sql\n",
    "SELECT *\n",
    "FROM departments;"
   ]
  },
  {
   "cell_type": "markdown",
   "metadata": {
    "id": "TJdpLCDgx98E"
   },
   "source": [
    "An INNER JOIN returns only rows with matching values from both tables\n",
    "\n",
    "\n"
   ]
  },
  {
   "cell_type": "code",
   "execution_count": 114,
   "metadata": {
    "id": "D5fNuP-kUQuA"
   },
   "outputs": [
    {
     "name": "stdout",
     "output_type": "stream",
     "text": [
      " * sqlite:///my_database.db\n",
      "Done.\n"
     ]
    },
    {
     "data": {
      "text/html": [
       "<table>\n",
       "    <thead>\n",
       "        <tr>\n",
       "            <th>first_name</th>\n",
       "            <th>last_name</th>\n",
       "            <th>name</th>\n",
       "        </tr>\n",
       "    </thead>\n",
       "    <tbody>\n",
       "        <tr>\n",
       "            <td>Alice</td>\n",
       "            <td>Smith</td>\n",
       "            <td>Engineering</td>\n",
       "        </tr>\n",
       "        <tr>\n",
       "            <td>Bob</td>\n",
       "            <td>Johnson</td>\n",
       "            <td>Engineering</td>\n",
       "        </tr>\n",
       "        <tr>\n",
       "            <td>Carol</td>\n",
       "            <td>Williams</td>\n",
       "            <td>Engineering</td>\n",
       "        </tr>\n",
       "        <tr>\n",
       "            <td>David</td>\n",
       "            <td>Jones</td>\n",
       "            <td>Sales</td>\n",
       "        </tr>\n",
       "        <tr>\n",
       "            <td>Eva</td>\n",
       "            <td>Brown</td>\n",
       "            <td>Sales</td>\n",
       "        </tr>\n",
       "        <tr>\n",
       "            <td>Frank</td>\n",
       "            <td>Davis</td>\n",
       "            <td>Sales</td>\n",
       "        </tr>\n",
       "        <tr>\n",
       "            <td>Grace</td>\n",
       "            <td>Miller</td>\n",
       "            <td>HR</td>\n",
       "        </tr>\n",
       "        <tr>\n",
       "            <td>Henry</td>\n",
       "            <td>Wilson</td>\n",
       "            <td>HR</td>\n",
       "        </tr>\n",
       "        <tr>\n",
       "            <td>Ivy</td>\n",
       "            <td>Moore</td>\n",
       "            <td>Marketing</td>\n",
       "        </tr>\n",
       "        <tr>\n",
       "            <td>Jack</td>\n",
       "            <td>Taylor</td>\n",
       "            <td>Marketing</td>\n",
       "        </tr>\n",
       "        <tr>\n",
       "            <td>Kathy</td>\n",
       "            <td>Anderson</td>\n",
       "            <td>Finance</td>\n",
       "        </tr>\n",
       "        <tr>\n",
       "            <td>Leo</td>\n",
       "            <td>Thomas</td>\n",
       "            <td>Finance</td>\n",
       "        </tr>\n",
       "    </tbody>\n",
       "</table>"
      ],
      "text/plain": [
       "[('Alice', 'Smith', 'Engineering'),\n",
       " ('Bob', 'Johnson', 'Engineering'),\n",
       " ('Carol', 'Williams', 'Engineering'),\n",
       " ('David', 'Jones', 'Sales'),\n",
       " ('Eva', 'Brown', 'Sales'),\n",
       " ('Frank', 'Davis', 'Sales'),\n",
       " ('Grace', 'Miller', 'HR'),\n",
       " ('Henry', 'Wilson', 'HR'),\n",
       " ('Ivy', 'Moore', 'Marketing'),\n",
       " ('Jack', 'Taylor', 'Marketing'),\n",
       " ('Kathy', 'Anderson', 'Finance'),\n",
       " ('Leo', 'Thomas', 'Finance')]"
      ]
     },
     "execution_count": 114,
     "metadata": {},
     "output_type": "execute_result"
    }
   ],
   "source": [
    "%%sql\n",
    "SELECT e.first_name, e.last_name, d.name\n",
    "FROM employees e\n",
    "INNER JOIN departments d ON e.department_id = d.id"
   ]
  },
  {
   "cell_type": "markdown",
   "metadata": {
    "id": "d8kook9U26BV"
   },
   "source": [
    "A LEFT (OUTER) JOIN returns all the rows from the left table, regardless of whether a matching row is found in the right table"
   ]
  },
  {
   "cell_type": "code",
   "execution_count": 113,
   "metadata": {
    "id": "09jq5qKaUQbX"
   },
   "outputs": [
    {
     "name": "stdout",
     "output_type": "stream",
     "text": [
      " * sqlite:///my_database.db\n",
      "Done.\n"
     ]
    },
    {
     "data": {
      "text/html": [
       "<table>\n",
       "    <thead>\n",
       "        <tr>\n",
       "            <th>first_name</th>\n",
       "            <th>last_name</th>\n",
       "            <th>name</th>\n",
       "        </tr>\n",
       "    </thead>\n",
       "    <tbody>\n",
       "        <tr>\n",
       "            <td>Alice</td>\n",
       "            <td>Smith</td>\n",
       "            <td>Engineering</td>\n",
       "        </tr>\n",
       "        <tr>\n",
       "            <td>Bob</td>\n",
       "            <td>Johnson</td>\n",
       "            <td>Engineering</td>\n",
       "        </tr>\n",
       "        <tr>\n",
       "            <td>Carol</td>\n",
       "            <td>Williams</td>\n",
       "            <td>Engineering</td>\n",
       "        </tr>\n",
       "        <tr>\n",
       "            <td>David</td>\n",
       "            <td>Jones</td>\n",
       "            <td>Sales</td>\n",
       "        </tr>\n",
       "        <tr>\n",
       "            <td>Eva</td>\n",
       "            <td>Brown</td>\n",
       "            <td>Sales</td>\n",
       "        </tr>\n",
       "        <tr>\n",
       "            <td>Frank</td>\n",
       "            <td>Davis</td>\n",
       "            <td>Sales</td>\n",
       "        </tr>\n",
       "        <tr>\n",
       "            <td>Grace</td>\n",
       "            <td>Miller</td>\n",
       "            <td>HR</td>\n",
       "        </tr>\n",
       "        <tr>\n",
       "            <td>Henry</td>\n",
       "            <td>Wilson</td>\n",
       "            <td>HR</td>\n",
       "        </tr>\n",
       "        <tr>\n",
       "            <td>Ivy</td>\n",
       "            <td>Moore</td>\n",
       "            <td>Marketing</td>\n",
       "        </tr>\n",
       "        <tr>\n",
       "            <td>Sam</td>\n",
       "            <td>White</td>\n",
       "            <td>None</td>\n",
       "        </tr>\n",
       "        <tr>\n",
       "            <td>Jack</td>\n",
       "            <td>Taylor</td>\n",
       "            <td>Marketing</td>\n",
       "        </tr>\n",
       "        <tr>\n",
       "            <td>Kathy</td>\n",
       "            <td>Anderson</td>\n",
       "            <td>Finance</td>\n",
       "        </tr>\n",
       "        <tr>\n",
       "            <td>Leo</td>\n",
       "            <td>Thomas</td>\n",
       "            <td>Finance</td>\n",
       "        </tr>\n",
       "    </tbody>\n",
       "</table>"
      ],
      "text/plain": [
       "[('Alice', 'Smith', 'Engineering'),\n",
       " ('Bob', 'Johnson', 'Engineering'),\n",
       " ('Carol', 'Williams', 'Engineering'),\n",
       " ('David', 'Jones', 'Sales'),\n",
       " ('Eva', 'Brown', 'Sales'),\n",
       " ('Frank', 'Davis', 'Sales'),\n",
       " ('Grace', 'Miller', 'HR'),\n",
       " ('Henry', 'Wilson', 'HR'),\n",
       " ('Ivy', 'Moore', 'Marketing'),\n",
       " ('Sam', 'White', None),\n",
       " ('Jack', 'Taylor', 'Marketing'),\n",
       " ('Kathy', 'Anderson', 'Finance'),\n",
       " ('Leo', 'Thomas', 'Finance')]"
      ]
     },
     "execution_count": 113,
     "metadata": {},
     "output_type": "execute_result"
    }
   ],
   "source": [
    "%%sql\n",
    "SELECT e.first_name, e.last_name, d.name\n",
    "FROM employees e\n",
    "LEFT JOIN departments d ON e.department_id = d.id"
   ]
  },
  {
   "cell_type": "markdown",
   "metadata": {
    "id": "zNAv-nv_3B6-"
   },
   "source": [
    "A RIGHT (OUTER) JOIN (not available in SQLite) returns all the rows from the right table, regardless of whether a matching row is found in the left table. It can be achieved switching the position of the tables and using a LEFT JOIN.\n",
    "\n",
    "\n"
   ]
  },
  {
   "cell_type": "markdown",
   "metadata": {
    "id": "vc9Py2f5rO3r"
   },
   "source": [
    "A FULL (OUTER) JOIN (not available in SQLite) returns all the rows from both tables, regardless of whether a matching row exists in the other table"
   ]
  },
  {
   "cell_type": "code",
   "execution_count": 16,
   "metadata": {
    "colab": {
     "base_uri": "https://localhost:8080/",
     "height": 353
    },
    "id": "Hm6WE0mBP26P",
    "outputId": "d7f0c42c-ac02-4e8a-f597-8bdc7e556a2f"
   },
   "outputs": [
    {
     "name": "stdout",
     "output_type": "stream",
     "text": [
      " * sqlite:///my_database.db\n",
      "Done.\n"
     ]
    },
    {
     "data": {
      "text/html": [
       "<table>\n",
       "    <thead>\n",
       "        <tr>\n",
       "            <th>id</th>\n",
       "            <th>first_name</th>\n",
       "            <th>last_name</th>\n",
       "            <th>department_id</th>\n",
       "            <th>hire_date</th>\n",
       "            <th>salary</th>\n",
       "            <th>bonus</th>\n",
       "            <th>job_title</th>\n",
       "            <th>manager_id</th>\n",
       "            <th>performance_rating</th>\n",
       "            <th>email</th>\n",
       "            <th>phone_number</th>\n",
       "        </tr>\n",
       "    </thead>\n",
       "    <tbody>\n",
       "        <tr>\n",
       "            <td>1</td>\n",
       "            <td>Alice</td>\n",
       "            <td>Smith</td>\n",
       "            <td>1</td>\n",
       "            <td>2010-06-01</td>\n",
       "            <td>120000.0</td>\n",
       "            <td>10000.0</td>\n",
       "            <td>CTO</td>\n",
       "            <td>None</td>\n",
       "            <td>5</td>\n",
       "            <td>alice.smith@example.com</td>\n",
       "            <td>555-0100</td>\n",
       "        </tr>\n",
       "        <tr>\n",
       "            <td>2</td>\n",
       "            <td>Bob</td>\n",
       "            <td>Johnson</td>\n",
       "            <td>1</td>\n",
       "            <td>2012-09-15</td>\n",
       "            <td>90000.0</td>\n",
       "            <td>5000.0</td>\n",
       "            <td>Senior Engineer</td>\n",
       "            <td>1</td>\n",
       "            <td>4</td>\n",
       "            <td>bob.johnson@example.com</td>\n",
       "            <td>555-0101</td>\n",
       "        </tr>\n",
       "        <tr>\n",
       "            <td>3</td>\n",
       "            <td>Carol</td>\n",
       "            <td>Williams</td>\n",
       "            <td>1</td>\n",
       "            <td>2015-03-20</td>\n",
       "            <td>80000.0</td>\n",
       "            <td>None</td>\n",
       "            <td>Engineer</td>\n",
       "            <td>2</td>\n",
       "            <td>3</td>\n",
       "            <td>carol.williams@example.com</td>\n",
       "            <td>555-0102</td>\n",
       "        </tr>\n",
       "        <tr>\n",
       "            <td>4</td>\n",
       "            <td>David</td>\n",
       "            <td>Jones</td>\n",
       "            <td>2</td>\n",
       "            <td>2011-11-11</td>\n",
       "            <td>95000.0</td>\n",
       "            <td>7000.0</td>\n",
       "            <td>Sales Manager</td>\n",
       "            <td>None</td>\n",
       "            <td>4</td>\n",
       "            <td>david.jones@example.com</td>\n",
       "            <td>555-0103</td>\n",
       "        </tr>\n",
       "        <tr>\n",
       "            <td>5</td>\n",
       "            <td>Eva</td>\n",
       "            <td>Brown</td>\n",
       "            <td>2</td>\n",
       "            <td>2016-05-22</td>\n",
       "            <td>70000.0</td>\n",
       "            <td>3000.0</td>\n",
       "            <td>Sales Representative</td>\n",
       "            <td>4</td>\n",
       "            <td>3</td>\n",
       "            <td>eva.brown@example.com</td>\n",
       "            <td>555-0104</td>\n",
       "        </tr>\n",
       "        <tr>\n",
       "            <td>6</td>\n",
       "            <td>Frank</td>\n",
       "            <td>Davis</td>\n",
       "            <td>2</td>\n",
       "            <td>2018-07-01</td>\n",
       "            <td>68000.0</td>\n",
       "            <td>None</td>\n",
       "            <td>Sales Representative</td>\n",
       "            <td>4</td>\n",
       "            <td>2</td>\n",
       "            <td>frank.davis@example.com</td>\n",
       "            <td>555-0105</td>\n",
       "        </tr>\n",
       "        <tr>\n",
       "            <td>7</td>\n",
       "            <td>Grace</td>\n",
       "            <td>Miller</td>\n",
       "            <td>3</td>\n",
       "            <td>2013-02-28</td>\n",
       "            <td>75000.0</td>\n",
       "            <td>4000.0</td>\n",
       "            <td>HR Specialist</td>\n",
       "            <td>None</td>\n",
       "            <td>4</td>\n",
       "            <td>grace.miller@example.com</td>\n",
       "            <td>555-0106</td>\n",
       "        </tr>\n",
       "        <tr>\n",
       "            <td>8</td>\n",
       "            <td>Henry</td>\n",
       "            <td>Wilson</td>\n",
       "            <td>3</td>\n",
       "            <td>2019-10-10</td>\n",
       "            <td>60000.0</td>\n",
       "            <td>2000.0</td>\n",
       "            <td>HR Assistant</td>\n",
       "            <td>7</td>\n",
       "            <td>3</td>\n",
       "            <td>henry.wilson@example.com</td>\n",
       "            <td>555-0107</td>\n",
       "        </tr>\n",
       "        <tr>\n",
       "            <td>9</td>\n",
       "            <td>Ivy</td>\n",
       "            <td>Moore</td>\n",
       "            <td>4</td>\n",
       "            <td>2014-08-19</td>\n",
       "            <td>85000.0</td>\n",
       "            <td>5000.0</td>\n",
       "            <td>Marketing Manager</td>\n",
       "            <td>None</td>\n",
       "            <td>4</td>\n",
       "            <td>ivy.moore@example.com</td>\n",
       "            <td>555-0108</td>\n",
       "        </tr>\n",
       "        <tr>\n",
       "            <td>10</td>\n",
       "            <td>Sam</td>\n",
       "            <td>White</td>\n",
       "            <td>None</td>\n",
       "            <td>2023-01-01</td>\n",
       "            <td>50000.0</td>\n",
       "            <td>None</td>\n",
       "            <td>Intern</td>\n",
       "            <td>3</td>\n",
       "            <td>None</td>\n",
       "            <td>None</td>\n",
       "            <td>None</td>\n",
       "        </tr>\n",
       "        <tr>\n",
       "            <td>11</td>\n",
       "            <td>Jack</td>\n",
       "            <td>Taylor</td>\n",
       "            <td>4</td>\n",
       "            <td>2020-01-15</td>\n",
       "            <td>65000.0</td>\n",
       "            <td>None</td>\n",
       "            <td>Marketing Specialist</td>\n",
       "            <td>9</td>\n",
       "            <td>3</td>\n",
       "            <td>jack.taylor@example.com</td>\n",
       "            <td>555-0109</td>\n",
       "        </tr>\n",
       "        <tr>\n",
       "            <td>12</td>\n",
       "            <td>Kathy</td>\n",
       "            <td>Anderson</td>\n",
       "            <td>5</td>\n",
       "            <td>2017-04-03</td>\n",
       "            <td>78000.0</td>\n",
       "            <td>4500.0</td>\n",
       "            <td>Finance Analyst</td>\n",
       "            <td>None</td>\n",
       "            <td>4</td>\n",
       "            <td>kathy.anderson@example.com</td>\n",
       "            <td>555-0110</td>\n",
       "        </tr>\n",
       "        <tr>\n",
       "            <td>13</td>\n",
       "            <td>Leo</td>\n",
       "            <td>Thomas</td>\n",
       "            <td>5</td>\n",
       "            <td>2021-12-05</td>\n",
       "            <td>55000.0</td>\n",
       "            <td>None</td>\n",
       "            <td>Junior Finance Analyst</td>\n",
       "            <td>11</td>\n",
       "            <td>3</td>\n",
       "            <td>leo.thomas@example.com</td>\n",
       "            <td>555-0111</td>\n",
       "        </tr>\n",
       "    </tbody>\n",
       "</table>"
      ],
      "text/plain": [
       "[(1, 'Alice', 'Smith', 1, '2010-06-01', 120000.0, 10000.0, 'CTO', None, 5, 'alice.smith@example.com', '555-0100'),\n",
       " (2, 'Bob', 'Johnson', 1, '2012-09-15', 90000.0, 5000.0, 'Senior Engineer', 1, 4, 'bob.johnson@example.com', '555-0101'),\n",
       " (3, 'Carol', 'Williams', 1, '2015-03-20', 80000.0, None, 'Engineer', 2, 3, 'carol.williams@example.com', '555-0102'),\n",
       " (4, 'David', 'Jones', 2, '2011-11-11', 95000.0, 7000.0, 'Sales Manager', None, 4, 'david.jones@example.com', '555-0103'),\n",
       " (5, 'Eva', 'Brown', 2, '2016-05-22', 70000.0, 3000.0, 'Sales Representative', 4, 3, 'eva.brown@example.com', '555-0104'),\n",
       " (6, 'Frank', 'Davis', 2, '2018-07-01', 68000.0, None, 'Sales Representative', 4, 2, 'frank.davis@example.com', '555-0105'),\n",
       " (7, 'Grace', 'Miller', 3, '2013-02-28', 75000.0, 4000.0, 'HR Specialist', None, 4, 'grace.miller@example.com', '555-0106'),\n",
       " (8, 'Henry', 'Wilson', 3, '2019-10-10', 60000.0, 2000.0, 'HR Assistant', 7, 3, 'henry.wilson@example.com', '555-0107'),\n",
       " (9, 'Ivy', 'Moore', 4, '2014-08-19', 85000.0, 5000.0, 'Marketing Manager', None, 4, 'ivy.moore@example.com', '555-0108'),\n",
       " (10, 'Sam', 'White', None, '2023-01-01', 50000.0, None, 'Intern', 3, None, None, None),\n",
       " (11, 'Jack', 'Taylor', 4, '2020-01-15', 65000.0, None, 'Marketing Specialist', 9, 3, 'jack.taylor@example.com', '555-0109'),\n",
       " (12, 'Kathy', 'Anderson', 5, '2017-04-03', 78000.0, 4500.0, 'Finance Analyst', None, 4, 'kathy.anderson@example.com', '555-0110'),\n",
       " (13, 'Leo', 'Thomas', 5, '2021-12-05', 55000.0, None, 'Junior Finance Analyst', 11, 3, 'leo.thomas@example.com', '555-0111')]"
      ]
     },
     "execution_count": 16,
     "metadata": {},
     "output_type": "execute_result"
    }
   ],
   "source": [
    "%%sql\n",
    "SELECT *\n",
    "FROM employees;"
   ]
  },
  {
   "cell_type": "markdown",
   "metadata": {
    "id": "Bx_-ctQN6pu8"
   },
   "source": [
    "A SELF JOIN joins a table with itself, matching rows based on a related column within the same table."
   ]
  },
  {
   "cell_type": "code",
   "execution_count": 118,
   "metadata": {
    "id": "BEbCoVVTP4zV"
   },
   "outputs": [
    {
     "name": "stdout",
     "output_type": "stream",
     "text": [
      " * sqlite:///my_database.db\n",
      "Done.\n"
     ]
    },
    {
     "data": {
      "text/html": [
       "<table>\n",
       "    <thead>\n",
       "        <tr>\n",
       "            <th>id</th>\n",
       "            <th>employee</th>\n",
       "            <th>manager</th>\n",
       "        </tr>\n",
       "    </thead>\n",
       "    <tbody>\n",
       "        <tr>\n",
       "            <td>1</td>\n",
       "            <td>Alice Smith</td>\n",
       "            <td>None</td>\n",
       "        </tr>\n",
       "        <tr>\n",
       "            <td>2</td>\n",
       "            <td>Bob Johnson</td>\n",
       "            <td>Alice Smith</td>\n",
       "        </tr>\n",
       "        <tr>\n",
       "            <td>3</td>\n",
       "            <td>Carol Williams</td>\n",
       "            <td>Bob Johnson</td>\n",
       "        </tr>\n",
       "        <tr>\n",
       "            <td>4</td>\n",
       "            <td>David Jones</td>\n",
       "            <td>None</td>\n",
       "        </tr>\n",
       "        <tr>\n",
       "            <td>5</td>\n",
       "            <td>Eva Brown</td>\n",
       "            <td>David Jones</td>\n",
       "        </tr>\n",
       "        <tr>\n",
       "            <td>6</td>\n",
       "            <td>Frank Davis</td>\n",
       "            <td>David Jones</td>\n",
       "        </tr>\n",
       "        <tr>\n",
       "            <td>7</td>\n",
       "            <td>Grace Miller</td>\n",
       "            <td>None</td>\n",
       "        </tr>\n",
       "        <tr>\n",
       "            <td>8</td>\n",
       "            <td>Henry Wilson</td>\n",
       "            <td>Grace Miller</td>\n",
       "        </tr>\n",
       "        <tr>\n",
       "            <td>9</td>\n",
       "            <td>Ivy Moore</td>\n",
       "            <td>None</td>\n",
       "        </tr>\n",
       "        <tr>\n",
       "            <td>10</td>\n",
       "            <td>Sam White</td>\n",
       "            <td>Carol Williams</td>\n",
       "        </tr>\n",
       "        <tr>\n",
       "            <td>11</td>\n",
       "            <td>Jack Taylor</td>\n",
       "            <td>Ivy Moore</td>\n",
       "        </tr>\n",
       "        <tr>\n",
       "            <td>12</td>\n",
       "            <td>Kathy Anderson</td>\n",
       "            <td>None</td>\n",
       "        </tr>\n",
       "        <tr>\n",
       "            <td>13</td>\n",
       "            <td>Leo Thomas</td>\n",
       "            <td>Jack Taylor</td>\n",
       "        </tr>\n",
       "    </tbody>\n",
       "</table>"
      ],
      "text/plain": [
       "[(1, 'Alice Smith', None),\n",
       " (2, 'Bob Johnson', 'Alice Smith'),\n",
       " (3, 'Carol Williams', 'Bob Johnson'),\n",
       " (4, 'David Jones', None),\n",
       " (5, 'Eva Brown', 'David Jones'),\n",
       " (6, 'Frank Davis', 'David Jones'),\n",
       " (7, 'Grace Miller', None),\n",
       " (8, 'Henry Wilson', 'Grace Miller'),\n",
       " (9, 'Ivy Moore', None),\n",
       " (10, 'Sam White', 'Carol Williams'),\n",
       " (11, 'Jack Taylor', 'Ivy Moore'),\n",
       " (12, 'Kathy Anderson', None),\n",
       " (13, 'Leo Thomas', 'Jack Taylor')]"
      ]
     },
     "execution_count": 118,
     "metadata": {},
     "output_type": "execute_result"
    }
   ],
   "source": [
    "%%sql\n",
    "SELECT e1.id, e1.first_name || ' ' || e1.last_name AS employee, e2.first_name || ' ' || e2.last_name AS manager\n",
    "FROM employees e1\n",
    "LEFT JOIN employees e2\n",
    "    ON e1.manager_id = e2.id"
   ]
  },
  {
   "cell_type": "markdown",
   "metadata": {
    "id": "SZBZ-aOTRh0t"
   },
   "source": [
    "A CROSS JOIN returns all possible combinations of rows from both tables, creating a Cartesian product.\n"
   ]
  },
  {
   "cell_type": "markdown",
   "metadata": {
    "id": "SdQxxPh4gS6O"
   },
   "source": [
    "### Combining multiple tables vertically\n",
    "\n"
   ]
  },
  {
   "cell_type": "code",
   "execution_count": 17,
   "metadata": {
    "colab": {
     "base_uri": "https://localhost:8080/",
     "height": 353
    },
    "id": "hWrqcqA4gWpm",
    "outputId": "90b4e504-3955-41c8-d1d9-681c981a1b73"
   },
   "outputs": [
    {
     "name": "stdout",
     "output_type": "stream",
     "text": [
      " * sqlite:///my_database.db\n",
      "Done.\n"
     ]
    },
    {
     "data": {
      "text/html": [
       "<table>\n",
       "    <thead>\n",
       "        <tr>\n",
       "            <th>id</th>\n",
       "            <th>first_name</th>\n",
       "            <th>last_name</th>\n",
       "            <th>department_id</th>\n",
       "            <th>hire_date</th>\n",
       "            <th>salary</th>\n",
       "            <th>bonus</th>\n",
       "            <th>job_title</th>\n",
       "            <th>manager_id</th>\n",
       "            <th>performance_rating</th>\n",
       "            <th>email</th>\n",
       "            <th>phone_number</th>\n",
       "        </tr>\n",
       "    </thead>\n",
       "    <tbody>\n",
       "        <tr>\n",
       "            <td>1</td>\n",
       "            <td>Alice</td>\n",
       "            <td>Smith</td>\n",
       "            <td>1</td>\n",
       "            <td>2010-06-01</td>\n",
       "            <td>120000.0</td>\n",
       "            <td>10000.0</td>\n",
       "            <td>CTO</td>\n",
       "            <td>None</td>\n",
       "            <td>5</td>\n",
       "            <td>alice.smith@example.com</td>\n",
       "            <td>555-0100</td>\n",
       "        </tr>\n",
       "        <tr>\n",
       "            <td>2</td>\n",
       "            <td>Bob</td>\n",
       "            <td>Johnson</td>\n",
       "            <td>1</td>\n",
       "            <td>2012-09-15</td>\n",
       "            <td>90000.0</td>\n",
       "            <td>5000.0</td>\n",
       "            <td>Senior Engineer</td>\n",
       "            <td>1</td>\n",
       "            <td>4</td>\n",
       "            <td>bob.johnson@example.com</td>\n",
       "            <td>555-0101</td>\n",
       "        </tr>\n",
       "        <tr>\n",
       "            <td>3</td>\n",
       "            <td>Carol</td>\n",
       "            <td>Williams</td>\n",
       "            <td>1</td>\n",
       "            <td>2015-03-20</td>\n",
       "            <td>80000.0</td>\n",
       "            <td>None</td>\n",
       "            <td>Engineer</td>\n",
       "            <td>2</td>\n",
       "            <td>3</td>\n",
       "            <td>carol.williams@example.com</td>\n",
       "            <td>555-0102</td>\n",
       "        </tr>\n",
       "        <tr>\n",
       "            <td>4</td>\n",
       "            <td>David</td>\n",
       "            <td>Jones</td>\n",
       "            <td>2</td>\n",
       "            <td>2011-11-11</td>\n",
       "            <td>95000.0</td>\n",
       "            <td>7000.0</td>\n",
       "            <td>Sales Manager</td>\n",
       "            <td>None</td>\n",
       "            <td>4</td>\n",
       "            <td>david.jones@example.com</td>\n",
       "            <td>555-0103</td>\n",
       "        </tr>\n",
       "        <tr>\n",
       "            <td>5</td>\n",
       "            <td>Eva</td>\n",
       "            <td>Brown</td>\n",
       "            <td>2</td>\n",
       "            <td>2016-05-22</td>\n",
       "            <td>70000.0</td>\n",
       "            <td>3000.0</td>\n",
       "            <td>Sales Representative</td>\n",
       "            <td>4</td>\n",
       "            <td>3</td>\n",
       "            <td>eva.brown@example.com</td>\n",
       "            <td>555-0104</td>\n",
       "        </tr>\n",
       "        <tr>\n",
       "            <td>6</td>\n",
       "            <td>Frank</td>\n",
       "            <td>Davis</td>\n",
       "            <td>2</td>\n",
       "            <td>2018-07-01</td>\n",
       "            <td>68000.0</td>\n",
       "            <td>None</td>\n",
       "            <td>Sales Representative</td>\n",
       "            <td>4</td>\n",
       "            <td>2</td>\n",
       "            <td>frank.davis@example.com</td>\n",
       "            <td>555-0105</td>\n",
       "        </tr>\n",
       "        <tr>\n",
       "            <td>7</td>\n",
       "            <td>Grace</td>\n",
       "            <td>Miller</td>\n",
       "            <td>3</td>\n",
       "            <td>2013-02-28</td>\n",
       "            <td>75000.0</td>\n",
       "            <td>4000.0</td>\n",
       "            <td>HR Specialist</td>\n",
       "            <td>None</td>\n",
       "            <td>4</td>\n",
       "            <td>grace.miller@example.com</td>\n",
       "            <td>555-0106</td>\n",
       "        </tr>\n",
       "        <tr>\n",
       "            <td>8</td>\n",
       "            <td>Henry</td>\n",
       "            <td>Wilson</td>\n",
       "            <td>3</td>\n",
       "            <td>2019-10-10</td>\n",
       "            <td>60000.0</td>\n",
       "            <td>2000.0</td>\n",
       "            <td>HR Assistant</td>\n",
       "            <td>7</td>\n",
       "            <td>3</td>\n",
       "            <td>henry.wilson@example.com</td>\n",
       "            <td>555-0107</td>\n",
       "        </tr>\n",
       "        <tr>\n",
       "            <td>9</td>\n",
       "            <td>Ivy</td>\n",
       "            <td>Moore</td>\n",
       "            <td>4</td>\n",
       "            <td>2014-08-19</td>\n",
       "            <td>85000.0</td>\n",
       "            <td>5000.0</td>\n",
       "            <td>Marketing Manager</td>\n",
       "            <td>None</td>\n",
       "            <td>4</td>\n",
       "            <td>ivy.moore@example.com</td>\n",
       "            <td>555-0108</td>\n",
       "        </tr>\n",
       "        <tr>\n",
       "            <td>10</td>\n",
       "            <td>Sam</td>\n",
       "            <td>White</td>\n",
       "            <td>None</td>\n",
       "            <td>2023-01-01</td>\n",
       "            <td>50000.0</td>\n",
       "            <td>None</td>\n",
       "            <td>Intern</td>\n",
       "            <td>3</td>\n",
       "            <td>None</td>\n",
       "            <td>None</td>\n",
       "            <td>None</td>\n",
       "        </tr>\n",
       "        <tr>\n",
       "            <td>11</td>\n",
       "            <td>Jack</td>\n",
       "            <td>Taylor</td>\n",
       "            <td>4</td>\n",
       "            <td>2020-01-15</td>\n",
       "            <td>65000.0</td>\n",
       "            <td>None</td>\n",
       "            <td>Marketing Specialist</td>\n",
       "            <td>9</td>\n",
       "            <td>3</td>\n",
       "            <td>jack.taylor@example.com</td>\n",
       "            <td>555-0109</td>\n",
       "        </tr>\n",
       "        <tr>\n",
       "            <td>12</td>\n",
       "            <td>Kathy</td>\n",
       "            <td>Anderson</td>\n",
       "            <td>5</td>\n",
       "            <td>2017-04-03</td>\n",
       "            <td>78000.0</td>\n",
       "            <td>4500.0</td>\n",
       "            <td>Finance Analyst</td>\n",
       "            <td>None</td>\n",
       "            <td>4</td>\n",
       "            <td>kathy.anderson@example.com</td>\n",
       "            <td>555-0110</td>\n",
       "        </tr>\n",
       "        <tr>\n",
       "            <td>13</td>\n",
       "            <td>Leo</td>\n",
       "            <td>Thomas</td>\n",
       "            <td>5</td>\n",
       "            <td>2021-12-05</td>\n",
       "            <td>55000.0</td>\n",
       "            <td>None</td>\n",
       "            <td>Junior Finance Analyst</td>\n",
       "            <td>11</td>\n",
       "            <td>3</td>\n",
       "            <td>leo.thomas@example.com</td>\n",
       "            <td>555-0111</td>\n",
       "        </tr>\n",
       "    </tbody>\n",
       "</table>"
      ],
      "text/plain": [
       "[(1, 'Alice', 'Smith', 1, '2010-06-01', 120000.0, 10000.0, 'CTO', None, 5, 'alice.smith@example.com', '555-0100'),\n",
       " (2, 'Bob', 'Johnson', 1, '2012-09-15', 90000.0, 5000.0, 'Senior Engineer', 1, 4, 'bob.johnson@example.com', '555-0101'),\n",
       " (3, 'Carol', 'Williams', 1, '2015-03-20', 80000.0, None, 'Engineer', 2, 3, 'carol.williams@example.com', '555-0102'),\n",
       " (4, 'David', 'Jones', 2, '2011-11-11', 95000.0, 7000.0, 'Sales Manager', None, 4, 'david.jones@example.com', '555-0103'),\n",
       " (5, 'Eva', 'Brown', 2, '2016-05-22', 70000.0, 3000.0, 'Sales Representative', 4, 3, 'eva.brown@example.com', '555-0104'),\n",
       " (6, 'Frank', 'Davis', 2, '2018-07-01', 68000.0, None, 'Sales Representative', 4, 2, 'frank.davis@example.com', '555-0105'),\n",
       " (7, 'Grace', 'Miller', 3, '2013-02-28', 75000.0, 4000.0, 'HR Specialist', None, 4, 'grace.miller@example.com', '555-0106'),\n",
       " (8, 'Henry', 'Wilson', 3, '2019-10-10', 60000.0, 2000.0, 'HR Assistant', 7, 3, 'henry.wilson@example.com', '555-0107'),\n",
       " (9, 'Ivy', 'Moore', 4, '2014-08-19', 85000.0, 5000.0, 'Marketing Manager', None, 4, 'ivy.moore@example.com', '555-0108'),\n",
       " (10, 'Sam', 'White', None, '2023-01-01', 50000.0, None, 'Intern', 3, None, None, None),\n",
       " (11, 'Jack', 'Taylor', 4, '2020-01-15', 65000.0, None, 'Marketing Specialist', 9, 3, 'jack.taylor@example.com', '555-0109'),\n",
       " (12, 'Kathy', 'Anderson', 5, '2017-04-03', 78000.0, 4500.0, 'Finance Analyst', None, 4, 'kathy.anderson@example.com', '555-0110'),\n",
       " (13, 'Leo', 'Thomas', 5, '2021-12-05', 55000.0, None, 'Junior Finance Analyst', 11, 3, 'leo.thomas@example.com', '555-0111')]"
      ]
     },
     "execution_count": 17,
     "metadata": {},
     "output_type": "execute_result"
    }
   ],
   "source": [
    "%%sql\n",
    "SELECT *\n",
    "FROM employees;"
   ]
  },
  {
   "cell_type": "markdown",
   "metadata": {
    "id": "stD1YwU_g39z"
   },
   "source": [
    "UNION combines the results of two queries and removes duplicate rows. UNION ALL retains duplicates.\n"
   ]
  },
  {
   "cell_type": "code",
   "execution_count": 125,
   "metadata": {
    "id": "tg0ysAyogWZ0"
   },
   "outputs": [
    {
     "name": "stdout",
     "output_type": "stream",
     "text": [
      " * sqlite:///my_database.db\n",
      "Done.\n"
     ]
    },
    {
     "data": {
      "text/html": [
       "<table>\n",
       "    <thead>\n",
       "        <tr>\n",
       "            <th>first_name</th>\n",
       "            <th>last_name</th>\n",
       "            <th>department_id</th>\n",
       "        </tr>\n",
       "    </thead>\n",
       "    <tbody>\n",
       "        <tr>\n",
       "            <td>Alice</td>\n",
       "            <td>Smith</td>\n",
       "            <td>1</td>\n",
       "        </tr>\n",
       "        <tr>\n",
       "            <td>Bob</td>\n",
       "            <td>Johnson</td>\n",
       "            <td>1</td>\n",
       "        </tr>\n",
       "        <tr>\n",
       "            <td>Carol</td>\n",
       "            <td>Williams</td>\n",
       "            <td>1</td>\n",
       "        </tr>\n",
       "        <tr>\n",
       "            <td>David</td>\n",
       "            <td>Jones</td>\n",
       "            <td>2</td>\n",
       "        </tr>\n",
       "        <tr>\n",
       "            <td>Eva</td>\n",
       "            <td>Brown</td>\n",
       "            <td>2</td>\n",
       "        </tr>\n",
       "        <tr>\n",
       "            <td>Frank</td>\n",
       "            <td>Davis</td>\n",
       "            <td>2</td>\n",
       "        </tr>\n",
       "    </tbody>\n",
       "</table>"
      ],
      "text/plain": [
       "[('Alice', 'Smith', 1),\n",
       " ('Bob', 'Johnson', 1),\n",
       " ('Carol', 'Williams', 1),\n",
       " ('David', 'Jones', 2),\n",
       " ('Eva', 'Brown', 2),\n",
       " ('Frank', 'Davis', 2)]"
      ]
     },
     "execution_count": 125,
     "metadata": {},
     "output_type": "execute_result"
    }
   ],
   "source": [
    "%%sql\n",
    "SELECT first_name, last_name, department_id\n",
    "FROM employees\n",
    "WHERE department_id = 1\n",
    "\n",
    "UNION\n",
    "\n",
    "SELECT first_name, last_name, department_id\n",
    "FROM employees\n",
    "WHERE department_id = 2"
   ]
  },
  {
   "cell_type": "markdown",
   "metadata": {
    "id": "Qx8nb6hDhJvB"
   },
   "source": [
    "INTERSECT returns only the rows that are present in the results of both queries, removing duplicates."
   ]
  },
  {
   "cell_type": "code",
   "execution_count": 126,
   "metadata": {
    "id": "UWIycFKug7Vl"
   },
   "outputs": [
    {
     "name": "stdout",
     "output_type": "stream",
     "text": [
      " * sqlite:///my_database.db\n",
      "Done.\n"
     ]
    },
    {
     "data": {
      "text/html": [
       "<table>\n",
       "    <thead>\n",
       "        <tr>\n",
       "            <th>first_name</th>\n",
       "            <th>last_name</th>\n",
       "            <th>department_id</th>\n",
       "        </tr>\n",
       "    </thead>\n",
       "    <tbody>\n",
       "    </tbody>\n",
       "</table>"
      ],
      "text/plain": [
       "[]"
      ]
     },
     "execution_count": 126,
     "metadata": {},
     "output_type": "execute_result"
    }
   ],
   "source": [
    "%%sql\n",
    "SELECT first_name, last_name, department_id\n",
    "FROM employees\n",
    "WHERE department_id = 1\n",
    "\n",
    "INTERSECT\n",
    "\n",
    "SELECT first_name, last_name, department_id\n",
    "FROM employees\n",
    "WHERE department_id = 2"
   ]
  },
  {
   "cell_type": "markdown",
   "metadata": {
    "id": "7SqGN5-yhR54"
   },
   "source": [
    "EXCEPT returns only the rows from the results of the first query that are not present in the results of the second query, removing duplicates."
   ]
  },
  {
   "cell_type": "code",
   "execution_count": 130,
   "metadata": {
    "id": "_5gS88yJhPme"
   },
   "outputs": [
    {
     "name": "stdout",
     "output_type": "stream",
     "text": [
      " * sqlite:///my_database.db\n",
      "Done.\n"
     ]
    },
    {
     "data": {
      "text/html": [
       "<table>\n",
       "    <thead>\n",
       "        <tr>\n",
       "            <th>first_name</th>\n",
       "            <th>last_name</th>\n",
       "            <th>department_id</th>\n",
       "        </tr>\n",
       "    </thead>\n",
       "    <tbody>\n",
       "        <tr>\n",
       "            <td>Alice</td>\n",
       "            <td>Smith</td>\n",
       "            <td>1</td>\n",
       "        </tr>\n",
       "        <tr>\n",
       "            <td>Bob</td>\n",
       "            <td>Johnson</td>\n",
       "            <td>1</td>\n",
       "        </tr>\n",
       "        <tr>\n",
       "            <td>Carol</td>\n",
       "            <td>Williams</td>\n",
       "            <td>1</td>\n",
       "        </tr>\n",
       "    </tbody>\n",
       "</table>"
      ],
      "text/plain": [
       "[('Alice', 'Smith', 1), ('Bob', 'Johnson', 1), ('Carol', 'Williams', 1)]"
      ]
     },
     "execution_count": 130,
     "metadata": {},
     "output_type": "execute_result"
    }
   ],
   "source": [
    "%%sql\n",
    "SELECT first_name, last_name, department_id\n",
    "FROM employees\n",
    "WHERE department_id = 1\n",
    "\n",
    "EXCEPT\n",
    "\n",
    "SELECT first_name, last_name, department_id\n",
    "FROM employees\n",
    "WHERE department_id = 2"
   ]
  },
  {
   "cell_type": "markdown",
   "metadata": {
    "id": "dCmLVQnVTmGq"
   },
   "source": [
    "## Handling NULL values"
   ]
  },
  {
   "cell_type": "code",
   "execution_count": 18,
   "metadata": {
    "colab": {
     "base_uri": "https://localhost:8080/",
     "height": 353
    },
    "id": "2anwYg-FtfuJ",
    "outputId": "7a2a55a8-81d0-4da5-c126-a4da2e75146b"
   },
   "outputs": [
    {
     "name": "stdout",
     "output_type": "stream",
     "text": [
      " * sqlite:///my_database.db\n",
      "Done.\n"
     ]
    },
    {
     "data": {
      "text/html": [
       "<table>\n",
       "    <thead>\n",
       "        <tr>\n",
       "            <th>id</th>\n",
       "            <th>first_name</th>\n",
       "            <th>last_name</th>\n",
       "            <th>department_id</th>\n",
       "            <th>hire_date</th>\n",
       "            <th>salary</th>\n",
       "            <th>bonus</th>\n",
       "            <th>job_title</th>\n",
       "            <th>manager_id</th>\n",
       "            <th>performance_rating</th>\n",
       "            <th>email</th>\n",
       "            <th>phone_number</th>\n",
       "        </tr>\n",
       "    </thead>\n",
       "    <tbody>\n",
       "        <tr>\n",
       "            <td>1</td>\n",
       "            <td>Alice</td>\n",
       "            <td>Smith</td>\n",
       "            <td>1</td>\n",
       "            <td>2010-06-01</td>\n",
       "            <td>120000.0</td>\n",
       "            <td>10000.0</td>\n",
       "            <td>CTO</td>\n",
       "            <td>None</td>\n",
       "            <td>5</td>\n",
       "            <td>alice.smith@example.com</td>\n",
       "            <td>555-0100</td>\n",
       "        </tr>\n",
       "        <tr>\n",
       "            <td>2</td>\n",
       "            <td>Bob</td>\n",
       "            <td>Johnson</td>\n",
       "            <td>1</td>\n",
       "            <td>2012-09-15</td>\n",
       "            <td>90000.0</td>\n",
       "            <td>5000.0</td>\n",
       "            <td>Senior Engineer</td>\n",
       "            <td>1</td>\n",
       "            <td>4</td>\n",
       "            <td>bob.johnson@example.com</td>\n",
       "            <td>555-0101</td>\n",
       "        </tr>\n",
       "        <tr>\n",
       "            <td>3</td>\n",
       "            <td>Carol</td>\n",
       "            <td>Williams</td>\n",
       "            <td>1</td>\n",
       "            <td>2015-03-20</td>\n",
       "            <td>80000.0</td>\n",
       "            <td>None</td>\n",
       "            <td>Engineer</td>\n",
       "            <td>2</td>\n",
       "            <td>3</td>\n",
       "            <td>carol.williams@example.com</td>\n",
       "            <td>555-0102</td>\n",
       "        </tr>\n",
       "        <tr>\n",
       "            <td>4</td>\n",
       "            <td>David</td>\n",
       "            <td>Jones</td>\n",
       "            <td>2</td>\n",
       "            <td>2011-11-11</td>\n",
       "            <td>95000.0</td>\n",
       "            <td>7000.0</td>\n",
       "            <td>Sales Manager</td>\n",
       "            <td>None</td>\n",
       "            <td>4</td>\n",
       "            <td>david.jones@example.com</td>\n",
       "            <td>555-0103</td>\n",
       "        </tr>\n",
       "        <tr>\n",
       "            <td>5</td>\n",
       "            <td>Eva</td>\n",
       "            <td>Brown</td>\n",
       "            <td>2</td>\n",
       "            <td>2016-05-22</td>\n",
       "            <td>70000.0</td>\n",
       "            <td>3000.0</td>\n",
       "            <td>Sales Representative</td>\n",
       "            <td>4</td>\n",
       "            <td>3</td>\n",
       "            <td>eva.brown@example.com</td>\n",
       "            <td>555-0104</td>\n",
       "        </tr>\n",
       "        <tr>\n",
       "            <td>6</td>\n",
       "            <td>Frank</td>\n",
       "            <td>Davis</td>\n",
       "            <td>2</td>\n",
       "            <td>2018-07-01</td>\n",
       "            <td>68000.0</td>\n",
       "            <td>None</td>\n",
       "            <td>Sales Representative</td>\n",
       "            <td>4</td>\n",
       "            <td>2</td>\n",
       "            <td>frank.davis@example.com</td>\n",
       "            <td>555-0105</td>\n",
       "        </tr>\n",
       "        <tr>\n",
       "            <td>7</td>\n",
       "            <td>Grace</td>\n",
       "            <td>Miller</td>\n",
       "            <td>3</td>\n",
       "            <td>2013-02-28</td>\n",
       "            <td>75000.0</td>\n",
       "            <td>4000.0</td>\n",
       "            <td>HR Specialist</td>\n",
       "            <td>None</td>\n",
       "            <td>4</td>\n",
       "            <td>grace.miller@example.com</td>\n",
       "            <td>555-0106</td>\n",
       "        </tr>\n",
       "        <tr>\n",
       "            <td>8</td>\n",
       "            <td>Henry</td>\n",
       "            <td>Wilson</td>\n",
       "            <td>3</td>\n",
       "            <td>2019-10-10</td>\n",
       "            <td>60000.0</td>\n",
       "            <td>2000.0</td>\n",
       "            <td>HR Assistant</td>\n",
       "            <td>7</td>\n",
       "            <td>3</td>\n",
       "            <td>henry.wilson@example.com</td>\n",
       "            <td>555-0107</td>\n",
       "        </tr>\n",
       "        <tr>\n",
       "            <td>9</td>\n",
       "            <td>Ivy</td>\n",
       "            <td>Moore</td>\n",
       "            <td>4</td>\n",
       "            <td>2014-08-19</td>\n",
       "            <td>85000.0</td>\n",
       "            <td>5000.0</td>\n",
       "            <td>Marketing Manager</td>\n",
       "            <td>None</td>\n",
       "            <td>4</td>\n",
       "            <td>ivy.moore@example.com</td>\n",
       "            <td>555-0108</td>\n",
       "        </tr>\n",
       "        <tr>\n",
       "            <td>10</td>\n",
       "            <td>Sam</td>\n",
       "            <td>White</td>\n",
       "            <td>None</td>\n",
       "            <td>2023-01-01</td>\n",
       "            <td>50000.0</td>\n",
       "            <td>None</td>\n",
       "            <td>Intern</td>\n",
       "            <td>3</td>\n",
       "            <td>None</td>\n",
       "            <td>None</td>\n",
       "            <td>None</td>\n",
       "        </tr>\n",
       "        <tr>\n",
       "            <td>11</td>\n",
       "            <td>Jack</td>\n",
       "            <td>Taylor</td>\n",
       "            <td>4</td>\n",
       "            <td>2020-01-15</td>\n",
       "            <td>65000.0</td>\n",
       "            <td>None</td>\n",
       "            <td>Marketing Specialist</td>\n",
       "            <td>9</td>\n",
       "            <td>3</td>\n",
       "            <td>jack.taylor@example.com</td>\n",
       "            <td>555-0109</td>\n",
       "        </tr>\n",
       "        <tr>\n",
       "            <td>12</td>\n",
       "            <td>Kathy</td>\n",
       "            <td>Anderson</td>\n",
       "            <td>5</td>\n",
       "            <td>2017-04-03</td>\n",
       "            <td>78000.0</td>\n",
       "            <td>4500.0</td>\n",
       "            <td>Finance Analyst</td>\n",
       "            <td>None</td>\n",
       "            <td>4</td>\n",
       "            <td>kathy.anderson@example.com</td>\n",
       "            <td>555-0110</td>\n",
       "        </tr>\n",
       "        <tr>\n",
       "            <td>13</td>\n",
       "            <td>Leo</td>\n",
       "            <td>Thomas</td>\n",
       "            <td>5</td>\n",
       "            <td>2021-12-05</td>\n",
       "            <td>55000.0</td>\n",
       "            <td>None</td>\n",
       "            <td>Junior Finance Analyst</td>\n",
       "            <td>11</td>\n",
       "            <td>3</td>\n",
       "            <td>leo.thomas@example.com</td>\n",
       "            <td>555-0111</td>\n",
       "        </tr>\n",
       "    </tbody>\n",
       "</table>"
      ],
      "text/plain": [
       "[(1, 'Alice', 'Smith', 1, '2010-06-01', 120000.0, 10000.0, 'CTO', None, 5, 'alice.smith@example.com', '555-0100'),\n",
       " (2, 'Bob', 'Johnson', 1, '2012-09-15', 90000.0, 5000.0, 'Senior Engineer', 1, 4, 'bob.johnson@example.com', '555-0101'),\n",
       " (3, 'Carol', 'Williams', 1, '2015-03-20', 80000.0, None, 'Engineer', 2, 3, 'carol.williams@example.com', '555-0102'),\n",
       " (4, 'David', 'Jones', 2, '2011-11-11', 95000.0, 7000.0, 'Sales Manager', None, 4, 'david.jones@example.com', '555-0103'),\n",
       " (5, 'Eva', 'Brown', 2, '2016-05-22', 70000.0, 3000.0, 'Sales Representative', 4, 3, 'eva.brown@example.com', '555-0104'),\n",
       " (6, 'Frank', 'Davis', 2, '2018-07-01', 68000.0, None, 'Sales Representative', 4, 2, 'frank.davis@example.com', '555-0105'),\n",
       " (7, 'Grace', 'Miller', 3, '2013-02-28', 75000.0, 4000.0, 'HR Specialist', None, 4, 'grace.miller@example.com', '555-0106'),\n",
       " (8, 'Henry', 'Wilson', 3, '2019-10-10', 60000.0, 2000.0, 'HR Assistant', 7, 3, 'henry.wilson@example.com', '555-0107'),\n",
       " (9, 'Ivy', 'Moore', 4, '2014-08-19', 85000.0, 5000.0, 'Marketing Manager', None, 4, 'ivy.moore@example.com', '555-0108'),\n",
       " (10, 'Sam', 'White', None, '2023-01-01', 50000.0, None, 'Intern', 3, None, None, None),\n",
       " (11, 'Jack', 'Taylor', 4, '2020-01-15', 65000.0, None, 'Marketing Specialist', 9, 3, 'jack.taylor@example.com', '555-0109'),\n",
       " (12, 'Kathy', 'Anderson', 5, '2017-04-03', 78000.0, 4500.0, 'Finance Analyst', None, 4, 'kathy.anderson@example.com', '555-0110'),\n",
       " (13, 'Leo', 'Thomas', 5, '2021-12-05', 55000.0, None, 'Junior Finance Analyst', 11, 3, 'leo.thomas@example.com', '555-0111')]"
      ]
     },
     "execution_count": 18,
     "metadata": {},
     "output_type": "execute_result"
    }
   ],
   "source": [
    "%%sql\n",
    "SELECT *\n",
    "FROM employees;"
   ]
  },
  {
   "cell_type": "markdown",
   "metadata": {
    "id": "PryNrk6q9gTP"
   },
   "source": [
    "IFNULL returns the first argument if it is not NULL; otherwise, it returns the second argument.\n"
   ]
  },
  {
   "cell_type": "code",
   "execution_count": 131,
   "metadata": {
    "id": "Eek3kH1eUIaS"
   },
   "outputs": [
    {
     "name": "stdout",
     "output_type": "stream",
     "text": [
      " * sqlite:///my_database.db\n",
      "Done.\n"
     ]
    },
    {
     "data": {
      "text/html": [
       "<table>\n",
       "    <thead>\n",
       "        <tr>\n",
       "            <th>first_name</th>\n",
       "            <th>last_name</th>\n",
       "            <th>bonus</th>\n",
       "        </tr>\n",
       "    </thead>\n",
       "    <tbody>\n",
       "        <tr>\n",
       "            <td>Alice</td>\n",
       "            <td>Smith</td>\n",
       "            <td>10000.0</td>\n",
       "        </tr>\n",
       "        <tr>\n",
       "            <td>Bob</td>\n",
       "            <td>Johnson</td>\n",
       "            <td>5000.0</td>\n",
       "        </tr>\n",
       "        <tr>\n",
       "            <td>Carol</td>\n",
       "            <td>Williams</td>\n",
       "            <td>0</td>\n",
       "        </tr>\n",
       "        <tr>\n",
       "            <td>David</td>\n",
       "            <td>Jones</td>\n",
       "            <td>7000.0</td>\n",
       "        </tr>\n",
       "        <tr>\n",
       "            <td>Eva</td>\n",
       "            <td>Brown</td>\n",
       "            <td>3000.0</td>\n",
       "        </tr>\n",
       "        <tr>\n",
       "            <td>Frank</td>\n",
       "            <td>Davis</td>\n",
       "            <td>0</td>\n",
       "        </tr>\n",
       "        <tr>\n",
       "            <td>Grace</td>\n",
       "            <td>Miller</td>\n",
       "            <td>4000.0</td>\n",
       "        </tr>\n",
       "        <tr>\n",
       "            <td>Henry</td>\n",
       "            <td>Wilson</td>\n",
       "            <td>2000.0</td>\n",
       "        </tr>\n",
       "        <tr>\n",
       "            <td>Ivy</td>\n",
       "            <td>Moore</td>\n",
       "            <td>5000.0</td>\n",
       "        </tr>\n",
       "        <tr>\n",
       "            <td>Sam</td>\n",
       "            <td>White</td>\n",
       "            <td>0</td>\n",
       "        </tr>\n",
       "        <tr>\n",
       "            <td>Jack</td>\n",
       "            <td>Taylor</td>\n",
       "            <td>0</td>\n",
       "        </tr>\n",
       "        <tr>\n",
       "            <td>Kathy</td>\n",
       "            <td>Anderson</td>\n",
       "            <td>4500.0</td>\n",
       "        </tr>\n",
       "        <tr>\n",
       "            <td>Leo</td>\n",
       "            <td>Thomas</td>\n",
       "            <td>0</td>\n",
       "        </tr>\n",
       "    </tbody>\n",
       "</table>"
      ],
      "text/plain": [
       "[('Alice', 'Smith', 10000.0),\n",
       " ('Bob', 'Johnson', 5000.0),\n",
       " ('Carol', 'Williams', 0),\n",
       " ('David', 'Jones', 7000.0),\n",
       " ('Eva', 'Brown', 3000.0),\n",
       " ('Frank', 'Davis', 0),\n",
       " ('Grace', 'Miller', 4000.0),\n",
       " ('Henry', 'Wilson', 2000.0),\n",
       " ('Ivy', 'Moore', 5000.0),\n",
       " ('Sam', 'White', 0),\n",
       " ('Jack', 'Taylor', 0),\n",
       " ('Kathy', 'Anderson', 4500.0),\n",
       " ('Leo', 'Thomas', 0)]"
      ]
     },
     "execution_count": 131,
     "metadata": {},
     "output_type": "execute_result"
    }
   ],
   "source": [
    "%%sql\n",
    "SELECT first_name, last_name, IFNULL(bonus, 0) AS bonus\n",
    "FROM employees"
   ]
  },
  {
   "cell_type": "markdown",
   "metadata": {
    "id": "2XaLUuKJ9kCl"
   },
   "source": [
    "COALESCE returns the first non-NULL value among multiple arguments."
   ]
  },
  {
   "cell_type": "code",
   "execution_count": 132,
   "metadata": {
    "id": "UdEP70x6uIG7"
   },
   "outputs": [
    {
     "name": "stdout",
     "output_type": "stream",
     "text": [
      " * sqlite:///my_database.db\n",
      "Done.\n"
     ]
    },
    {
     "data": {
      "text/html": [
       "<table>\n",
       "    <thead>\n",
       "        <tr>\n",
       "            <th>first_name</th>\n",
       "            <th>last_name</th>\n",
       "            <th>bonus</th>\n",
       "        </tr>\n",
       "    </thead>\n",
       "    <tbody>\n",
       "        <tr>\n",
       "            <td>Alice</td>\n",
       "            <td>Smith</td>\n",
       "            <td>10000.0</td>\n",
       "        </tr>\n",
       "        <tr>\n",
       "            <td>Bob</td>\n",
       "            <td>Johnson</td>\n",
       "            <td>5000.0</td>\n",
       "        </tr>\n",
       "        <tr>\n",
       "            <td>Carol</td>\n",
       "            <td>Williams</td>\n",
       "            <td>0</td>\n",
       "        </tr>\n",
       "        <tr>\n",
       "            <td>David</td>\n",
       "            <td>Jones</td>\n",
       "            <td>7000.0</td>\n",
       "        </tr>\n",
       "        <tr>\n",
       "            <td>Eva</td>\n",
       "            <td>Brown</td>\n",
       "            <td>3000.0</td>\n",
       "        </tr>\n",
       "        <tr>\n",
       "            <td>Frank</td>\n",
       "            <td>Davis</td>\n",
       "            <td>0</td>\n",
       "        </tr>\n",
       "        <tr>\n",
       "            <td>Grace</td>\n",
       "            <td>Miller</td>\n",
       "            <td>4000.0</td>\n",
       "        </tr>\n",
       "        <tr>\n",
       "            <td>Henry</td>\n",
       "            <td>Wilson</td>\n",
       "            <td>2000.0</td>\n",
       "        </tr>\n",
       "        <tr>\n",
       "            <td>Ivy</td>\n",
       "            <td>Moore</td>\n",
       "            <td>5000.0</td>\n",
       "        </tr>\n",
       "        <tr>\n",
       "            <td>Sam</td>\n",
       "            <td>White</td>\n",
       "            <td>0</td>\n",
       "        </tr>\n",
       "        <tr>\n",
       "            <td>Jack</td>\n",
       "            <td>Taylor</td>\n",
       "            <td>0</td>\n",
       "        </tr>\n",
       "        <tr>\n",
       "            <td>Kathy</td>\n",
       "            <td>Anderson</td>\n",
       "            <td>4500.0</td>\n",
       "        </tr>\n",
       "        <tr>\n",
       "            <td>Leo</td>\n",
       "            <td>Thomas</td>\n",
       "            <td>0</td>\n",
       "        </tr>\n",
       "    </tbody>\n",
       "</table>"
      ],
      "text/plain": [
       "[('Alice', 'Smith', 10000.0),\n",
       " ('Bob', 'Johnson', 5000.0),\n",
       " ('Carol', 'Williams', 0),\n",
       " ('David', 'Jones', 7000.0),\n",
       " ('Eva', 'Brown', 3000.0),\n",
       " ('Frank', 'Davis', 0),\n",
       " ('Grace', 'Miller', 4000.0),\n",
       " ('Henry', 'Wilson', 2000.0),\n",
       " ('Ivy', 'Moore', 5000.0),\n",
       " ('Sam', 'White', 0),\n",
       " ('Jack', 'Taylor', 0),\n",
       " ('Kathy', 'Anderson', 4500.0),\n",
       " ('Leo', 'Thomas', 0)]"
      ]
     },
     "execution_count": 132,
     "metadata": {},
     "output_type": "execute_result"
    }
   ],
   "source": [
    "%%sql\n",
    "SELECT first_name, last_name, COALESCE(bonus, 0) AS bonus\n",
    "FROM employees"
   ]
  },
  {
   "cell_type": "code",
   "execution_count": 134,
   "metadata": {
    "id": "l2QQGu3LuKNS"
   },
   "outputs": [
    {
     "name": "stdout",
     "output_type": "stream",
     "text": [
      " * sqlite:///my_database.db\n",
      "Done.\n"
     ]
    },
    {
     "data": {
      "text/html": [
       "<table>\n",
       "    <thead>\n",
       "        <tr>\n",
       "            <th>first_name</th>\n",
       "            <th>last_name</th>\n",
       "            <th>phone_number</th>\n",
       "            <th>email</th>\n",
       "            <th>contact_info</th>\n",
       "        </tr>\n",
       "    </thead>\n",
       "    <tbody>\n",
       "        <tr>\n",
       "            <td>Alice</td>\n",
       "            <td>Smith</td>\n",
       "            <td>555-0100</td>\n",
       "            <td>alice.smith@example.com</td>\n",
       "            <td>555-0100</td>\n",
       "        </tr>\n",
       "        <tr>\n",
       "            <td>Bob</td>\n",
       "            <td>Johnson</td>\n",
       "            <td>555-0101</td>\n",
       "            <td>bob.johnson@example.com</td>\n",
       "            <td>555-0101</td>\n",
       "        </tr>\n",
       "        <tr>\n",
       "            <td>Carol</td>\n",
       "            <td>Williams</td>\n",
       "            <td>555-0102</td>\n",
       "            <td>carol.williams@example.com</td>\n",
       "            <td>555-0102</td>\n",
       "        </tr>\n",
       "        <tr>\n",
       "            <td>David</td>\n",
       "            <td>Jones</td>\n",
       "            <td>555-0103</td>\n",
       "            <td>david.jones@example.com</td>\n",
       "            <td>555-0103</td>\n",
       "        </tr>\n",
       "        <tr>\n",
       "            <td>Eva</td>\n",
       "            <td>Brown</td>\n",
       "            <td>555-0104</td>\n",
       "            <td>eva.brown@example.com</td>\n",
       "            <td>555-0104</td>\n",
       "        </tr>\n",
       "        <tr>\n",
       "            <td>Frank</td>\n",
       "            <td>Davis</td>\n",
       "            <td>555-0105</td>\n",
       "            <td>frank.davis@example.com</td>\n",
       "            <td>555-0105</td>\n",
       "        </tr>\n",
       "        <tr>\n",
       "            <td>Grace</td>\n",
       "            <td>Miller</td>\n",
       "            <td>555-0106</td>\n",
       "            <td>grace.miller@example.com</td>\n",
       "            <td>555-0106</td>\n",
       "        </tr>\n",
       "        <tr>\n",
       "            <td>Henry</td>\n",
       "            <td>Wilson</td>\n",
       "            <td>555-0107</td>\n",
       "            <td>henry.wilson@example.com</td>\n",
       "            <td>555-0107</td>\n",
       "        </tr>\n",
       "        <tr>\n",
       "            <td>Ivy</td>\n",
       "            <td>Moore</td>\n",
       "            <td>555-0108</td>\n",
       "            <td>ivy.moore@example.com</td>\n",
       "            <td>555-0108</td>\n",
       "        </tr>\n",
       "        <tr>\n",
       "            <td>Sam</td>\n",
       "            <td>White</td>\n",
       "            <td>None</td>\n",
       "            <td>None</td>\n",
       "            <td>N/A</td>\n",
       "        </tr>\n",
       "        <tr>\n",
       "            <td>Jack</td>\n",
       "            <td>Taylor</td>\n",
       "            <td>555-0109</td>\n",
       "            <td>jack.taylor@example.com</td>\n",
       "            <td>555-0109</td>\n",
       "        </tr>\n",
       "        <tr>\n",
       "            <td>Kathy</td>\n",
       "            <td>Anderson</td>\n",
       "            <td>555-0110</td>\n",
       "            <td>kathy.anderson@example.com</td>\n",
       "            <td>555-0110</td>\n",
       "        </tr>\n",
       "        <tr>\n",
       "            <td>Leo</td>\n",
       "            <td>Thomas</td>\n",
       "            <td>555-0111</td>\n",
       "            <td>leo.thomas@example.com</td>\n",
       "            <td>555-0111</td>\n",
       "        </tr>\n",
       "    </tbody>\n",
       "</table>"
      ],
      "text/plain": [
       "[('Alice', 'Smith', '555-0100', 'alice.smith@example.com', '555-0100'),\n",
       " ('Bob', 'Johnson', '555-0101', 'bob.johnson@example.com', '555-0101'),\n",
       " ('Carol', 'Williams', '555-0102', 'carol.williams@example.com', '555-0102'),\n",
       " ('David', 'Jones', '555-0103', 'david.jones@example.com', '555-0103'),\n",
       " ('Eva', 'Brown', '555-0104', 'eva.brown@example.com', '555-0104'),\n",
       " ('Frank', 'Davis', '555-0105', 'frank.davis@example.com', '555-0105'),\n",
       " ('Grace', 'Miller', '555-0106', 'grace.miller@example.com', '555-0106'),\n",
       " ('Henry', 'Wilson', '555-0107', 'henry.wilson@example.com', '555-0107'),\n",
       " ('Ivy', 'Moore', '555-0108', 'ivy.moore@example.com', '555-0108'),\n",
       " ('Sam', 'White', None, None, 'N/A'),\n",
       " ('Jack', 'Taylor', '555-0109', 'jack.taylor@example.com', '555-0109'),\n",
       " ('Kathy', 'Anderson', '555-0110', 'kathy.anderson@example.com', '555-0110'),\n",
       " ('Leo', 'Thomas', '555-0111', 'leo.thomas@example.com', '555-0111')]"
      ]
     },
     "execution_count": 134,
     "metadata": {},
     "output_type": "execute_result"
    }
   ],
   "source": [
    "%%sql\n",
    "SELECT first_name, last_name, phone_number, email, COALESCE(phone_number, email, 'N/A') AS contact_info\n",
    "FROM employees"
   ]
  },
  {
   "cell_type": "markdown",
   "metadata": {
    "id": "s28Mf6DPNZ3A"
   },
   "source": [
    "## Specifying conditions"
   ]
  },
  {
   "cell_type": "code",
   "execution_count": 19,
   "metadata": {
    "colab": {
     "base_uri": "https://localhost:8080/",
     "height": 353
    },
    "id": "wvUpbUofOt0K",
    "outputId": "86fd6e2f-b43b-4a08-e811-3bcf90d88705"
   },
   "outputs": [
    {
     "name": "stdout",
     "output_type": "stream",
     "text": [
      " * sqlite:///my_database.db\n",
      "Done.\n"
     ]
    },
    {
     "data": {
      "text/html": [
       "<table>\n",
       "    <thead>\n",
       "        <tr>\n",
       "            <th>id</th>\n",
       "            <th>first_name</th>\n",
       "            <th>last_name</th>\n",
       "            <th>department_id</th>\n",
       "            <th>hire_date</th>\n",
       "            <th>salary</th>\n",
       "            <th>bonus</th>\n",
       "            <th>job_title</th>\n",
       "            <th>manager_id</th>\n",
       "            <th>performance_rating</th>\n",
       "            <th>email</th>\n",
       "            <th>phone_number</th>\n",
       "        </tr>\n",
       "    </thead>\n",
       "    <tbody>\n",
       "        <tr>\n",
       "            <td>1</td>\n",
       "            <td>Alice</td>\n",
       "            <td>Smith</td>\n",
       "            <td>1</td>\n",
       "            <td>2010-06-01</td>\n",
       "            <td>120000.0</td>\n",
       "            <td>10000.0</td>\n",
       "            <td>CTO</td>\n",
       "            <td>None</td>\n",
       "            <td>5</td>\n",
       "            <td>alice.smith@example.com</td>\n",
       "            <td>555-0100</td>\n",
       "        </tr>\n",
       "        <tr>\n",
       "            <td>2</td>\n",
       "            <td>Bob</td>\n",
       "            <td>Johnson</td>\n",
       "            <td>1</td>\n",
       "            <td>2012-09-15</td>\n",
       "            <td>90000.0</td>\n",
       "            <td>5000.0</td>\n",
       "            <td>Senior Engineer</td>\n",
       "            <td>1</td>\n",
       "            <td>4</td>\n",
       "            <td>bob.johnson@example.com</td>\n",
       "            <td>555-0101</td>\n",
       "        </tr>\n",
       "        <tr>\n",
       "            <td>3</td>\n",
       "            <td>Carol</td>\n",
       "            <td>Williams</td>\n",
       "            <td>1</td>\n",
       "            <td>2015-03-20</td>\n",
       "            <td>80000.0</td>\n",
       "            <td>None</td>\n",
       "            <td>Engineer</td>\n",
       "            <td>2</td>\n",
       "            <td>3</td>\n",
       "            <td>carol.williams@example.com</td>\n",
       "            <td>555-0102</td>\n",
       "        </tr>\n",
       "        <tr>\n",
       "            <td>4</td>\n",
       "            <td>David</td>\n",
       "            <td>Jones</td>\n",
       "            <td>2</td>\n",
       "            <td>2011-11-11</td>\n",
       "            <td>95000.0</td>\n",
       "            <td>7000.0</td>\n",
       "            <td>Sales Manager</td>\n",
       "            <td>None</td>\n",
       "            <td>4</td>\n",
       "            <td>david.jones@example.com</td>\n",
       "            <td>555-0103</td>\n",
       "        </tr>\n",
       "        <tr>\n",
       "            <td>5</td>\n",
       "            <td>Eva</td>\n",
       "            <td>Brown</td>\n",
       "            <td>2</td>\n",
       "            <td>2016-05-22</td>\n",
       "            <td>70000.0</td>\n",
       "            <td>3000.0</td>\n",
       "            <td>Sales Representative</td>\n",
       "            <td>4</td>\n",
       "            <td>3</td>\n",
       "            <td>eva.brown@example.com</td>\n",
       "            <td>555-0104</td>\n",
       "        </tr>\n",
       "        <tr>\n",
       "            <td>6</td>\n",
       "            <td>Frank</td>\n",
       "            <td>Davis</td>\n",
       "            <td>2</td>\n",
       "            <td>2018-07-01</td>\n",
       "            <td>68000.0</td>\n",
       "            <td>None</td>\n",
       "            <td>Sales Representative</td>\n",
       "            <td>4</td>\n",
       "            <td>2</td>\n",
       "            <td>frank.davis@example.com</td>\n",
       "            <td>555-0105</td>\n",
       "        </tr>\n",
       "        <tr>\n",
       "            <td>7</td>\n",
       "            <td>Grace</td>\n",
       "            <td>Miller</td>\n",
       "            <td>3</td>\n",
       "            <td>2013-02-28</td>\n",
       "            <td>75000.0</td>\n",
       "            <td>4000.0</td>\n",
       "            <td>HR Specialist</td>\n",
       "            <td>None</td>\n",
       "            <td>4</td>\n",
       "            <td>grace.miller@example.com</td>\n",
       "            <td>555-0106</td>\n",
       "        </tr>\n",
       "        <tr>\n",
       "            <td>8</td>\n",
       "            <td>Henry</td>\n",
       "            <td>Wilson</td>\n",
       "            <td>3</td>\n",
       "            <td>2019-10-10</td>\n",
       "            <td>60000.0</td>\n",
       "            <td>2000.0</td>\n",
       "            <td>HR Assistant</td>\n",
       "            <td>7</td>\n",
       "            <td>3</td>\n",
       "            <td>henry.wilson@example.com</td>\n",
       "            <td>555-0107</td>\n",
       "        </tr>\n",
       "        <tr>\n",
       "            <td>9</td>\n",
       "            <td>Ivy</td>\n",
       "            <td>Moore</td>\n",
       "            <td>4</td>\n",
       "            <td>2014-08-19</td>\n",
       "            <td>85000.0</td>\n",
       "            <td>5000.0</td>\n",
       "            <td>Marketing Manager</td>\n",
       "            <td>None</td>\n",
       "            <td>4</td>\n",
       "            <td>ivy.moore@example.com</td>\n",
       "            <td>555-0108</td>\n",
       "        </tr>\n",
       "        <tr>\n",
       "            <td>10</td>\n",
       "            <td>Sam</td>\n",
       "            <td>White</td>\n",
       "            <td>None</td>\n",
       "            <td>2023-01-01</td>\n",
       "            <td>50000.0</td>\n",
       "            <td>None</td>\n",
       "            <td>Intern</td>\n",
       "            <td>3</td>\n",
       "            <td>None</td>\n",
       "            <td>None</td>\n",
       "            <td>None</td>\n",
       "        </tr>\n",
       "        <tr>\n",
       "            <td>11</td>\n",
       "            <td>Jack</td>\n",
       "            <td>Taylor</td>\n",
       "            <td>4</td>\n",
       "            <td>2020-01-15</td>\n",
       "            <td>65000.0</td>\n",
       "            <td>None</td>\n",
       "            <td>Marketing Specialist</td>\n",
       "            <td>9</td>\n",
       "            <td>3</td>\n",
       "            <td>jack.taylor@example.com</td>\n",
       "            <td>555-0109</td>\n",
       "        </tr>\n",
       "        <tr>\n",
       "            <td>12</td>\n",
       "            <td>Kathy</td>\n",
       "            <td>Anderson</td>\n",
       "            <td>5</td>\n",
       "            <td>2017-04-03</td>\n",
       "            <td>78000.0</td>\n",
       "            <td>4500.0</td>\n",
       "            <td>Finance Analyst</td>\n",
       "            <td>None</td>\n",
       "            <td>4</td>\n",
       "            <td>kathy.anderson@example.com</td>\n",
       "            <td>555-0110</td>\n",
       "        </tr>\n",
       "        <tr>\n",
       "            <td>13</td>\n",
       "            <td>Leo</td>\n",
       "            <td>Thomas</td>\n",
       "            <td>5</td>\n",
       "            <td>2021-12-05</td>\n",
       "            <td>55000.0</td>\n",
       "            <td>None</td>\n",
       "            <td>Junior Finance Analyst</td>\n",
       "            <td>11</td>\n",
       "            <td>3</td>\n",
       "            <td>leo.thomas@example.com</td>\n",
       "            <td>555-0111</td>\n",
       "        </tr>\n",
       "    </tbody>\n",
       "</table>"
      ],
      "text/plain": [
       "[(1, 'Alice', 'Smith', 1, '2010-06-01', 120000.0, 10000.0, 'CTO', None, 5, 'alice.smith@example.com', '555-0100'),\n",
       " (2, 'Bob', 'Johnson', 1, '2012-09-15', 90000.0, 5000.0, 'Senior Engineer', 1, 4, 'bob.johnson@example.com', '555-0101'),\n",
       " (3, 'Carol', 'Williams', 1, '2015-03-20', 80000.0, None, 'Engineer', 2, 3, 'carol.williams@example.com', '555-0102'),\n",
       " (4, 'David', 'Jones', 2, '2011-11-11', 95000.0, 7000.0, 'Sales Manager', None, 4, 'david.jones@example.com', '555-0103'),\n",
       " (5, 'Eva', 'Brown', 2, '2016-05-22', 70000.0, 3000.0, 'Sales Representative', 4, 3, 'eva.brown@example.com', '555-0104'),\n",
       " (6, 'Frank', 'Davis', 2, '2018-07-01', 68000.0, None, 'Sales Representative', 4, 2, 'frank.davis@example.com', '555-0105'),\n",
       " (7, 'Grace', 'Miller', 3, '2013-02-28', 75000.0, 4000.0, 'HR Specialist', None, 4, 'grace.miller@example.com', '555-0106'),\n",
       " (8, 'Henry', 'Wilson', 3, '2019-10-10', 60000.0, 2000.0, 'HR Assistant', 7, 3, 'henry.wilson@example.com', '555-0107'),\n",
       " (9, 'Ivy', 'Moore', 4, '2014-08-19', 85000.0, 5000.0, 'Marketing Manager', None, 4, 'ivy.moore@example.com', '555-0108'),\n",
       " (10, 'Sam', 'White', None, '2023-01-01', 50000.0, None, 'Intern', 3, None, None, None),\n",
       " (11, 'Jack', 'Taylor', 4, '2020-01-15', 65000.0, None, 'Marketing Specialist', 9, 3, 'jack.taylor@example.com', '555-0109'),\n",
       " (12, 'Kathy', 'Anderson', 5, '2017-04-03', 78000.0, 4500.0, 'Finance Analyst', None, 4, 'kathy.anderson@example.com', '555-0110'),\n",
       " (13, 'Leo', 'Thomas', 5, '2021-12-05', 55000.0, None, 'Junior Finance Analyst', 11, 3, 'leo.thomas@example.com', '555-0111')]"
      ]
     },
     "execution_count": 19,
     "metadata": {},
     "output_type": "execute_result"
    }
   ],
   "source": [
    "%%sql\n",
    "SELECT *\n",
    "FROM employees;"
   ]
  },
  {
   "cell_type": "markdown",
   "metadata": {
    "id": "Mzz7ayUi-UOE"
   },
   "source": [
    "CASE returns a value based on the first condition that evaluates to true; if no condition matches, it returns the default value (if provided)."
   ]
  },
  {
   "cell_type": "code",
   "execution_count": 139,
   "metadata": {
    "id": "_xlCDm8NNdQW"
   },
   "outputs": [
    {
     "name": "stdout",
     "output_type": "stream",
     "text": [
      " * sqlite:///my_database.db\n",
      "Done.\n"
     ]
    },
    {
     "data": {
      "text/html": [
       "<table>\n",
       "    <thead>\n",
       "        <tr>\n",
       "            <th>first_name</th>\n",
       "            <th>last_name</th>\n",
       "            <th>performance_rating</th>\n",
       "            <th>perf_category</th>\n",
       "        </tr>\n",
       "    </thead>\n",
       "    <tbody>\n",
       "        <tr>\n",
       "            <td>Alice</td>\n",
       "            <td>Smith</td>\n",
       "            <td>5</td>\n",
       "            <td>Excellent</td>\n",
       "        </tr>\n",
       "        <tr>\n",
       "            <td>Bob</td>\n",
       "            <td>Johnson</td>\n",
       "            <td>4</td>\n",
       "            <td>Excellent</td>\n",
       "        </tr>\n",
       "        <tr>\n",
       "            <td>Carol</td>\n",
       "            <td>Williams</td>\n",
       "            <td>3</td>\n",
       "            <td>Good</td>\n",
       "        </tr>\n",
       "        <tr>\n",
       "            <td>David</td>\n",
       "            <td>Jones</td>\n",
       "            <td>4</td>\n",
       "            <td>Excellent</td>\n",
       "        </tr>\n",
       "        <tr>\n",
       "            <td>Eva</td>\n",
       "            <td>Brown</td>\n",
       "            <td>3</td>\n",
       "            <td>Good</td>\n",
       "        </tr>\n",
       "        <tr>\n",
       "            <td>Frank</td>\n",
       "            <td>Davis</td>\n",
       "            <td>2</td>\n",
       "            <td>Insufficient</td>\n",
       "        </tr>\n",
       "        <tr>\n",
       "            <td>Grace</td>\n",
       "            <td>Miller</td>\n",
       "            <td>4</td>\n",
       "            <td>Excellent</td>\n",
       "        </tr>\n",
       "        <tr>\n",
       "            <td>Henry</td>\n",
       "            <td>Wilson</td>\n",
       "            <td>3</td>\n",
       "            <td>Good</td>\n",
       "        </tr>\n",
       "        <tr>\n",
       "            <td>Ivy</td>\n",
       "            <td>Moore</td>\n",
       "            <td>4</td>\n",
       "            <td>Excellent</td>\n",
       "        </tr>\n",
       "        <tr>\n",
       "            <td>Sam</td>\n",
       "            <td>White</td>\n",
       "            <td>None</td>\n",
       "            <td>N/A</td>\n",
       "        </tr>\n",
       "        <tr>\n",
       "            <td>Jack</td>\n",
       "            <td>Taylor</td>\n",
       "            <td>3</td>\n",
       "            <td>Good</td>\n",
       "        </tr>\n",
       "        <tr>\n",
       "            <td>Kathy</td>\n",
       "            <td>Anderson</td>\n",
       "            <td>4</td>\n",
       "            <td>Excellent</td>\n",
       "        </tr>\n",
       "        <tr>\n",
       "            <td>Leo</td>\n",
       "            <td>Thomas</td>\n",
       "            <td>3</td>\n",
       "            <td>Good</td>\n",
       "        </tr>\n",
       "    </tbody>\n",
       "</table>"
      ],
      "text/plain": [
       "[('Alice', 'Smith', 5, 'Excellent'),\n",
       " ('Bob', 'Johnson', 4, 'Excellent'),\n",
       " ('Carol', 'Williams', 3, 'Good'),\n",
       " ('David', 'Jones', 4, 'Excellent'),\n",
       " ('Eva', 'Brown', 3, 'Good'),\n",
       " ('Frank', 'Davis', 2, 'Insufficient'),\n",
       " ('Grace', 'Miller', 4, 'Excellent'),\n",
       " ('Henry', 'Wilson', 3, 'Good'),\n",
       " ('Ivy', 'Moore', 4, 'Excellent'),\n",
       " ('Sam', 'White', None, 'N/A'),\n",
       " ('Jack', 'Taylor', 3, 'Good'),\n",
       " ('Kathy', 'Anderson', 4, 'Excellent'),\n",
       " ('Leo', 'Thomas', 3, 'Good')]"
      ]
     },
     "execution_count": 139,
     "metadata": {},
     "output_type": "execute_result"
    }
   ],
   "source": [
    "%%sql\n",
    "SELECT\n",
    "    first_name,\n",
    "    last_name,\n",
    "    performance_rating,\n",
    "    CASE\n",
    "        WHEN performance_rating >= 4 THEN 'Excellent'\n",
    "        WHEN performance_rating = 3 THEN 'Good'\n",
    "        WHEN performance_rating < 3 THEN 'Insufficient'\n",
    "        ELSE 'N/A'\n",
    "    END AS perf_category\n",
    "FROM employees"
   ]
  },
  {
   "cell_type": "markdown",
   "metadata": {
    "id": "D0liMlVUQRqv"
   },
   "source": [
    "CASE can be used to filter rows based on specified conditions"
   ]
  },
  {
   "cell_type": "code",
   "execution_count": 144,
   "metadata": {},
   "outputs": [
    {
     "name": "stdout",
     "output_type": "stream",
     "text": [
      " * sqlite:///my_database.db\n",
      "Done.\n"
     ]
    },
    {
     "data": {
      "text/html": [
       "<table>\n",
       "    <thead>\n",
       "        <tr>\n",
       "            <th>id</th>\n",
       "            <th>first_name</th>\n",
       "            <th>last_name</th>\n",
       "            <th>department_id</th>\n",
       "            <th>hire_date</th>\n",
       "            <th>salary</th>\n",
       "            <th>bonus</th>\n",
       "            <th>job_title</th>\n",
       "            <th>manager_id</th>\n",
       "            <th>performance_rating</th>\n",
       "            <th>email</th>\n",
       "            <th>phone_number</th>\n",
       "        </tr>\n",
       "    </thead>\n",
       "    <tbody>\n",
       "        <tr>\n",
       "            <td>1</td>\n",
       "            <td>Alice</td>\n",
       "            <td>Smith</td>\n",
       "            <td>1</td>\n",
       "            <td>2010-06-01</td>\n",
       "            <td>120000.0</td>\n",
       "            <td>10000.0</td>\n",
       "            <td>CTO</td>\n",
       "            <td>None</td>\n",
       "            <td>5</td>\n",
       "            <td>alice.smith@example.com</td>\n",
       "            <td>555-0100</td>\n",
       "        </tr>\n",
       "        <tr>\n",
       "            <td>2</td>\n",
       "            <td>Bob</td>\n",
       "            <td>Johnson</td>\n",
       "            <td>1</td>\n",
       "            <td>2012-09-15</td>\n",
       "            <td>90000.0</td>\n",
       "            <td>5000.0</td>\n",
       "            <td>Senior Engineer</td>\n",
       "            <td>1</td>\n",
       "            <td>4</td>\n",
       "            <td>bob.johnson@example.com</td>\n",
       "            <td>555-0101</td>\n",
       "        </tr>\n",
       "        <tr>\n",
       "            <td>3</td>\n",
       "            <td>Carol</td>\n",
       "            <td>Williams</td>\n",
       "            <td>1</td>\n",
       "            <td>2015-03-20</td>\n",
       "            <td>80000.0</td>\n",
       "            <td>None</td>\n",
       "            <td>Engineer</td>\n",
       "            <td>2</td>\n",
       "            <td>3</td>\n",
       "            <td>carol.williams@example.com</td>\n",
       "            <td>555-0102</td>\n",
       "        </tr>\n",
       "        <tr>\n",
       "            <td>4</td>\n",
       "            <td>David</td>\n",
       "            <td>Jones</td>\n",
       "            <td>2</td>\n",
       "            <td>2011-11-11</td>\n",
       "            <td>95000.0</td>\n",
       "            <td>7000.0</td>\n",
       "            <td>Sales Manager</td>\n",
       "            <td>None</td>\n",
       "            <td>4</td>\n",
       "            <td>david.jones@example.com</td>\n",
       "            <td>555-0103</td>\n",
       "        </tr>\n",
       "        <tr>\n",
       "            <td>5</td>\n",
       "            <td>Eva</td>\n",
       "            <td>Brown</td>\n",
       "            <td>2</td>\n",
       "            <td>2016-05-22</td>\n",
       "            <td>70000.0</td>\n",
       "            <td>3000.0</td>\n",
       "            <td>Sales Representative</td>\n",
       "            <td>4</td>\n",
       "            <td>3</td>\n",
       "            <td>eva.brown@example.com</td>\n",
       "            <td>555-0104</td>\n",
       "        </tr>\n",
       "        <tr>\n",
       "            <td>6</td>\n",
       "            <td>Frank</td>\n",
       "            <td>Davis</td>\n",
       "            <td>2</td>\n",
       "            <td>2018-07-01</td>\n",
       "            <td>68000.0</td>\n",
       "            <td>None</td>\n",
       "            <td>Sales Representative</td>\n",
       "            <td>4</td>\n",
       "            <td>2</td>\n",
       "            <td>frank.davis@example.com</td>\n",
       "            <td>555-0105</td>\n",
       "        </tr>\n",
       "        <tr>\n",
       "            <td>7</td>\n",
       "            <td>Grace</td>\n",
       "            <td>Miller</td>\n",
       "            <td>3</td>\n",
       "            <td>2013-02-28</td>\n",
       "            <td>75000.0</td>\n",
       "            <td>4000.0</td>\n",
       "            <td>HR Specialist</td>\n",
       "            <td>None</td>\n",
       "            <td>4</td>\n",
       "            <td>grace.miller@example.com</td>\n",
       "            <td>555-0106</td>\n",
       "        </tr>\n",
       "        <tr>\n",
       "            <td>8</td>\n",
       "            <td>Henry</td>\n",
       "            <td>Wilson</td>\n",
       "            <td>3</td>\n",
       "            <td>2019-10-10</td>\n",
       "            <td>60000.0</td>\n",
       "            <td>2000.0</td>\n",
       "            <td>HR Assistant</td>\n",
       "            <td>7</td>\n",
       "            <td>3</td>\n",
       "            <td>henry.wilson@example.com</td>\n",
       "            <td>555-0107</td>\n",
       "        </tr>\n",
       "        <tr>\n",
       "            <td>9</td>\n",
       "            <td>Ivy</td>\n",
       "            <td>Moore</td>\n",
       "            <td>4</td>\n",
       "            <td>2014-08-19</td>\n",
       "            <td>85000.0</td>\n",
       "            <td>5000.0</td>\n",
       "            <td>Marketing Manager</td>\n",
       "            <td>None</td>\n",
       "            <td>4</td>\n",
       "            <td>ivy.moore@example.com</td>\n",
       "            <td>555-0108</td>\n",
       "        </tr>\n",
       "        <tr>\n",
       "            <td>10</td>\n",
       "            <td>Sam</td>\n",
       "            <td>White</td>\n",
       "            <td>None</td>\n",
       "            <td>2023-01-01</td>\n",
       "            <td>50000.0</td>\n",
       "            <td>None</td>\n",
       "            <td>Intern</td>\n",
       "            <td>3</td>\n",
       "            <td>None</td>\n",
       "            <td>None</td>\n",
       "            <td>None</td>\n",
       "        </tr>\n",
       "        <tr>\n",
       "            <td>11</td>\n",
       "            <td>Jack</td>\n",
       "            <td>Taylor</td>\n",
       "            <td>4</td>\n",
       "            <td>2020-01-15</td>\n",
       "            <td>65000.0</td>\n",
       "            <td>None</td>\n",
       "            <td>Marketing Specialist</td>\n",
       "            <td>9</td>\n",
       "            <td>3</td>\n",
       "            <td>jack.taylor@example.com</td>\n",
       "            <td>555-0109</td>\n",
       "        </tr>\n",
       "        <tr>\n",
       "            <td>12</td>\n",
       "            <td>Kathy</td>\n",
       "            <td>Anderson</td>\n",
       "            <td>5</td>\n",
       "            <td>2017-04-03</td>\n",
       "            <td>78000.0</td>\n",
       "            <td>4500.0</td>\n",
       "            <td>Finance Analyst</td>\n",
       "            <td>None</td>\n",
       "            <td>4</td>\n",
       "            <td>kathy.anderson@example.com</td>\n",
       "            <td>555-0110</td>\n",
       "        </tr>\n",
       "        <tr>\n",
       "            <td>13</td>\n",
       "            <td>Leo</td>\n",
       "            <td>Thomas</td>\n",
       "            <td>5</td>\n",
       "            <td>2021-12-05</td>\n",
       "            <td>55000.0</td>\n",
       "            <td>None</td>\n",
       "            <td>Junior Finance Analyst</td>\n",
       "            <td>11</td>\n",
       "            <td>3</td>\n",
       "            <td>leo.thomas@example.com</td>\n",
       "            <td>555-0111</td>\n",
       "        </tr>\n",
       "    </tbody>\n",
       "</table>"
      ],
      "text/plain": [
       "[(1, 'Alice', 'Smith', 1, '2010-06-01', 120000.0, 10000.0, 'CTO', None, 5, 'alice.smith@example.com', '555-0100'),\n",
       " (2, 'Bob', 'Johnson', 1, '2012-09-15', 90000.0, 5000.0, 'Senior Engineer', 1, 4, 'bob.johnson@example.com', '555-0101'),\n",
       " (3, 'Carol', 'Williams', 1, '2015-03-20', 80000.0, None, 'Engineer', 2, 3, 'carol.williams@example.com', '555-0102'),\n",
       " (4, 'David', 'Jones', 2, '2011-11-11', 95000.0, 7000.0, 'Sales Manager', None, 4, 'david.jones@example.com', '555-0103'),\n",
       " (5, 'Eva', 'Brown', 2, '2016-05-22', 70000.0, 3000.0, 'Sales Representative', 4, 3, 'eva.brown@example.com', '555-0104'),\n",
       " (6, 'Frank', 'Davis', 2, '2018-07-01', 68000.0, None, 'Sales Representative', 4, 2, 'frank.davis@example.com', '555-0105'),\n",
       " (7, 'Grace', 'Miller', 3, '2013-02-28', 75000.0, 4000.0, 'HR Specialist', None, 4, 'grace.miller@example.com', '555-0106'),\n",
       " (8, 'Henry', 'Wilson', 3, '2019-10-10', 60000.0, 2000.0, 'HR Assistant', 7, 3, 'henry.wilson@example.com', '555-0107'),\n",
       " (9, 'Ivy', 'Moore', 4, '2014-08-19', 85000.0, 5000.0, 'Marketing Manager', None, 4, 'ivy.moore@example.com', '555-0108'),\n",
       " (10, 'Sam', 'White', None, '2023-01-01', 50000.0, None, 'Intern', 3, None, None, None),\n",
       " (11, 'Jack', 'Taylor', 4, '2020-01-15', 65000.0, None, 'Marketing Specialist', 9, 3, 'jack.taylor@example.com', '555-0109'),\n",
       " (12, 'Kathy', 'Anderson', 5, '2017-04-03', 78000.0, 4500.0, 'Finance Analyst', None, 4, 'kathy.anderson@example.com', '555-0110'),\n",
       " (13, 'Leo', 'Thomas', 5, '2021-12-05', 55000.0, None, 'Junior Finance Analyst', 11, 3, 'leo.thomas@example.com', '555-0111')]"
      ]
     },
     "execution_count": 144,
     "metadata": {},
     "output_type": "execute_result"
    }
   ],
   "source": [
    "%%sql\n",
    "SELECT *\n",
    "FROm employees"
   ]
  },
  {
   "cell_type": "code",
   "execution_count": 143,
   "metadata": {
    "id": "VMi_iR4zQJLp"
   },
   "outputs": [
    {
     "name": "stdout",
     "output_type": "stream",
     "text": [
      " * sqlite:///my_database.db\n",
      "Done.\n"
     ]
    },
    {
     "data": {
      "text/html": [
       "<table>\n",
       "    <thead>\n",
       "        <tr>\n",
       "            <th>first_name</th>\n",
       "            <th>last_name</th>\n",
       "            <th>salary</th>\n",
       "            <th>performance_rating</th>\n",
       "        </tr>\n",
       "    </thead>\n",
       "    <tbody>\n",
       "        <tr>\n",
       "            <td>Frank</td>\n",
       "            <td>Davis</td>\n",
       "            <td>68000.0</td>\n",
       "            <td>2</td>\n",
       "        </tr>\n",
       "    </tbody>\n",
       "</table>"
      ],
      "text/plain": [
       "[('Frank', 'Davis', 68000.0, 2)]"
      ]
     },
     "execution_count": 143,
     "metadata": {},
     "output_type": "execute_result"
    }
   ],
   "source": [
    "%%sql\n",
    "SELECT\n",
    "    first_name,\n",
    "    last_name,\n",
    "    salary,\n",
    "    performance_rating\n",
    "FROM employees\n",
    "WHERE\n",
    "    CASE\n",
    "        WHEN salary > 100000 THEN performance_rating < 5\n",
    "        WHEN salary > 80000 THEN performance_rating < 4\n",
    "        WHEN salary > 60000 THEN performance_rating < 3\n",
    "    END"
   ]
  },
  {
   "cell_type": "markdown",
   "metadata": {
    "id": "UqzYTEiX_fOZ"
   },
   "source": [
    "CASE can also be used inside aggregation function to perform aggregations based on specified conditions"
   ]
  },
  {
   "cell_type": "code",
   "execution_count": 150,
   "metadata": {
    "id": "4Q8Fqb3sURb4"
   },
   "outputs": [
    {
     "name": "stdout",
     "output_type": "stream",
     "text": [
      " * sqlite:///my_database.db\n",
      "Done.\n"
     ]
    },
    {
     "data": {
      "text/html": [
       "<table>\n",
       "    <thead>\n",
       "        <tr>\n",
       "            <th>n_excellent</th>\n",
       "            <th>n_good</th>\n",
       "            <th>n_insufficient</th>\n",
       "        </tr>\n",
       "    </thead>\n",
       "    <tbody>\n",
       "        <tr>\n",
       "            <td>6</td>\n",
       "            <td>5</td>\n",
       "            <td>1</td>\n",
       "        </tr>\n",
       "    </tbody>\n",
       "</table>"
      ],
      "text/plain": [
       "[(6, 5, 1)]"
      ]
     },
     "execution_count": 150,
     "metadata": {},
     "output_type": "execute_result"
    }
   ],
   "source": [
    "%%sql\n",
    "SELECT\n",
    "    COUNT(CASE WHEN performance_rating >= 4 THEN 1 END) AS n_excellent,\n",
    "    COUNT(CASE WHEN performance_rating = 3 THEN 1 END) AS n_good,\n",
    "    COUNT(CASE WHEN performance_rating < 3 THEN 1 END) AS n_insufficient\n",
    "FROM employees"
   ]
  },
  {
   "cell_type": "markdown",
   "metadata": {
    "id": "pRwMbQ5-BnJB"
   },
   "source": [
    "## Window Functions"
   ]
  },
  {
   "cell_type": "markdown",
   "metadata": {
    "id": "K_bvsNqGCTMu"
   },
   "source": [
    "Window functions perform calculations across a set of table rows. They are defined using the OVER clause, which specifies the \"window\" of rows to be considered, often partitioned by a column and ordered in a specific way."
   ]
  },
  {
   "cell_type": "code",
   "execution_count": 20,
   "metadata": {
    "id": "uBTA2RoZBy07"
   },
   "outputs": [
    {
     "name": "stdout",
     "output_type": "stream",
     "text": [
      " * sqlite:///my_database.db\n",
      "Done.\n"
     ]
    },
    {
     "data": {
      "text/html": [
       "<table>\n",
       "    <thead>\n",
       "        <tr>\n",
       "            <th>id</th>\n",
       "            <th>first_name</th>\n",
       "            <th>last_name</th>\n",
       "            <th>department_id</th>\n",
       "            <th>hire_date</th>\n",
       "            <th>salary</th>\n",
       "            <th>bonus</th>\n",
       "            <th>job_title</th>\n",
       "            <th>manager_id</th>\n",
       "            <th>performance_rating</th>\n",
       "            <th>email</th>\n",
       "            <th>phone_number</th>\n",
       "        </tr>\n",
       "    </thead>\n",
       "    <tbody>\n",
       "        <tr>\n",
       "            <td>1</td>\n",
       "            <td>Alice</td>\n",
       "            <td>Smith</td>\n",
       "            <td>1</td>\n",
       "            <td>2010-06-01</td>\n",
       "            <td>120000.0</td>\n",
       "            <td>10000.0</td>\n",
       "            <td>CTO</td>\n",
       "            <td>None</td>\n",
       "            <td>5</td>\n",
       "            <td>alice.smith@example.com</td>\n",
       "            <td>555-0100</td>\n",
       "        </tr>\n",
       "        <tr>\n",
       "            <td>2</td>\n",
       "            <td>Bob</td>\n",
       "            <td>Johnson</td>\n",
       "            <td>1</td>\n",
       "            <td>2012-09-15</td>\n",
       "            <td>90000.0</td>\n",
       "            <td>5000.0</td>\n",
       "            <td>Senior Engineer</td>\n",
       "            <td>1</td>\n",
       "            <td>4</td>\n",
       "            <td>bob.johnson@example.com</td>\n",
       "            <td>555-0101</td>\n",
       "        </tr>\n",
       "        <tr>\n",
       "            <td>3</td>\n",
       "            <td>Carol</td>\n",
       "            <td>Williams</td>\n",
       "            <td>1</td>\n",
       "            <td>2015-03-20</td>\n",
       "            <td>80000.0</td>\n",
       "            <td>None</td>\n",
       "            <td>Engineer</td>\n",
       "            <td>2</td>\n",
       "            <td>3</td>\n",
       "            <td>carol.williams@example.com</td>\n",
       "            <td>555-0102</td>\n",
       "        </tr>\n",
       "        <tr>\n",
       "            <td>4</td>\n",
       "            <td>David</td>\n",
       "            <td>Jones</td>\n",
       "            <td>2</td>\n",
       "            <td>2011-11-11</td>\n",
       "            <td>95000.0</td>\n",
       "            <td>7000.0</td>\n",
       "            <td>Sales Manager</td>\n",
       "            <td>None</td>\n",
       "            <td>4</td>\n",
       "            <td>david.jones@example.com</td>\n",
       "            <td>555-0103</td>\n",
       "        </tr>\n",
       "        <tr>\n",
       "            <td>5</td>\n",
       "            <td>Eva</td>\n",
       "            <td>Brown</td>\n",
       "            <td>2</td>\n",
       "            <td>2016-05-22</td>\n",
       "            <td>70000.0</td>\n",
       "            <td>3000.0</td>\n",
       "            <td>Sales Representative</td>\n",
       "            <td>4</td>\n",
       "            <td>3</td>\n",
       "            <td>eva.brown@example.com</td>\n",
       "            <td>555-0104</td>\n",
       "        </tr>\n",
       "        <tr>\n",
       "            <td>6</td>\n",
       "            <td>Frank</td>\n",
       "            <td>Davis</td>\n",
       "            <td>2</td>\n",
       "            <td>2018-07-01</td>\n",
       "            <td>68000.0</td>\n",
       "            <td>None</td>\n",
       "            <td>Sales Representative</td>\n",
       "            <td>4</td>\n",
       "            <td>2</td>\n",
       "            <td>frank.davis@example.com</td>\n",
       "            <td>555-0105</td>\n",
       "        </tr>\n",
       "        <tr>\n",
       "            <td>7</td>\n",
       "            <td>Grace</td>\n",
       "            <td>Miller</td>\n",
       "            <td>3</td>\n",
       "            <td>2013-02-28</td>\n",
       "            <td>75000.0</td>\n",
       "            <td>4000.0</td>\n",
       "            <td>HR Specialist</td>\n",
       "            <td>None</td>\n",
       "            <td>4</td>\n",
       "            <td>grace.miller@example.com</td>\n",
       "            <td>555-0106</td>\n",
       "        </tr>\n",
       "        <tr>\n",
       "            <td>8</td>\n",
       "            <td>Henry</td>\n",
       "            <td>Wilson</td>\n",
       "            <td>3</td>\n",
       "            <td>2019-10-10</td>\n",
       "            <td>60000.0</td>\n",
       "            <td>2000.0</td>\n",
       "            <td>HR Assistant</td>\n",
       "            <td>7</td>\n",
       "            <td>3</td>\n",
       "            <td>henry.wilson@example.com</td>\n",
       "            <td>555-0107</td>\n",
       "        </tr>\n",
       "        <tr>\n",
       "            <td>9</td>\n",
       "            <td>Ivy</td>\n",
       "            <td>Moore</td>\n",
       "            <td>4</td>\n",
       "            <td>2014-08-19</td>\n",
       "            <td>85000.0</td>\n",
       "            <td>5000.0</td>\n",
       "            <td>Marketing Manager</td>\n",
       "            <td>None</td>\n",
       "            <td>4</td>\n",
       "            <td>ivy.moore@example.com</td>\n",
       "            <td>555-0108</td>\n",
       "        </tr>\n",
       "        <tr>\n",
       "            <td>10</td>\n",
       "            <td>Sam</td>\n",
       "            <td>White</td>\n",
       "            <td>None</td>\n",
       "            <td>2023-01-01</td>\n",
       "            <td>50000.0</td>\n",
       "            <td>None</td>\n",
       "            <td>Intern</td>\n",
       "            <td>3</td>\n",
       "            <td>None</td>\n",
       "            <td>None</td>\n",
       "            <td>None</td>\n",
       "        </tr>\n",
       "        <tr>\n",
       "            <td>11</td>\n",
       "            <td>Jack</td>\n",
       "            <td>Taylor</td>\n",
       "            <td>4</td>\n",
       "            <td>2020-01-15</td>\n",
       "            <td>65000.0</td>\n",
       "            <td>None</td>\n",
       "            <td>Marketing Specialist</td>\n",
       "            <td>9</td>\n",
       "            <td>3</td>\n",
       "            <td>jack.taylor@example.com</td>\n",
       "            <td>555-0109</td>\n",
       "        </tr>\n",
       "        <tr>\n",
       "            <td>12</td>\n",
       "            <td>Kathy</td>\n",
       "            <td>Anderson</td>\n",
       "            <td>5</td>\n",
       "            <td>2017-04-03</td>\n",
       "            <td>78000.0</td>\n",
       "            <td>4500.0</td>\n",
       "            <td>Finance Analyst</td>\n",
       "            <td>None</td>\n",
       "            <td>4</td>\n",
       "            <td>kathy.anderson@example.com</td>\n",
       "            <td>555-0110</td>\n",
       "        </tr>\n",
       "        <tr>\n",
       "            <td>13</td>\n",
       "            <td>Leo</td>\n",
       "            <td>Thomas</td>\n",
       "            <td>5</td>\n",
       "            <td>2021-12-05</td>\n",
       "            <td>55000.0</td>\n",
       "            <td>None</td>\n",
       "            <td>Junior Finance Analyst</td>\n",
       "            <td>11</td>\n",
       "            <td>3</td>\n",
       "            <td>leo.thomas@example.com</td>\n",
       "            <td>555-0111</td>\n",
       "        </tr>\n",
       "    </tbody>\n",
       "</table>"
      ],
      "text/plain": [
       "[(1, 'Alice', 'Smith', 1, '2010-06-01', 120000.0, 10000.0, 'CTO', None, 5, 'alice.smith@example.com', '555-0100'),\n",
       " (2, 'Bob', 'Johnson', 1, '2012-09-15', 90000.0, 5000.0, 'Senior Engineer', 1, 4, 'bob.johnson@example.com', '555-0101'),\n",
       " (3, 'Carol', 'Williams', 1, '2015-03-20', 80000.0, None, 'Engineer', 2, 3, 'carol.williams@example.com', '555-0102'),\n",
       " (4, 'David', 'Jones', 2, '2011-11-11', 95000.0, 7000.0, 'Sales Manager', None, 4, 'david.jones@example.com', '555-0103'),\n",
       " (5, 'Eva', 'Brown', 2, '2016-05-22', 70000.0, 3000.0, 'Sales Representative', 4, 3, 'eva.brown@example.com', '555-0104'),\n",
       " (6, 'Frank', 'Davis', 2, '2018-07-01', 68000.0, None, 'Sales Representative', 4, 2, 'frank.davis@example.com', '555-0105'),\n",
       " (7, 'Grace', 'Miller', 3, '2013-02-28', 75000.0, 4000.0, 'HR Specialist', None, 4, 'grace.miller@example.com', '555-0106'),\n",
       " (8, 'Henry', 'Wilson', 3, '2019-10-10', 60000.0, 2000.0, 'HR Assistant', 7, 3, 'henry.wilson@example.com', '555-0107'),\n",
       " (9, 'Ivy', 'Moore', 4, '2014-08-19', 85000.0, 5000.0, 'Marketing Manager', None, 4, 'ivy.moore@example.com', '555-0108'),\n",
       " (10, 'Sam', 'White', None, '2023-01-01', 50000.0, None, 'Intern', 3, None, None, None),\n",
       " (11, 'Jack', 'Taylor', 4, '2020-01-15', 65000.0, None, 'Marketing Specialist', 9, 3, 'jack.taylor@example.com', '555-0109'),\n",
       " (12, 'Kathy', 'Anderson', 5, '2017-04-03', 78000.0, 4500.0, 'Finance Analyst', None, 4, 'kathy.anderson@example.com', '555-0110'),\n",
       " (13, 'Leo', 'Thomas', 5, '2021-12-05', 55000.0, None, 'Junior Finance Analyst', 11, 3, 'leo.thomas@example.com', '555-0111')]"
      ]
     },
     "execution_count": 20,
     "metadata": {},
     "output_type": "execute_result"
    }
   ],
   "source": [
    "%%sql\n",
    "SELECT *\n",
    "FROM employees;"
   ]
  },
  {
   "cell_type": "code",
   "execution_count": null,
   "metadata": {
    "id": "ZyMTnp6OA606"
   },
   "outputs": [],
   "source": [
    "%%sql\n"
   ]
  },
  {
   "cell_type": "markdown",
   "metadata": {
    "id": "hdB0Qu0kDgUP"
   },
   "source": [
    "ROW_NUMBER assigns a unique sequential integer to each row, starting from 1, based on the specified ordering. Rows with the same values receive different row numbers.\n",
    "\n",
    "RANK assigns a rank to each row, based on the specified ordering. Rows with the same values receive the same rank, and the next rank(s) are skipped.\n",
    "\n",
    "DENSE_RANK also assigns a rank to each row, but unlike RANK, it does not skip ranks. Rows with the same values receive the same rank, and the next rank follows sequentially.\n"
   ]
  },
  {
   "cell_type": "code",
   "execution_count": null,
   "metadata": {
    "id": "va3dkxEaECUS"
   },
   "outputs": [],
   "source": [
    "%%sql\n"
   ]
  },
  {
   "cell_type": "code",
   "execution_count": 21,
   "metadata": {
    "colab": {
     "base_uri": "https://localhost:8080/",
     "height": 353
    },
    "id": "mK8AN5vQLGpT",
    "outputId": "29e41796-1837-4e35-d497-51c9e4518c13"
   },
   "outputs": [
    {
     "name": "stdout",
     "output_type": "stream",
     "text": [
      " * sqlite:///my_database.db\n",
      "Done.\n"
     ]
    },
    {
     "data": {
      "text/html": [
       "<table>\n",
       "    <thead>\n",
       "        <tr>\n",
       "            <th>id</th>\n",
       "            <th>first_name</th>\n",
       "            <th>last_name</th>\n",
       "            <th>department_id</th>\n",
       "            <th>hire_date</th>\n",
       "            <th>salary</th>\n",
       "            <th>bonus</th>\n",
       "            <th>job_title</th>\n",
       "            <th>manager_id</th>\n",
       "            <th>performance_rating</th>\n",
       "            <th>email</th>\n",
       "            <th>phone_number</th>\n",
       "        </tr>\n",
       "    </thead>\n",
       "    <tbody>\n",
       "        <tr>\n",
       "            <td>1</td>\n",
       "            <td>Alice</td>\n",
       "            <td>Smith</td>\n",
       "            <td>1</td>\n",
       "            <td>2010-06-01</td>\n",
       "            <td>120000.0</td>\n",
       "            <td>10000.0</td>\n",
       "            <td>CTO</td>\n",
       "            <td>None</td>\n",
       "            <td>5</td>\n",
       "            <td>alice.smith@example.com</td>\n",
       "            <td>555-0100</td>\n",
       "        </tr>\n",
       "        <tr>\n",
       "            <td>2</td>\n",
       "            <td>Bob</td>\n",
       "            <td>Johnson</td>\n",
       "            <td>1</td>\n",
       "            <td>2012-09-15</td>\n",
       "            <td>90000.0</td>\n",
       "            <td>5000.0</td>\n",
       "            <td>Senior Engineer</td>\n",
       "            <td>1</td>\n",
       "            <td>4</td>\n",
       "            <td>bob.johnson@example.com</td>\n",
       "            <td>555-0101</td>\n",
       "        </tr>\n",
       "        <tr>\n",
       "            <td>3</td>\n",
       "            <td>Carol</td>\n",
       "            <td>Williams</td>\n",
       "            <td>1</td>\n",
       "            <td>2015-03-20</td>\n",
       "            <td>80000.0</td>\n",
       "            <td>None</td>\n",
       "            <td>Engineer</td>\n",
       "            <td>2</td>\n",
       "            <td>3</td>\n",
       "            <td>carol.williams@example.com</td>\n",
       "            <td>555-0102</td>\n",
       "        </tr>\n",
       "        <tr>\n",
       "            <td>4</td>\n",
       "            <td>David</td>\n",
       "            <td>Jones</td>\n",
       "            <td>2</td>\n",
       "            <td>2011-11-11</td>\n",
       "            <td>95000.0</td>\n",
       "            <td>7000.0</td>\n",
       "            <td>Sales Manager</td>\n",
       "            <td>None</td>\n",
       "            <td>4</td>\n",
       "            <td>david.jones@example.com</td>\n",
       "            <td>555-0103</td>\n",
       "        </tr>\n",
       "        <tr>\n",
       "            <td>5</td>\n",
       "            <td>Eva</td>\n",
       "            <td>Brown</td>\n",
       "            <td>2</td>\n",
       "            <td>2016-05-22</td>\n",
       "            <td>70000.0</td>\n",
       "            <td>3000.0</td>\n",
       "            <td>Sales Representative</td>\n",
       "            <td>4</td>\n",
       "            <td>3</td>\n",
       "            <td>eva.brown@example.com</td>\n",
       "            <td>555-0104</td>\n",
       "        </tr>\n",
       "        <tr>\n",
       "            <td>6</td>\n",
       "            <td>Frank</td>\n",
       "            <td>Davis</td>\n",
       "            <td>2</td>\n",
       "            <td>2018-07-01</td>\n",
       "            <td>68000.0</td>\n",
       "            <td>None</td>\n",
       "            <td>Sales Representative</td>\n",
       "            <td>4</td>\n",
       "            <td>2</td>\n",
       "            <td>frank.davis@example.com</td>\n",
       "            <td>555-0105</td>\n",
       "        </tr>\n",
       "        <tr>\n",
       "            <td>7</td>\n",
       "            <td>Grace</td>\n",
       "            <td>Miller</td>\n",
       "            <td>3</td>\n",
       "            <td>2013-02-28</td>\n",
       "            <td>75000.0</td>\n",
       "            <td>4000.0</td>\n",
       "            <td>HR Specialist</td>\n",
       "            <td>None</td>\n",
       "            <td>4</td>\n",
       "            <td>grace.miller@example.com</td>\n",
       "            <td>555-0106</td>\n",
       "        </tr>\n",
       "        <tr>\n",
       "            <td>8</td>\n",
       "            <td>Henry</td>\n",
       "            <td>Wilson</td>\n",
       "            <td>3</td>\n",
       "            <td>2019-10-10</td>\n",
       "            <td>60000.0</td>\n",
       "            <td>2000.0</td>\n",
       "            <td>HR Assistant</td>\n",
       "            <td>7</td>\n",
       "            <td>3</td>\n",
       "            <td>henry.wilson@example.com</td>\n",
       "            <td>555-0107</td>\n",
       "        </tr>\n",
       "        <tr>\n",
       "            <td>9</td>\n",
       "            <td>Ivy</td>\n",
       "            <td>Moore</td>\n",
       "            <td>4</td>\n",
       "            <td>2014-08-19</td>\n",
       "            <td>85000.0</td>\n",
       "            <td>5000.0</td>\n",
       "            <td>Marketing Manager</td>\n",
       "            <td>None</td>\n",
       "            <td>4</td>\n",
       "            <td>ivy.moore@example.com</td>\n",
       "            <td>555-0108</td>\n",
       "        </tr>\n",
       "        <tr>\n",
       "            <td>10</td>\n",
       "            <td>Sam</td>\n",
       "            <td>White</td>\n",
       "            <td>None</td>\n",
       "            <td>2023-01-01</td>\n",
       "            <td>50000.0</td>\n",
       "            <td>None</td>\n",
       "            <td>Intern</td>\n",
       "            <td>3</td>\n",
       "            <td>None</td>\n",
       "            <td>None</td>\n",
       "            <td>None</td>\n",
       "        </tr>\n",
       "        <tr>\n",
       "            <td>11</td>\n",
       "            <td>Jack</td>\n",
       "            <td>Taylor</td>\n",
       "            <td>4</td>\n",
       "            <td>2020-01-15</td>\n",
       "            <td>65000.0</td>\n",
       "            <td>None</td>\n",
       "            <td>Marketing Specialist</td>\n",
       "            <td>9</td>\n",
       "            <td>3</td>\n",
       "            <td>jack.taylor@example.com</td>\n",
       "            <td>555-0109</td>\n",
       "        </tr>\n",
       "        <tr>\n",
       "            <td>12</td>\n",
       "            <td>Kathy</td>\n",
       "            <td>Anderson</td>\n",
       "            <td>5</td>\n",
       "            <td>2017-04-03</td>\n",
       "            <td>78000.0</td>\n",
       "            <td>4500.0</td>\n",
       "            <td>Finance Analyst</td>\n",
       "            <td>None</td>\n",
       "            <td>4</td>\n",
       "            <td>kathy.anderson@example.com</td>\n",
       "            <td>555-0110</td>\n",
       "        </tr>\n",
       "        <tr>\n",
       "            <td>13</td>\n",
       "            <td>Leo</td>\n",
       "            <td>Thomas</td>\n",
       "            <td>5</td>\n",
       "            <td>2021-12-05</td>\n",
       "            <td>55000.0</td>\n",
       "            <td>None</td>\n",
       "            <td>Junior Finance Analyst</td>\n",
       "            <td>11</td>\n",
       "            <td>3</td>\n",
       "            <td>leo.thomas@example.com</td>\n",
       "            <td>555-0111</td>\n",
       "        </tr>\n",
       "    </tbody>\n",
       "</table>"
      ],
      "text/plain": [
       "[(1, 'Alice', 'Smith', 1, '2010-06-01', 120000.0, 10000.0, 'CTO', None, 5, 'alice.smith@example.com', '555-0100'),\n",
       " (2, 'Bob', 'Johnson', 1, '2012-09-15', 90000.0, 5000.0, 'Senior Engineer', 1, 4, 'bob.johnson@example.com', '555-0101'),\n",
       " (3, 'Carol', 'Williams', 1, '2015-03-20', 80000.0, None, 'Engineer', 2, 3, 'carol.williams@example.com', '555-0102'),\n",
       " (4, 'David', 'Jones', 2, '2011-11-11', 95000.0, 7000.0, 'Sales Manager', None, 4, 'david.jones@example.com', '555-0103'),\n",
       " (5, 'Eva', 'Brown', 2, '2016-05-22', 70000.0, 3000.0, 'Sales Representative', 4, 3, 'eva.brown@example.com', '555-0104'),\n",
       " (6, 'Frank', 'Davis', 2, '2018-07-01', 68000.0, None, 'Sales Representative', 4, 2, 'frank.davis@example.com', '555-0105'),\n",
       " (7, 'Grace', 'Miller', 3, '2013-02-28', 75000.0, 4000.0, 'HR Specialist', None, 4, 'grace.miller@example.com', '555-0106'),\n",
       " (8, 'Henry', 'Wilson', 3, '2019-10-10', 60000.0, 2000.0, 'HR Assistant', 7, 3, 'henry.wilson@example.com', '555-0107'),\n",
       " (9, 'Ivy', 'Moore', 4, '2014-08-19', 85000.0, 5000.0, 'Marketing Manager', None, 4, 'ivy.moore@example.com', '555-0108'),\n",
       " (10, 'Sam', 'White', None, '2023-01-01', 50000.0, None, 'Intern', 3, None, None, None),\n",
       " (11, 'Jack', 'Taylor', 4, '2020-01-15', 65000.0, None, 'Marketing Specialist', 9, 3, 'jack.taylor@example.com', '555-0109'),\n",
       " (12, 'Kathy', 'Anderson', 5, '2017-04-03', 78000.0, 4500.0, 'Finance Analyst', None, 4, 'kathy.anderson@example.com', '555-0110'),\n",
       " (13, 'Leo', 'Thomas', 5, '2021-12-05', 55000.0, None, 'Junior Finance Analyst', 11, 3, 'leo.thomas@example.com', '555-0111')]"
      ]
     },
     "execution_count": 21,
     "metadata": {},
     "output_type": "execute_result"
    }
   ],
   "source": [
    "%%sql\n",
    "SELECT *\n",
    "FROM employees;"
   ]
  },
  {
   "cell_type": "markdown",
   "metadata": {
    "id": "q60iBgEOEObW"
   },
   "source": [
    "LAG retrieves the value from a previous row, relative to the current row.\n",
    "\n",
    "LEAD retrieves the value from a subsequent row, relative to the current row.\n"
   ]
  },
  {
   "cell_type": "code",
   "execution_count": null,
   "metadata": {
    "id": "eAs567D7I4ON"
   },
   "outputs": [],
   "source": [
    "%%sql\n"
   ]
  },
  {
   "cell_type": "markdown",
   "metadata": {
    "id": "xoOAY7apM8V5"
   },
   "source": [
    "## Sub-queries"
   ]
  },
  {
   "cell_type": "markdown",
   "metadata": {
    "id": "jD2TABWlEomA"
   },
   "source": [
    "Sub-queries are queries nested within another query, often used to perform intermediate calculations. They return results that are then used by the outer query."
   ]
  },
  {
   "cell_type": "code",
   "execution_count": 22,
   "metadata": {
    "colab": {
     "base_uri": "https://localhost:8080/",
     "height": 353
    },
    "id": "-UNCv3ruS5Eb",
    "outputId": "6b888b61-6a03-4ab2-c8e3-49a58cde0a49"
   },
   "outputs": [
    {
     "name": "stdout",
     "output_type": "stream",
     "text": [
      " * sqlite:///my_database.db\n",
      "Done.\n"
     ]
    },
    {
     "data": {
      "text/html": [
       "<table>\n",
       "    <thead>\n",
       "        <tr>\n",
       "            <th>id</th>\n",
       "            <th>first_name</th>\n",
       "            <th>last_name</th>\n",
       "            <th>department_id</th>\n",
       "            <th>hire_date</th>\n",
       "            <th>salary</th>\n",
       "            <th>bonus</th>\n",
       "            <th>job_title</th>\n",
       "            <th>manager_id</th>\n",
       "            <th>performance_rating</th>\n",
       "            <th>email</th>\n",
       "            <th>phone_number</th>\n",
       "        </tr>\n",
       "    </thead>\n",
       "    <tbody>\n",
       "        <tr>\n",
       "            <td>1</td>\n",
       "            <td>Alice</td>\n",
       "            <td>Smith</td>\n",
       "            <td>1</td>\n",
       "            <td>2010-06-01</td>\n",
       "            <td>120000.0</td>\n",
       "            <td>10000.0</td>\n",
       "            <td>CTO</td>\n",
       "            <td>None</td>\n",
       "            <td>5</td>\n",
       "            <td>alice.smith@example.com</td>\n",
       "            <td>555-0100</td>\n",
       "        </tr>\n",
       "        <tr>\n",
       "            <td>2</td>\n",
       "            <td>Bob</td>\n",
       "            <td>Johnson</td>\n",
       "            <td>1</td>\n",
       "            <td>2012-09-15</td>\n",
       "            <td>90000.0</td>\n",
       "            <td>5000.0</td>\n",
       "            <td>Senior Engineer</td>\n",
       "            <td>1</td>\n",
       "            <td>4</td>\n",
       "            <td>bob.johnson@example.com</td>\n",
       "            <td>555-0101</td>\n",
       "        </tr>\n",
       "        <tr>\n",
       "            <td>3</td>\n",
       "            <td>Carol</td>\n",
       "            <td>Williams</td>\n",
       "            <td>1</td>\n",
       "            <td>2015-03-20</td>\n",
       "            <td>80000.0</td>\n",
       "            <td>None</td>\n",
       "            <td>Engineer</td>\n",
       "            <td>2</td>\n",
       "            <td>3</td>\n",
       "            <td>carol.williams@example.com</td>\n",
       "            <td>555-0102</td>\n",
       "        </tr>\n",
       "        <tr>\n",
       "            <td>4</td>\n",
       "            <td>David</td>\n",
       "            <td>Jones</td>\n",
       "            <td>2</td>\n",
       "            <td>2011-11-11</td>\n",
       "            <td>95000.0</td>\n",
       "            <td>7000.0</td>\n",
       "            <td>Sales Manager</td>\n",
       "            <td>None</td>\n",
       "            <td>4</td>\n",
       "            <td>david.jones@example.com</td>\n",
       "            <td>555-0103</td>\n",
       "        </tr>\n",
       "        <tr>\n",
       "            <td>5</td>\n",
       "            <td>Eva</td>\n",
       "            <td>Brown</td>\n",
       "            <td>2</td>\n",
       "            <td>2016-05-22</td>\n",
       "            <td>70000.0</td>\n",
       "            <td>3000.0</td>\n",
       "            <td>Sales Representative</td>\n",
       "            <td>4</td>\n",
       "            <td>3</td>\n",
       "            <td>eva.brown@example.com</td>\n",
       "            <td>555-0104</td>\n",
       "        </tr>\n",
       "        <tr>\n",
       "            <td>6</td>\n",
       "            <td>Frank</td>\n",
       "            <td>Davis</td>\n",
       "            <td>2</td>\n",
       "            <td>2018-07-01</td>\n",
       "            <td>68000.0</td>\n",
       "            <td>None</td>\n",
       "            <td>Sales Representative</td>\n",
       "            <td>4</td>\n",
       "            <td>2</td>\n",
       "            <td>frank.davis@example.com</td>\n",
       "            <td>555-0105</td>\n",
       "        </tr>\n",
       "        <tr>\n",
       "            <td>7</td>\n",
       "            <td>Grace</td>\n",
       "            <td>Miller</td>\n",
       "            <td>3</td>\n",
       "            <td>2013-02-28</td>\n",
       "            <td>75000.0</td>\n",
       "            <td>4000.0</td>\n",
       "            <td>HR Specialist</td>\n",
       "            <td>None</td>\n",
       "            <td>4</td>\n",
       "            <td>grace.miller@example.com</td>\n",
       "            <td>555-0106</td>\n",
       "        </tr>\n",
       "        <tr>\n",
       "            <td>8</td>\n",
       "            <td>Henry</td>\n",
       "            <td>Wilson</td>\n",
       "            <td>3</td>\n",
       "            <td>2019-10-10</td>\n",
       "            <td>60000.0</td>\n",
       "            <td>2000.0</td>\n",
       "            <td>HR Assistant</td>\n",
       "            <td>7</td>\n",
       "            <td>3</td>\n",
       "            <td>henry.wilson@example.com</td>\n",
       "            <td>555-0107</td>\n",
       "        </tr>\n",
       "        <tr>\n",
       "            <td>9</td>\n",
       "            <td>Ivy</td>\n",
       "            <td>Moore</td>\n",
       "            <td>4</td>\n",
       "            <td>2014-08-19</td>\n",
       "            <td>85000.0</td>\n",
       "            <td>5000.0</td>\n",
       "            <td>Marketing Manager</td>\n",
       "            <td>None</td>\n",
       "            <td>4</td>\n",
       "            <td>ivy.moore@example.com</td>\n",
       "            <td>555-0108</td>\n",
       "        </tr>\n",
       "        <tr>\n",
       "            <td>10</td>\n",
       "            <td>Sam</td>\n",
       "            <td>White</td>\n",
       "            <td>None</td>\n",
       "            <td>2023-01-01</td>\n",
       "            <td>50000.0</td>\n",
       "            <td>None</td>\n",
       "            <td>Intern</td>\n",
       "            <td>3</td>\n",
       "            <td>None</td>\n",
       "            <td>None</td>\n",
       "            <td>None</td>\n",
       "        </tr>\n",
       "        <tr>\n",
       "            <td>11</td>\n",
       "            <td>Jack</td>\n",
       "            <td>Taylor</td>\n",
       "            <td>4</td>\n",
       "            <td>2020-01-15</td>\n",
       "            <td>65000.0</td>\n",
       "            <td>None</td>\n",
       "            <td>Marketing Specialist</td>\n",
       "            <td>9</td>\n",
       "            <td>3</td>\n",
       "            <td>jack.taylor@example.com</td>\n",
       "            <td>555-0109</td>\n",
       "        </tr>\n",
       "        <tr>\n",
       "            <td>12</td>\n",
       "            <td>Kathy</td>\n",
       "            <td>Anderson</td>\n",
       "            <td>5</td>\n",
       "            <td>2017-04-03</td>\n",
       "            <td>78000.0</td>\n",
       "            <td>4500.0</td>\n",
       "            <td>Finance Analyst</td>\n",
       "            <td>None</td>\n",
       "            <td>4</td>\n",
       "            <td>kathy.anderson@example.com</td>\n",
       "            <td>555-0110</td>\n",
       "        </tr>\n",
       "        <tr>\n",
       "            <td>13</td>\n",
       "            <td>Leo</td>\n",
       "            <td>Thomas</td>\n",
       "            <td>5</td>\n",
       "            <td>2021-12-05</td>\n",
       "            <td>55000.0</td>\n",
       "            <td>None</td>\n",
       "            <td>Junior Finance Analyst</td>\n",
       "            <td>11</td>\n",
       "            <td>3</td>\n",
       "            <td>leo.thomas@example.com</td>\n",
       "            <td>555-0111</td>\n",
       "        </tr>\n",
       "    </tbody>\n",
       "</table>"
      ],
      "text/plain": [
       "[(1, 'Alice', 'Smith', 1, '2010-06-01', 120000.0, 10000.0, 'CTO', None, 5, 'alice.smith@example.com', '555-0100'),\n",
       " (2, 'Bob', 'Johnson', 1, '2012-09-15', 90000.0, 5000.0, 'Senior Engineer', 1, 4, 'bob.johnson@example.com', '555-0101'),\n",
       " (3, 'Carol', 'Williams', 1, '2015-03-20', 80000.0, None, 'Engineer', 2, 3, 'carol.williams@example.com', '555-0102'),\n",
       " (4, 'David', 'Jones', 2, '2011-11-11', 95000.0, 7000.0, 'Sales Manager', None, 4, 'david.jones@example.com', '555-0103'),\n",
       " (5, 'Eva', 'Brown', 2, '2016-05-22', 70000.0, 3000.0, 'Sales Representative', 4, 3, 'eva.brown@example.com', '555-0104'),\n",
       " (6, 'Frank', 'Davis', 2, '2018-07-01', 68000.0, None, 'Sales Representative', 4, 2, 'frank.davis@example.com', '555-0105'),\n",
       " (7, 'Grace', 'Miller', 3, '2013-02-28', 75000.0, 4000.0, 'HR Specialist', None, 4, 'grace.miller@example.com', '555-0106'),\n",
       " (8, 'Henry', 'Wilson', 3, '2019-10-10', 60000.0, 2000.0, 'HR Assistant', 7, 3, 'henry.wilson@example.com', '555-0107'),\n",
       " (9, 'Ivy', 'Moore', 4, '2014-08-19', 85000.0, 5000.0, 'Marketing Manager', None, 4, 'ivy.moore@example.com', '555-0108'),\n",
       " (10, 'Sam', 'White', None, '2023-01-01', 50000.0, None, 'Intern', 3, None, None, None),\n",
       " (11, 'Jack', 'Taylor', 4, '2020-01-15', 65000.0, None, 'Marketing Specialist', 9, 3, 'jack.taylor@example.com', '555-0109'),\n",
       " (12, 'Kathy', 'Anderson', 5, '2017-04-03', 78000.0, 4500.0, 'Finance Analyst', None, 4, 'kathy.anderson@example.com', '555-0110'),\n",
       " (13, 'Leo', 'Thomas', 5, '2021-12-05', 55000.0, None, 'Junior Finance Analyst', 11, 3, 'leo.thomas@example.com', '555-0111')]"
      ]
     },
     "execution_count": 22,
     "metadata": {},
     "output_type": "execute_result"
    }
   ],
   "source": [
    "%%sql\n",
    "SELECT *\n",
    "FROM employees;"
   ]
  },
  {
   "cell_type": "code",
   "execution_count": null,
   "metadata": {
    "id": "jnqPOTRwT3us"
   },
   "outputs": [],
   "source": [
    "%%sql\n"
   ]
  },
  {
   "cell_type": "code",
   "execution_count": null,
   "metadata": {
    "id": "WAnmBIy0UmXD"
   },
   "outputs": [],
   "source": [
    "%%sql\n"
   ]
  },
  {
   "cell_type": "code",
   "execution_count": 23,
   "metadata": {
    "colab": {
     "base_uri": "https://localhost:8080/",
     "height": 182
    },
    "id": "3X3DUxERZ0U3",
    "outputId": "35a7ee8c-ca3c-4380-ff5a-ccce52b9563e"
   },
   "outputs": [
    {
     "name": "stdout",
     "output_type": "stream",
     "text": [
      " * sqlite:///my_database.db\n",
      "Done.\n"
     ]
    },
    {
     "data": {
      "text/html": [
       "<table>\n",
       "    <thead>\n",
       "        <tr>\n",
       "            <th>id</th>\n",
       "            <th>name</th>\n",
       "            <th>location</th>\n",
       "        </tr>\n",
       "    </thead>\n",
       "    <tbody>\n",
       "        <tr>\n",
       "            <td>1</td>\n",
       "            <td>Engineering</td>\n",
       "            <td>New York</td>\n",
       "        </tr>\n",
       "        <tr>\n",
       "            <td>2</td>\n",
       "            <td>Sales</td>\n",
       "            <td>Los Angeles</td>\n",
       "        </tr>\n",
       "        <tr>\n",
       "            <td>3</td>\n",
       "            <td>HR</td>\n",
       "            <td>Chicago</td>\n",
       "        </tr>\n",
       "        <tr>\n",
       "            <td>4</td>\n",
       "            <td>Marketing</td>\n",
       "            <td>San Francisco</td>\n",
       "        </tr>\n",
       "        <tr>\n",
       "            <td>5</td>\n",
       "            <td>Finance</td>\n",
       "            <td>Boston</td>\n",
       "        </tr>\n",
       "    </tbody>\n",
       "</table>"
      ],
      "text/plain": [
       "[(1, 'Engineering', 'New York'),\n",
       " (2, 'Sales', 'Los Angeles'),\n",
       " (3, 'HR', 'Chicago'),\n",
       " (4, 'Marketing', 'San Francisco'),\n",
       " (5, 'Finance', 'Boston')]"
      ]
     },
     "execution_count": 23,
     "metadata": {},
     "output_type": "execute_result"
    }
   ],
   "source": [
    "%%sql\n",
    "SELECT *\n",
    "FROM departments"
   ]
  },
  {
   "cell_type": "code",
   "execution_count": null,
   "metadata": {
    "id": "4t0scIBzYtdB"
   },
   "outputs": [],
   "source": [
    "%%sql\n"
   ]
  },
  {
   "cell_type": "markdown",
   "metadata": {
    "id": "2Mqw0pANE4yR"
   },
   "source": [
    "Sub-queries can be correlated, i.e. they can reference and be dependent on the outer query."
   ]
  },
  {
   "cell_type": "code",
   "execution_count": null,
   "metadata": {
    "id": "7VuNW6R7Y1dm"
   },
   "outputs": [],
   "source": [
    "%%sql\n"
   ]
  },
  {
   "cell_type": "markdown",
   "metadata": {
    "id": "wj5ModEZbH0F"
   },
   "source": [
    "## Common Table Expressions"
   ]
  },
  {
   "cell_type": "markdown",
   "metadata": {
    "id": "lMkbp2q7FTh0"
   },
   "source": [
    "CTE (Common Table Expressions) define temporary tables (they exist only for the duration of the main query) to store results. They are introduced using the WITH clause and can be referenced like a table within the main query. CTEs improve readability and maintanability, especially for complex queries."
   ]
  },
  {
   "cell_type": "code",
   "execution_count": null,
   "metadata": {
    "id": "HnTR4Hq4elSr"
   },
   "outputs": [],
   "source": [
    "%%sql\n"
   ]
  },
  {
   "cell_type": "code",
   "execution_count": null,
   "metadata": {
    "id": "btifo66tbKwK"
   },
   "outputs": [],
   "source": [
    "%%sql\n"
   ]
  },
  {
   "cell_type": "markdown",
   "metadata": {
    "id": "87-c3qT0neBw"
   },
   "source": [
    "# Exercises"
   ]
  },
  {
   "cell_type": "markdown",
   "metadata": {
    "id": "LLqKdg-knnMD"
   },
   "source": [
    "1) Write a query to find first name and last name of employees whose first name:\n",
    "- has 3 letters\n",
    "- ends in 'a'"
   ]
  },
  {
   "cell_type": "code",
   "execution_count": null,
   "metadata": {
    "id": "fDuYvC-ls9jV"
   },
   "outputs": [],
   "source": [
    "%%sql\n"
   ]
  },
  {
   "cell_type": "markdown",
   "metadata": {
    "id": "YEdvtQVus_ie"
   },
   "source": [
    "2) Write a query to find, for each department:\n",
    "- the name of the department\n",
    "- the number of employees\n",
    "- the number of employees who received a bonus\n",
    "- the total amount of bonuses disbursed"
   ]
  },
  {
   "cell_type": "code",
   "execution_count": null,
   "metadata": {
    "id": "qSCqJjX3dzpW"
   },
   "outputs": [],
   "source": [
    "%%sql\n"
   ]
  },
  {
   "cell_type": "markdown",
   "metadata": {
    "id": "5SkYtJaRpNn_"
   },
   "source": [
    "Bonus exercise <br>3) Write a query to find employees who received the same bonus as at least one other employee.\n"
   ]
  },
  {
   "cell_type": "code",
   "execution_count": null,
   "metadata": {
    "id": "cHYux4R2pNF1"
   },
   "outputs": [],
   "source": [
    "%%sql\n"
   ]
  }
 ],
 "metadata": {
  "colab": {
   "provenance": []
  },
  "kernelspec": {
   "display_name": "Python 3 (ipykernel)",
   "language": "python",
   "name": "python3"
  },
  "language_info": {
   "codemirror_mode": {
    "name": "ipython",
    "version": 3
   },
   "file_extension": ".py",
   "mimetype": "text/x-python",
   "name": "python",
   "nbconvert_exporter": "python",
   "pygments_lexer": "ipython3",
   "version": "3.12.2"
  }
 },
 "nbformat": 4,
 "nbformat_minor": 4
}
