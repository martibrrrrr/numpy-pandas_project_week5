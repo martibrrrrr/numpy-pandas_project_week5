{
 "cells": [
  {
   "cell_type": "code",
   "execution_count": 154,
   "id": "68a8b40a-6f88-4369-a463-0ebedd0cd650",
   "metadata": {},
   "outputs": [
    {
     "name": "stdout",
     "output_type": "stream",
     "text": [
      "Defaulting to user installation because normal site-packages is not writeable\n",
      "Requirement already satisfied: numpy==2.2.3 in c:\\users\\marti\\appdata\\local\\packages\\pythonsoftwarefoundation.python.3.13_qbz5n2kfra8p0\\localcache\\local-packages\\python313\\site-packages (2.2.3)\n",
      "Requirement already satisfied: pandas==2.2.3 in c:\\users\\marti\\appdata\\local\\packages\\pythonsoftwarefoundation.python.3.13_qbz5n2kfra8p0\\localcache\\local-packages\\python313\\site-packages (2.2.3)\n",
      "Requirement already satisfied: matplotlib==3.10.0 in c:\\users\\marti\\appdata\\local\\packages\\pythonsoftwarefoundation.python.3.13_qbz5n2kfra8p0\\localcache\\local-packages\\python313\\site-packages (3.10.0)\n",
      "Requirement already satisfied: seaborn==0.13.2 in c:\\users\\marti\\appdata\\local\\packages\\pythonsoftwarefoundation.python.3.13_qbz5n2kfra8p0\\localcache\\local-packages\\python313\\site-packages (0.13.2)\n",
      "Requirement already satisfied: scipy==1.15.2 in c:\\users\\marti\\appdata\\local\\packages\\pythonsoftwarefoundation.python.3.13_qbz5n2kfra8p0\\localcache\\local-packages\\python313\\site-packages (1.15.2)\n",
      "Requirement already satisfied: statsmodels==0.14.4 in c:\\users\\marti\\appdata\\local\\packages\\pythonsoftwarefoundation.python.3.13_qbz5n2kfra8p0\\localcache\\local-packages\\python313\\site-packages (0.14.4)\n",
      "Requirement already satisfied: python-dateutil>=2.8.2 in c:\\users\\marti\\appdata\\local\\packages\\pythonsoftwarefoundation.python.3.13_qbz5n2kfra8p0\\localcache\\local-packages\\python313\\site-packages (from pandas==2.2.3) (2.9.0.post0)\n",
      "Requirement already satisfied: pytz>=2020.1 in c:\\users\\marti\\appdata\\local\\packages\\pythonsoftwarefoundation.python.3.13_qbz5n2kfra8p0\\localcache\\local-packages\\python313\\site-packages (from pandas==2.2.3) (2025.1)\n",
      "Requirement already satisfied: tzdata>=2022.7 in c:\\users\\marti\\appdata\\local\\packages\\pythonsoftwarefoundation.python.3.13_qbz5n2kfra8p0\\localcache\\local-packages\\python313\\site-packages (from pandas==2.2.3) (2025.1)\n",
      "Requirement already satisfied: contourpy>=1.0.1 in c:\\users\\marti\\appdata\\local\\packages\\pythonsoftwarefoundation.python.3.13_qbz5n2kfra8p0\\localcache\\local-packages\\python313\\site-packages (from matplotlib==3.10.0) (1.3.1)\n",
      "Requirement already satisfied: cycler>=0.10 in c:\\users\\marti\\appdata\\local\\packages\\pythonsoftwarefoundation.python.3.13_qbz5n2kfra8p0\\localcache\\local-packages\\python313\\site-packages (from matplotlib==3.10.0) (0.12.1)\n",
      "Requirement already satisfied: fonttools>=4.22.0 in c:\\users\\marti\\appdata\\local\\packages\\pythonsoftwarefoundation.python.3.13_qbz5n2kfra8p0\\localcache\\local-packages\\python313\\site-packages (from matplotlib==3.10.0) (4.56.0)\n",
      "Requirement already satisfied: kiwisolver>=1.3.1 in c:\\users\\marti\\appdata\\local\\packages\\pythonsoftwarefoundation.python.3.13_qbz5n2kfra8p0\\localcache\\local-packages\\python313\\site-packages (from matplotlib==3.10.0) (1.4.8)\n",
      "Requirement already satisfied: packaging>=20.0 in c:\\users\\marti\\appdata\\local\\packages\\pythonsoftwarefoundation.python.3.13_qbz5n2kfra8p0\\localcache\\local-packages\\python313\\site-packages (from matplotlib==3.10.0) (24.2)\n",
      "Requirement already satisfied: pillow>=8 in c:\\users\\marti\\appdata\\local\\packages\\pythonsoftwarefoundation.python.3.13_qbz5n2kfra8p0\\localcache\\local-packages\\python313\\site-packages (from matplotlib==3.10.0) (11.1.0)\n",
      "Requirement already satisfied: pyparsing>=2.3.1 in c:\\users\\marti\\appdata\\local\\packages\\pythonsoftwarefoundation.python.3.13_qbz5n2kfra8p0\\localcache\\local-packages\\python313\\site-packages (from matplotlib==3.10.0) (3.2.1)\n",
      "Requirement already satisfied: patsy>=0.5.6 in c:\\users\\marti\\appdata\\local\\packages\\pythonsoftwarefoundation.python.3.13_qbz5n2kfra8p0\\localcache\\local-packages\\python313\\site-packages (from statsmodels==0.14.4) (1.0.1)\n",
      "Requirement already satisfied: six>=1.5 in c:\\users\\marti\\appdata\\local\\packages\\pythonsoftwarefoundation.python.3.13_qbz5n2kfra8p0\\localcache\\local-packages\\python313\\site-packages (from python-dateutil>=2.8.2->pandas==2.2.3) (1.17.0)\n",
      "Note: you may need to restart the kernel to use updated packages.\n"
     ]
    }
   ],
   "source": [
    "%pip install numpy==2.2.3 pandas==2.2.3 matplotlib==3.10.0 seaborn==0.13.2 scipy==1.15.2 statsmodels==0.14.4"
   ]
  },
  {
   "cell_type": "code",
   "execution_count": 209,
   "id": "343001bb-d38e-4ef1-b6a9-6c0b897f6acc",
   "metadata": {},
   "outputs": [],
   "source": [
    "import numpy as np\n",
    "import pandas as pd\n",
    "import matplotlib.pyplot as plt\n",
    "import seaborn as sns"
   ]
  },
  {
   "cell_type": "markdown",
   "id": "62301f3d-9d8b-41af-9bad-afaa066be009",
   "metadata": {},
   "source": [
    "## Exercise 1\n",
    "Write a Python function that determines if the distribution of a pandas Series is symmetric, right-skewed or left-skewed."
   ]
  },
  {
   "cell_type": "code",
   "execution_count": 170,
   "id": "558988fc-6ada-426b-906a-3d03937e7afa",
   "metadata": {},
   "outputs": [
    {
     "data": {
      "text/html": [
       "<div>\n",
       "<style scoped>\n",
       "    .dataframe tbody tr th:only-of-type {\n",
       "        vertical-align: middle;\n",
       "    }\n",
       "\n",
       "    .dataframe tbody tr th {\n",
       "        vertical-align: top;\n",
       "    }\n",
       "\n",
       "    .dataframe thead th {\n",
       "        text-align: right;\n",
       "    }\n",
       "</style>\n",
       "<table border=\"1\" class=\"dataframe\">\n",
       "  <thead>\n",
       "    <tr style=\"text-align: right;\">\n",
       "      <th></th>\n",
       "      <th>symmetric</th>\n",
       "      <th>right_skewed</th>\n",
       "      <th>left_skewed</th>\n",
       "    </tr>\n",
       "  </thead>\n",
       "  <tbody>\n",
       "    <tr>\n",
       "      <th>0</th>\n",
       "      <td>57450.712295</td>\n",
       "      <td>7.239476</td>\n",
       "      <td>-2.219865</td>\n",
       "    </tr>\n",
       "    <tr>\n",
       "      <th>1</th>\n",
       "      <td>47926.035482</td>\n",
       "      <td>5.192647</td>\n",
       "      <td>-2.602947</td>\n",
       "    </tr>\n",
       "    <tr>\n",
       "      <th>2</th>\n",
       "      <td>59715.328072</td>\n",
       "      <td>2.834148</td>\n",
       "      <td>-2.143144</td>\n",
       "    </tr>\n",
       "    <tr>\n",
       "      <th>3</th>\n",
       "      <td>72845.447846</td>\n",
       "      <td>1.728310</td>\n",
       "      <td>-2.478396</td>\n",
       "    </tr>\n",
       "    <tr>\n",
       "      <th>4</th>\n",
       "      <td>46487.699379</td>\n",
       "      <td>4.431581</td>\n",
       "      <td>-1.540205</td>\n",
       "    </tr>\n",
       "  </tbody>\n",
       "</table>\n",
       "</div>"
      ],
      "text/plain": [
       "      symmetric  right_skewed  left_skewed\n",
       "0  57450.712295      7.239476    -2.219865\n",
       "1  47926.035482      5.192647    -2.602947\n",
       "2  59715.328072      2.834148    -2.143144\n",
       "3  72845.447846      1.728310    -2.478396\n",
       "4  46487.699379      4.431581    -1.540205"
      ]
     },
     "execution_count": 170,
     "metadata": {},
     "output_type": "execute_result"
    }
   ],
   "source": [
    "np.random.seed(42)\n",
    "\n",
    "n = 1000\n",
    "\n",
    "data = {\n",
    "        'symmetric': np.random.normal(50000, 15000, n),\n",
    "        'right_skewed': np.random.lognormal(mean=1, sigma=0.7, size=n),\n",
    "        'left_skewed': -np.random.lognormal(mean=1, sigma=0.3, size=n)\n",
    "}\n",
    "\n",
    "df = pd.DataFrame(data)\n",
    "\n",
    "df.head()"
   ]
  },
  {
   "cell_type": "markdown",
   "id": "b8a0cd9c-5011-454c-9f83-ec89183c0dd9",
   "metadata": {},
   "source": [
    "funtion skewness"
   ]
  },
  {
   "cell_type": "code",
   "execution_count": 171,
   "id": "a3eed0d7-56f1-4e6d-a6a2-783dbaa5b30e",
   "metadata": {},
   "outputs": [],
   "source": [
    "def test_skewness(series):\n",
    "    series = pd.Series(series)\n",
    "    skewness = series.skew()\n",
    "    if skewness > 0.1:\n",
    "        return \"Right-skewed (positively skewed)\"\n",
    "    elif skewness < -0.1 :\n",
    "        return \"Left-skewed (negatively skewed)\"\n",
    "    elif abs(skewness)<0.1:\n",
    "        return \"Symmetric (approximately zero skew)\"\n"
   ]
  },
  {
   "cell_type": "markdown",
   "id": "61025950-b2f9-4fcc-876a-99b4c8e61189",
   "metadata": {},
   "source": [
    "test of the function: "
   ]
  },
  {
   "cell_type": "code",
   "execution_count": 177,
   "id": "4254f7dc-05f2-4d44-8e41-eedf54f68a5c",
   "metadata": {},
   "outputs": [
    {
     "data": {
      "text/plain": [
       "Text(0.5, 1.0, 'Skewness of series: Right-skewed (positively skewed)')"
      ]
     },
     "execution_count": 177,
     "metadata": {},
     "output_type": "execute_result"
    },
    {
     "data": {
      "image/png": "[encoded data removed]",
      "text/plain": [
       "<Figure size 800x500 with 1 Axes>"
      ]
     },
     "metadata": {},
     "output_type": "display_data"
    }
   ],
   "source": [
    "plt.figure(figsize=(8, 5))\n",
    "plt.hist(df['symmetric'], bins=30, edgecolor='k', alpha=0.7)\n",
    "plt.title(f\"Skewness of series: {test_skewness(df['symmetric'])}\")"
   ]
  },
  {
   "cell_type": "code",
   "execution_count": 178,
   "id": "acce661f-a4e2-48c9-aa6f-ff572ef5f6d5",
   "metadata": {},
   "outputs": [
    {
     "data": {
      "text/plain": [
       "Text(0.5, 1.0, 'Skewness of series: Right-skewed (positively skewed)')"
      ]
     },
     "execution_count": 178,
     "metadata": {},
     "output_type": "execute_result"
    },
    {
     "data": {
      "image/png": "[encoded data removed]",
      "text/plain": [
       "<Figure size 800x500 with 1 Axes>"
      ]
     },
     "metadata": {},
     "output_type": "display_data"
    }
   ],
   "source": [
    "plt.figure(figsize=(8, 5))\n",
    "plt.hist(df['right_skewed'], bins=30, edgecolor='k', alpha=0.7)\n",
    "plt.title(f\"Skewness of series: {test_skewness(df['right_skewed'])}\")"
   ]
  },
  {
   "cell_type": "code",
   "execution_count": 179,
   "id": "935d644d-1ecf-4279-a5f4-619b3d41f367",
   "metadata": {},
   "outputs": [
    {
     "data": {
      "text/plain": [
       "Text(0.5, 1.0, 'Skewness of series: Left-skewed (negatively skewed)')"
      ]
     },
     "execution_count": 179,
     "metadata": {},
     "output_type": "execute_result"
    },
    {
     "data": {
      "image/png": "[encoded data removed]",
      "text/plain": [
       "<Figure size 800x500 with 1 Axes>"
      ]
     },
     "metadata": {},
     "output_type": "display_data"
    }
   ],
   "source": [
    "plt.figure(figsize=(8, 5))\n",
    "plt.hist(df['left_skewed'], bins=30, edgecolor='k', alpha=0.7)\n",
    "plt.title(f\"Skewness of series: {test_skewness(df['left_skewed'])}\")"
   ]
  },
  {
   "cell_type": "markdown",
   "id": "37a173d2-ec14-41a9-9e20-606ef2b98dd5",
   "metadata": {},
   "source": [
    "# Exercise 2\n",
    "A disease affects 2% of a population. The population is divided into three age groups:\n",
    "* Young (50%): False positive rate 3%, sensitivity 95%.\n",
    "* Middle-aged (30%): False positive rate 4%, sensitivity 90%.\n",
    "* Elderly (20%): False positive rate 5%, sensitivity 85%.\n",
    "    \n",
    "N.B.\n",
    "*False positive rate: probability of a person testing positive when they do not have the disease.*\n",
    "*Sensitivity/True positive rate: probability of a person testing positive when they have the disease.*\n",
    "\n",
    "If a random person from the population tests positive, what is the probability they actually have the disease?"
   ]
  },
  {
   "cell_type": "code",
   "execution_count": 111,
   "id": "d69ca1a0-6d07-4ed9-887a-f844b2c7077a",
   "metadata": {},
   "outputs": [],
   "source": [
    "prevalence = 0.02\n",
    "non_prevalence = 1- prevalence"
   ]
  },
  {
   "cell_type": "markdown",
   "id": "257e9068-fa59-4421-a19c-400c9d713fc1",
   "metadata": {},
   "source": [
    "Age group percentages"
   ]
  },
  {
   "cell_type": "code",
   "execution_count": 112,
   "id": "8cb50c2a-3bec-4c8f-8f1c-d3203a5c9c8f",
   "metadata": {},
   "outputs": [],
   "source": [
    "young_pct = 0.5\n",
    "middle_pct = 0.3\n",
    "elderly_pct = 0.2"
   ]
  },
  {
   "cell_type": "markdown",
   "id": "347fba2a-ef76-47b8-81d9-23daf120d432",
   "metadata": {},
   "source": [
    "From data, report: \n",
    "\n",
    "false positive rate for each group \n",
    "\n",
    "\n",
    "Sensitivity (true positive rate) for each group"
   ]
  },
  {
   "cell_type": "code",
   "execution_count": 113,
   "id": "d5772f9c-cdb3-41a0-a56f-91a04cd41e52",
   "metadata": {},
   "outputs": [],
   "source": [
    "young_fpr = 0.03\n",
    "young_sens = 0.95\n",
    "\n",
    "middle_fpr = 0.04\n",
    "middle_sens = 0.90\n",
    "\n",
    "elderly_fpr = 0.05\n",
    "elderly_sens = 0.85"
   ]
  },
  {
   "cell_type": "markdown",
   "id": "32a0571f-c3d3-4a9a-b681-146252017e70",
   "metadata": {},
   "source": [
    "Total probability of testing positive"
   ]
  },
  {
   "cell_type": "code",
   "execution_count": 24,
   "id": "689ecec6-56d0-4bee-94a9-3e694a22e3ea",
   "metadata": {},
   "outputs": [],
   "source": [
    "p_positive = (\n",
    "          young_pct * (young_sens * prevalence + young_fpr * non_prevalence) +\n",
    "         middle_pct * (middle_sens * prevalence + middle_fpr * non_prevalence) +\n",
    "        elderly_pct * (elderly_sens * prevalence + elderly_fpr * non_prevalence))"
   ]
  },
  {
   "cell_type": "markdown",
   "id": "43213eed-58b1-43c2-98c1-16544d993a05",
   "metadata": {},
   "source": [
    "Probability of having disease given positive test (Bayes)"
   ]
  },
  {
   "cell_type": "code",
   "execution_count": 25,
   "id": "01cb1fa1-45dc-4792-9650-81597423ee80",
   "metadata": {},
   "outputs": [],
   "source": [
    "p_disease_given_positive = (\n",
    "        (young_pct * young_sens * prevalence +\n",
    "         middle_pct * middle_sens * prevalence +\n",
    "         elderly_pct * elderly_sens * prevalence) / p_positive)"
   ]
  },
  {
   "cell_type": "code",
   "execution_count": 27,
   "id": "02bf79ff-c687-4621-a643-b36591e9c59b",
   "metadata": {},
   "outputs": [
    {
     "name": "stdout",
     "output_type": "stream",
     "text": [
      "Probability of disease: 0.33541\n",
      "Probability of disease: 33.5 %\n"
     ]
    }
   ],
   "source": [
    "print(f\"Probability of disease: {p_disease_given_positive:.5f}\")\n",
    "print(f\"Probability of disease: {p_disease_given_positive*100:.1f} %\")"
   ]
  },
  {
   "cell_type": "markdown",
   "id": "01d4bc33-4cc1-4211-b8ec-2c75cee8e70e",
   "metadata": {},
   "source": [
    "# PROVA TEST: qui potrei generare una confusion matrix e testare una popolazione randomica per vedere se conferma i calcoli di probabilità"
   ]
  },
  {
   "cell_type": "code",
   "execution_count": 262,
   "id": "094085a2-9b46-4170-a464-1a7b8bc7481f",
   "metadata": {},
   "outputs": [],
   "source": [
    "#poplazione\n",
    "n=1000 "
   ]
  },
  {
   "cell_type": "markdown",
   "id": "01090bf7-fe89-447c-8ad8-bea6c68771f1",
   "metadata": {},
   "source": [
    "1. number of ppl for each group\n",
    "2. number of ppl with desease/healthy"
   ]
  },
  {
   "cell_type": "code",
   "execution_count": 263,
   "id": "09c401cd-33b2-4dff-b0be-e3cd9a3f2ce5",
   "metadata": {},
   "outputs": [],
   "source": [
    "young_n = int(young_pct * n)\n",
    "middle_n = int(middle_pct * n)\n",
    "elderly_n = int(elderly_pct * n)"
   ]
  },
  {
   "cell_type": "code",
   "execution_count": 264,
   "id": "80e213c2-3808-408a-93f1-d268e223e84d",
   "metadata": {},
   "outputs": [],
   "source": [
    "young_diseased = int(young_n * prevalence)\n",
    "middle_diseased = int(middle_n * prevalence)\n",
    "elderly_diseased = int(elderly_n * prevalence)"
   ]
  },
  {
   "cell_type": "code",
   "execution_count": 265,
   "id": "8cd901ef-9282-4197-a6d2-386beaf6ce14",
   "metadata": {},
   "outputs": [],
   "source": [
    "young_healthy = young_n - young_diseased\n",
    "middle_healthy = middle_n - middle_diseased\n",
    "elderly_healthy = elderly_n - elderly_diseased"
   ]
  },
  {
   "cell_type": "markdown",
   "id": "a015d107-6bb8-4fd7-85dc-b108434d741d",
   "metadata": {},
   "source": [
    "1. find true positive ppl to desease\n",
    "2. find false positive ppl\n",
    "3. false negative\n",
    "4. true negative"
   ]
  },
  {
   "cell_type": "code",
   "execution_count": 266,
   "id": "c7d5ae75-5bde-4932-aff2-4fbdb8bd45be",
   "metadata": {},
   "outputs": [],
   "source": [
    "# True positive\n",
    "young_tp = int(young_diseased * young_sens)\n",
    "middle_tp = int(middle_diseased * middle_sens)\n",
    "elderly_tp = int(elderly_diseased * elderly_sens)"
   ]
  },
  {
   "cell_type": "code",
   "execution_count": 267,
   "id": "5924f44f-6818-4263-9506-6b9c76aa0458",
   "metadata": {},
   "outputs": [],
   "source": [
    " # False positive\n",
    "young_fp = int(young_healthy * young_fpr) \n",
    "middle_fp = int(middle_healthy * middle_fpr)\n",
    "elderly_fp = int(elderly_healthy * elderly_fpr)"
   ]
  },
  {
   "cell_type": "code",
   "execution_count": 268,
   "id": "f38d4456-abef-4ba4-998a-378914574ecd",
   "metadata": {},
   "outputs": [],
   "source": [
    "#false negative\n",
    "young_fn = young_diseased - young_tp\n",
    "middle_fn = middle_diseased - middle_tp\n",
    "elderly_fn = elderly_diseased - elderly_tp"
   ]
  },
  {
   "cell_type": "code",
   "execution_count": 269,
   "id": "47c15e0a-be4e-4468-addc-0e4910b56d12",
   "metadata": {},
   "outputs": [],
   "source": [
    "#true negative\n",
    "young_tn = young_healthy - young_fp\n",
    "middle_tn = middle_healthy - middle_fp\n",
    "elderly_tn = elderly_healthy - elderly_fp"
   ]
  },
  {
   "cell_type": "markdown",
   "id": "1b1db345-4a10-446b-ac27-00fb0723b9e6",
   "metadata": {},
   "source": [
    "total data to make the CM and plot CM:"
   ]
  },
  {
   "cell_type": "code",
   "execution_count": 275,
   "id": "5b6fbf44-d60e-4641-8b74-86edd491d8c6",
   "metadata": {},
   "outputs": [],
   "source": [
    "TP = young_tp + middle_tp + elderly_tp\n",
    "FP = young_fp + middle_fp + elderly_fp\n",
    "FN = young_fn + middle_fn + elderly_fn\n",
    "TN = young_tn + middle_tn + elderly_tn\n"
   ]
  },
  {
   "cell_type": "code",
   "execution_count": 276,
   "id": "508603e3-49e5-4622-8ae6-c5bde2117da7",
   "metadata": {},
   "outputs": [],
   "source": [
    "CM = np.array([[TP, FP], [FN, TN]])"
   ]
  },
  {
   "cell_type": "code",
   "execution_count": 277,
   "id": "93e6e34b-dc49-4e57-84a0-4816351e3aac",
   "metadata": {},
   "outputs": [
    {
     "data": {
      "text/plain": [
       "<Axes: >"
      ]
     },
     "execution_count": 277,
     "metadata": {},
     "output_type": "execute_result"
    },
    {
     "data": {
      "image/png": "[encoded data removed]",
      "text/plain": [
       "<Figure size 640x480 with 2 Axes>"
      ]
     },
     "metadata": {},
     "output_type": "display_data"
    }
   ],
   "source": [
    "sns.heatmap(CM, annot=True, fmt=\"d\", cmap=\"Blues\", xticklabels=[\"Positive\", \"Negative\"], yticklabels=[\"Positive\", \"Negative\"])\n"
   ]
  },
  {
   "cell_type": "code",
   "execution_count": 274,
   "id": "cf004778-2c2c-4419-b132-1164899e7f82",
   "metadata": {},
   "outputs": [
    {
     "name": "stdout",
     "output_type": "stream",
     "text": [
      "Probability of disease: 33.3 %\n"
     ]
    }
   ],
   "source": [
    "print(f\"Probability of disease: {TP/(TP+FP)*100:.1f} %\")"
   ]
  },
  {
   "cell_type": "code",
   "execution_count": null,
   "id": "2267dd43-621a-4257-b7f3-e8f0f493f7ce",
   "metadata": {},
   "outputs": [],
   "source": []
  }
 ],
 "metadata": {
  "kernelspec": {
   "display_name": "Python 3 (ipykernel)",
   "language": "python",
   "name": "python3"
  },
  "language_info": {
   "codemirror_mode": {
    "name": "ipython",
    "version": 3
   },
   "file_extension": ".py",
   "mimetype": "text/x-python",
   "name": "python",
   "nbconvert_exporter": "python",
   "pygments_lexer": "ipython3",
   "version": "3.13.2"
  }
 },
 "nbformat": 4,
 "nbformat_minor": 5
}
